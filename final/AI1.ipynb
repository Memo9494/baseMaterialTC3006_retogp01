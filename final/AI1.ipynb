{
  "cells": [
    {
      "cell_type": "markdown",
      "source": [
        "# Reto - Inteligencia Artificial Avanzada para la ciencia de datos I\n",
        "\n",
        "El reto de este proyecto es crear un modelo de machine learning que prediga qué pasajeros sobrevivieron en el accidente del Titanic.\n",
        "\n",
        "**Equipo 1**\n",
        "\n",
        "\n",
        "\n",
        "*   Frida Cano Falcón A01752953\n",
        "*   Guillermo Romeo Cepeda Medina A01284015\n",
        "*   Jorge Javier Sosa Briseño A01749489\n",
        "*   Daniel Saldaña Rodríguez A00829752\n",
        "\n",
        "\n",
        "\n"
      ],
      "metadata": {
        "id": "C40ND35bduiE"
      }
    },
    {
      "cell_type": "markdown",
      "source": [
        "# Introducción\n",
        "\n",
        "El reto del curso consiste en la utilización del método CRISP-DM (Cross Industry Standard Process for Data Mining) para generar una solución que integre ciencia de datos e inteligencia artificial utilizando herramientas computacionales de vanguardia. Esto implica la obtención de una base de datos confiable que nos permita hacer un análisis de los mismos, con la finalidad de predecir una variable. En este caso, se encuentra con el reto de predecir si una persona que atendió al Titanic sobrevivió o no.\n",
        "\n",
        "Lo primero que se realizó para empezar a solucionar el problema, fue identificar el problema, así como los requerimientos que tiene el reto y herramientas que utilizaremos para completar los requerimientos.\n",
        "\n",
        "En primera instancia fue necesario descargar la base de datos de los pasajeros del Titanic con sus principales características, como lo es nombre, número de ticket, sexo, edad, etc.\n",
        "\n",
        "Lo segundo fue utilizar una plataforma que permite utilizar herramientas de matemáticas, así como inteligencia artificial para darnos una mejor oportunidad de resolver el problema, así como poder trabajar en conjunto. Para esto se decidió utilizar el lenguaje de programación Python, el cuál desarrollamos en la plataforma de Google Colab, por medio de un tipo de archivo llamado Jupiter Notebook.\n",
        "\n",
        "También se identificó que el primer paso para generar una predicción del deceso o sobrevivencia de los pasajeros del Titanic es la limpieza de la base de datos, esto debido a que se tienen variables que no aportan información útil acerca del evento que ocasionó la muerte de muchos (en específico quién entró a las barcas de emergencia y quién no)."
      ],
      "metadata": {
        "id": "Z8gyVqAdnM6R"
      }
    },
    {
      "cell_type": "markdown",
      "metadata": {
        "id": "eTZdxQxtac9K"
      },
      "source": [
        "## Librerías"
      ]
    },
    {
      "cell_type": "code",
      "execution_count": null,
      "metadata": {
        "id": "BKhxT4rSEXI8"
      },
      "outputs": [],
      "source": [
        "import pandas as pd\n",
        "import seaborn as sb\n",
        "import numpy as np\n",
        "import matplotlib.pyplot as plt\n",
        "from tabulate import tabulate\n",
        "from sklearn import preprocessing\n",
        "import seaborn as sns\n",
        "from sklearn.impute import KNNImputer"
      ]
    },
    {
      "cell_type": "markdown",
      "metadata": {
        "id": "KHPnSmkqKpBY"
      },
      "source": [
        "## Directorio"
      ]
    },
    {
      "cell_type": "code",
      "execution_count": null,
      "metadata": {
        "colab": {
          "base_uri": "https://localhost:8080/"
        },
        "id": "-yrG2XEMH38k",
        "outputId": "20cd609f-da2e-4825-f066-70d690864dfc"
      },
      "outputs": [
        {
          "output_type": "stream",
          "name": "stdout",
          "text": [
            "Mounted at /content/gdrive\n",
            "/content\n"
          ]
        }
      ],
      "source": [
        "from google.colab import drive\n",
        "\n",
        "drive.mount(\"/content/gdrive\")\n",
        "!pwd  # show current path"
      ]
    },
    {
      "cell_type": "code",
      "execution_count": null,
      "metadata": {
        "colab": {
          "base_uri": "https://localhost:8080/"
        },
        "id": "LrVLeTCFH7_E",
        "outputId": "c3824c45-e2b0-4a6c-f9b3-a181a47ab6ba"
      },
      "outputs": [
        {
          "output_type": "stream",
          "name": "stdout",
          "text": [
            "/content/gdrive/MyDrive/AI\n",
            "data_titanic.csv\t test.csv\n",
            "Diagrama_Modelos.drawio  tested.csv\n",
            "Mod4_Hardware\t\t titanicequipo1-firebase-adminsdk-xhgda-c5aec8f227.json\n",
            "nav2.pdf\t\t titanic_prueba.ipynb\n"
          ]
        }
      ],
      "source": [
        "%cd \"/content/gdrive/MyDrive/AI\"\n",
        "!ls  # show current directory"
      ]
    },
    {
      "cell_type": "markdown",
      "source": [
        "# Limpieza de datos\n",
        "\n"
      ],
      "metadata": {
        "id": "JvcYuxO0njMq"
      }
    },
    {
      "cell_type": "markdown",
      "metadata": {
        "id": "I1VZUW3JkPmd"
      },
      "source": [
        "## Extracción de datos"
      ]
    },
    {
      "cell_type": "markdown",
      "metadata": {
        "id": "6fji5-Dna_7H"
      },
      "source": [
        "Se cargan los dataset, el de entrenamiento y el de testo.\n",
        "\n"
      ]
    },
    {
      "cell_type": "code",
      "execution_count": null,
      "metadata": {
        "id": "Pq6MdYSIJpQF"
      },
      "outputs": [],
      "source": [
        "# Datos de entrenamiento\n",
        "data_titanic = pd.read_csv(\"data_titanic.csv\")\n",
        "# Datos de testeo\n",
        "data_test = pd.read_csv(\"test.csv\")"
      ]
    },
    {
      "cell_type": "markdown",
      "metadata": {
        "id": "7bNa8dwzaiuj"
      },
      "source": [
        "## Características del dataset\n"
      ]
    },
    {
      "cell_type": "markdown",
      "source": [
        "**Metadata del dataset**\n",
        "\n",
        "Cada columna representa las características de cada pasajero abordo del Titanic.\n",
        "\n",
        "| Variable | Definición | Clave |\n",
        "|--------------|--------------|--------------|\n",
        "| survival    | sobrevivencia    | 0 = No, 1 = Sí    |\n",
        "| pclass    | Tipo de clase    | 1 = 1ra, 2 = 2da, 3 = 3ra    |\n",
        "| sex    | Sexo   |     |\n",
        "| Age    | Edad en años    |     |\n",
        "| sibsp    | Número de hermanos / esposos     |    |\n",
        "| parch    | Número de padres / hijos    |     |\n",
        "| ticket    | Folio de ticket    |     |\n",
        "| fare    | Costo del boleto    |     |\n",
        "| cabin    | Número de cabina   |     |\n",
        "| embarked    | Puerto de embarcación    | C = Cherbourg, Q = Queenstown, S = Southampton   |\n",
        "\n",
        "\n",
        "Notas:\n",
        "\n",
        "\n",
        "\n",
        "*   El tipo de clase define el estatus socioeconómico.\n",
        "\n",
        "   1ra: Clase alta\n",
        "\n",
        "   2da: Clase media\n",
        "\n",
        "   3ra: Calse baja\n",
        "*   Edad: la edad es factorial si el pasajero tiene menos de un año.\n",
        "*   Las relaciones entre familiares se definen por:\n",
        "\n",
        "   Sibling = brother, sister, stepbrother, stepsister\n",
        "   \n",
        "   Spouse = husband, wife (mistresses and fiancés were ignored)\n",
        "\n",
        "   Parent = mother, father\n",
        "\n",
        "   Child = daughter, son, stepdaughter, stepson\n",
        "   \n",
        "   Some children travelled only with a nanny, therefore parch=0 for them.\n",
        "\n",
        "\n",
        "\n",
        "\n"
      ],
      "metadata": {
        "id": "rCop1u37fLQI"
      }
    },
    {
      "cell_type": "code",
      "source": [
        "data_titanic.head() # Head"
      ],
      "metadata": {
        "id": "_NJ1dY6bfRLT",
        "colab": {
          "base_uri": "https://localhost:8080/",
          "height": 504
        },
        "outputId": "09e178e1-dd3c-4799-c8fd-ac636eafa1ad"
      },
      "execution_count": null,
      "outputs": [
        {
          "output_type": "execute_result",
          "data": {
            "text/plain": [
              "   PassengerId  Survived  Pclass  \\\n",
              "0            1         0       3   \n",
              "1            2         1       1   \n",
              "2            3         1       3   \n",
              "3            4         1       1   \n",
              "4            5         0       3   \n",
              "\n",
              "                                                Name     Sex   Age  SibSp  \\\n",
              "0                            Braund, Mr. Owen Harris    male  22.0      1   \n",
              "1  Cumings, Mrs. John Bradley (Florence Briggs Th...  female  38.0      1   \n",
              "2                             Heikkinen, Miss. Laina  female  26.0      0   \n",
              "3       Futrelle, Mrs. Jacques Heath (Lily May Peel)  female  35.0      1   \n",
              "4                           Allen, Mr. William Henry    male  35.0      0   \n",
              "\n",
              "   Parch            Ticket     Fare Cabin Embarked  \n",
              "0      0         A/5 21171   7.2500   NaN        S  \n",
              "1      0          PC 17599  71.2833   C85        C  \n",
              "2      0  STON/O2. 3101282   7.9250   NaN        S  \n",
              "3      0            113803  53.1000  C123        S  \n",
              "4      0            373450   8.0500   NaN        S  "
            ],
            "text/html": [
              "\n",
              "  <div id=\"df-74841000-5cc2-4a7d-892a-d8ce66e9396d\" class=\"colab-df-container\">\n",
              "    <div>\n",
              "<style scoped>\n",
              "    .dataframe tbody tr th:only-of-type {\n",
              "        vertical-align: middle;\n",
              "    }\n",
              "\n",
              "    .dataframe tbody tr th {\n",
              "        vertical-align: top;\n",
              "    }\n",
              "\n",
              "    .dataframe thead th {\n",
              "        text-align: right;\n",
              "    }\n",
              "</style>\n",
              "<table border=\"1\" class=\"dataframe\">\n",
              "  <thead>\n",
              "    <tr style=\"text-align: right;\">\n",
              "      <th></th>\n",
              "      <th>PassengerId</th>\n",
              "      <th>Survived</th>\n",
              "      <th>Pclass</th>\n",
              "      <th>Name</th>\n",
              "      <th>Sex</th>\n",
              "      <th>Age</th>\n",
              "      <th>SibSp</th>\n",
              "      <th>Parch</th>\n",
              "      <th>Ticket</th>\n",
              "      <th>Fare</th>\n",
              "      <th>Cabin</th>\n",
              "      <th>Embarked</th>\n",
              "    </tr>\n",
              "  </thead>\n",
              "  <tbody>\n",
              "    <tr>\n",
              "      <th>0</th>\n",
              "      <td>1</td>\n",
              "      <td>0</td>\n",
              "      <td>3</td>\n",
              "      <td>Braund, Mr. Owen Harris</td>\n",
              "      <td>male</td>\n",
              "      <td>22.0</td>\n",
              "      <td>1</td>\n",
              "      <td>0</td>\n",
              "      <td>A/5 21171</td>\n",
              "      <td>7.2500</td>\n",
              "      <td>NaN</td>\n",
              "      <td>S</td>\n",
              "    </tr>\n",
              "    <tr>\n",
              "      <th>1</th>\n",
              "      <td>2</td>\n",
              "      <td>1</td>\n",
              "      <td>1</td>\n",
              "      <td>Cumings, Mrs. John Bradley (Florence Briggs Th...</td>\n",
              "      <td>female</td>\n",
              "      <td>38.0</td>\n",
              "      <td>1</td>\n",
              "      <td>0</td>\n",
              "      <td>PC 17599</td>\n",
              "      <td>71.2833</td>\n",
              "      <td>C85</td>\n",
              "      <td>C</td>\n",
              "    </tr>\n",
              "    <tr>\n",
              "      <th>2</th>\n",
              "      <td>3</td>\n",
              "      <td>1</td>\n",
              "      <td>3</td>\n",
              "      <td>Heikkinen, Miss. Laina</td>\n",
              "      <td>female</td>\n",
              "      <td>26.0</td>\n",
              "      <td>0</td>\n",
              "      <td>0</td>\n",
              "      <td>STON/O2. 3101282</td>\n",
              "      <td>7.9250</td>\n",
              "      <td>NaN</td>\n",
              "      <td>S</td>\n",
              "    </tr>\n",
              "    <tr>\n",
              "      <th>3</th>\n",
              "      <td>4</td>\n",
              "      <td>1</td>\n",
              "      <td>1</td>\n",
              "      <td>Futrelle, Mrs. Jacques Heath (Lily May Peel)</td>\n",
              "      <td>female</td>\n",
              "      <td>35.0</td>\n",
              "      <td>1</td>\n",
              "      <td>0</td>\n",
              "      <td>113803</td>\n",
              "      <td>53.1000</td>\n",
              "      <td>C123</td>\n",
              "      <td>S</td>\n",
              "    </tr>\n",
              "    <tr>\n",
              "      <th>4</th>\n",
              "      <td>5</td>\n",
              "      <td>0</td>\n",
              "      <td>3</td>\n",
              "      <td>Allen, Mr. William Henry</td>\n",
              "      <td>male</td>\n",
              "      <td>35.0</td>\n",
              "      <td>0</td>\n",
              "      <td>0</td>\n",
              "      <td>373450</td>\n",
              "      <td>8.0500</td>\n",
              "      <td>NaN</td>\n",
              "      <td>S</td>\n",
              "    </tr>\n",
              "  </tbody>\n",
              "</table>\n",
              "</div>\n",
              "    <div class=\"colab-df-buttons\">\n",
              "\n",
              "  <div class=\"colab-df-container\">\n",
              "    <button class=\"colab-df-convert\" onclick=\"convertToInteractive('df-74841000-5cc2-4a7d-892a-d8ce66e9396d')\"\n",
              "            title=\"Convert this dataframe to an interactive table.\"\n",
              "            style=\"display:none;\">\n",
              "\n",
              "  <svg xmlns=\"http://www.w3.org/2000/svg\" height=\"24px\" viewBox=\"0 -960 960 960\">\n",
              "    <path d=\"M120-120v-720h720v720H120Zm60-500h600v-160H180v160Zm220 220h160v-160H400v160Zm0 220h160v-160H400v160ZM180-400h160v-160H180v160Zm440 0h160v-160H620v160ZM180-180h160v-160H180v160Zm440 0h160v-160H620v160Z\"/>\n",
              "  </svg>\n",
              "    </button>\n",
              "\n",
              "  <style>\n",
              "    .colab-df-container {\n",
              "      display:flex;\n",
              "      gap: 12px;\n",
              "    }\n",
              "\n",
              "    .colab-df-convert {\n",
              "      background-color: #E8F0FE;\n",
              "      border: none;\n",
              "      border-radius: 50%;\n",
              "      cursor: pointer;\n",
              "      display: none;\n",
              "      fill: #1967D2;\n",
              "      height: 32px;\n",
              "      padding: 0 0 0 0;\n",
              "      width: 32px;\n",
              "    }\n",
              "\n",
              "    .colab-df-convert:hover {\n",
              "      background-color: #E2EBFA;\n",
              "      box-shadow: 0px 1px 2px rgba(60, 64, 67, 0.3), 0px 1px 3px 1px rgba(60, 64, 67, 0.15);\n",
              "      fill: #174EA6;\n",
              "    }\n",
              "\n",
              "    .colab-df-buttons div {\n",
              "      margin-bottom: 4px;\n",
              "    }\n",
              "\n",
              "    [theme=dark] .colab-df-convert {\n",
              "      background-color: #3B4455;\n",
              "      fill: #D2E3FC;\n",
              "    }\n",
              "\n",
              "    [theme=dark] .colab-df-convert:hover {\n",
              "      background-color: #434B5C;\n",
              "      box-shadow: 0px 1px 3px 1px rgba(0, 0, 0, 0.15);\n",
              "      filter: drop-shadow(0px 1px 2px rgba(0, 0, 0, 0.3));\n",
              "      fill: #FFFFFF;\n",
              "    }\n",
              "  </style>\n",
              "\n",
              "    <script>\n",
              "      const buttonEl =\n",
              "        document.querySelector('#df-74841000-5cc2-4a7d-892a-d8ce66e9396d button.colab-df-convert');\n",
              "      buttonEl.style.display =\n",
              "        google.colab.kernel.accessAllowed ? 'block' : 'none';\n",
              "\n",
              "      async function convertToInteractive(key) {\n",
              "        const element = document.querySelector('#df-74841000-5cc2-4a7d-892a-d8ce66e9396d');\n",
              "        const dataTable =\n",
              "          await google.colab.kernel.invokeFunction('convertToInteractive',\n",
              "                                                    [key], {});\n",
              "        if (!dataTable) return;\n",
              "\n",
              "        const docLinkHtml = 'Like what you see? Visit the ' +\n",
              "          '<a target=\"_blank\" href=https://colab.research.google.com/notebooks/data_table.ipynb>data table notebook</a>'\n",
              "          + ' to learn more about interactive tables.';\n",
              "        element.innerHTML = '';\n",
              "        dataTable['output_type'] = 'display_data';\n",
              "        await google.colab.output.renderOutput(dataTable, element);\n",
              "        const docLink = document.createElement('div');\n",
              "        docLink.innerHTML = docLinkHtml;\n",
              "        element.appendChild(docLink);\n",
              "      }\n",
              "    </script>\n",
              "  </div>\n",
              "\n",
              "\n",
              "<div id=\"df-f6d1a494-24f4-4a37-b77e-97272cfa5c9f\">\n",
              "  <button class=\"colab-df-quickchart\" onclick=\"quickchart('df-f6d1a494-24f4-4a37-b77e-97272cfa5c9f')\"\n",
              "            title=\"Suggest charts.\"\n",
              "            style=\"display:none;\">\n",
              "\n",
              "<svg xmlns=\"http://www.w3.org/2000/svg\" height=\"24px\"viewBox=\"0 0 24 24\"\n",
              "     width=\"24px\">\n",
              "    <g>\n",
              "        <path d=\"M19 3H5c-1.1 0-2 .9-2 2v14c0 1.1.9 2 2 2h14c1.1 0 2-.9 2-2V5c0-1.1-.9-2-2-2zM9 17H7v-7h2v7zm4 0h-2V7h2v10zm4 0h-2v-4h2v4z\"/>\n",
              "    </g>\n",
              "</svg>\n",
              "  </button>\n",
              "\n",
              "<style>\n",
              "  .colab-df-quickchart {\n",
              "      --bg-color: #E8F0FE;\n",
              "      --fill-color: #1967D2;\n",
              "      --hover-bg-color: #E2EBFA;\n",
              "      --hover-fill-color: #174EA6;\n",
              "      --disabled-fill-color: #AAA;\n",
              "      --disabled-bg-color: #DDD;\n",
              "  }\n",
              "\n",
              "  [theme=dark] .colab-df-quickchart {\n",
              "      --bg-color: #3B4455;\n",
              "      --fill-color: #D2E3FC;\n",
              "      --hover-bg-color: #434B5C;\n",
              "      --hover-fill-color: #FFFFFF;\n",
              "      --disabled-bg-color: #3B4455;\n",
              "      --disabled-fill-color: #666;\n",
              "  }\n",
              "\n",
              "  .colab-df-quickchart {\n",
              "    background-color: var(--bg-color);\n",
              "    border: none;\n",
              "    border-radius: 50%;\n",
              "    cursor: pointer;\n",
              "    display: none;\n",
              "    fill: var(--fill-color);\n",
              "    height: 32px;\n",
              "    padding: 0;\n",
              "    width: 32px;\n",
              "  }\n",
              "\n",
              "  .colab-df-quickchart:hover {\n",
              "    background-color: var(--hover-bg-color);\n",
              "    box-shadow: 0 1px 2px rgba(60, 64, 67, 0.3), 0 1px 3px 1px rgba(60, 64, 67, 0.15);\n",
              "    fill: var(--button-hover-fill-color);\n",
              "  }\n",
              "\n",
              "  .colab-df-quickchart-complete:disabled,\n",
              "  .colab-df-quickchart-complete:disabled:hover {\n",
              "    background-color: var(--disabled-bg-color);\n",
              "    fill: var(--disabled-fill-color);\n",
              "    box-shadow: none;\n",
              "  }\n",
              "\n",
              "  .colab-df-spinner {\n",
              "    border: 2px solid var(--fill-color);\n",
              "    border-color: transparent;\n",
              "    border-bottom-color: var(--fill-color);\n",
              "    animation:\n",
              "      spin 1s steps(1) infinite;\n",
              "  }\n",
              "\n",
              "  @keyframes spin {\n",
              "    0% {\n",
              "      border-color: transparent;\n",
              "      border-bottom-color: var(--fill-color);\n",
              "      border-left-color: var(--fill-color);\n",
              "    }\n",
              "    20% {\n",
              "      border-color: transparent;\n",
              "      border-left-color: var(--fill-color);\n",
              "      border-top-color: var(--fill-color);\n",
              "    }\n",
              "    30% {\n",
              "      border-color: transparent;\n",
              "      border-left-color: var(--fill-color);\n",
              "      border-top-color: var(--fill-color);\n",
              "      border-right-color: var(--fill-color);\n",
              "    }\n",
              "    40% {\n",
              "      border-color: transparent;\n",
              "      border-right-color: var(--fill-color);\n",
              "      border-top-color: var(--fill-color);\n",
              "    }\n",
              "    60% {\n",
              "      border-color: transparent;\n",
              "      border-right-color: var(--fill-color);\n",
              "    }\n",
              "    80% {\n",
              "      border-color: transparent;\n",
              "      border-right-color: var(--fill-color);\n",
              "      border-bottom-color: var(--fill-color);\n",
              "    }\n",
              "    90% {\n",
              "      border-color: transparent;\n",
              "      border-bottom-color: var(--fill-color);\n",
              "    }\n",
              "  }\n",
              "</style>\n",
              "\n",
              "  <script>\n",
              "    async function quickchart(key) {\n",
              "      const quickchartButtonEl =\n",
              "        document.querySelector('#' + key + ' button');\n",
              "      quickchartButtonEl.disabled = true;  // To prevent multiple clicks.\n",
              "      quickchartButtonEl.classList.add('colab-df-spinner');\n",
              "      try {\n",
              "        const charts = await google.colab.kernel.invokeFunction(\n",
              "            'suggestCharts', [key], {});\n",
              "      } catch (error) {\n",
              "        console.error('Error during call to suggestCharts:', error);\n",
              "      }\n",
              "      quickchartButtonEl.classList.remove('colab-df-spinner');\n",
              "      quickchartButtonEl.classList.add('colab-df-quickchart-complete');\n",
              "    }\n",
              "    (() => {\n",
              "      let quickchartButtonEl =\n",
              "        document.querySelector('#df-f6d1a494-24f4-4a37-b77e-97272cfa5c9f button');\n",
              "      quickchartButtonEl.style.display =\n",
              "        google.colab.kernel.accessAllowed ? 'block' : 'none';\n",
              "    })();\n",
              "  </script>\n",
              "</div>\n",
              "    </div>\n",
              "  </div>\n"
            ]
          },
          "metadata": {},
          "execution_count": 6
        }
      ]
    },
    {
      "cell_type": "code",
      "source": [
        "data_test.head() # Head"
      ],
      "metadata": {
        "id": "abNbB7QnfT7D",
        "colab": {
          "base_uri": "https://localhost:8080/",
          "height": 452
        },
        "outputId": "3df0483a-72b1-443d-d41b-2ba2f3c2d086"
      },
      "execution_count": null,
      "outputs": [
        {
          "output_type": "execute_result",
          "data": {
            "text/plain": [
              "   PassengerId  Pclass                                          Name     Sex  \\\n",
              "0          892       3                              Kelly, Mr. James    male   \n",
              "1          893       3              Wilkes, Mrs. James (Ellen Needs)  female   \n",
              "2          894       2                     Myles, Mr. Thomas Francis    male   \n",
              "3          895       3                              Wirz, Mr. Albert    male   \n",
              "4          896       3  Hirvonen, Mrs. Alexander (Helga E Lindqvist)  female   \n",
              "\n",
              "    Age  SibSp  Parch   Ticket     Fare Cabin Embarked  \n",
              "0  34.5      0      0   330911   7.8292   NaN        Q  \n",
              "1  47.0      1      0   363272   7.0000   NaN        S  \n",
              "2  62.0      0      0   240276   9.6875   NaN        Q  \n",
              "3  27.0      0      0   315154   8.6625   NaN        S  \n",
              "4  22.0      1      1  3101298  12.2875   NaN        S  "
            ],
            "text/html": [
              "\n",
              "  <div id=\"df-85d91519-3035-47b0-85e9-4faee9cac062\" class=\"colab-df-container\">\n",
              "    <div>\n",
              "<style scoped>\n",
              "    .dataframe tbody tr th:only-of-type {\n",
              "        vertical-align: middle;\n",
              "    }\n",
              "\n",
              "    .dataframe tbody tr th {\n",
              "        vertical-align: top;\n",
              "    }\n",
              "\n",
              "    .dataframe thead th {\n",
              "        text-align: right;\n",
              "    }\n",
              "</style>\n",
              "<table border=\"1\" class=\"dataframe\">\n",
              "  <thead>\n",
              "    <tr style=\"text-align: right;\">\n",
              "      <th></th>\n",
              "      <th>PassengerId</th>\n",
              "      <th>Pclass</th>\n",
              "      <th>Name</th>\n",
              "      <th>Sex</th>\n",
              "      <th>Age</th>\n",
              "      <th>SibSp</th>\n",
              "      <th>Parch</th>\n",
              "      <th>Ticket</th>\n",
              "      <th>Fare</th>\n",
              "      <th>Cabin</th>\n",
              "      <th>Embarked</th>\n",
              "    </tr>\n",
              "  </thead>\n",
              "  <tbody>\n",
              "    <tr>\n",
              "      <th>0</th>\n",
              "      <td>892</td>\n",
              "      <td>3</td>\n",
              "      <td>Kelly, Mr. James</td>\n",
              "      <td>male</td>\n",
              "      <td>34.5</td>\n",
              "      <td>0</td>\n",
              "      <td>0</td>\n",
              "      <td>330911</td>\n",
              "      <td>7.8292</td>\n",
              "      <td>NaN</td>\n",
              "      <td>Q</td>\n",
              "    </tr>\n",
              "    <tr>\n",
              "      <th>1</th>\n",
              "      <td>893</td>\n",
              "      <td>3</td>\n",
              "      <td>Wilkes, Mrs. James (Ellen Needs)</td>\n",
              "      <td>female</td>\n",
              "      <td>47.0</td>\n",
              "      <td>1</td>\n",
              "      <td>0</td>\n",
              "      <td>363272</td>\n",
              "      <td>7.0000</td>\n",
              "      <td>NaN</td>\n",
              "      <td>S</td>\n",
              "    </tr>\n",
              "    <tr>\n",
              "      <th>2</th>\n",
              "      <td>894</td>\n",
              "      <td>2</td>\n",
              "      <td>Myles, Mr. Thomas Francis</td>\n",
              "      <td>male</td>\n",
              "      <td>62.0</td>\n",
              "      <td>0</td>\n",
              "      <td>0</td>\n",
              "      <td>240276</td>\n",
              "      <td>9.6875</td>\n",
              "      <td>NaN</td>\n",
              "      <td>Q</td>\n",
              "    </tr>\n",
              "    <tr>\n",
              "      <th>3</th>\n",
              "      <td>895</td>\n",
              "      <td>3</td>\n",
              "      <td>Wirz, Mr. Albert</td>\n",
              "      <td>male</td>\n",
              "      <td>27.0</td>\n",
              "      <td>0</td>\n",
              "      <td>0</td>\n",
              "      <td>315154</td>\n",
              "      <td>8.6625</td>\n",
              "      <td>NaN</td>\n",
              "      <td>S</td>\n",
              "    </tr>\n",
              "    <tr>\n",
              "      <th>4</th>\n",
              "      <td>896</td>\n",
              "      <td>3</td>\n",
              "      <td>Hirvonen, Mrs. Alexander (Helga E Lindqvist)</td>\n",
              "      <td>female</td>\n",
              "      <td>22.0</td>\n",
              "      <td>1</td>\n",
              "      <td>1</td>\n",
              "      <td>3101298</td>\n",
              "      <td>12.2875</td>\n",
              "      <td>NaN</td>\n",
              "      <td>S</td>\n",
              "    </tr>\n",
              "  </tbody>\n",
              "</table>\n",
              "</div>\n",
              "    <div class=\"colab-df-buttons\">\n",
              "\n",
              "  <div class=\"colab-df-container\">\n",
              "    <button class=\"colab-df-convert\" onclick=\"convertToInteractive('df-85d91519-3035-47b0-85e9-4faee9cac062')\"\n",
              "            title=\"Convert this dataframe to an interactive table.\"\n",
              "            style=\"display:none;\">\n",
              "\n",
              "  <svg xmlns=\"http://www.w3.org/2000/svg\" height=\"24px\" viewBox=\"0 -960 960 960\">\n",
              "    <path d=\"M120-120v-720h720v720H120Zm60-500h600v-160H180v160Zm220 220h160v-160H400v160Zm0 220h160v-160H400v160ZM180-400h160v-160H180v160Zm440 0h160v-160H620v160ZM180-180h160v-160H180v160Zm440 0h160v-160H620v160Z\"/>\n",
              "  </svg>\n",
              "    </button>\n",
              "\n",
              "  <style>\n",
              "    .colab-df-container {\n",
              "      display:flex;\n",
              "      gap: 12px;\n",
              "    }\n",
              "\n",
              "    .colab-df-convert {\n",
              "      background-color: #E8F0FE;\n",
              "      border: none;\n",
              "      border-radius: 50%;\n",
              "      cursor: pointer;\n",
              "      display: none;\n",
              "      fill: #1967D2;\n",
              "      height: 32px;\n",
              "      padding: 0 0 0 0;\n",
              "      width: 32px;\n",
              "    }\n",
              "\n",
              "    .colab-df-convert:hover {\n",
              "      background-color: #E2EBFA;\n",
              "      box-shadow: 0px 1px 2px rgba(60, 64, 67, 0.3), 0px 1px 3px 1px rgba(60, 64, 67, 0.15);\n",
              "      fill: #174EA6;\n",
              "    }\n",
              "\n",
              "    .colab-df-buttons div {\n",
              "      margin-bottom: 4px;\n",
              "    }\n",
              "\n",
              "    [theme=dark] .colab-df-convert {\n",
              "      background-color: #3B4455;\n",
              "      fill: #D2E3FC;\n",
              "    }\n",
              "\n",
              "    [theme=dark] .colab-df-convert:hover {\n",
              "      background-color: #434B5C;\n",
              "      box-shadow: 0px 1px 3px 1px rgba(0, 0, 0, 0.15);\n",
              "      filter: drop-shadow(0px 1px 2px rgba(0, 0, 0, 0.3));\n",
              "      fill: #FFFFFF;\n",
              "    }\n",
              "  </style>\n",
              "\n",
              "    <script>\n",
              "      const buttonEl =\n",
              "        document.querySelector('#df-85d91519-3035-47b0-85e9-4faee9cac062 button.colab-df-convert');\n",
              "      buttonEl.style.display =\n",
              "        google.colab.kernel.accessAllowed ? 'block' : 'none';\n",
              "\n",
              "      async function convertToInteractive(key) {\n",
              "        const element = document.querySelector('#df-85d91519-3035-47b0-85e9-4faee9cac062');\n",
              "        const dataTable =\n",
              "          await google.colab.kernel.invokeFunction('convertToInteractive',\n",
              "                                                    [key], {});\n",
              "        if (!dataTable) return;\n",
              "\n",
              "        const docLinkHtml = 'Like what you see? Visit the ' +\n",
              "          '<a target=\"_blank\" href=https://colab.research.google.com/notebooks/data_table.ipynb>data table notebook</a>'\n",
              "          + ' to learn more about interactive tables.';\n",
              "        element.innerHTML = '';\n",
              "        dataTable['output_type'] = 'display_data';\n",
              "        await google.colab.output.renderOutput(dataTable, element);\n",
              "        const docLink = document.createElement('div');\n",
              "        docLink.innerHTML = docLinkHtml;\n",
              "        element.appendChild(docLink);\n",
              "      }\n",
              "    </script>\n",
              "  </div>\n",
              "\n",
              "\n",
              "<div id=\"df-136484ff-c31a-4c85-9fe7-46328c1117bf\">\n",
              "  <button class=\"colab-df-quickchart\" onclick=\"quickchart('df-136484ff-c31a-4c85-9fe7-46328c1117bf')\"\n",
              "            title=\"Suggest charts.\"\n",
              "            style=\"display:none;\">\n",
              "\n",
              "<svg xmlns=\"http://www.w3.org/2000/svg\" height=\"24px\"viewBox=\"0 0 24 24\"\n",
              "     width=\"24px\">\n",
              "    <g>\n",
              "        <path d=\"M19 3H5c-1.1 0-2 .9-2 2v14c0 1.1.9 2 2 2h14c1.1 0 2-.9 2-2V5c0-1.1-.9-2-2-2zM9 17H7v-7h2v7zm4 0h-2V7h2v10zm4 0h-2v-4h2v4z\"/>\n",
              "    </g>\n",
              "</svg>\n",
              "  </button>\n",
              "\n",
              "<style>\n",
              "  .colab-df-quickchart {\n",
              "      --bg-color: #E8F0FE;\n",
              "      --fill-color: #1967D2;\n",
              "      --hover-bg-color: #E2EBFA;\n",
              "      --hover-fill-color: #174EA6;\n",
              "      --disabled-fill-color: #AAA;\n",
              "      --disabled-bg-color: #DDD;\n",
              "  }\n",
              "\n",
              "  [theme=dark] .colab-df-quickchart {\n",
              "      --bg-color: #3B4455;\n",
              "      --fill-color: #D2E3FC;\n",
              "      --hover-bg-color: #434B5C;\n",
              "      --hover-fill-color: #FFFFFF;\n",
              "      --disabled-bg-color: #3B4455;\n",
              "      --disabled-fill-color: #666;\n",
              "  }\n",
              "\n",
              "  .colab-df-quickchart {\n",
              "    background-color: var(--bg-color);\n",
              "    border: none;\n",
              "    border-radius: 50%;\n",
              "    cursor: pointer;\n",
              "    display: none;\n",
              "    fill: var(--fill-color);\n",
              "    height: 32px;\n",
              "    padding: 0;\n",
              "    width: 32px;\n",
              "  }\n",
              "\n",
              "  .colab-df-quickchart:hover {\n",
              "    background-color: var(--hover-bg-color);\n",
              "    box-shadow: 0 1px 2px rgba(60, 64, 67, 0.3), 0 1px 3px 1px rgba(60, 64, 67, 0.15);\n",
              "    fill: var(--button-hover-fill-color);\n",
              "  }\n",
              "\n",
              "  .colab-df-quickchart-complete:disabled,\n",
              "  .colab-df-quickchart-complete:disabled:hover {\n",
              "    background-color: var(--disabled-bg-color);\n",
              "    fill: var(--disabled-fill-color);\n",
              "    box-shadow: none;\n",
              "  }\n",
              "\n",
              "  .colab-df-spinner {\n",
              "    border: 2px solid var(--fill-color);\n",
              "    border-color: transparent;\n",
              "    border-bottom-color: var(--fill-color);\n",
              "    animation:\n",
              "      spin 1s steps(1) infinite;\n",
              "  }\n",
              "\n",
              "  @keyframes spin {\n",
              "    0% {\n",
              "      border-color: transparent;\n",
              "      border-bottom-color: var(--fill-color);\n",
              "      border-left-color: var(--fill-color);\n",
              "    }\n",
              "    20% {\n",
              "      border-color: transparent;\n",
              "      border-left-color: var(--fill-color);\n",
              "      border-top-color: var(--fill-color);\n",
              "    }\n",
              "    30% {\n",
              "      border-color: transparent;\n",
              "      border-left-color: var(--fill-color);\n",
              "      border-top-color: var(--fill-color);\n",
              "      border-right-color: var(--fill-color);\n",
              "    }\n",
              "    40% {\n",
              "      border-color: transparent;\n",
              "      border-right-color: var(--fill-color);\n",
              "      border-top-color: var(--fill-color);\n",
              "    }\n",
              "    60% {\n",
              "      border-color: transparent;\n",
              "      border-right-color: var(--fill-color);\n",
              "    }\n",
              "    80% {\n",
              "      border-color: transparent;\n",
              "      border-right-color: var(--fill-color);\n",
              "      border-bottom-color: var(--fill-color);\n",
              "    }\n",
              "    90% {\n",
              "      border-color: transparent;\n",
              "      border-bottom-color: var(--fill-color);\n",
              "    }\n",
              "  }\n",
              "</style>\n",
              "\n",
              "  <script>\n",
              "    async function quickchart(key) {\n",
              "      const quickchartButtonEl =\n",
              "        document.querySelector('#' + key + ' button');\n",
              "      quickchartButtonEl.disabled = true;  // To prevent multiple clicks.\n",
              "      quickchartButtonEl.classList.add('colab-df-spinner');\n",
              "      try {\n",
              "        const charts = await google.colab.kernel.invokeFunction(\n",
              "            'suggestCharts', [key], {});\n",
              "      } catch (error) {\n",
              "        console.error('Error during call to suggestCharts:', error);\n",
              "      }\n",
              "      quickchartButtonEl.classList.remove('colab-df-spinner');\n",
              "      quickchartButtonEl.classList.add('colab-df-quickchart-complete');\n",
              "    }\n",
              "    (() => {\n",
              "      let quickchartButtonEl =\n",
              "        document.querySelector('#df-136484ff-c31a-4c85-9fe7-46328c1117bf button');\n",
              "      quickchartButtonEl.style.display =\n",
              "        google.colab.kernel.accessAllowed ? 'block' : 'none';\n",
              "    })();\n",
              "  </script>\n",
              "</div>\n",
              "    </div>\n",
              "  </div>\n"
            ]
          },
          "metadata": {},
          "execution_count": 7
        }
      ]
    },
    {
      "cell_type": "markdown",
      "source": [
        "\n",
        "**Base de datos de entrenamiento**\n",
        "\n",
        "Contiene los datos de 891 pasajeros\n",
        "\n",
        "**Base de datos de testeo**\n",
        "\n",
        "Contiene los datos de 418 pasajeros"
      ],
      "metadata": {
        "id": "holq6RBbl89m"
      }
    },
    {
      "cell_type": "code",
      "source": [
        "print(data_titanic.shape) # Shape\n",
        "print(data_test.shape)"
      ],
      "metadata": {
        "id": "qbVUQ_-5flEd",
        "colab": {
          "base_uri": "https://localhost:8080/"
        },
        "outputId": "de0c94ad-2ebc-4ee9-cec2-18d6c776a222"
      },
      "execution_count": null,
      "outputs": [
        {
          "output_type": "stream",
          "name": "stdout",
          "text": [
            "(891, 12)\n",
            "(418, 11)\n"
          ]
        }
      ]
    },
    {
      "cell_type": "markdown",
      "metadata": {
        "id": "RA5snH1hbHgp"
      },
      "source": [
        "Análisis de las características de los datos: número de columnas, número de filas, valores nulos que puedan causar ruido."
      ]
    },
    {
      "cell_type": "code",
      "execution_count": null,
      "metadata": {
        "id": "TVp_cjcZW2Ou",
        "colab": {
          "base_uri": "https://localhost:8080/"
        },
        "outputId": "dc39811a-36a0-4d79-d722-a8394db37875"
      },
      "outputs": [
        {
          "output_type": "stream",
          "name": "stdout",
          "text": [
            "<class 'pandas.core.frame.DataFrame'>\n",
            "RangeIndex: 891 entries, 0 to 890\n",
            "Data columns (total 12 columns):\n",
            " #   Column       Non-Null Count  Dtype  \n",
            "---  ------       --------------  -----  \n",
            " 0   PassengerId  891 non-null    int64  \n",
            " 1   Survived     891 non-null    int64  \n",
            " 2   Pclass       891 non-null    int64  \n",
            " 3   Name         891 non-null    object \n",
            " 4   Sex          891 non-null    object \n",
            " 5   Age          714 non-null    float64\n",
            " 6   SibSp        891 non-null    int64  \n",
            " 7   Parch        891 non-null    int64  \n",
            " 8   Ticket       891 non-null    object \n",
            " 9   Fare         891 non-null    float64\n",
            " 10  Cabin        204 non-null    object \n",
            " 11  Embarked     889 non-null    object \n",
            "dtypes: float64(2), int64(5), object(5)\n",
            "memory usage: 83.7+ KB\n"
          ]
        }
      ],
      "source": [
        "data_titanic.info() # DataSet information. Train file"
      ]
    },
    {
      "cell_type": "code",
      "execution_count": null,
      "metadata": {
        "id": "bdynUk3aMkyW",
        "colab": {
          "base_uri": "https://localhost:8080/"
        },
        "outputId": "71f14d3c-418d-4866-c9ae-82486f401e39"
      },
      "outputs": [
        {
          "output_type": "stream",
          "name": "stdout",
          "text": [
            "<class 'pandas.core.frame.DataFrame'>\n",
            "RangeIndex: 418 entries, 0 to 417\n",
            "Data columns (total 11 columns):\n",
            " #   Column       Non-Null Count  Dtype  \n",
            "---  ------       --------------  -----  \n",
            " 0   PassengerId  418 non-null    int64  \n",
            " 1   Pclass       418 non-null    int64  \n",
            " 2   Name         418 non-null    object \n",
            " 3   Sex          418 non-null    object \n",
            " 4   Age          332 non-null    float64\n",
            " 5   SibSp        418 non-null    int64  \n",
            " 6   Parch        418 non-null    int64  \n",
            " 7   Ticket       418 non-null    object \n",
            " 8   Fare         417 non-null    float64\n",
            " 9   Cabin        91 non-null     object \n",
            " 10  Embarked     418 non-null    object \n",
            "dtypes: float64(2), int64(4), object(5)\n",
            "memory usage: 36.0+ KB\n"
          ]
        }
      ],
      "source": [
        "data_test.info() # DataSet information. Test file"
      ]
    },
    {
      "cell_type": "markdown",
      "source": [
        "Verificamos cuantos valores Nulos existen en la tabla."
      ],
      "metadata": {
        "id": "wZLI3JzJNZ6D"
      }
    },
    {
      "cell_type": "code",
      "execution_count": null,
      "metadata": {
        "id": "qqyI3u9BMfAx",
        "colab": {
          "base_uri": "https://localhost:8080/"
        },
        "outputId": "238a4827-37cf-4004-8560-47b753573b01"
      },
      "outputs": [
        {
          "output_type": "execute_result",
          "data": {
            "text/plain": [
              "PassengerId      0\n",
              "Survived         0\n",
              "Pclass           0\n",
              "Name             0\n",
              "Sex              0\n",
              "Age            177\n",
              "SibSp            0\n",
              "Parch            0\n",
              "Ticket           0\n",
              "Fare             0\n",
              "Cabin          687\n",
              "Embarked         2\n",
              "dtype: int64"
            ]
          },
          "metadata": {},
          "execution_count": 11
        }
      ],
      "source": [
        "data_titanic.isnull().sum() # Null Values"
      ]
    },
    {
      "cell_type": "code",
      "execution_count": null,
      "metadata": {
        "id": "CSP1Ph2waMzN",
        "colab": {
          "base_uri": "https://localhost:8080/"
        },
        "outputId": "4d900656-a347-4c1f-ade9-d5d9a35cfcb3"
      },
      "outputs": [
        {
          "output_type": "execute_result",
          "data": {
            "text/plain": [
              "PassengerId      0\n",
              "Pclass           0\n",
              "Name             0\n",
              "Sex              0\n",
              "Age             86\n",
              "SibSp            0\n",
              "Parch            0\n",
              "Ticket           0\n",
              "Fare             1\n",
              "Cabin          327\n",
              "Embarked         0\n",
              "dtype: int64"
            ]
          },
          "metadata": {},
          "execution_count": 12
        }
      ],
      "source": [
        "data_test.isnull().sum()  # Null Values"
      ]
    },
    {
      "cell_type": "markdown",
      "metadata": {
        "id": "2QsXXLaCbTKd"
      },
      "source": [
        "Eliminamos las columas que consideramos menos importantes o no relevantes, debido a que no otrorgan información que se pueda relacionar con la supervivencia como el nombre, folio del ticket, relación con otros pasajeros.\n",
        "Con esto preservamos las siguientes clases:\n",
        "\n",
        "*    Clase socio económica, edad, sexo, monto pagado y embarcación."
      ]
    },
    {
      "cell_type": "code",
      "execution_count": null,
      "metadata": {
        "id": "qDu-vnF5hkqT",
        "colab": {
          "base_uri": "https://localhost:8080/",
          "height": 206
        },
        "outputId": "aa61b666-83fd-4b8a-882c-6b73636b6a8b"
      },
      "outputs": [
        {
          "output_type": "execute_result",
          "data": {
            "text/plain": [
              "   Survived  Pclass     Sex   Age     Fare Embarked\n",
              "0         0       3    male  22.0   7.2500        S\n",
              "1         1       1  female  38.0  71.2833        C\n",
              "2         1       3  female  26.0   7.9250        S\n",
              "3         1       1  female  35.0  53.1000        S\n",
              "4         0       3    male  35.0   8.0500        S"
            ],
            "text/html": [
              "\n",
              "  <div id=\"df-012078df-f3ed-418d-bb9c-90a1747d9d99\" class=\"colab-df-container\">\n",
              "    <div>\n",
              "<style scoped>\n",
              "    .dataframe tbody tr th:only-of-type {\n",
              "        vertical-align: middle;\n",
              "    }\n",
              "\n",
              "    .dataframe tbody tr th {\n",
              "        vertical-align: top;\n",
              "    }\n",
              "\n",
              "    .dataframe thead th {\n",
              "        text-align: right;\n",
              "    }\n",
              "</style>\n",
              "<table border=\"1\" class=\"dataframe\">\n",
              "  <thead>\n",
              "    <tr style=\"text-align: right;\">\n",
              "      <th></th>\n",
              "      <th>Survived</th>\n",
              "      <th>Pclass</th>\n",
              "      <th>Sex</th>\n",
              "      <th>Age</th>\n",
              "      <th>Fare</th>\n",
              "      <th>Embarked</th>\n",
              "    </tr>\n",
              "  </thead>\n",
              "  <tbody>\n",
              "    <tr>\n",
              "      <th>0</th>\n",
              "      <td>0</td>\n",
              "      <td>3</td>\n",
              "      <td>male</td>\n",
              "      <td>22.0</td>\n",
              "      <td>7.2500</td>\n",
              "      <td>S</td>\n",
              "    </tr>\n",
              "    <tr>\n",
              "      <th>1</th>\n",
              "      <td>1</td>\n",
              "      <td>1</td>\n",
              "      <td>female</td>\n",
              "      <td>38.0</td>\n",
              "      <td>71.2833</td>\n",
              "      <td>C</td>\n",
              "    </tr>\n",
              "    <tr>\n",
              "      <th>2</th>\n",
              "      <td>1</td>\n",
              "      <td>3</td>\n",
              "      <td>female</td>\n",
              "      <td>26.0</td>\n",
              "      <td>7.9250</td>\n",
              "      <td>S</td>\n",
              "    </tr>\n",
              "    <tr>\n",
              "      <th>3</th>\n",
              "      <td>1</td>\n",
              "      <td>1</td>\n",
              "      <td>female</td>\n",
              "      <td>35.0</td>\n",
              "      <td>53.1000</td>\n",
              "      <td>S</td>\n",
              "    </tr>\n",
              "    <tr>\n",
              "      <th>4</th>\n",
              "      <td>0</td>\n",
              "      <td>3</td>\n",
              "      <td>male</td>\n",
              "      <td>35.0</td>\n",
              "      <td>8.0500</td>\n",
              "      <td>S</td>\n",
              "    </tr>\n",
              "  </tbody>\n",
              "</table>\n",
              "</div>\n",
              "    <div class=\"colab-df-buttons\">\n",
              "\n",
              "  <div class=\"colab-df-container\">\n",
              "    <button class=\"colab-df-convert\" onclick=\"convertToInteractive('df-012078df-f3ed-418d-bb9c-90a1747d9d99')\"\n",
              "            title=\"Convert this dataframe to an interactive table.\"\n",
              "            style=\"display:none;\">\n",
              "\n",
              "  <svg xmlns=\"http://www.w3.org/2000/svg\" height=\"24px\" viewBox=\"0 -960 960 960\">\n",
              "    <path d=\"M120-120v-720h720v720H120Zm60-500h600v-160H180v160Zm220 220h160v-160H400v160Zm0 220h160v-160H400v160ZM180-400h160v-160H180v160Zm440 0h160v-160H620v160ZM180-180h160v-160H180v160Zm440 0h160v-160H620v160Z\"/>\n",
              "  </svg>\n",
              "    </button>\n",
              "\n",
              "  <style>\n",
              "    .colab-df-container {\n",
              "      display:flex;\n",
              "      gap: 12px;\n",
              "    }\n",
              "\n",
              "    .colab-df-convert {\n",
              "      background-color: #E8F0FE;\n",
              "      border: none;\n",
              "      border-radius: 50%;\n",
              "      cursor: pointer;\n",
              "      display: none;\n",
              "      fill: #1967D2;\n",
              "      height: 32px;\n",
              "      padding: 0 0 0 0;\n",
              "      width: 32px;\n",
              "    }\n",
              "\n",
              "    .colab-df-convert:hover {\n",
              "      background-color: #E2EBFA;\n",
              "      box-shadow: 0px 1px 2px rgba(60, 64, 67, 0.3), 0px 1px 3px 1px rgba(60, 64, 67, 0.15);\n",
              "      fill: #174EA6;\n",
              "    }\n",
              "\n",
              "    .colab-df-buttons div {\n",
              "      margin-bottom: 4px;\n",
              "    }\n",
              "\n",
              "    [theme=dark] .colab-df-convert {\n",
              "      background-color: #3B4455;\n",
              "      fill: #D2E3FC;\n",
              "    }\n",
              "\n",
              "    [theme=dark] .colab-df-convert:hover {\n",
              "      background-color: #434B5C;\n",
              "      box-shadow: 0px 1px 3px 1px rgba(0, 0, 0, 0.15);\n",
              "      filter: drop-shadow(0px 1px 2px rgba(0, 0, 0, 0.3));\n",
              "      fill: #FFFFFF;\n",
              "    }\n",
              "  </style>\n",
              "\n",
              "    <script>\n",
              "      const buttonEl =\n",
              "        document.querySelector('#df-012078df-f3ed-418d-bb9c-90a1747d9d99 button.colab-df-convert');\n",
              "      buttonEl.style.display =\n",
              "        google.colab.kernel.accessAllowed ? 'block' : 'none';\n",
              "\n",
              "      async function convertToInteractive(key) {\n",
              "        const element = document.querySelector('#df-012078df-f3ed-418d-bb9c-90a1747d9d99');\n",
              "        const dataTable =\n",
              "          await google.colab.kernel.invokeFunction('convertToInteractive',\n",
              "                                                    [key], {});\n",
              "        if (!dataTable) return;\n",
              "\n",
              "        const docLinkHtml = 'Like what you see? Visit the ' +\n",
              "          '<a target=\"_blank\" href=https://colab.research.google.com/notebooks/data_table.ipynb>data table notebook</a>'\n",
              "          + ' to learn more about interactive tables.';\n",
              "        element.innerHTML = '';\n",
              "        dataTable['output_type'] = 'display_data';\n",
              "        await google.colab.output.renderOutput(dataTable, element);\n",
              "        const docLink = document.createElement('div');\n",
              "        docLink.innerHTML = docLinkHtml;\n",
              "        element.appendChild(docLink);\n",
              "      }\n",
              "    </script>\n",
              "  </div>\n",
              "\n",
              "\n",
              "<div id=\"df-ad61e529-9691-4da6-81bc-b83057663167\">\n",
              "  <button class=\"colab-df-quickchart\" onclick=\"quickchart('df-ad61e529-9691-4da6-81bc-b83057663167')\"\n",
              "            title=\"Suggest charts.\"\n",
              "            style=\"display:none;\">\n",
              "\n",
              "<svg xmlns=\"http://www.w3.org/2000/svg\" height=\"24px\"viewBox=\"0 0 24 24\"\n",
              "     width=\"24px\">\n",
              "    <g>\n",
              "        <path d=\"M19 3H5c-1.1 0-2 .9-2 2v14c0 1.1.9 2 2 2h14c1.1 0 2-.9 2-2V5c0-1.1-.9-2-2-2zM9 17H7v-7h2v7zm4 0h-2V7h2v10zm4 0h-2v-4h2v4z\"/>\n",
              "    </g>\n",
              "</svg>\n",
              "  </button>\n",
              "\n",
              "<style>\n",
              "  .colab-df-quickchart {\n",
              "      --bg-color: #E8F0FE;\n",
              "      --fill-color: #1967D2;\n",
              "      --hover-bg-color: #E2EBFA;\n",
              "      --hover-fill-color: #174EA6;\n",
              "      --disabled-fill-color: #AAA;\n",
              "      --disabled-bg-color: #DDD;\n",
              "  }\n",
              "\n",
              "  [theme=dark] .colab-df-quickchart {\n",
              "      --bg-color: #3B4455;\n",
              "      --fill-color: #D2E3FC;\n",
              "      --hover-bg-color: #434B5C;\n",
              "      --hover-fill-color: #FFFFFF;\n",
              "      --disabled-bg-color: #3B4455;\n",
              "      --disabled-fill-color: #666;\n",
              "  }\n",
              "\n",
              "  .colab-df-quickchart {\n",
              "    background-color: var(--bg-color);\n",
              "    border: none;\n",
              "    border-radius: 50%;\n",
              "    cursor: pointer;\n",
              "    display: none;\n",
              "    fill: var(--fill-color);\n",
              "    height: 32px;\n",
              "    padding: 0;\n",
              "    width: 32px;\n",
              "  }\n",
              "\n",
              "  .colab-df-quickchart:hover {\n",
              "    background-color: var(--hover-bg-color);\n",
              "    box-shadow: 0 1px 2px rgba(60, 64, 67, 0.3), 0 1px 3px 1px rgba(60, 64, 67, 0.15);\n",
              "    fill: var(--button-hover-fill-color);\n",
              "  }\n",
              "\n",
              "  .colab-df-quickchart-complete:disabled,\n",
              "  .colab-df-quickchart-complete:disabled:hover {\n",
              "    background-color: var(--disabled-bg-color);\n",
              "    fill: var(--disabled-fill-color);\n",
              "    box-shadow: none;\n",
              "  }\n",
              "\n",
              "  .colab-df-spinner {\n",
              "    border: 2px solid var(--fill-color);\n",
              "    border-color: transparent;\n",
              "    border-bottom-color: var(--fill-color);\n",
              "    animation:\n",
              "      spin 1s steps(1) infinite;\n",
              "  }\n",
              "\n",
              "  @keyframes spin {\n",
              "    0% {\n",
              "      border-color: transparent;\n",
              "      border-bottom-color: var(--fill-color);\n",
              "      border-left-color: var(--fill-color);\n",
              "    }\n",
              "    20% {\n",
              "      border-color: transparent;\n",
              "      border-left-color: var(--fill-color);\n",
              "      border-top-color: var(--fill-color);\n",
              "    }\n",
              "    30% {\n",
              "      border-color: transparent;\n",
              "      border-left-color: var(--fill-color);\n",
              "      border-top-color: var(--fill-color);\n",
              "      border-right-color: var(--fill-color);\n",
              "    }\n",
              "    40% {\n",
              "      border-color: transparent;\n",
              "      border-right-color: var(--fill-color);\n",
              "      border-top-color: var(--fill-color);\n",
              "    }\n",
              "    60% {\n",
              "      border-color: transparent;\n",
              "      border-right-color: var(--fill-color);\n",
              "    }\n",
              "    80% {\n",
              "      border-color: transparent;\n",
              "      border-right-color: var(--fill-color);\n",
              "      border-bottom-color: var(--fill-color);\n",
              "    }\n",
              "    90% {\n",
              "      border-color: transparent;\n",
              "      border-bottom-color: var(--fill-color);\n",
              "    }\n",
              "  }\n",
              "</style>\n",
              "\n",
              "  <script>\n",
              "    async function quickchart(key) {\n",
              "      const quickchartButtonEl =\n",
              "        document.querySelector('#' + key + ' button');\n",
              "      quickchartButtonEl.disabled = true;  // To prevent multiple clicks.\n",
              "      quickchartButtonEl.classList.add('colab-df-spinner');\n",
              "      try {\n",
              "        const charts = await google.colab.kernel.invokeFunction(\n",
              "            'suggestCharts', [key], {});\n",
              "      } catch (error) {\n",
              "        console.error('Error during call to suggestCharts:', error);\n",
              "      }\n",
              "      quickchartButtonEl.classList.remove('colab-df-spinner');\n",
              "      quickchartButtonEl.classList.add('colab-df-quickchart-complete');\n",
              "    }\n",
              "    (() => {\n",
              "      let quickchartButtonEl =\n",
              "        document.querySelector('#df-ad61e529-9691-4da6-81bc-b83057663167 button');\n",
              "      quickchartButtonEl.style.display =\n",
              "        google.colab.kernel.accessAllowed ? 'block' : 'none';\n",
              "    })();\n",
              "  </script>\n",
              "</div>\n",
              "    </div>\n",
              "  </div>\n"
            ]
          },
          "metadata": {},
          "execution_count": 13
        }
      ],
      "source": [
        "data_titanic = data_titanic.drop(columns=['PassengerId', 'Name', 'SibSp', 'Parch', 'Ticket', 'Cabin'])\n",
        "data_titanic.head()"
      ]
    },
    {
      "cell_type": "code",
      "execution_count": null,
      "metadata": {
        "id": "c3QWOlytMED3",
        "colab": {
          "base_uri": "https://localhost:8080/",
          "height": 206
        },
        "outputId": "ec3f32c9-926d-4c67-e79e-e53456b17173"
      },
      "outputs": [
        {
          "output_type": "execute_result",
          "data": {
            "text/plain": [
              "   Pclass     Sex   Age     Fare Embarked\n",
              "0       3    male  34.5   7.8292        Q\n",
              "1       3  female  47.0   7.0000        S\n",
              "2       2    male  62.0   9.6875        Q\n",
              "3       3    male  27.0   8.6625        S\n",
              "4       3  female  22.0  12.2875        S"
            ],
            "text/html": [
              "\n",
              "  <div id=\"df-dcf08120-1ac2-4d41-93c4-e8915ce7bb74\" class=\"colab-df-container\">\n",
              "    <div>\n",
              "<style scoped>\n",
              "    .dataframe tbody tr th:only-of-type {\n",
              "        vertical-align: middle;\n",
              "    }\n",
              "\n",
              "    .dataframe tbody tr th {\n",
              "        vertical-align: top;\n",
              "    }\n",
              "\n",
              "    .dataframe thead th {\n",
              "        text-align: right;\n",
              "    }\n",
              "</style>\n",
              "<table border=\"1\" class=\"dataframe\">\n",
              "  <thead>\n",
              "    <tr style=\"text-align: right;\">\n",
              "      <th></th>\n",
              "      <th>Pclass</th>\n",
              "      <th>Sex</th>\n",
              "      <th>Age</th>\n",
              "      <th>Fare</th>\n",
              "      <th>Embarked</th>\n",
              "    </tr>\n",
              "  </thead>\n",
              "  <tbody>\n",
              "    <tr>\n",
              "      <th>0</th>\n",
              "      <td>3</td>\n",
              "      <td>male</td>\n",
              "      <td>34.5</td>\n",
              "      <td>7.8292</td>\n",
              "      <td>Q</td>\n",
              "    </tr>\n",
              "    <tr>\n",
              "      <th>1</th>\n",
              "      <td>3</td>\n",
              "      <td>female</td>\n",
              "      <td>47.0</td>\n",
              "      <td>7.0000</td>\n",
              "      <td>S</td>\n",
              "    </tr>\n",
              "    <tr>\n",
              "      <th>2</th>\n",
              "      <td>2</td>\n",
              "      <td>male</td>\n",
              "      <td>62.0</td>\n",
              "      <td>9.6875</td>\n",
              "      <td>Q</td>\n",
              "    </tr>\n",
              "    <tr>\n",
              "      <th>3</th>\n",
              "      <td>3</td>\n",
              "      <td>male</td>\n",
              "      <td>27.0</td>\n",
              "      <td>8.6625</td>\n",
              "      <td>S</td>\n",
              "    </tr>\n",
              "    <tr>\n",
              "      <th>4</th>\n",
              "      <td>3</td>\n",
              "      <td>female</td>\n",
              "      <td>22.0</td>\n",
              "      <td>12.2875</td>\n",
              "      <td>S</td>\n",
              "    </tr>\n",
              "  </tbody>\n",
              "</table>\n",
              "</div>\n",
              "    <div class=\"colab-df-buttons\">\n",
              "\n",
              "  <div class=\"colab-df-container\">\n",
              "    <button class=\"colab-df-convert\" onclick=\"convertToInteractive('df-dcf08120-1ac2-4d41-93c4-e8915ce7bb74')\"\n",
              "            title=\"Convert this dataframe to an interactive table.\"\n",
              "            style=\"display:none;\">\n",
              "\n",
              "  <svg xmlns=\"http://www.w3.org/2000/svg\" height=\"24px\" viewBox=\"0 -960 960 960\">\n",
              "    <path d=\"M120-120v-720h720v720H120Zm60-500h600v-160H180v160Zm220 220h160v-160H400v160Zm0 220h160v-160H400v160ZM180-400h160v-160H180v160Zm440 0h160v-160H620v160ZM180-180h160v-160H180v160Zm440 0h160v-160H620v160Z\"/>\n",
              "  </svg>\n",
              "    </button>\n",
              "\n",
              "  <style>\n",
              "    .colab-df-container {\n",
              "      display:flex;\n",
              "      gap: 12px;\n",
              "    }\n",
              "\n",
              "    .colab-df-convert {\n",
              "      background-color: #E8F0FE;\n",
              "      border: none;\n",
              "      border-radius: 50%;\n",
              "      cursor: pointer;\n",
              "      display: none;\n",
              "      fill: #1967D2;\n",
              "      height: 32px;\n",
              "      padding: 0 0 0 0;\n",
              "      width: 32px;\n",
              "    }\n",
              "\n",
              "    .colab-df-convert:hover {\n",
              "      background-color: #E2EBFA;\n",
              "      box-shadow: 0px 1px 2px rgba(60, 64, 67, 0.3), 0px 1px 3px 1px rgba(60, 64, 67, 0.15);\n",
              "      fill: #174EA6;\n",
              "    }\n",
              "\n",
              "    .colab-df-buttons div {\n",
              "      margin-bottom: 4px;\n",
              "    }\n",
              "\n",
              "    [theme=dark] .colab-df-convert {\n",
              "      background-color: #3B4455;\n",
              "      fill: #D2E3FC;\n",
              "    }\n",
              "\n",
              "    [theme=dark] .colab-df-convert:hover {\n",
              "      background-color: #434B5C;\n",
              "      box-shadow: 0px 1px 3px 1px rgba(0, 0, 0, 0.15);\n",
              "      filter: drop-shadow(0px 1px 2px rgba(0, 0, 0, 0.3));\n",
              "      fill: #FFFFFF;\n",
              "    }\n",
              "  </style>\n",
              "\n",
              "    <script>\n",
              "      const buttonEl =\n",
              "        document.querySelector('#df-dcf08120-1ac2-4d41-93c4-e8915ce7bb74 button.colab-df-convert');\n",
              "      buttonEl.style.display =\n",
              "        google.colab.kernel.accessAllowed ? 'block' : 'none';\n",
              "\n",
              "      async function convertToInteractive(key) {\n",
              "        const element = document.querySelector('#df-dcf08120-1ac2-4d41-93c4-e8915ce7bb74');\n",
              "        const dataTable =\n",
              "          await google.colab.kernel.invokeFunction('convertToInteractive',\n",
              "                                                    [key], {});\n",
              "        if (!dataTable) return;\n",
              "\n",
              "        const docLinkHtml = 'Like what you see? Visit the ' +\n",
              "          '<a target=\"_blank\" href=https://colab.research.google.com/notebooks/data_table.ipynb>data table notebook</a>'\n",
              "          + ' to learn more about interactive tables.';\n",
              "        element.innerHTML = '';\n",
              "        dataTable['output_type'] = 'display_data';\n",
              "        await google.colab.output.renderOutput(dataTable, element);\n",
              "        const docLink = document.createElement('div');\n",
              "        docLink.innerHTML = docLinkHtml;\n",
              "        element.appendChild(docLink);\n",
              "      }\n",
              "    </script>\n",
              "  </div>\n",
              "\n",
              "\n",
              "<div id=\"df-6b281f44-3ca2-4417-a59f-e43b03e38a98\">\n",
              "  <button class=\"colab-df-quickchart\" onclick=\"quickchart('df-6b281f44-3ca2-4417-a59f-e43b03e38a98')\"\n",
              "            title=\"Suggest charts.\"\n",
              "            style=\"display:none;\">\n",
              "\n",
              "<svg xmlns=\"http://www.w3.org/2000/svg\" height=\"24px\"viewBox=\"0 0 24 24\"\n",
              "     width=\"24px\">\n",
              "    <g>\n",
              "        <path d=\"M19 3H5c-1.1 0-2 .9-2 2v14c0 1.1.9 2 2 2h14c1.1 0 2-.9 2-2V5c0-1.1-.9-2-2-2zM9 17H7v-7h2v7zm4 0h-2V7h2v10zm4 0h-2v-4h2v4z\"/>\n",
              "    </g>\n",
              "</svg>\n",
              "  </button>\n",
              "\n",
              "<style>\n",
              "  .colab-df-quickchart {\n",
              "      --bg-color: #E8F0FE;\n",
              "      --fill-color: #1967D2;\n",
              "      --hover-bg-color: #E2EBFA;\n",
              "      --hover-fill-color: #174EA6;\n",
              "      --disabled-fill-color: #AAA;\n",
              "      --disabled-bg-color: #DDD;\n",
              "  }\n",
              "\n",
              "  [theme=dark] .colab-df-quickchart {\n",
              "      --bg-color: #3B4455;\n",
              "      --fill-color: #D2E3FC;\n",
              "      --hover-bg-color: #434B5C;\n",
              "      --hover-fill-color: #FFFFFF;\n",
              "      --disabled-bg-color: #3B4455;\n",
              "      --disabled-fill-color: #666;\n",
              "  }\n",
              "\n",
              "  .colab-df-quickchart {\n",
              "    background-color: var(--bg-color);\n",
              "    border: none;\n",
              "    border-radius: 50%;\n",
              "    cursor: pointer;\n",
              "    display: none;\n",
              "    fill: var(--fill-color);\n",
              "    height: 32px;\n",
              "    padding: 0;\n",
              "    width: 32px;\n",
              "  }\n",
              "\n",
              "  .colab-df-quickchart:hover {\n",
              "    background-color: var(--hover-bg-color);\n",
              "    box-shadow: 0 1px 2px rgba(60, 64, 67, 0.3), 0 1px 3px 1px rgba(60, 64, 67, 0.15);\n",
              "    fill: var(--button-hover-fill-color);\n",
              "  }\n",
              "\n",
              "  .colab-df-quickchart-complete:disabled,\n",
              "  .colab-df-quickchart-complete:disabled:hover {\n",
              "    background-color: var(--disabled-bg-color);\n",
              "    fill: var(--disabled-fill-color);\n",
              "    box-shadow: none;\n",
              "  }\n",
              "\n",
              "  .colab-df-spinner {\n",
              "    border: 2px solid var(--fill-color);\n",
              "    border-color: transparent;\n",
              "    border-bottom-color: var(--fill-color);\n",
              "    animation:\n",
              "      spin 1s steps(1) infinite;\n",
              "  }\n",
              "\n",
              "  @keyframes spin {\n",
              "    0% {\n",
              "      border-color: transparent;\n",
              "      border-bottom-color: var(--fill-color);\n",
              "      border-left-color: var(--fill-color);\n",
              "    }\n",
              "    20% {\n",
              "      border-color: transparent;\n",
              "      border-left-color: var(--fill-color);\n",
              "      border-top-color: var(--fill-color);\n",
              "    }\n",
              "    30% {\n",
              "      border-color: transparent;\n",
              "      border-left-color: var(--fill-color);\n",
              "      border-top-color: var(--fill-color);\n",
              "      border-right-color: var(--fill-color);\n",
              "    }\n",
              "    40% {\n",
              "      border-color: transparent;\n",
              "      border-right-color: var(--fill-color);\n",
              "      border-top-color: var(--fill-color);\n",
              "    }\n",
              "    60% {\n",
              "      border-color: transparent;\n",
              "      border-right-color: var(--fill-color);\n",
              "    }\n",
              "    80% {\n",
              "      border-color: transparent;\n",
              "      border-right-color: var(--fill-color);\n",
              "      border-bottom-color: var(--fill-color);\n",
              "    }\n",
              "    90% {\n",
              "      border-color: transparent;\n",
              "      border-bottom-color: var(--fill-color);\n",
              "    }\n",
              "  }\n",
              "</style>\n",
              "\n",
              "  <script>\n",
              "    async function quickchart(key) {\n",
              "      const quickchartButtonEl =\n",
              "        document.querySelector('#' + key + ' button');\n",
              "      quickchartButtonEl.disabled = true;  // To prevent multiple clicks.\n",
              "      quickchartButtonEl.classList.add('colab-df-spinner');\n",
              "      try {\n",
              "        const charts = await google.colab.kernel.invokeFunction(\n",
              "            'suggestCharts', [key], {});\n",
              "      } catch (error) {\n",
              "        console.error('Error during call to suggestCharts:', error);\n",
              "      }\n",
              "      quickchartButtonEl.classList.remove('colab-df-spinner');\n",
              "      quickchartButtonEl.classList.add('colab-df-quickchart-complete');\n",
              "    }\n",
              "    (() => {\n",
              "      let quickchartButtonEl =\n",
              "        document.querySelector('#df-6b281f44-3ca2-4417-a59f-e43b03e38a98 button');\n",
              "      quickchartButtonEl.style.display =\n",
              "        google.colab.kernel.accessAllowed ? 'block' : 'none';\n",
              "    })();\n",
              "  </script>\n",
              "</div>\n",
              "    </div>\n",
              "  </div>\n"
            ]
          },
          "metadata": {},
          "execution_count": 14
        }
      ],
      "source": [
        "data_test = data_test.drop(columns=['PassengerId', 'Name', 'SibSp', 'Parch', 'Ticket', 'Cabin'])\n",
        "data_test.head()"
      ]
    },
    {
      "cell_type": "markdown",
      "source": [
        "Se tomaron decisiones de limpieza, como eliminar las variables de ID, Nombre, Parch, Ticket y Cabina, ya que se consideraron no relevantes para el análisis de supervivencia en situaciones de emergencia esto con la hipótesis de que lo más determinante para saber la supervivencia es la edad, sexo y clase de los pasajeros por lo que se conoce de la prioridad que se les dio a mujeres y niños para subir a los botes salvavidas. El número de Tickets se juzgó atípico ya que solo describe un folio que lleva la cuenta de boletos vendidos y no tiene relación con la supervivencia de un pasajero."
      ],
      "metadata": {
        "id": "KJkhIrB7oAZ2"
      }
    },
    {
      "cell_type": "markdown",
      "source": [
        "Se decidió cambiar las variables categóricas de sexo (“sex”) y embarcamiento (“embarked”) a variables numéricas de este modo se puede realizar una relación matemática de dichas variables al ser números y no caracteres, así que se remplazó el sexo masculino por un 0 y el femenino por un 1 y la variable de embarcamiento, de ‘S’, ‘C’ y ‘Q’ a 0,1,2 respectivamente."
      ],
      "metadata": {
        "id": "87M38z76ixp5"
      }
    },
    {
      "cell_type": "code",
      "source": [
        "data_titanic['Sex'].replace(['male', 'female'],\n",
        "                        [0, 1], inplace=True)\n",
        "data_titanic['Embarked'].replace(['S', 'C', 'Q'],\n",
        "                        [0, 1, 2], inplace=True)\n",
        "data_titanic.apply (pd.to_numeric, errors='coerce')"
      ],
      "metadata": {
        "id": "tIVotcdnQZzy",
        "colab": {
          "base_uri": "https://localhost:8080/",
          "height": 423
        },
        "outputId": "71918897-c980-4b28-c6ea-7bdb154f6cdc"
      },
      "execution_count": null,
      "outputs": [
        {
          "output_type": "execute_result",
          "data": {
            "text/plain": [
              "     Survived  Pclass  Sex   Age     Fare  Embarked\n",
              "0           0       3    0  22.0   7.2500       0.0\n",
              "1           1       1    1  38.0  71.2833       1.0\n",
              "2           1       3    1  26.0   7.9250       0.0\n",
              "3           1       1    1  35.0  53.1000       0.0\n",
              "4           0       3    0  35.0   8.0500       0.0\n",
              "..        ...     ...  ...   ...      ...       ...\n",
              "886         0       2    0  27.0  13.0000       0.0\n",
              "887         1       1    1  19.0  30.0000       0.0\n",
              "888         0       3    1   NaN  23.4500       0.0\n",
              "889         1       1    0  26.0  30.0000       1.0\n",
              "890         0       3    0  32.0   7.7500       2.0\n",
              "\n",
              "[891 rows x 6 columns]"
            ],
            "text/html": [
              "\n",
              "  <div id=\"df-0836090c-aed4-41a6-8890-78b219e733b4\" class=\"colab-df-container\">\n",
              "    <div>\n",
              "<style scoped>\n",
              "    .dataframe tbody tr th:only-of-type {\n",
              "        vertical-align: middle;\n",
              "    }\n",
              "\n",
              "    .dataframe tbody tr th {\n",
              "        vertical-align: top;\n",
              "    }\n",
              "\n",
              "    .dataframe thead th {\n",
              "        text-align: right;\n",
              "    }\n",
              "</style>\n",
              "<table border=\"1\" class=\"dataframe\">\n",
              "  <thead>\n",
              "    <tr style=\"text-align: right;\">\n",
              "      <th></th>\n",
              "      <th>Survived</th>\n",
              "      <th>Pclass</th>\n",
              "      <th>Sex</th>\n",
              "      <th>Age</th>\n",
              "      <th>Fare</th>\n",
              "      <th>Embarked</th>\n",
              "    </tr>\n",
              "  </thead>\n",
              "  <tbody>\n",
              "    <tr>\n",
              "      <th>0</th>\n",
              "      <td>0</td>\n",
              "      <td>3</td>\n",
              "      <td>0</td>\n",
              "      <td>22.0</td>\n",
              "      <td>7.2500</td>\n",
              "      <td>0.0</td>\n",
              "    </tr>\n",
              "    <tr>\n",
              "      <th>1</th>\n",
              "      <td>1</td>\n",
              "      <td>1</td>\n",
              "      <td>1</td>\n",
              "      <td>38.0</td>\n",
              "      <td>71.2833</td>\n",
              "      <td>1.0</td>\n",
              "    </tr>\n",
              "    <tr>\n",
              "      <th>2</th>\n",
              "      <td>1</td>\n",
              "      <td>3</td>\n",
              "      <td>1</td>\n",
              "      <td>26.0</td>\n",
              "      <td>7.9250</td>\n",
              "      <td>0.0</td>\n",
              "    </tr>\n",
              "    <tr>\n",
              "      <th>3</th>\n",
              "      <td>1</td>\n",
              "      <td>1</td>\n",
              "      <td>1</td>\n",
              "      <td>35.0</td>\n",
              "      <td>53.1000</td>\n",
              "      <td>0.0</td>\n",
              "    </tr>\n",
              "    <tr>\n",
              "      <th>4</th>\n",
              "      <td>0</td>\n",
              "      <td>3</td>\n",
              "      <td>0</td>\n",
              "      <td>35.0</td>\n",
              "      <td>8.0500</td>\n",
              "      <td>0.0</td>\n",
              "    </tr>\n",
              "    <tr>\n",
              "      <th>...</th>\n",
              "      <td>...</td>\n",
              "      <td>...</td>\n",
              "      <td>...</td>\n",
              "      <td>...</td>\n",
              "      <td>...</td>\n",
              "      <td>...</td>\n",
              "    </tr>\n",
              "    <tr>\n",
              "      <th>886</th>\n",
              "      <td>0</td>\n",
              "      <td>2</td>\n",
              "      <td>0</td>\n",
              "      <td>27.0</td>\n",
              "      <td>13.0000</td>\n",
              "      <td>0.0</td>\n",
              "    </tr>\n",
              "    <tr>\n",
              "      <th>887</th>\n",
              "      <td>1</td>\n",
              "      <td>1</td>\n",
              "      <td>1</td>\n",
              "      <td>19.0</td>\n",
              "      <td>30.0000</td>\n",
              "      <td>0.0</td>\n",
              "    </tr>\n",
              "    <tr>\n",
              "      <th>888</th>\n",
              "      <td>0</td>\n",
              "      <td>3</td>\n",
              "      <td>1</td>\n",
              "      <td>NaN</td>\n",
              "      <td>23.4500</td>\n",
              "      <td>0.0</td>\n",
              "    </tr>\n",
              "    <tr>\n",
              "      <th>889</th>\n",
              "      <td>1</td>\n",
              "      <td>1</td>\n",
              "      <td>0</td>\n",
              "      <td>26.0</td>\n",
              "      <td>30.0000</td>\n",
              "      <td>1.0</td>\n",
              "    </tr>\n",
              "    <tr>\n",
              "      <th>890</th>\n",
              "      <td>0</td>\n",
              "      <td>3</td>\n",
              "      <td>0</td>\n",
              "      <td>32.0</td>\n",
              "      <td>7.7500</td>\n",
              "      <td>2.0</td>\n",
              "    </tr>\n",
              "  </tbody>\n",
              "</table>\n",
              "<p>891 rows × 6 columns</p>\n",
              "</div>\n",
              "    <div class=\"colab-df-buttons\">\n",
              "\n",
              "  <div class=\"colab-df-container\">\n",
              "    <button class=\"colab-df-convert\" onclick=\"convertToInteractive('df-0836090c-aed4-41a6-8890-78b219e733b4')\"\n",
              "            title=\"Convert this dataframe to an interactive table.\"\n",
              "            style=\"display:none;\">\n",
              "\n",
              "  <svg xmlns=\"http://www.w3.org/2000/svg\" height=\"24px\" viewBox=\"0 -960 960 960\">\n",
              "    <path d=\"M120-120v-720h720v720H120Zm60-500h600v-160H180v160Zm220 220h160v-160H400v160Zm0 220h160v-160H400v160ZM180-400h160v-160H180v160Zm440 0h160v-160H620v160ZM180-180h160v-160H180v160Zm440 0h160v-160H620v160Z\"/>\n",
              "  </svg>\n",
              "    </button>\n",
              "\n",
              "  <style>\n",
              "    .colab-df-container {\n",
              "      display:flex;\n",
              "      gap: 12px;\n",
              "    }\n",
              "\n",
              "    .colab-df-convert {\n",
              "      background-color: #E8F0FE;\n",
              "      border: none;\n",
              "      border-radius: 50%;\n",
              "      cursor: pointer;\n",
              "      display: none;\n",
              "      fill: #1967D2;\n",
              "      height: 32px;\n",
              "      padding: 0 0 0 0;\n",
              "      width: 32px;\n",
              "    }\n",
              "\n",
              "    .colab-df-convert:hover {\n",
              "      background-color: #E2EBFA;\n",
              "      box-shadow: 0px 1px 2px rgba(60, 64, 67, 0.3), 0px 1px 3px 1px rgba(60, 64, 67, 0.15);\n",
              "      fill: #174EA6;\n",
              "    }\n",
              "\n",
              "    .colab-df-buttons div {\n",
              "      margin-bottom: 4px;\n",
              "    }\n",
              "\n",
              "    [theme=dark] .colab-df-convert {\n",
              "      background-color: #3B4455;\n",
              "      fill: #D2E3FC;\n",
              "    }\n",
              "\n",
              "    [theme=dark] .colab-df-convert:hover {\n",
              "      background-color: #434B5C;\n",
              "      box-shadow: 0px 1px 3px 1px rgba(0, 0, 0, 0.15);\n",
              "      filter: drop-shadow(0px 1px 2px rgba(0, 0, 0, 0.3));\n",
              "      fill: #FFFFFF;\n",
              "    }\n",
              "  </style>\n",
              "\n",
              "    <script>\n",
              "      const buttonEl =\n",
              "        document.querySelector('#df-0836090c-aed4-41a6-8890-78b219e733b4 button.colab-df-convert');\n",
              "      buttonEl.style.display =\n",
              "        google.colab.kernel.accessAllowed ? 'block' : 'none';\n",
              "\n",
              "      async function convertToInteractive(key) {\n",
              "        const element = document.querySelector('#df-0836090c-aed4-41a6-8890-78b219e733b4');\n",
              "        const dataTable =\n",
              "          await google.colab.kernel.invokeFunction('convertToInteractive',\n",
              "                                                    [key], {});\n",
              "        if (!dataTable) return;\n",
              "\n",
              "        const docLinkHtml = 'Like what you see? Visit the ' +\n",
              "          '<a target=\"_blank\" href=https://colab.research.google.com/notebooks/data_table.ipynb>data table notebook</a>'\n",
              "          + ' to learn more about interactive tables.';\n",
              "        element.innerHTML = '';\n",
              "        dataTable['output_type'] = 'display_data';\n",
              "        await google.colab.output.renderOutput(dataTable, element);\n",
              "        const docLink = document.createElement('div');\n",
              "        docLink.innerHTML = docLinkHtml;\n",
              "        element.appendChild(docLink);\n",
              "      }\n",
              "    </script>\n",
              "  </div>\n",
              "\n",
              "\n",
              "<div id=\"df-7329f5b0-fa59-432b-bd7d-cd992e93c31c\">\n",
              "  <button class=\"colab-df-quickchart\" onclick=\"quickchart('df-7329f5b0-fa59-432b-bd7d-cd992e93c31c')\"\n",
              "            title=\"Suggest charts.\"\n",
              "            style=\"display:none;\">\n",
              "\n",
              "<svg xmlns=\"http://www.w3.org/2000/svg\" height=\"24px\"viewBox=\"0 0 24 24\"\n",
              "     width=\"24px\">\n",
              "    <g>\n",
              "        <path d=\"M19 3H5c-1.1 0-2 .9-2 2v14c0 1.1.9 2 2 2h14c1.1 0 2-.9 2-2V5c0-1.1-.9-2-2-2zM9 17H7v-7h2v7zm4 0h-2V7h2v10zm4 0h-2v-4h2v4z\"/>\n",
              "    </g>\n",
              "</svg>\n",
              "  </button>\n",
              "\n",
              "<style>\n",
              "  .colab-df-quickchart {\n",
              "      --bg-color: #E8F0FE;\n",
              "      --fill-color: #1967D2;\n",
              "      --hover-bg-color: #E2EBFA;\n",
              "      --hover-fill-color: #174EA6;\n",
              "      --disabled-fill-color: #AAA;\n",
              "      --disabled-bg-color: #DDD;\n",
              "  }\n",
              "\n",
              "  [theme=dark] .colab-df-quickchart {\n",
              "      --bg-color: #3B4455;\n",
              "      --fill-color: #D2E3FC;\n",
              "      --hover-bg-color: #434B5C;\n",
              "      --hover-fill-color: #FFFFFF;\n",
              "      --disabled-bg-color: #3B4455;\n",
              "      --disabled-fill-color: #666;\n",
              "  }\n",
              "\n",
              "  .colab-df-quickchart {\n",
              "    background-color: var(--bg-color);\n",
              "    border: none;\n",
              "    border-radius: 50%;\n",
              "    cursor: pointer;\n",
              "    display: none;\n",
              "    fill: var(--fill-color);\n",
              "    height: 32px;\n",
              "    padding: 0;\n",
              "    width: 32px;\n",
              "  }\n",
              "\n",
              "  .colab-df-quickchart:hover {\n",
              "    background-color: var(--hover-bg-color);\n",
              "    box-shadow: 0 1px 2px rgba(60, 64, 67, 0.3), 0 1px 3px 1px rgba(60, 64, 67, 0.15);\n",
              "    fill: var(--button-hover-fill-color);\n",
              "  }\n",
              "\n",
              "  .colab-df-quickchart-complete:disabled,\n",
              "  .colab-df-quickchart-complete:disabled:hover {\n",
              "    background-color: var(--disabled-bg-color);\n",
              "    fill: var(--disabled-fill-color);\n",
              "    box-shadow: none;\n",
              "  }\n",
              "\n",
              "  .colab-df-spinner {\n",
              "    border: 2px solid var(--fill-color);\n",
              "    border-color: transparent;\n",
              "    border-bottom-color: var(--fill-color);\n",
              "    animation:\n",
              "      spin 1s steps(1) infinite;\n",
              "  }\n",
              "\n",
              "  @keyframes spin {\n",
              "    0% {\n",
              "      border-color: transparent;\n",
              "      border-bottom-color: var(--fill-color);\n",
              "      border-left-color: var(--fill-color);\n",
              "    }\n",
              "    20% {\n",
              "      border-color: transparent;\n",
              "      border-left-color: var(--fill-color);\n",
              "      border-top-color: var(--fill-color);\n",
              "    }\n",
              "    30% {\n",
              "      border-color: transparent;\n",
              "      border-left-color: var(--fill-color);\n",
              "      border-top-color: var(--fill-color);\n",
              "      border-right-color: var(--fill-color);\n",
              "    }\n",
              "    40% {\n",
              "      border-color: transparent;\n",
              "      border-right-color: var(--fill-color);\n",
              "      border-top-color: var(--fill-color);\n",
              "    }\n",
              "    60% {\n",
              "      border-color: transparent;\n",
              "      border-right-color: var(--fill-color);\n",
              "    }\n",
              "    80% {\n",
              "      border-color: transparent;\n",
              "      border-right-color: var(--fill-color);\n",
              "      border-bottom-color: var(--fill-color);\n",
              "    }\n",
              "    90% {\n",
              "      border-color: transparent;\n",
              "      border-bottom-color: var(--fill-color);\n",
              "    }\n",
              "  }\n",
              "</style>\n",
              "\n",
              "  <script>\n",
              "    async function quickchart(key) {\n",
              "      const quickchartButtonEl =\n",
              "        document.querySelector('#' + key + ' button');\n",
              "      quickchartButtonEl.disabled = true;  // To prevent multiple clicks.\n",
              "      quickchartButtonEl.classList.add('colab-df-spinner');\n",
              "      try {\n",
              "        const charts = await google.colab.kernel.invokeFunction(\n",
              "            'suggestCharts', [key], {});\n",
              "      } catch (error) {\n",
              "        console.error('Error during call to suggestCharts:', error);\n",
              "      }\n",
              "      quickchartButtonEl.classList.remove('colab-df-spinner');\n",
              "      quickchartButtonEl.classList.add('colab-df-quickchart-complete');\n",
              "    }\n",
              "    (() => {\n",
              "      let quickchartButtonEl =\n",
              "        document.querySelector('#df-7329f5b0-fa59-432b-bd7d-cd992e93c31c button');\n",
              "      quickchartButtonEl.style.display =\n",
              "        google.colab.kernel.accessAllowed ? 'block' : 'none';\n",
              "    })();\n",
              "  </script>\n",
              "</div>\n",
              "    </div>\n",
              "  </div>\n"
            ]
          },
          "metadata": {},
          "execution_count": 15
        }
      ]
    },
    {
      "cell_type": "code",
      "execution_count": null,
      "metadata": {
        "id": "kLrUJg7GYUH1",
        "colab": {
          "base_uri": "https://localhost:8080/",
          "height": 423
        },
        "outputId": "78495d34-a989-4ef2-bee4-e443f78d03e7"
      },
      "outputs": [
        {
          "output_type": "execute_result",
          "data": {
            "text/plain": [
              "     Pclass  Sex   Age      Fare  Embarked\n",
              "0         3    0  34.5    7.8292         2\n",
              "1         3    1  47.0    7.0000         0\n",
              "2         2    0  62.0    9.6875         2\n",
              "3         3    0  27.0    8.6625         0\n",
              "4         3    1  22.0   12.2875         0\n",
              "..      ...  ...   ...       ...       ...\n",
              "413       3    0   NaN    8.0500         0\n",
              "414       1    1  39.0  108.9000         1\n",
              "415       3    0  38.5    7.2500         0\n",
              "416       3    0   NaN    8.0500         0\n",
              "417       3    0   NaN   22.3583         1\n",
              "\n",
              "[418 rows x 5 columns]"
            ],
            "text/html": [
              "\n",
              "  <div id=\"df-8033c966-0114-4bdc-ba03-be949f50ada1\" class=\"colab-df-container\">\n",
              "    <div>\n",
              "<style scoped>\n",
              "    .dataframe tbody tr th:only-of-type {\n",
              "        vertical-align: middle;\n",
              "    }\n",
              "\n",
              "    .dataframe tbody tr th {\n",
              "        vertical-align: top;\n",
              "    }\n",
              "\n",
              "    .dataframe thead th {\n",
              "        text-align: right;\n",
              "    }\n",
              "</style>\n",
              "<table border=\"1\" class=\"dataframe\">\n",
              "  <thead>\n",
              "    <tr style=\"text-align: right;\">\n",
              "      <th></th>\n",
              "      <th>Pclass</th>\n",
              "      <th>Sex</th>\n",
              "      <th>Age</th>\n",
              "      <th>Fare</th>\n",
              "      <th>Embarked</th>\n",
              "    </tr>\n",
              "  </thead>\n",
              "  <tbody>\n",
              "    <tr>\n",
              "      <th>0</th>\n",
              "      <td>3</td>\n",
              "      <td>0</td>\n",
              "      <td>34.5</td>\n",
              "      <td>7.8292</td>\n",
              "      <td>2</td>\n",
              "    </tr>\n",
              "    <tr>\n",
              "      <th>1</th>\n",
              "      <td>3</td>\n",
              "      <td>1</td>\n",
              "      <td>47.0</td>\n",
              "      <td>7.0000</td>\n",
              "      <td>0</td>\n",
              "    </tr>\n",
              "    <tr>\n",
              "      <th>2</th>\n",
              "      <td>2</td>\n",
              "      <td>0</td>\n",
              "      <td>62.0</td>\n",
              "      <td>9.6875</td>\n",
              "      <td>2</td>\n",
              "    </tr>\n",
              "    <tr>\n",
              "      <th>3</th>\n",
              "      <td>3</td>\n",
              "      <td>0</td>\n",
              "      <td>27.0</td>\n",
              "      <td>8.6625</td>\n",
              "      <td>0</td>\n",
              "    </tr>\n",
              "    <tr>\n",
              "      <th>4</th>\n",
              "      <td>3</td>\n",
              "      <td>1</td>\n",
              "      <td>22.0</td>\n",
              "      <td>12.2875</td>\n",
              "      <td>0</td>\n",
              "    </tr>\n",
              "    <tr>\n",
              "      <th>...</th>\n",
              "      <td>...</td>\n",
              "      <td>...</td>\n",
              "      <td>...</td>\n",
              "      <td>...</td>\n",
              "      <td>...</td>\n",
              "    </tr>\n",
              "    <tr>\n",
              "      <th>413</th>\n",
              "      <td>3</td>\n",
              "      <td>0</td>\n",
              "      <td>NaN</td>\n",
              "      <td>8.0500</td>\n",
              "      <td>0</td>\n",
              "    </tr>\n",
              "    <tr>\n",
              "      <th>414</th>\n",
              "      <td>1</td>\n",
              "      <td>1</td>\n",
              "      <td>39.0</td>\n",
              "      <td>108.9000</td>\n",
              "      <td>1</td>\n",
              "    </tr>\n",
              "    <tr>\n",
              "      <th>415</th>\n",
              "      <td>3</td>\n",
              "      <td>0</td>\n",
              "      <td>38.5</td>\n",
              "      <td>7.2500</td>\n",
              "      <td>0</td>\n",
              "    </tr>\n",
              "    <tr>\n",
              "      <th>416</th>\n",
              "      <td>3</td>\n",
              "      <td>0</td>\n",
              "      <td>NaN</td>\n",
              "      <td>8.0500</td>\n",
              "      <td>0</td>\n",
              "    </tr>\n",
              "    <tr>\n",
              "      <th>417</th>\n",
              "      <td>3</td>\n",
              "      <td>0</td>\n",
              "      <td>NaN</td>\n",
              "      <td>22.3583</td>\n",
              "      <td>1</td>\n",
              "    </tr>\n",
              "  </tbody>\n",
              "</table>\n",
              "<p>418 rows × 5 columns</p>\n",
              "</div>\n",
              "    <div class=\"colab-df-buttons\">\n",
              "\n",
              "  <div class=\"colab-df-container\">\n",
              "    <button class=\"colab-df-convert\" onclick=\"convertToInteractive('df-8033c966-0114-4bdc-ba03-be949f50ada1')\"\n",
              "            title=\"Convert this dataframe to an interactive table.\"\n",
              "            style=\"display:none;\">\n",
              "\n",
              "  <svg xmlns=\"http://www.w3.org/2000/svg\" height=\"24px\" viewBox=\"0 -960 960 960\">\n",
              "    <path d=\"M120-120v-720h720v720H120Zm60-500h600v-160H180v160Zm220 220h160v-160H400v160Zm0 220h160v-160H400v160ZM180-400h160v-160H180v160Zm440 0h160v-160H620v160ZM180-180h160v-160H180v160Zm440 0h160v-160H620v160Z\"/>\n",
              "  </svg>\n",
              "    </button>\n",
              "\n",
              "  <style>\n",
              "    .colab-df-container {\n",
              "      display:flex;\n",
              "      gap: 12px;\n",
              "    }\n",
              "\n",
              "    .colab-df-convert {\n",
              "      background-color: #E8F0FE;\n",
              "      border: none;\n",
              "      border-radius: 50%;\n",
              "      cursor: pointer;\n",
              "      display: none;\n",
              "      fill: #1967D2;\n",
              "      height: 32px;\n",
              "      padding: 0 0 0 0;\n",
              "      width: 32px;\n",
              "    }\n",
              "\n",
              "    .colab-df-convert:hover {\n",
              "      background-color: #E2EBFA;\n",
              "      box-shadow: 0px 1px 2px rgba(60, 64, 67, 0.3), 0px 1px 3px 1px rgba(60, 64, 67, 0.15);\n",
              "      fill: #174EA6;\n",
              "    }\n",
              "\n",
              "    .colab-df-buttons div {\n",
              "      margin-bottom: 4px;\n",
              "    }\n",
              "\n",
              "    [theme=dark] .colab-df-convert {\n",
              "      background-color: #3B4455;\n",
              "      fill: #D2E3FC;\n",
              "    }\n",
              "\n",
              "    [theme=dark] .colab-df-convert:hover {\n",
              "      background-color: #434B5C;\n",
              "      box-shadow: 0px 1px 3px 1px rgba(0, 0, 0, 0.15);\n",
              "      filter: drop-shadow(0px 1px 2px rgba(0, 0, 0, 0.3));\n",
              "      fill: #FFFFFF;\n",
              "    }\n",
              "  </style>\n",
              "\n",
              "    <script>\n",
              "      const buttonEl =\n",
              "        document.querySelector('#df-8033c966-0114-4bdc-ba03-be949f50ada1 button.colab-df-convert');\n",
              "      buttonEl.style.display =\n",
              "        google.colab.kernel.accessAllowed ? 'block' : 'none';\n",
              "\n",
              "      async function convertToInteractive(key) {\n",
              "        const element = document.querySelector('#df-8033c966-0114-4bdc-ba03-be949f50ada1');\n",
              "        const dataTable =\n",
              "          await google.colab.kernel.invokeFunction('convertToInteractive',\n",
              "                                                    [key], {});\n",
              "        if (!dataTable) return;\n",
              "\n",
              "        const docLinkHtml = 'Like what you see? Visit the ' +\n",
              "          '<a target=\"_blank\" href=https://colab.research.google.com/notebooks/data_table.ipynb>data table notebook</a>'\n",
              "          + ' to learn more about interactive tables.';\n",
              "        element.innerHTML = '';\n",
              "        dataTable['output_type'] = 'display_data';\n",
              "        await google.colab.output.renderOutput(dataTable, element);\n",
              "        const docLink = document.createElement('div');\n",
              "        docLink.innerHTML = docLinkHtml;\n",
              "        element.appendChild(docLink);\n",
              "      }\n",
              "    </script>\n",
              "  </div>\n",
              "\n",
              "\n",
              "<div id=\"df-5d429da1-a714-4de9-ba7a-1f421ea4ac25\">\n",
              "  <button class=\"colab-df-quickchart\" onclick=\"quickchart('df-5d429da1-a714-4de9-ba7a-1f421ea4ac25')\"\n",
              "            title=\"Suggest charts.\"\n",
              "            style=\"display:none;\">\n",
              "\n",
              "<svg xmlns=\"http://www.w3.org/2000/svg\" height=\"24px\"viewBox=\"0 0 24 24\"\n",
              "     width=\"24px\">\n",
              "    <g>\n",
              "        <path d=\"M19 3H5c-1.1 0-2 .9-2 2v14c0 1.1.9 2 2 2h14c1.1 0 2-.9 2-2V5c0-1.1-.9-2-2-2zM9 17H7v-7h2v7zm4 0h-2V7h2v10zm4 0h-2v-4h2v4z\"/>\n",
              "    </g>\n",
              "</svg>\n",
              "  </button>\n",
              "\n",
              "<style>\n",
              "  .colab-df-quickchart {\n",
              "      --bg-color: #E8F0FE;\n",
              "      --fill-color: #1967D2;\n",
              "      --hover-bg-color: #E2EBFA;\n",
              "      --hover-fill-color: #174EA6;\n",
              "      --disabled-fill-color: #AAA;\n",
              "      --disabled-bg-color: #DDD;\n",
              "  }\n",
              "\n",
              "  [theme=dark] .colab-df-quickchart {\n",
              "      --bg-color: #3B4455;\n",
              "      --fill-color: #D2E3FC;\n",
              "      --hover-bg-color: #434B5C;\n",
              "      --hover-fill-color: #FFFFFF;\n",
              "      --disabled-bg-color: #3B4455;\n",
              "      --disabled-fill-color: #666;\n",
              "  }\n",
              "\n",
              "  .colab-df-quickchart {\n",
              "    background-color: var(--bg-color);\n",
              "    border: none;\n",
              "    border-radius: 50%;\n",
              "    cursor: pointer;\n",
              "    display: none;\n",
              "    fill: var(--fill-color);\n",
              "    height: 32px;\n",
              "    padding: 0;\n",
              "    width: 32px;\n",
              "  }\n",
              "\n",
              "  .colab-df-quickchart:hover {\n",
              "    background-color: var(--hover-bg-color);\n",
              "    box-shadow: 0 1px 2px rgba(60, 64, 67, 0.3), 0 1px 3px 1px rgba(60, 64, 67, 0.15);\n",
              "    fill: var(--button-hover-fill-color);\n",
              "  }\n",
              "\n",
              "  .colab-df-quickchart-complete:disabled,\n",
              "  .colab-df-quickchart-complete:disabled:hover {\n",
              "    background-color: var(--disabled-bg-color);\n",
              "    fill: var(--disabled-fill-color);\n",
              "    box-shadow: none;\n",
              "  }\n",
              "\n",
              "  .colab-df-spinner {\n",
              "    border: 2px solid var(--fill-color);\n",
              "    border-color: transparent;\n",
              "    border-bottom-color: var(--fill-color);\n",
              "    animation:\n",
              "      spin 1s steps(1) infinite;\n",
              "  }\n",
              "\n",
              "  @keyframes spin {\n",
              "    0% {\n",
              "      border-color: transparent;\n",
              "      border-bottom-color: var(--fill-color);\n",
              "      border-left-color: var(--fill-color);\n",
              "    }\n",
              "    20% {\n",
              "      border-color: transparent;\n",
              "      border-left-color: var(--fill-color);\n",
              "      border-top-color: var(--fill-color);\n",
              "    }\n",
              "    30% {\n",
              "      border-color: transparent;\n",
              "      border-left-color: var(--fill-color);\n",
              "      border-top-color: var(--fill-color);\n",
              "      border-right-color: var(--fill-color);\n",
              "    }\n",
              "    40% {\n",
              "      border-color: transparent;\n",
              "      border-right-color: var(--fill-color);\n",
              "      border-top-color: var(--fill-color);\n",
              "    }\n",
              "    60% {\n",
              "      border-color: transparent;\n",
              "      border-right-color: var(--fill-color);\n",
              "    }\n",
              "    80% {\n",
              "      border-color: transparent;\n",
              "      border-right-color: var(--fill-color);\n",
              "      border-bottom-color: var(--fill-color);\n",
              "    }\n",
              "    90% {\n",
              "      border-color: transparent;\n",
              "      border-bottom-color: var(--fill-color);\n",
              "    }\n",
              "  }\n",
              "</style>\n",
              "\n",
              "  <script>\n",
              "    async function quickchart(key) {\n",
              "      const quickchartButtonEl =\n",
              "        document.querySelector('#' + key + ' button');\n",
              "      quickchartButtonEl.disabled = true;  // To prevent multiple clicks.\n",
              "      quickchartButtonEl.classList.add('colab-df-spinner');\n",
              "      try {\n",
              "        const charts = await google.colab.kernel.invokeFunction(\n",
              "            'suggestCharts', [key], {});\n",
              "      } catch (error) {\n",
              "        console.error('Error during call to suggestCharts:', error);\n",
              "      }\n",
              "      quickchartButtonEl.classList.remove('colab-df-spinner');\n",
              "      quickchartButtonEl.classList.add('colab-df-quickchart-complete');\n",
              "    }\n",
              "    (() => {\n",
              "      let quickchartButtonEl =\n",
              "        document.querySelector('#df-5d429da1-a714-4de9-ba7a-1f421ea4ac25 button');\n",
              "      quickchartButtonEl.style.display =\n",
              "        google.colab.kernel.accessAllowed ? 'block' : 'none';\n",
              "    })();\n",
              "  </script>\n",
              "</div>\n",
              "    </div>\n",
              "  </div>\n"
            ]
          },
          "metadata": {},
          "execution_count": 16
        }
      ],
      "source": [
        "data_test['Sex'].replace(['male', 'female'],\n",
        "                        [0, 1], inplace=True)\n",
        "data_test['Embarked'].replace(['S', 'C', 'Q'],\n",
        "                        [0, 1, 2], inplace=True)\n",
        "data_test.apply (pd.to_numeric, errors='coerce')"
      ]
    },
    {
      "cell_type": "markdown",
      "source": [
        "Utilizamos la función de dropna() para quitar los datos no definidos de la base, puesto que estos no aportan información de las variables a analizar. Así mismo, gracias a la función dropnull() se removieron las filas que contuvieran datos nulos, esto para evitar el ruido que estas variables pueden provocar en el análisis."
      ],
      "metadata": {
        "id": "TgokmEaQoMa0"
      }
    },
    {
      "cell_type": "code",
      "source": [
        "data_test = data_test.dropna()\n",
        "data_test.isna().sum()"
      ],
      "metadata": {
        "id": "7ZCmLPXXYL9-",
        "colab": {
          "base_uri": "https://localhost:8080/"
        },
        "outputId": "8a635f09-9d30-4c7a-bc66-366611d1f83c"
      },
      "execution_count": null,
      "outputs": [
        {
          "output_type": "execute_result",
          "data": {
            "text/plain": [
              "Pclass      0\n",
              "Sex         0\n",
              "Age         0\n",
              "Fare        0\n",
              "Embarked    0\n",
              "dtype: int64"
            ]
          },
          "metadata": {},
          "execution_count": 17
        }
      ]
    },
    {
      "cell_type": "markdown",
      "source": [
        "Sacamos las métricas importantes."
      ],
      "metadata": {
        "id": "QOPIdzA6XIS0"
      }
    },
    {
      "cell_type": "code",
      "source": [
        "data_titanic.describe() # Statistics Analysis"
      ],
      "metadata": {
        "id": "6QOz5m-5XK9L",
        "colab": {
          "base_uri": "https://localhost:8080/",
          "height": 300
        },
        "outputId": "a7ae13f4-15c2-4d44-c8cb-fb9d901e2486"
      },
      "execution_count": null,
      "outputs": [
        {
          "output_type": "execute_result",
          "data": {
            "text/plain": [
              "         Survived      Pclass         Sex         Age        Fare    Embarked\n",
              "count  891.000000  891.000000  891.000000  714.000000  891.000000  889.000000\n",
              "mean     0.383838    2.308642    0.352413   29.699118   32.204208    0.362205\n",
              "std      0.486592    0.836071    0.477990   14.526497   49.693429    0.636157\n",
              "min      0.000000    1.000000    0.000000    0.420000    0.000000    0.000000\n",
              "25%      0.000000    2.000000    0.000000   20.125000    7.910400    0.000000\n",
              "50%      0.000000    3.000000    0.000000   28.000000   14.454200    0.000000\n",
              "75%      1.000000    3.000000    1.000000   38.000000   31.000000    1.000000\n",
              "max      1.000000    3.000000    1.000000   80.000000  512.329200    2.000000"
            ],
            "text/html": [
              "\n",
              "  <div id=\"df-8aff68b2-5edc-40e0-ba0e-508b6ebac070\" class=\"colab-df-container\">\n",
              "    <div>\n",
              "<style scoped>\n",
              "    .dataframe tbody tr th:only-of-type {\n",
              "        vertical-align: middle;\n",
              "    }\n",
              "\n",
              "    .dataframe tbody tr th {\n",
              "        vertical-align: top;\n",
              "    }\n",
              "\n",
              "    .dataframe thead th {\n",
              "        text-align: right;\n",
              "    }\n",
              "</style>\n",
              "<table border=\"1\" class=\"dataframe\">\n",
              "  <thead>\n",
              "    <tr style=\"text-align: right;\">\n",
              "      <th></th>\n",
              "      <th>Survived</th>\n",
              "      <th>Pclass</th>\n",
              "      <th>Sex</th>\n",
              "      <th>Age</th>\n",
              "      <th>Fare</th>\n",
              "      <th>Embarked</th>\n",
              "    </tr>\n",
              "  </thead>\n",
              "  <tbody>\n",
              "    <tr>\n",
              "      <th>count</th>\n",
              "      <td>891.000000</td>\n",
              "      <td>891.000000</td>\n",
              "      <td>891.000000</td>\n",
              "      <td>714.000000</td>\n",
              "      <td>891.000000</td>\n",
              "      <td>889.000000</td>\n",
              "    </tr>\n",
              "    <tr>\n",
              "      <th>mean</th>\n",
              "      <td>0.383838</td>\n",
              "      <td>2.308642</td>\n",
              "      <td>0.352413</td>\n",
              "      <td>29.699118</td>\n",
              "      <td>32.204208</td>\n",
              "      <td>0.362205</td>\n",
              "    </tr>\n",
              "    <tr>\n",
              "      <th>std</th>\n",
              "      <td>0.486592</td>\n",
              "      <td>0.836071</td>\n",
              "      <td>0.477990</td>\n",
              "      <td>14.526497</td>\n",
              "      <td>49.693429</td>\n",
              "      <td>0.636157</td>\n",
              "    </tr>\n",
              "    <tr>\n",
              "      <th>min</th>\n",
              "      <td>0.000000</td>\n",
              "      <td>1.000000</td>\n",
              "      <td>0.000000</td>\n",
              "      <td>0.420000</td>\n",
              "      <td>0.000000</td>\n",
              "      <td>0.000000</td>\n",
              "    </tr>\n",
              "    <tr>\n",
              "      <th>25%</th>\n",
              "      <td>0.000000</td>\n",
              "      <td>2.000000</td>\n",
              "      <td>0.000000</td>\n",
              "      <td>20.125000</td>\n",
              "      <td>7.910400</td>\n",
              "      <td>0.000000</td>\n",
              "    </tr>\n",
              "    <tr>\n",
              "      <th>50%</th>\n",
              "      <td>0.000000</td>\n",
              "      <td>3.000000</td>\n",
              "      <td>0.000000</td>\n",
              "      <td>28.000000</td>\n",
              "      <td>14.454200</td>\n",
              "      <td>0.000000</td>\n",
              "    </tr>\n",
              "    <tr>\n",
              "      <th>75%</th>\n",
              "      <td>1.000000</td>\n",
              "      <td>3.000000</td>\n",
              "      <td>1.000000</td>\n",
              "      <td>38.000000</td>\n",
              "      <td>31.000000</td>\n",
              "      <td>1.000000</td>\n",
              "    </tr>\n",
              "    <tr>\n",
              "      <th>max</th>\n",
              "      <td>1.000000</td>\n",
              "      <td>3.000000</td>\n",
              "      <td>1.000000</td>\n",
              "      <td>80.000000</td>\n",
              "      <td>512.329200</td>\n",
              "      <td>2.000000</td>\n",
              "    </tr>\n",
              "  </tbody>\n",
              "</table>\n",
              "</div>\n",
              "    <div class=\"colab-df-buttons\">\n",
              "\n",
              "  <div class=\"colab-df-container\">\n",
              "    <button class=\"colab-df-convert\" onclick=\"convertToInteractive('df-8aff68b2-5edc-40e0-ba0e-508b6ebac070')\"\n",
              "            title=\"Convert this dataframe to an interactive table.\"\n",
              "            style=\"display:none;\">\n",
              "\n",
              "  <svg xmlns=\"http://www.w3.org/2000/svg\" height=\"24px\" viewBox=\"0 -960 960 960\">\n",
              "    <path d=\"M120-120v-720h720v720H120Zm60-500h600v-160H180v160Zm220 220h160v-160H400v160Zm0 220h160v-160H400v160ZM180-400h160v-160H180v160Zm440 0h160v-160H620v160ZM180-180h160v-160H180v160Zm440 0h160v-160H620v160Z\"/>\n",
              "  </svg>\n",
              "    </button>\n",
              "\n",
              "  <style>\n",
              "    .colab-df-container {\n",
              "      display:flex;\n",
              "      gap: 12px;\n",
              "    }\n",
              "\n",
              "    .colab-df-convert {\n",
              "      background-color: #E8F0FE;\n",
              "      border: none;\n",
              "      border-radius: 50%;\n",
              "      cursor: pointer;\n",
              "      display: none;\n",
              "      fill: #1967D2;\n",
              "      height: 32px;\n",
              "      padding: 0 0 0 0;\n",
              "      width: 32px;\n",
              "    }\n",
              "\n",
              "    .colab-df-convert:hover {\n",
              "      background-color: #E2EBFA;\n",
              "      box-shadow: 0px 1px 2px rgba(60, 64, 67, 0.3), 0px 1px 3px 1px rgba(60, 64, 67, 0.15);\n",
              "      fill: #174EA6;\n",
              "    }\n",
              "\n",
              "    .colab-df-buttons div {\n",
              "      margin-bottom: 4px;\n",
              "    }\n",
              "\n",
              "    [theme=dark] .colab-df-convert {\n",
              "      background-color: #3B4455;\n",
              "      fill: #D2E3FC;\n",
              "    }\n",
              "\n",
              "    [theme=dark] .colab-df-convert:hover {\n",
              "      background-color: #434B5C;\n",
              "      box-shadow: 0px 1px 3px 1px rgba(0, 0, 0, 0.15);\n",
              "      filter: drop-shadow(0px 1px 2px rgba(0, 0, 0, 0.3));\n",
              "      fill: #FFFFFF;\n",
              "    }\n",
              "  </style>\n",
              "\n",
              "    <script>\n",
              "      const buttonEl =\n",
              "        document.querySelector('#df-8aff68b2-5edc-40e0-ba0e-508b6ebac070 button.colab-df-convert');\n",
              "      buttonEl.style.display =\n",
              "        google.colab.kernel.accessAllowed ? 'block' : 'none';\n",
              "\n",
              "      async function convertToInteractive(key) {\n",
              "        const element = document.querySelector('#df-8aff68b2-5edc-40e0-ba0e-508b6ebac070');\n",
              "        const dataTable =\n",
              "          await google.colab.kernel.invokeFunction('convertToInteractive',\n",
              "                                                    [key], {});\n",
              "        if (!dataTable) return;\n",
              "\n",
              "        const docLinkHtml = 'Like what you see? Visit the ' +\n",
              "          '<a target=\"_blank\" href=https://colab.research.google.com/notebooks/data_table.ipynb>data table notebook</a>'\n",
              "          + ' to learn more about interactive tables.';\n",
              "        element.innerHTML = '';\n",
              "        dataTable['output_type'] = 'display_data';\n",
              "        await google.colab.output.renderOutput(dataTable, element);\n",
              "        const docLink = document.createElement('div');\n",
              "        docLink.innerHTML = docLinkHtml;\n",
              "        element.appendChild(docLink);\n",
              "      }\n",
              "    </script>\n",
              "  </div>\n",
              "\n",
              "\n",
              "<div id=\"df-4dbaf696-a216-42d9-9976-24b6d1db17c6\">\n",
              "  <button class=\"colab-df-quickchart\" onclick=\"quickchart('df-4dbaf696-a216-42d9-9976-24b6d1db17c6')\"\n",
              "            title=\"Suggest charts.\"\n",
              "            style=\"display:none;\">\n",
              "\n",
              "<svg xmlns=\"http://www.w3.org/2000/svg\" height=\"24px\"viewBox=\"0 0 24 24\"\n",
              "     width=\"24px\">\n",
              "    <g>\n",
              "        <path d=\"M19 3H5c-1.1 0-2 .9-2 2v14c0 1.1.9 2 2 2h14c1.1 0 2-.9 2-2V5c0-1.1-.9-2-2-2zM9 17H7v-7h2v7zm4 0h-2V7h2v10zm4 0h-2v-4h2v4z\"/>\n",
              "    </g>\n",
              "</svg>\n",
              "  </button>\n",
              "\n",
              "<style>\n",
              "  .colab-df-quickchart {\n",
              "      --bg-color: #E8F0FE;\n",
              "      --fill-color: #1967D2;\n",
              "      --hover-bg-color: #E2EBFA;\n",
              "      --hover-fill-color: #174EA6;\n",
              "      --disabled-fill-color: #AAA;\n",
              "      --disabled-bg-color: #DDD;\n",
              "  }\n",
              "\n",
              "  [theme=dark] .colab-df-quickchart {\n",
              "      --bg-color: #3B4455;\n",
              "      --fill-color: #D2E3FC;\n",
              "      --hover-bg-color: #434B5C;\n",
              "      --hover-fill-color: #FFFFFF;\n",
              "      --disabled-bg-color: #3B4455;\n",
              "      --disabled-fill-color: #666;\n",
              "  }\n",
              "\n",
              "  .colab-df-quickchart {\n",
              "    background-color: var(--bg-color);\n",
              "    border: none;\n",
              "    border-radius: 50%;\n",
              "    cursor: pointer;\n",
              "    display: none;\n",
              "    fill: var(--fill-color);\n",
              "    height: 32px;\n",
              "    padding: 0;\n",
              "    width: 32px;\n",
              "  }\n",
              "\n",
              "  .colab-df-quickchart:hover {\n",
              "    background-color: var(--hover-bg-color);\n",
              "    box-shadow: 0 1px 2px rgba(60, 64, 67, 0.3), 0 1px 3px 1px rgba(60, 64, 67, 0.15);\n",
              "    fill: var(--button-hover-fill-color);\n",
              "  }\n",
              "\n",
              "  .colab-df-quickchart-complete:disabled,\n",
              "  .colab-df-quickchart-complete:disabled:hover {\n",
              "    background-color: var(--disabled-bg-color);\n",
              "    fill: var(--disabled-fill-color);\n",
              "    box-shadow: none;\n",
              "  }\n",
              "\n",
              "  .colab-df-spinner {\n",
              "    border: 2px solid var(--fill-color);\n",
              "    border-color: transparent;\n",
              "    border-bottom-color: var(--fill-color);\n",
              "    animation:\n",
              "      spin 1s steps(1) infinite;\n",
              "  }\n",
              "\n",
              "  @keyframes spin {\n",
              "    0% {\n",
              "      border-color: transparent;\n",
              "      border-bottom-color: var(--fill-color);\n",
              "      border-left-color: var(--fill-color);\n",
              "    }\n",
              "    20% {\n",
              "      border-color: transparent;\n",
              "      border-left-color: var(--fill-color);\n",
              "      border-top-color: var(--fill-color);\n",
              "    }\n",
              "    30% {\n",
              "      border-color: transparent;\n",
              "      border-left-color: var(--fill-color);\n",
              "      border-top-color: var(--fill-color);\n",
              "      border-right-color: var(--fill-color);\n",
              "    }\n",
              "    40% {\n",
              "      border-color: transparent;\n",
              "      border-right-color: var(--fill-color);\n",
              "      border-top-color: var(--fill-color);\n",
              "    }\n",
              "    60% {\n",
              "      border-color: transparent;\n",
              "      border-right-color: var(--fill-color);\n",
              "    }\n",
              "    80% {\n",
              "      border-color: transparent;\n",
              "      border-right-color: var(--fill-color);\n",
              "      border-bottom-color: var(--fill-color);\n",
              "    }\n",
              "    90% {\n",
              "      border-color: transparent;\n",
              "      border-bottom-color: var(--fill-color);\n",
              "    }\n",
              "  }\n",
              "</style>\n",
              "\n",
              "  <script>\n",
              "    async function quickchart(key) {\n",
              "      const quickchartButtonEl =\n",
              "        document.querySelector('#' + key + ' button');\n",
              "      quickchartButtonEl.disabled = true;  // To prevent multiple clicks.\n",
              "      quickchartButtonEl.classList.add('colab-df-spinner');\n",
              "      try {\n",
              "        const charts = await google.colab.kernel.invokeFunction(\n",
              "            'suggestCharts', [key], {});\n",
              "      } catch (error) {\n",
              "        console.error('Error during call to suggestCharts:', error);\n",
              "      }\n",
              "      quickchartButtonEl.classList.remove('colab-df-spinner');\n",
              "      quickchartButtonEl.classList.add('colab-df-quickchart-complete');\n",
              "    }\n",
              "    (() => {\n",
              "      let quickchartButtonEl =\n",
              "        document.querySelector('#df-4dbaf696-a216-42d9-9976-24b6d1db17c6 button');\n",
              "      quickchartButtonEl.style.display =\n",
              "        google.colab.kernel.accessAllowed ? 'block' : 'none';\n",
              "    })();\n",
              "  </script>\n",
              "</div>\n",
              "    </div>\n",
              "  </div>\n"
            ]
          },
          "metadata": {},
          "execution_count": 18
        }
      ]
    },
    {
      "cell_type": "code",
      "source": [
        "data_test.describe()  # Statistics Analysis"
      ],
      "metadata": {
        "id": "mOWEqs4mXcnC",
        "colab": {
          "base_uri": "https://localhost:8080/",
          "height": 300
        },
        "outputId": "36a77956-d40f-403a-d135-dd1594ff6691"
      },
      "execution_count": null,
      "outputs": [
        {
          "output_type": "execute_result",
          "data": {
            "text/plain": [
              "           Pclass         Sex         Age        Fare    Embarked\n",
              "count  331.000000  331.000000  331.000000  331.000000  331.000000\n",
              "mean     2.141994    0.383686   30.181269   40.982087    0.380665\n",
              "std      0.846251    0.487019   14.104573   61.228558    0.608117\n",
              "min      1.000000    0.000000    0.170000    0.000000    0.000000\n",
              "25%      1.000000    0.000000   21.000000    8.050000    0.000000\n",
              "50%      2.000000    0.000000   27.000000   16.000000    0.000000\n",
              "75%      3.000000    1.000000   39.000000   40.633350    1.000000\n",
              "max      3.000000    1.000000   76.000000  512.329200    2.000000"
            ],
            "text/html": [
              "\n",
              "  <div id=\"df-3b016c87-55a0-4922-ab65-ec67f4e09e08\" class=\"colab-df-container\">\n",
              "    <div>\n",
              "<style scoped>\n",
              "    .dataframe tbody tr th:only-of-type {\n",
              "        vertical-align: middle;\n",
              "    }\n",
              "\n",
              "    .dataframe tbody tr th {\n",
              "        vertical-align: top;\n",
              "    }\n",
              "\n",
              "    .dataframe thead th {\n",
              "        text-align: right;\n",
              "    }\n",
              "</style>\n",
              "<table border=\"1\" class=\"dataframe\">\n",
              "  <thead>\n",
              "    <tr style=\"text-align: right;\">\n",
              "      <th></th>\n",
              "      <th>Pclass</th>\n",
              "      <th>Sex</th>\n",
              "      <th>Age</th>\n",
              "      <th>Fare</th>\n",
              "      <th>Embarked</th>\n",
              "    </tr>\n",
              "  </thead>\n",
              "  <tbody>\n",
              "    <tr>\n",
              "      <th>count</th>\n",
              "      <td>331.000000</td>\n",
              "      <td>331.000000</td>\n",
              "      <td>331.000000</td>\n",
              "      <td>331.000000</td>\n",
              "      <td>331.000000</td>\n",
              "    </tr>\n",
              "    <tr>\n",
              "      <th>mean</th>\n",
              "      <td>2.141994</td>\n",
              "      <td>0.383686</td>\n",
              "      <td>30.181269</td>\n",
              "      <td>40.982087</td>\n",
              "      <td>0.380665</td>\n",
              "    </tr>\n",
              "    <tr>\n",
              "      <th>std</th>\n",
              "      <td>0.846251</td>\n",
              "      <td>0.487019</td>\n",
              "      <td>14.104573</td>\n",
              "      <td>61.228558</td>\n",
              "      <td>0.608117</td>\n",
              "    </tr>\n",
              "    <tr>\n",
              "      <th>min</th>\n",
              "      <td>1.000000</td>\n",
              "      <td>0.000000</td>\n",
              "      <td>0.170000</td>\n",
              "      <td>0.000000</td>\n",
              "      <td>0.000000</td>\n",
              "    </tr>\n",
              "    <tr>\n",
              "      <th>25%</th>\n",
              "      <td>1.000000</td>\n",
              "      <td>0.000000</td>\n",
              "      <td>21.000000</td>\n",
              "      <td>8.050000</td>\n",
              "      <td>0.000000</td>\n",
              "    </tr>\n",
              "    <tr>\n",
              "      <th>50%</th>\n",
              "      <td>2.000000</td>\n",
              "      <td>0.000000</td>\n",
              "      <td>27.000000</td>\n",
              "      <td>16.000000</td>\n",
              "      <td>0.000000</td>\n",
              "    </tr>\n",
              "    <tr>\n",
              "      <th>75%</th>\n",
              "      <td>3.000000</td>\n",
              "      <td>1.000000</td>\n",
              "      <td>39.000000</td>\n",
              "      <td>40.633350</td>\n",
              "      <td>1.000000</td>\n",
              "    </tr>\n",
              "    <tr>\n",
              "      <th>max</th>\n",
              "      <td>3.000000</td>\n",
              "      <td>1.000000</td>\n",
              "      <td>76.000000</td>\n",
              "      <td>512.329200</td>\n",
              "      <td>2.000000</td>\n",
              "    </tr>\n",
              "  </tbody>\n",
              "</table>\n",
              "</div>\n",
              "    <div class=\"colab-df-buttons\">\n",
              "\n",
              "  <div class=\"colab-df-container\">\n",
              "    <button class=\"colab-df-convert\" onclick=\"convertToInteractive('df-3b016c87-55a0-4922-ab65-ec67f4e09e08')\"\n",
              "            title=\"Convert this dataframe to an interactive table.\"\n",
              "            style=\"display:none;\">\n",
              "\n",
              "  <svg xmlns=\"http://www.w3.org/2000/svg\" height=\"24px\" viewBox=\"0 -960 960 960\">\n",
              "    <path d=\"M120-120v-720h720v720H120Zm60-500h600v-160H180v160Zm220 220h160v-160H400v160Zm0 220h160v-160H400v160ZM180-400h160v-160H180v160Zm440 0h160v-160H620v160ZM180-180h160v-160H180v160Zm440 0h160v-160H620v160Z\"/>\n",
              "  </svg>\n",
              "    </button>\n",
              "\n",
              "  <style>\n",
              "    .colab-df-container {\n",
              "      display:flex;\n",
              "      gap: 12px;\n",
              "    }\n",
              "\n",
              "    .colab-df-convert {\n",
              "      background-color: #E8F0FE;\n",
              "      border: none;\n",
              "      border-radius: 50%;\n",
              "      cursor: pointer;\n",
              "      display: none;\n",
              "      fill: #1967D2;\n",
              "      height: 32px;\n",
              "      padding: 0 0 0 0;\n",
              "      width: 32px;\n",
              "    }\n",
              "\n",
              "    .colab-df-convert:hover {\n",
              "      background-color: #E2EBFA;\n",
              "      box-shadow: 0px 1px 2px rgba(60, 64, 67, 0.3), 0px 1px 3px 1px rgba(60, 64, 67, 0.15);\n",
              "      fill: #174EA6;\n",
              "    }\n",
              "\n",
              "    .colab-df-buttons div {\n",
              "      margin-bottom: 4px;\n",
              "    }\n",
              "\n",
              "    [theme=dark] .colab-df-convert {\n",
              "      background-color: #3B4455;\n",
              "      fill: #D2E3FC;\n",
              "    }\n",
              "\n",
              "    [theme=dark] .colab-df-convert:hover {\n",
              "      background-color: #434B5C;\n",
              "      box-shadow: 0px 1px 3px 1px rgba(0, 0, 0, 0.15);\n",
              "      filter: drop-shadow(0px 1px 2px rgba(0, 0, 0, 0.3));\n",
              "      fill: #FFFFFF;\n",
              "    }\n",
              "  </style>\n",
              "\n",
              "    <script>\n",
              "      const buttonEl =\n",
              "        document.querySelector('#df-3b016c87-55a0-4922-ab65-ec67f4e09e08 button.colab-df-convert');\n",
              "      buttonEl.style.display =\n",
              "        google.colab.kernel.accessAllowed ? 'block' : 'none';\n",
              "\n",
              "      async function convertToInteractive(key) {\n",
              "        const element = document.querySelector('#df-3b016c87-55a0-4922-ab65-ec67f4e09e08');\n",
              "        const dataTable =\n",
              "          await google.colab.kernel.invokeFunction('convertToInteractive',\n",
              "                                                    [key], {});\n",
              "        if (!dataTable) return;\n",
              "\n",
              "        const docLinkHtml = 'Like what you see? Visit the ' +\n",
              "          '<a target=\"_blank\" href=https://colab.research.google.com/notebooks/data_table.ipynb>data table notebook</a>'\n",
              "          + ' to learn more about interactive tables.';\n",
              "        element.innerHTML = '';\n",
              "        dataTable['output_type'] = 'display_data';\n",
              "        await google.colab.output.renderOutput(dataTable, element);\n",
              "        const docLink = document.createElement('div');\n",
              "        docLink.innerHTML = docLinkHtml;\n",
              "        element.appendChild(docLink);\n",
              "      }\n",
              "    </script>\n",
              "  </div>\n",
              "\n",
              "\n",
              "<div id=\"df-c4d01b41-6bc9-4cd8-923e-6bf03956f4ef\">\n",
              "  <button class=\"colab-df-quickchart\" onclick=\"quickchart('df-c4d01b41-6bc9-4cd8-923e-6bf03956f4ef')\"\n",
              "            title=\"Suggest charts.\"\n",
              "            style=\"display:none;\">\n",
              "\n",
              "<svg xmlns=\"http://www.w3.org/2000/svg\" height=\"24px\"viewBox=\"0 0 24 24\"\n",
              "     width=\"24px\">\n",
              "    <g>\n",
              "        <path d=\"M19 3H5c-1.1 0-2 .9-2 2v14c0 1.1.9 2 2 2h14c1.1 0 2-.9 2-2V5c0-1.1-.9-2-2-2zM9 17H7v-7h2v7zm4 0h-2V7h2v10zm4 0h-2v-4h2v4z\"/>\n",
              "    </g>\n",
              "</svg>\n",
              "  </button>\n",
              "\n",
              "<style>\n",
              "  .colab-df-quickchart {\n",
              "      --bg-color: #E8F0FE;\n",
              "      --fill-color: #1967D2;\n",
              "      --hover-bg-color: #E2EBFA;\n",
              "      --hover-fill-color: #174EA6;\n",
              "      --disabled-fill-color: #AAA;\n",
              "      --disabled-bg-color: #DDD;\n",
              "  }\n",
              "\n",
              "  [theme=dark] .colab-df-quickchart {\n",
              "      --bg-color: #3B4455;\n",
              "      --fill-color: #D2E3FC;\n",
              "      --hover-bg-color: #434B5C;\n",
              "      --hover-fill-color: #FFFFFF;\n",
              "      --disabled-bg-color: #3B4455;\n",
              "      --disabled-fill-color: #666;\n",
              "  }\n",
              "\n",
              "  .colab-df-quickchart {\n",
              "    background-color: var(--bg-color);\n",
              "    border: none;\n",
              "    border-radius: 50%;\n",
              "    cursor: pointer;\n",
              "    display: none;\n",
              "    fill: var(--fill-color);\n",
              "    height: 32px;\n",
              "    padding: 0;\n",
              "    width: 32px;\n",
              "  }\n",
              "\n",
              "  .colab-df-quickchart:hover {\n",
              "    background-color: var(--hover-bg-color);\n",
              "    box-shadow: 0 1px 2px rgba(60, 64, 67, 0.3), 0 1px 3px 1px rgba(60, 64, 67, 0.15);\n",
              "    fill: var(--button-hover-fill-color);\n",
              "  }\n",
              "\n",
              "  .colab-df-quickchart-complete:disabled,\n",
              "  .colab-df-quickchart-complete:disabled:hover {\n",
              "    background-color: var(--disabled-bg-color);\n",
              "    fill: var(--disabled-fill-color);\n",
              "    box-shadow: none;\n",
              "  }\n",
              "\n",
              "  .colab-df-spinner {\n",
              "    border: 2px solid var(--fill-color);\n",
              "    border-color: transparent;\n",
              "    border-bottom-color: var(--fill-color);\n",
              "    animation:\n",
              "      spin 1s steps(1) infinite;\n",
              "  }\n",
              "\n",
              "  @keyframes spin {\n",
              "    0% {\n",
              "      border-color: transparent;\n",
              "      border-bottom-color: var(--fill-color);\n",
              "      border-left-color: var(--fill-color);\n",
              "    }\n",
              "    20% {\n",
              "      border-color: transparent;\n",
              "      border-left-color: var(--fill-color);\n",
              "      border-top-color: var(--fill-color);\n",
              "    }\n",
              "    30% {\n",
              "      border-color: transparent;\n",
              "      border-left-color: var(--fill-color);\n",
              "      border-top-color: var(--fill-color);\n",
              "      border-right-color: var(--fill-color);\n",
              "    }\n",
              "    40% {\n",
              "      border-color: transparent;\n",
              "      border-right-color: var(--fill-color);\n",
              "      border-top-color: var(--fill-color);\n",
              "    }\n",
              "    60% {\n",
              "      border-color: transparent;\n",
              "      border-right-color: var(--fill-color);\n",
              "    }\n",
              "    80% {\n",
              "      border-color: transparent;\n",
              "      border-right-color: var(--fill-color);\n",
              "      border-bottom-color: var(--fill-color);\n",
              "    }\n",
              "    90% {\n",
              "      border-color: transparent;\n",
              "      border-bottom-color: var(--fill-color);\n",
              "    }\n",
              "  }\n",
              "</style>\n",
              "\n",
              "  <script>\n",
              "    async function quickchart(key) {\n",
              "      const quickchartButtonEl =\n",
              "        document.querySelector('#' + key + ' button');\n",
              "      quickchartButtonEl.disabled = true;  // To prevent multiple clicks.\n",
              "      quickchartButtonEl.classList.add('colab-df-spinner');\n",
              "      try {\n",
              "        const charts = await google.colab.kernel.invokeFunction(\n",
              "            'suggestCharts', [key], {});\n",
              "      } catch (error) {\n",
              "        console.error('Error during call to suggestCharts:', error);\n",
              "      }\n",
              "      quickchartButtonEl.classList.remove('colab-df-spinner');\n",
              "      quickchartButtonEl.classList.add('colab-df-quickchart-complete');\n",
              "    }\n",
              "    (() => {\n",
              "      let quickchartButtonEl =\n",
              "        document.querySelector('#df-c4d01b41-6bc9-4cd8-923e-6bf03956f4ef button');\n",
              "      quickchartButtonEl.style.display =\n",
              "        google.colab.kernel.accessAllowed ? 'block' : 'none';\n",
              "    })();\n",
              "  </script>\n",
              "</div>\n",
              "    </div>\n",
              "  </div>\n"
            ]
          },
          "metadata": {},
          "execution_count": 19
        }
      ]
    },
    {
      "cell_type": "markdown",
      "metadata": {
        "id": "iPtKuO7Rbd2_"
      },
      "source": [
        "## Panorama de los datos\n",
        "\n",
        "A partir de aquí partimos de la limpieza de datos para empezar a trabajar con ellos y encontrar estadísticas que nos permitan hacer un análisis de los mismos:\n",
        "\n",
        "Primero se realizó un conteo y porcentajes de las categorías de sexo, embarcación, hombres sobrevimientes, hombres fallecidos, mujeres sobrevivientes, mujeres fallecidas. Así como un análisis de cuartiles y quintiles de las frecuencias de las edades de los pasajeros, señalando que las edades entre 20 y 40 eran las más frecuentes. Por último se hizo un análisis de correlación para identificar qué variables están más relacionadas con otras y con sobrevivir. Encontramos que las variables más correlacionadas con la sobrevivencia es el sexo y el pasaje que se pagó."
      ]
    },
    {
      "cell_type": "markdown",
      "source": [
        "### Cantidad de hombres y mujeres así como su embarque"
      ],
      "metadata": {
        "id": "_IaKPP54SzGh"
      }
    },
    {
      "cell_type": "code",
      "execution_count": null,
      "metadata": {
        "id": "-WBOrdI1lAYk",
        "colab": {
          "base_uri": "https://localhost:8080/"
        },
        "outputId": "6ac5f0f8-0e8b-4dd6-aed4-615ea3be27c6"
      },
      "outputs": [
        {
          "output_type": "display_data",
          "data": {
            "text/plain": [
              "<Figure size 1000x400 with 2 Axes>"
            ],
            "image/png": "[encoded data removed]"
          },
          "metadata": {}
        }
      ],
      "source": [
        "# Sexo de los pasajeros\n",
        "h = 0 # Hombres\n",
        "m = 0 # Mujeres\n",
        "\n",
        "# Embarque\n",
        "s = 0 # Southampton\n",
        "c = 0 # Cherbourg\n",
        "q = 0 # Queenstown\n",
        "\n",
        "categorias1 = ['Males', 'Females']\n",
        "colores1 = ['red','blue']\n",
        "categorias2 = ['S','C','Q']\n",
        "colores2 = ['orange','blue','red']\n",
        "for i,j in zip(data_titanic['Sex'],data_titanic['Embarked']):\n",
        "  if i:\n",
        "    m += 1\n",
        "  else:\n",
        "    h += 1\n",
        "  if j == 0:\n",
        "    s += 1\n",
        "  elif j == 1:\n",
        "    c += 1\n",
        "  else:\n",
        "    q = q + 1\n",
        "\n",
        "# Crear subplots\n",
        "fig, axes = plt.subplots(1, 2, figsize=(10, 4))\n",
        "\n",
        "# Plot de pastel - Sexo de los pasajeros\n",
        "sexo = [h,m]\n",
        "axes[0].pie(sexo, labels=categorias1, colors=colores1, autopct='%.1f%%')\n",
        "axes[0].set_title('Gender in Titanic')\n",
        "\n",
        "# Segundo gráfico de barras - Embarque\n",
        "emb = [s,c,q]\n",
        "axes[1].bar(categorias2, emb, color=colores2)\n",
        "axes[1].set_xlabel('Embarked')\n",
        "axes[1].set_ylabel('Number of people')\n",
        "axes[1].set_title('Embarked in Titanic')\n",
        "axes[1].grid()\n",
        "# Ajustar el espaciado entre los subplots\n",
        "plt.tight_layout()\n",
        "# Mostrar los gráficos\n",
        "plt.show()"
      ]
    },
    {
      "cell_type": "markdown",
      "source": [
        "### Quienes sobrevivieron y quienes no en función del sexo"
      ],
      "metadata": {
        "id": "bgxcU4GqTkMm"
      }
    },
    {
      "cell_type": "code",
      "execution_count": null,
      "metadata": {
        "id": "HWwtK1BUlzOh",
        "colab": {
          "base_uri": "https://localhost:8080/"
        },
        "outputId": "3d2ae157-606f-4cef-b5bd-d5bffc318600"
      },
      "outputs": [
        {
          "output_type": "display_data",
          "data": {
            "text/plain": [
              "<Figure size 1000x400 with 1 Axes>"
            ],
            "image/png": "[encoded data removed]"
          },
          "metadata": {}
        }
      ],
      "source": [
        "category = ['Men Survived', 'Men Deceased', 'Women Survived', 'Women Deceased']\n",
        "hv = 0\n",
        "hm = 0\n",
        "mv = 0\n",
        "mm = 0\n",
        "colors = ['red','blue','orange','green']\n",
        "for i,j in zip(data_titanic['Sex'],data_titanic['Survived']):\n",
        "  if i == 0 and j == 1:\n",
        "    hv = hv + 1\n",
        "  elif  i == 0 and j == 0:\n",
        "    hm =hm + 1\n",
        "  elif  i == 1 and j == 1:\n",
        "    mv =mv + 1\n",
        "  elif  i == 1 and j == 0:\n",
        "    mm = mm+1\n",
        "data = [hv,hm,mv,mm]\n",
        "# Crear la figura con subplots\n",
        "fig, axes = plt.subplots(1, 1, figsize=(10, 4))\n",
        "# Primer gráfico de barras\n",
        "axes.bar(category, data, color=colors)\n",
        "axes.set_xlabel('Sex')\n",
        "axes.set_ylabel('Number of survivors')\n",
        "axes.set_title('Gender of survivors')\n",
        "axes.grid()"
      ]
    },
    {
      "cell_type": "markdown",
      "source": [
        "### Análisis de las edades de los pasajeros.\n",
        "\n",
        "**Sin los datos de los pasajeros que tienen edades Nulas**"
      ],
      "metadata": {
        "id": "3OzlyHTbZC7Z"
      }
    },
    {
      "cell_type": "code",
      "execution_count": null,
      "metadata": {
        "id": "nNaJ1JZ51C9j",
        "colab": {
          "base_uri": "https://localhost:8080/"
        },
        "outputId": "e54f02a9-fade-4179-de90-29bbd8455ac6"
      },
      "outputs": [
        {
          "output_type": "stream",
          "name": "stdout",
          "text": [
            "803    0.42\n",
            "755    0.67\n",
            "644    0.75\n",
            "469    0.75\n",
            "78     0.83\n",
            "       ... \n",
            "859     NaN\n",
            "863     NaN\n",
            "868     NaN\n",
            "878     NaN\n",
            "888     NaN\n",
            "Name: Age, Length: 891, dtype: float64\n",
            "[ 0.42  20.125 28.    38.    80.   ]\n"
          ]
        },
        {
          "output_type": "display_data",
          "data": {
            "text/plain": [
              "<Figure size 750x500 with 1 Axes>"
            ],
            "image/png": "[encoded data removed]"
          },
          "metadata": {}
        },
        {
          "output_type": "stream",
          "name": "stdout",
          "text": [
            "\n",
            "\n",
            "\n",
            "\n",
            "\n",
            "[ 0.42 19.   25.   31.8  41.   80.  ]\n"
          ]
        },
        {
          "output_type": "display_data",
          "data": {
            "text/plain": [
              "<Figure size 750x500 with 1 Axes>"
            ],
            "image/png": "[encoded data removed]"
          },
          "metadata": {}
        },
        {
          "output_type": "stream",
          "name": "stdout",
          "text": [
            "\n",
            "\n",
            "\n",
            "\n",
            "\n"
          ]
        }
      ],
      "source": [
        "# Se crea una tabla de las edades ordenadas\n",
        "data = data_titanic['Age'].sort_values()\n",
        "print(data)\n",
        "\n",
        "# Se quitan los datos nulos - Se borran 177 datos\n",
        "data_cleaned = data.dropna()\n",
        "\n",
        "x = np.quantile(data_cleaned, [0, 1/3, 2/3, 1])\n",
        "\n",
        "cuantiles = [(4, \"Cuartiles\"),(5, \"Quintiles\")]\n",
        "\n",
        "cortes = []\n",
        "for cuantil in cuantiles:\n",
        "    corte = []\n",
        "    valor = 0\n",
        "    for i in range(cuantil[0]-1):\n",
        "        valor += 1/cuantil[0]\n",
        "        corte.append(valor)\n",
        "    cortes.append(corte)\n",
        "for i in range(len(cuantiles)):\n",
        "    plt.figure(figsize=(7.5, 5))\n",
        "    plt.title(cuantiles[i][1], size=10)\n",
        "    plt.ylabel(\"Frecuencia\", size=16)\n",
        "    plt.xlabel(\"Edades\", size=16)\n",
        "    sns.histplot(data_titanic['Age'], bins=20, kde=False, color = \"red\")\n",
        "    plt.grid()\n",
        "    print(np.quantile(data_cleaned, [0] + cortes[i] + [1]))\n",
        "    for corte in cortes[i]:\n",
        "        plt.axvline(x = np.quantile(data_cleaned, corte), label=\"%.2f\" % corte, linewidth=3)\n",
        "    plt.legend()\n",
        "    plt.show()\n",
        "    print(\"\\n\"*4)"
      ]
    },
    {
      "cell_type": "markdown",
      "source": [
        "\n",
        "**Con los datos de los pasajeros que tienen edades Nulas**\n",
        "\n",
        "\n",
        "Se utiliza el modelo de Vecinos para rellenar las edades Nulas"
      ],
      "metadata": {
        "id": "fL8Lq9Q2Zzym"
      }
    },
    {
      "cell_type": "code",
      "source": [
        "# Crear un imputador KNN con el número deseado de vecinos (K)\n",
        "imputer = KNNImputer(n_neighbors=2)\n",
        "\n",
        "# Realizar la imputación en el DataFrame\n",
        "imputed_data = imputer.fit_transform(data_titanic)\n",
        "\n",
        "# Convertir los datos imputados de nuevo en un DataFrame\n",
        "imputed_df = pd.DataFrame(imputed_data, columns=data_titanic.columns)"
      ],
      "metadata": {
        "id": "hjX4pqfwZzXC"
      },
      "execution_count": null,
      "outputs": []
    },
    {
      "cell_type": "code",
      "source": [
        "print(\"DataFrame original:\")\n",
        "print(data_titanic)\n",
        "print(\"\\nDataFrame después de la imputación KNN:\")\n",
        "print(imputed_df)"
      ],
      "metadata": {
        "id": "v1my6BmWag1C",
        "colab": {
          "base_uri": "https://localhost:8080/"
        },
        "outputId": "a85c1ff5-46a6-407f-b474-3140c9d7a6b7"
      },
      "execution_count": null,
      "outputs": [
        {
          "output_type": "stream",
          "name": "stdout",
          "text": [
            "DataFrame original:\n",
            "     Survived  Pclass  Sex   Age     Fare  Embarked\n",
            "0           0       3    0  22.0   7.2500       0.0\n",
            "1           1       1    1  38.0  71.2833       1.0\n",
            "2           1       3    1  26.0   7.9250       0.0\n",
            "3           1       1    1  35.0  53.1000       0.0\n",
            "4           0       3    0  35.0   8.0500       0.0\n",
            "..        ...     ...  ...   ...      ...       ...\n",
            "886         0       2    0  27.0  13.0000       0.0\n",
            "887         1       1    1  19.0  30.0000       0.0\n",
            "888         0       3    1   NaN  23.4500       0.0\n",
            "889         1       1    0  26.0  30.0000       1.0\n",
            "890         0       3    0  32.0   7.7500       2.0\n",
            "\n",
            "[891 rows x 6 columns]\n",
            "\n",
            "DataFrame después de la imputación KNN:\n",
            "     Survived  Pclass  Sex   Age     Fare  Embarked\n",
            "0         0.0     3.0  0.0  22.0   7.2500       0.0\n",
            "1         1.0     1.0  1.0  38.0  71.2833       1.0\n",
            "2         1.0     3.0  1.0  26.0   7.9250       0.0\n",
            "3         1.0     1.0  1.0  35.0  53.1000       0.0\n",
            "4         0.0     3.0  0.0  35.0   8.0500       0.0\n",
            "..        ...     ...  ...   ...      ...       ...\n",
            "886       0.0     2.0  0.0  27.0  13.0000       0.0\n",
            "887       1.0     1.0  1.0  19.0  30.0000       0.0\n",
            "888       0.0     3.0  1.0  20.0  23.4500       0.0\n",
            "889       1.0     1.0  0.0  26.0  30.0000       1.0\n",
            "890       0.0     3.0  0.0  32.0   7.7500       2.0\n",
            "\n",
            "[891 rows x 6 columns]\n"
          ]
        }
      ]
    },
    {
      "cell_type": "code",
      "source": [
        "# Se crea una tabla de las edades ordenadas\n",
        "data_imputed = imputed_df['Age'].sort_values()\n",
        "\n",
        "x_data = np.quantile(data_imputed, [0, 1/3, 2/3, 1])\n",
        "\n",
        "cuantiles = [(4, \"Cuartiles\"),(5, \"Quintiles\")]\n",
        "\n",
        "cortes = []\n",
        "for cuantil2 in cuantiles:\n",
        "    corte = []\n",
        "    valor = 0\n",
        "    for i in range(cuantil2[0]-1):\n",
        "        valor += 1/cuantil2[0]\n",
        "        corte.append(valor)\n",
        "    cortes.append(corte)\n",
        "for i2 in range(len(cuantiles)):\n",
        "    plt.figure(figsize=(7.5, 5))\n",
        "    plt.title(cuantiles[i2][1], size=10)\n",
        "    plt.ylabel(\"Frecuencia\", size=16)\n",
        "    plt.xlabel(\"Edades\", size=16)\n",
        "    sns.histplot(data_titanic['Age'], bins=20, kde=False, color = \"red\")\n",
        "    plt.grid()\n",
        "    print(np.quantile(data_imputed, [0] + cortes[i2] + [1]))\n",
        "    for corte2 in cortes[i2]:\n",
        "        plt.axvline(x = np.quantile(data_imputed, corte2), label=\"%.2f\" % corte2, linewidth=3)\n",
        "    plt.legend()\n",
        "    plt.show()\n",
        "    print(\"\\n\"*4)"
      ],
      "metadata": {
        "id": "i5bsjq71augC",
        "colab": {
          "base_uri": "https://localhost:8080/"
        },
        "outputId": "68a8a448-a2c6-43d7-fbb4-5612ae18bbfa"
      },
      "execution_count": null,
      "outputs": [
        {
          "output_type": "stream",
          "name": "stdout",
          "text": [
            "[ 0.42 21.   29.   38.   80.  ]\n"
          ]
        },
        {
          "output_type": "display_data",
          "data": {
            "text/plain": [
              "<Figure size 750x500 with 1 Axes>"
            ],
            "image/png": "[encoded data removed]"
          },
          "metadata": {}
        },
        {
          "output_type": "stream",
          "name": "stdout",
          "text": [
            "\n",
            "\n",
            "\n",
            "\n",
            "\n",
            "[ 0.42 19.   25.75 32.   41.   80.  ]\n"
          ]
        },
        {
          "output_type": "display_data",
          "data": {
            "text/plain": [
              "<Figure size 750x500 with 1 Axes>"
            ],
            "image/png": "[encoded data removed]"
          },
          "metadata": {}
        },
        {
          "output_type": "stream",
          "name": "stdout",
          "text": [
            "\n",
            "\n",
            "\n",
            "\n",
            "\n"
          ]
        }
      ]
    },
    {
      "cell_type": "markdown",
      "source": [],
      "metadata": {
        "id": "UwsOFCZzdWTb"
      }
    },
    {
      "cell_type": "code",
      "execution_count": null,
      "metadata": {
        "id": "QLeICb7hPW3i",
        "colab": {
          "base_uri": "https://localhost:8080/"
        },
        "outputId": "988fcf55-1143-444b-afd9-dac0242e5072"
      },
      "outputs": [
        {
          "output_type": "stream",
          "name": "stderr",
          "text": [
            "<ipython-input-26-83693a18fc29>:12: FutureWarning: \n",
            "\n",
            "`shade` is now deprecated in favor of `fill`; setting `fill=True`.\n",
            "This will become an error in seaborn v0.14.0; please update your code.\n",
            "\n",
            "  sns.kdeplot(data_titanic['Age'], shade=True)\n",
            "<ipython-input-26-83693a18fc29>:23: FutureWarning: \n",
            "\n",
            "`shade` is now deprecated in favor of `fill`; setting `fill=True`.\n",
            "This will become an error in seaborn v0.14.0; please update your code.\n",
            "\n",
            "  sns.kdeplot(imputed_df['Age'], shade=True)\n"
          ]
        },
        {
          "output_type": "display_data",
          "data": {
            "text/plain": [
              "<Figure size 1000x600 with 4 Axes>"
            ],
            "image/png": "[encoded data removed]"
          },
          "metadata": {}
        }
      ],
      "source": [
        "# Crear una figura con dos subplots\n",
        "plt.figure(figsize=(10, 6))\n",
        "\n",
        "# ----- Data frame sin datos nulos -----\n",
        "# Histograma de la distribución de edades\n",
        "plt.subplot(2, 2, 1)  # 1 fila, 2 columnas, primer subplot\n",
        "sns.histplot(data_titanic['Age'], bins=20, kde=False)\n",
        "plt.title('Distribución de Edades con datos nulos eliminados')\n",
        "\n",
        "# Gráfico de densidad de la distribución de edades\n",
        "plt.subplot(2, 2, 2)  # 1 fila, 2 columnas, segundo subplot\n",
        "sns.kdeplot(data_titanic['Age'], shade=True)\n",
        "plt.title('Densidad de Edades con datos nulos eliminados')\n",
        "\n",
        "# ----- Data frame con datos nulos remplazados -----\n",
        "# Histograma de la distribución de edades\n",
        "plt.subplot(2, 2, 3)  # 1 fila, 2 columnas, primer subplot\n",
        "sns.histplot(imputed_df['Age'], bins=20, kde=False)\n",
        "plt.title('Distribución de Edades con datos nulos remplazados')\n",
        "\n",
        "# Gráfico de densidad de la distribución de edades\n",
        "plt.subplot(2, 2, 4)  # 1 fila, 2 columnas, segundo subplot\n",
        "sns.kdeplot(imputed_df['Age'], shade=True)\n",
        "plt.title('Densidad de Edades con datos nulos remplazados')\n",
        "\n",
        "plt.tight_layout()\n",
        "plt.show()"
      ]
    },
    {
      "cell_type": "markdown",
      "metadata": {
        "id": "gGt60V_Fbu2p"
      },
      "source": [
        "### Análisis de correlación para identificar qué variables están más ligadas a sobrevivir\n",
        "\n",
        "La tabla de correlación muestra una relación importante (cercana al 1) entre el sexo y la clase con la sobrevivencia. Por otro lado, en cuanto a la edad, no se ve la relación fuerte esperada al tener una relación del 9% aproximadamente.\n",
        "\n",
        "\n",
        "*   Database eliminando los pasajeros con edades nulas.\n",
        "\n"
      ]
    },
    {
      "cell_type": "code",
      "execution_count": null,
      "metadata": {
        "id": "eVO_XX3_0E80",
        "colab": {
          "base_uri": "https://localhost:8080/",
          "height": 453
        },
        "outputId": "fa1d1343-fa8f-4f3c-b3d9-989b1dd6c70d"
      },
      "outputs": [
        {
          "output_type": "execute_result",
          "data": {
            "text/plain": [
              "<Axes: >"
            ]
          },
          "metadata": {},
          "execution_count": 27
        },
        {
          "output_type": "display_data",
          "data": {
            "text/plain": [
              "<Figure size 640x480 with 2 Axes>"
            ],
            "image/png": "[encoded data removed]"
          },
          "metadata": {}
        }
      ],
      "source": [
        "df = data_titanic\n",
        "df_NonNull = df.dropna()\n",
        "df_NonNull.isnull().sum()\n",
        "corr_nonull = df_NonNull.corr()\n",
        "sb.heatmap(corr_nonull, cmap = 'Blues', annot = True)"
      ]
    },
    {
      "cell_type": "markdown",
      "source": [
        "\n",
        "\n",
        "*   Database con edades supuestas, por lo tanto se conservan los 891 datos\n",
        "\n"
      ],
      "metadata": {
        "id": "GjNL0ajZlJEG"
      }
    },
    {
      "cell_type": "code",
      "source": [
        "corr_imputed = imputed_df.corr()\n",
        "sb.heatmap(corr_imputed, cmap = 'Blues', annot = True)"
      ],
      "metadata": {
        "id": "VyXwN_MOmMuK",
        "colab": {
          "base_uri": "https://localhost:8080/",
          "height": 453
        },
        "outputId": "889f042a-2d60-42fb-c2da-f6a2238f5708"
      },
      "execution_count": null,
      "outputs": [
        {
          "output_type": "execute_result",
          "data": {
            "text/plain": [
              "<Axes: >"
            ]
          },
          "metadata": {},
          "execution_count": 28
        },
        {
          "output_type": "display_data",
          "data": {
            "text/plain": [
              "<Figure size 640x480 with 2 Axes>"
            ],
            "image/png": "[encoded data removed]"
          },
          "metadata": {}
        }
      ]
    },
    {
      "cell_type": "markdown",
      "source": [
        "Se encontrón en la limpieza y análisis que hay una fuerte correlación entre el sexo y la sobrevivencia, además de una correlación entre el pasaje y la sobrevivencia. Esto es de esperarse dado que en emergencias, las personas más cercanas a las salidas son más propensas a sobrevivir, en este caso, la clase que pagó más, estaba en un lugar más cercano a los botes salvavidas, así como también se procuraron mujeres y niños en esta situación.\n",
        "\n",
        "En lo que respecta a la edad, el hecho de no mostrar relación fuerte con la sobrevivencia fue desconcertante, se sospecha que la supresión de los pasajeros con datos nulos pudo provocar resultados alejados de la realidad (falsos). Por ello, se realizará otro análisis en el cual se dejarán los datos de los pasajeros eliminados en esta limpieza, agregando una variable que aproxime las edades de dichos pasajeros y ver la nueva correlación."
      ],
      "metadata": {
        "id": "_FMLTdrnorZY"
      }
    },
    {
      "cell_type": "markdown",
      "metadata": {
        "id": "2D78qya7-eai"
      },
      "source": [
        "# Modelación\n"
      ]
    },
    {
      "cell_type": "markdown",
      "source": [
        "En esta etapa, se presenta el proceso seguido en el proyecto, centrándose en la generación y comparación de modelos de aprendizaje máquina para abordar el reto planteado. En esta fase, se exploran diferentes tipos y configuraciones de modelos con el objetivo de seleccionar los más efectivos, cuyas decisiones se detallarán en la documentación. Para esto se hizo una investigación acerca de los modelos de clasificación, se encontraron varios modelos que cumplen con las características de nuestros datos para predecir de manera binaria un resultado, en nuestro caso la predicción de la muerte de un individuo en el Titanic. Entre estos modelos, se seleccionaron: KNeighborsClassifier, Support Vector Classifier (SVC), LogisticRegression, DecisionTreeClassifier, GaussianNB, RandomForestClassifier, GradientBoostingClassifier, DecisionTreeClassifier, MLPClassifier.\n",
        "\n",
        "Entre estos modelos, se tiene la intención de seleccionar sólo tres modelos, por lo que se realizó un proceso para seleccionar el modelo que será explicado en el documento, así mismo se documentó el proceso para la preparación de datos para cada modelo, así como la separación del dataset para entrenar y predecir. A continuación se describe el proceso de la selección e implementación de los modelos."
      ],
      "metadata": {
        "id": "BYUZxBiWqsLR"
      }
    },
    {
      "cell_type": "markdown",
      "source": [
        "## Librerías de modelos"
      ],
      "metadata": {
        "id": "OThOEXX0nf5A"
      }
    },
    {
      "cell_type": "markdown",
      "source": [
        "La continuación del proyecto viene después de la limpieza de datos que se realizó en el entregable pasado, el siguiente paso fue investigar los modelos de predicción que nos interesan.\n",
        "\n",
        "K-Neighbors Classifier: Utiliza el método de vecinos más cercanos para la clasificación. Las predicciones se basan en las clases de los ejemplos cercanos en el espacio de características. Requiere ajustar el número de vecinos y posiblemente otras métricas de distancia.\n",
        "\n",
        "SVC (Support Vector Classifier): Un clasificador que encuentra un hiperplano de separación óptimo entre clases. Puede usar diferentes funciones de kernel para transformar los datos en un espacio de mayor dimensión. Es útil para problemas de clasificación lineal y no lineal.\n",
        "\n",
        "Logistic Regression: Realiza la clasificación utilizando la función logística para modelar la probabilidad de pertenencia a una clase. Es efectivo para problemas de clasificación binaria y multiclase cuando las clases son linealmente separables.\n",
        "\n",
        "Decision Tree Classifier: Construye un árbol de decisión que divide recursivamente el espacio de características en regiones más puras. Es fácilmente interpretable, pero puede ser propenso al sobreajuste si no se controla adecuadamente.\n",
        "\n",
        "Gaussian NB: Implementa el clasificador Bayesiano Ingenuo Gaussiano, asumiendo que las características son independientes y distribuidas normalmente. A pesar de su simplicidad, puede funcionar sorprendentemente bien en muchos casos.\n",
        "\n",
        "Random Forest Classifier: Crea múltiples árboles de decisión y combina sus predicciones para mejorar la robustez y precisión del modelo. Puede manejar características categóricas y numéricas, y es menos propenso al sobreajuste que un solo árbol.\n",
        "\n",
        "Gradient Boosting Classifier: Construye una secuencia de modelos que corrigen los errores del modelo anterior. Es útil para problemas de clasificación y regresión, y tiende a producir modelos de alta calidad.\n",
        "\n",
        "Decision Tree Classifier: Construye un árbol de decisión que divide recursivamente el espacio de características en regiones más puras. Es fácilmente interpretable, pero puede ser propenso al sobreajuste si no se controla adecuadamente.\n",
        "\n",
        "Multi-layer Perceptron Classifier (MLP): Este clasificador implementa el algoritmo de aprendizaje profundo supervisado MLP que se entrena mediante el método de retropropagación (backpropagation) está compuesto por múltiples capas de neuronas: capas de entrada, capas ocultas y capas de salida, cada una conectada a través de conexiones ponderadas (Neural network models (supervised), s. f.). Se escogió este modelo para realizar la predicción de los decesos en el titanic debido a su popularidad actual en la sociedad, puesto que este modelo es la base de las nuevas tecnologías que estamos usando como la nueva\n",
        "\n",
        "La librería cross_val_score se utiliza  para generalizar los análisis con gráficas y predicciones, así como se importa accuracy_score y metrics para obtener información de nuestros modelos y predicciones"
      ],
      "metadata": {
        "id": "t0xv43lFqf14"
      }
    },
    {
      "cell_type": "code",
      "execution_count": null,
      "metadata": {
        "id": "f4kabbWD-d2Z"
      },
      "outputs": [],
      "source": [
        "#Librería Separar dataset\n",
        "from sklearn.model_selection import train_test_split\n",
        "\n",
        "#Librerías para Modelos de clasificación\n",
        "from sklearn.neighbors import KNeighborsClassifier\n",
        "from sklearn.svm import SVC\n",
        "from sklearn.linear_model import LogisticRegression\n",
        "from sklearn.tree import DecisionTreeClassifier\n",
        "from sklearn.naive_bayes import GaussianNB\n",
        "from sklearn.ensemble import RandomForestClassifier\n",
        "from sklearn.ensemble import GradientBoostingClassifier\n",
        "from sklearn.tree import DecisionTreeClassifier\n",
        "from sklearn.neural_network import MLPClassifier\n",
        "\n",
        "\n",
        "#Se usa en la función que no hemos usado todavía en el proyecto\n",
        "from sklearn.model_selection import cross_val_score\n",
        "#Librerías para realizar un análisis de la implementación del modelo\n",
        "from sklearn.metrics import accuracy_score\n",
        "from sklearn import metrics"
      ]
    },
    {
      "cell_type": "markdown",
      "source": [
        "## Modelando"
      ],
      "metadata": {
        "id": "nsd5Gfcbqx2M"
      }
    },
    {
      "cell_type": "markdown",
      "source": [
        "Después de seleccionar lo mejores modelos para cada modelo se realizaron diferentes pruebas utilizando diferentes hiperparámetros y utilizando dos bases de datos diferentes: una en donde eliminamos los pasajeros que contienen datos nulos y otra en donde a través del algoritmo de K-vecinos predecimos los valores nulos para no eliminar dichos datos. Para cada modelo se hicieron tres pruebas con diferentes híper parámetros para encontrar el mejor rendimiento."
      ],
      "metadata": {
        "id": "Yz1knBLPrZrl"
      }
    },
    {
      "cell_type": "markdown",
      "metadata": {
        "id": "8x2sUcdVcBuh"
      },
      "source": [
        "### Modelos utilizando base de datos sin valores nulos"
      ]
    },
    {
      "cell_type": "code",
      "execution_count": null,
      "metadata": {
        "id": "GFyKWks_ayTt"
      },
      "outputs": [],
      "source": [
        "#Separamos tipos de variables en dependientes e independientes\n",
        "feature_names = ['Age', 'Sex', 'Pclass', 'Embarked', 'Fare']\n",
        "X_NonNull = df_NonNull[feature_names] # variables predictoras\n",
        "y_NonNull = df_NonNull['Survived']    # variable de respuesta\n",
        "#Se divide el dataset en entrenamiento y test, con un ratio de 80-20\n",
        "X_NonNull_train, X_NonNull_test, y_NonNull_train, y_NonNull_test = train_test_split(X_NonNull, y_NonNull, test_size=0.2, random_state=42, stratify=y_NonNull)"
      ]
    },
    {
      "cell_type": "code",
      "execution_count": null,
      "metadata": {
        "id": "Ylhv234w-tb_"
      },
      "outputs": [],
      "source": [
        "#Se implementa una array de tuplas de las funciones a utilizar con sus respectivos modelos\n",
        "models = []\n",
        "models.append(('KNN', KNeighborsClassifier()))\n",
        "models.append(('SVC', SVC()))\n",
        "models.append(('LR', LogisticRegression()))\n",
        "models.append(('DT', DecisionTreeClassifier()))\n",
        "models.append(('GNB', GaussianNB()))\n",
        "models.append(('RF', RandomForestClassifier()))\n",
        "models.append(('GB', GradientBoostingClassifier()))\n",
        "models.append(('MLP', MLPClassifier()))"
      ]
    },
    {
      "cell_type": "code",
      "execution_count": null,
      "metadata": {
        "id": "pQgJvNunNxNb",
        "colab": {
          "base_uri": "https://localhost:8080/"
        },
        "outputId": "f080dc0b-9601-4f25-f2eb-2c3054490dac"
      },
      "outputs": [
        {
          "output_type": "stream",
          "name": "stdout",
          "text": [
            "  Name     Score\n",
            "0  KNN  0.776224\n",
            "1  SVC  0.608392\n",
            "2   LR  0.769231\n",
            "3   DT  0.783217\n",
            "4  GNB  0.755245\n",
            "5   RF  0.783217\n",
            "6   GB  0.818182\n",
            "7  MLP  0.783217\n"
          ]
        },
        {
          "output_type": "stream",
          "name": "stderr",
          "text": [
            "/usr/local/lib/python3.10/dist-packages/sklearn/neural_network/_multilayer_perceptron.py:686: ConvergenceWarning: Stochastic Optimizer: Maximum iterations (200) reached and the optimization hasn't converged yet.\n",
            "  warnings.warn(\n"
          ]
        }
      ],
      "source": [
        "#Aquí se utiliza un ciclo para preparar, , entrenar y predecir cada uno de nuestros modelos que importamos, además se hace un análisis de precisión con la librería accuray_score\n",
        "names = []\n",
        "scores = []\n",
        "for name, model in models:\n",
        "    model.fit(X_NonNull_train, y_NonNull_train)\n",
        "    y_NonNull_pred = model.predict(X_NonNull_test)\n",
        "    scores.append(accuracy_score(y_NonNull_test, y_NonNull_pred))\n",
        "    names.append(name)\n",
        "tr_split = pd.DataFrame({'Name': names, 'Score': scores})\n",
        "print(tr_split)"
      ]
    },
    {
      "cell_type": "markdown",
      "metadata": {
        "id": "2iC3z7Yk9LNh"
      },
      "source": [
        "#### Gradient Boosting"
      ]
    },
    {
      "cell_type": "markdown",
      "source": [
        "Prueba de parámetros 1"
      ],
      "metadata": {
        "id": "dWpKNw0Su4Eb"
      }
    },
    {
      "cell_type": "code",
      "execution_count": null,
      "metadata": {
        "id": "eVXzSgiHJZua"
      },
      "outputs": [],
      "source": [
        "#Se selecciona el modelo que mejores métricas nos dió y se hace un ajuste de hyper-parámetros para mejorar los resultados\n",
        "#Se implementa el modelo completamente\n",
        "#Se llama la función con un learning_rate de 0.01\n",
        "GB = GradientBoostingClassifier(learning_rate=0.01, subsample=0.6)\n",
        "#Se ajustan los datos al modelo\n",
        "GB.fit(X_NonNull_train, y_NonNull_train)\n",
        "\n",
        "#Se predice el modelo\n",
        "y_NonNull_pred = GB.predict(X_NonNull_test)\n",
        "#Matríz de confusión\n",
        "confusion_matrix = metrics.confusion_matrix(y_NonNull_test, y_NonNull_pred)\n",
        "#Se imprimen las variables obtenidas de la matríz\n",
        "accuracy = (confusion_matrix[0,0] + confusion_matrix[1,1]) / (confusion_matrix[0,0]+confusion_matrix[0,1]+confusion_matrix[1,0]+confusion_matrix[1,1])\n",
        "print('Accuracy:',accuracy)\n",
        "precision = confusion_matrix[0,0] /(confusion_matrix[0,0]+confusion_matrix[1,0])\n",
        "print(\"Precision:\",precision)\n",
        "recall = confusion_matrix[0,0] /(confusion_matrix[0,0]+confusion_matrix[0,1])\n",
        "print(\"Recall:\",recall)\n",
        "Fone = (2*precision*recall)/(precision+recall)\n",
        "print('Fone:',Fone)\n",
        "cm_display = metrics.ConfusionMatrixDisplay(confusion_matrix = confusion_matrix, display_labels = [False, True])\n",
        "cm_display.plot()\n",
        "plt.show()\n"
      ]
    },
    {
      "cell_type": "markdown",
      "source": [
        "Prueba de parámetros 2"
      ],
      "metadata": {
        "id": "OZ6wPx30u7KK"
      }
    },
    {
      "cell_type": "code",
      "source": [
        "#cambio de hyper parámtetros #2\n",
        "GB = GradientBoostingClassifier(learning_rate=0.05, subsample=0.5)\n",
        "#Se ajustan los datos al modelo\n",
        "GB.fit(X_NonNull_train, y_NonNull_train)\n",
        "\n",
        "#Se predice el modelo\n",
        "y_NonNull_pred = GB.predict(X_NonNull_test)\n",
        "#Matríz de confusión\n",
        "confusion_matrix = metrics.confusion_matrix(y_NonNull_test, y_NonNull_pred)\n",
        "#Se imprimen las variables obtenidas de la matríz\n",
        "accuracy = (confusion_matrix[0,0] + confusion_matrix[1,1]) / (confusion_matrix[0,0]+confusion_matrix[0,1]+confusion_matrix[1,0]+confusion_matrix[1,1])\n",
        "print('Accuracy:',accuracy)\n",
        "precision = confusion_matrix[0,0] /(confusion_matrix[0,0]+confusion_matrix[1,0])\n",
        "print(\"Precision:\",precision)\n",
        "recall = confusion_matrix[0,0] /(confusion_matrix[0,0]+confusion_matrix[0,1])\n",
        "print(\"Recall:\",recall)\n",
        "Fone = (2*precision*recall)/(precision+recall)\n",
        "print('Fone:',Fone)\n",
        "cm_display = metrics.ConfusionMatrixDisplay(confusion_matrix = confusion_matrix, display_labels = [False, True])\n",
        "cm_display.plot()\n",
        "plt.show()\n"
      ],
      "metadata": {
        "id": "DByIAlHasTlQ",
        "colab": {
          "base_uri": "https://localhost:8080/",
          "height": 526
        },
        "outputId": "6922f157-7762-4fc1-f17d-9825ff242326"
      },
      "execution_count": null,
      "outputs": [
        {
          "output_type": "stream",
          "name": "stdout",
          "text": [
            "Accuracy: 0.7692307692307693\n",
            "Precision: 0.7954545454545454\n",
            "Recall: 0.8235294117647058\n",
            "Fone: 0.8092485549132947\n"
          ]
        },
        {
          "output_type": "display_data",
          "data": {
            "text/plain": [
              "<Figure size 640x480 with 2 Axes>"
            ],
            "image/png": "[encoded data removed]"
          },
          "metadata": {}
        }
      ]
    },
    {
      "cell_type": "markdown",
      "source": [
        "Prueba de paråmetros #3"
      ],
      "metadata": {
        "id": "OpBDg1dQu9yc"
      }
    },
    {
      "cell_type": "code",
      "source": [
        "#cambio de hyper parámtetros #3\n",
        "GB = GradientBoostingClassifier(learning_rate=0.02, subsample=0.9)\n",
        "#Se ajustan los datos al modelo\n",
        "GB.fit(X_NonNull_train, y_NonNull_train)\n",
        "\n",
        "#Se predice el modelo\n",
        "y_NonNull_pred = GB.predict(X_NonNull_test)\n",
        "#Matríz de confusión\n",
        "confusion_matrix = metrics.confusion_matrix(y_NonNull_test, y_NonNull_pred)\n",
        "#Se imprimen las variables obtenidas de la matríz\n",
        "accuracy = (confusion_matrix[0,0] + confusion_matrix[1,1]) / (confusion_matrix[0,0]+confusion_matrix[0,1]+confusion_matrix[1,0]+confusion_matrix[1,1])\n",
        "print('Accuracy:',accuracy)\n",
        "precision = confusion_matrix[0,0] /(confusion_matrix[0,0]+confusion_matrix[1,0])\n",
        "print(\"Precision:\",precision)\n",
        "recall = confusion_matrix[0,0] /(confusion_matrix[0,0]+confusion_matrix[0,1])\n",
        "print(\"Recall:\",recall)\n",
        "Fone = (2*precision*recall)/(precision+recall)\n",
        "print('Fone:',Fone)\n",
        "cm_display = metrics.ConfusionMatrixDisplay(confusion_matrix = confusion_matrix, display_labels = [False, True])\n",
        "cm_display.plot()\n",
        "plt.show()"
      ],
      "metadata": {
        "colab": {
          "base_uri": "https://localhost:8080/",
          "height": 520
        },
        "id": "P_cEVxAsuBpn",
        "outputId": "66e0da19-693d-4821-a76f-da693e9386b0"
      },
      "execution_count": null,
      "outputs": [
        {
          "output_type": "stream",
          "name": "stdout",
          "text": [
            "Accuracy: 0.8111888111888111\n",
            "Precision: 0.7959183673469388\n",
            "Recall: 0.9176470588235294\n",
            "Fone: 0.8524590163934426\n"
          ]
        },
        {
          "output_type": "display_data",
          "data": {
            "text/plain": [
              "<Figure size 640x480 with 2 Axes>"
            ],
            "image/png": "[encoded data removed]"
          },
          "metadata": {}
        }
      ]
    },
    {
      "cell_type": "code",
      "execution_count": null,
      "metadata": {
        "id": "Um4c489n4X5I",
        "colab": {
          "base_uri": "https://localhost:8080/",
          "height": 527
        },
        "outputId": "4e022415-ac63-47fb-8c66-b09bd224e1ac"
      },
      "outputs": [
        {
          "output_type": "execute_result",
          "data": {
            "text/plain": [
              "Text(0, 0.5, 'Feature Importance Score')"
            ]
          },
          "metadata": {},
          "execution_count": 36
        },
        {
          "output_type": "display_data",
          "data": {
            "text/plain": [
              "<Figure size 640x480 with 1 Axes>"
            ],
            "image/png": "[encoded data removed]"
          },
          "metadata": {}
        }
      ],
      "source": [
        "#Se implemnta una gráfica de importancia de cada una de las variables para su predicción, podriámos descartar la variable \"Embarked\" según la gráfica\n",
        "feat_imp = pd.Series(GB.feature_importances_, feature_names).sort_values(ascending=False)\n",
        "feat_imp.plot(kind='bar', title='Feature Importances')\n",
        "plt.ylabel('Feature Importance Score')"
      ]
    },
    {
      "cell_type": "code",
      "execution_count": null,
      "metadata": {
        "id": "vdGCT9Y-4a4H"
      },
      "outputs": [],
      "source": [
        "#En las siguientes líneas se hizo el intento de mejorar los falsos positivos del modelo, pero no tuvimos éxito en mejorar el modelo\n",
        "# print(y_pred)\n",
        "# accuracy_score(y_test, y_pred)\n",
        "# #GB.predict_proba(X_test)\n",
        "# y_pred2 = (GB.predict_proba(X_test)[:,1] >= 0.45).astype(bool)\n",
        "# y_pred2 = y_pred2 * 1\n",
        "# print(y_pred2)\n",
        "# accuracy_score(y_test, y_pred2)"
      ]
    },
    {
      "cell_type": "markdown",
      "source": [
        "#### Xtreme Gradient Boosting"
      ],
      "metadata": {
        "id": "RgmdlXyrLPZu"
      }
    },
    {
      "cell_type": "code",
      "execution_count": null,
      "metadata": {
        "id": "bv5pqPVP9Hew"
      },
      "outputs": [],
      "source": [
        "import xgboost as xgb"
      ]
    },
    {
      "cell_type": "markdown",
      "source": [
        "Prueba de parámetros #1"
      ],
      "metadata": {
        "id": "NRFIsdbSvD0p"
      }
    },
    {
      "cell_type": "code",
      "execution_count": null,
      "metadata": {
        "id": "lGhD6bV29Ulf"
      },
      "outputs": [],
      "source": [
        "#En esta sección se realizó el mismo proceso que en GradientBoosting para ajustar los hyper-parámetros, pero con el modelo Xtreme Gradient Boosting\n",
        "xGB = xgb.XGBClassifier(learning_rate = 0.08, subsample = 0.5, min_child_weight = 1.5, reg_alpha = 2.5)\n",
        "xGB.fit(X_NonNull_train, y_NonNull_train)\n",
        "y_NonNull_pred = xGB.predict(X_NonNull_test)\n",
        "confusion_matrix = metrics.confusion_matrix(y_NonNull_test, y_NonNull_pred)\n",
        "accuracy = (confusion_matrix[0,0] + confusion_matrix[1,1]) / (confusion_matrix[0,0]+confusion_matrix[0,1]+confusion_matrix[1,0]+confusion_matrix[1,1])\n",
        "print('Accuracy:',accuracy)\n",
        "precision = confusion_matrix[0,0] /(confusion_matrix[0,0]+confusion_matrix[1,0])\n",
        "print(\"Precision:\",precision)\n",
        "recall = confusion_matrix[0,0] /(confusion_matrix[0,0]+confusion_matrix[0,1])\n",
        "print(\"Recall:\",recall)\n",
        "Fone = (2*precision*recall)/(precision+recall)\n",
        "print('Fone:',Fone)\n",
        "cm_display = metrics.ConfusionMatrixDisplay(confusion_matrix = confusion_matrix, display_labels = [False, True])\n",
        "cm_display.plot()\n",
        "plt.show()\n",
        "\n",
        "#Se puede apreciar que el modelo subió exactitud, así como presición de los datos"
      ]
    },
    {
      "cell_type": "markdown",
      "metadata": {
        "id": "qIN_yRXR_uXe"
      },
      "source": [
        "prueba de parámetros 2"
      ]
    },
    {
      "cell_type": "code",
      "source": [
        "#En esta sección se realizó el mismo proceso que en GradientBoosting para ajustar los hyper-parámetros, pero con el modelo Xtreme Gradient Boosting\n",
        "#Cambios en parámetros #2\n",
        "xGB = xgb.XGBClassifier(learning_rate = 0.05, subsample = 0.8, min_child_weight = 2, reg_alpha = 1.5)\n",
        "xGB.fit(X_NonNull_train, y_NonNull_train)\n",
        "y_NonNull_pred = xGB.predict(X_NonNull_test)\n",
        "confusion_matrix = metrics.confusion_matrix(y_NonNull_test, y_NonNull_pred)\n",
        "accuracy = (confusion_matrix[0,0] + confusion_matrix[1,1]) / (confusion_matrix[0,0]+confusion_matrix[0,1]+confusion_matrix[1,0]+confusion_matrix[1,1])\n",
        "print('Accuracy:',accuracy)\n",
        "precision = confusion_matrix[0,0] /(confusion_matrix[0,0]+confusion_matrix[1,0])\n",
        "print(\"Precision:\",precision)\n",
        "recall = confusion_matrix[0,0] /(confusion_matrix[0,0]+confusion_matrix[0,1])\n",
        "print(\"Recall:\",recall)\n",
        "Fone = (2*precision*recall)/(precision+recall)\n",
        "print('Fone:',Fone)\n",
        "cm_display = metrics.ConfusionMatrixDisplay(confusion_matrix = confusion_matrix, display_labels = [False, True])\n",
        "cm_display.plot()\n",
        "plt.show()"
      ],
      "metadata": {
        "id": "FQWUeRwWuZmr"
      },
      "execution_count": null,
      "outputs": []
    },
    {
      "cell_type": "markdown",
      "source": [
        "Prueba de parámetros 3"
      ],
      "metadata": {
        "id": "zU4uE_BgvMBh"
      }
    },
    {
      "cell_type": "code",
      "source": [
        "#En esta sección se realizó el mismo proceso que en GradientBoosting para ajustar los hyper-parámetros, pero con el modelo Xtreme Gradient Boosting\n",
        "\n",
        "xGB = xgb.XGBClassifier(learning_rate = 0.1, subsample = 0.2, min_child_weight = 2, reg_alpha = 1.5)\n",
        "xGB.fit(X_NonNull_train, y_NonNull_train)\n",
        "y_NonNull_pred = xGB.predict(X_NonNull_test)\n",
        "confusion_matrix = metrics.confusion_matrix(y_NonNull_test, y_NonNull_pred)\n",
        "accuracy = (confusion_matrix[0,0] + confusion_matrix[1,1]) / (confusion_matrix[0,0]+confusion_matrix[0,1]+confusion_matrix[1,0]+confusion_matrix[1,1])\n",
        "print('Accuracy:',accuracy)\n",
        "precision = confusion_matrix[0,0] /(confusion_matrix[0,0]+confusion_matrix[1,0])\n",
        "print(\"Precision:\",precision)\n",
        "recall = confusion_matrix[0,0] /(confusion_matrix[0,0]+confusion_matrix[0,1])\n",
        "print(\"Recall:\",recall)\n",
        "Fone = (2*precision*recall)/(precision+recall)\n",
        "print('Fone:',Fone)\n",
        "cm_display = metrics.ConfusionMatrixDisplay(confusion_matrix = confusion_matrix, display_labels = [False, True])\n",
        "cm_display.plot()\n",
        "plt.show()"
      ],
      "metadata": {
        "colab": {
          "base_uri": "https://localhost:8080/",
          "height": 520
        },
        "id": "5UQ0aTGXujYx",
        "outputId": "eca7edf8-de31-482f-bade-a69160517760"
      },
      "execution_count": null,
      "outputs": [
        {
          "output_type": "stream",
          "name": "stdout",
          "text": [
            "Accuracy: 0.8391608391608392\n",
            "Precision: 0.8522727272727273\n",
            "Recall: 0.8823529411764706\n",
            "Fone: 0.8670520231213872\n"
          ]
        },
        {
          "output_type": "display_data",
          "data": {
            "text/plain": [
              "<Figure size 640x480 with 2 Axes>"
            ],
            "image/png": "[encoded data removed]"
          },
          "metadata": {}
        }
      ]
    },
    {
      "cell_type": "markdown",
      "source": [
        "#### Red Neuronal - MLP Classifier"
      ],
      "metadata": {
        "id": "SI9f3oeBvO3W"
      }
    },
    {
      "cell_type": "markdown",
      "source": [
        "Prueba 1"
      ],
      "metadata": {
        "id": "5BC0EP_T0gTv"
      }
    },
    {
      "cell_type": "code",
      "execution_count": null,
      "metadata": {
        "id": "hoFdTT5F5Ekp",
        "colab": {
          "base_uri": "https://localhost:8080/"
        },
        "outputId": "3b1def03-b2c6-40e3-f811-f80757b9acd2"
      },
      "outputs": [
        {
          "output_type": "stream",
          "name": "stdout",
          "text": [
            "MLP Score: 0.7342657342657343\n"
          ]
        }
      ],
      "source": [
        "#Se crea una variable de red neuronal para clasificación, con parámetros de 100 capas ocultas y una iteración máxima de 10000\n",
        "mlp_model = MLPClassifier(hidden_layer_sizes=(100, 50), max_iter=1000)  # Capas y Parámetros\n",
        "#Se ajustan los datos\n",
        "mlp_model.fit(X_NonNull_train, y_NonNull_train)\n",
        "#Se calcula una puntuación de la red neuronal\n",
        "mlp_score = mlp_model.score(X_NonNull_test, y_NonNull_test)\n",
        "print(\"MLP Score:\", mlp_score)"
      ]
    },
    {
      "cell_type": "markdown",
      "source": [
        "Prueba 2"
      ],
      "metadata": {
        "id": "hd9Dmpmp0m4T"
      }
    },
    {
      "cell_type": "code",
      "source": [
        "#Se crea una variable de red neuronal para clasificación, con parámetros de 100 capas ocultas y una iteración máxima de 10000\n",
        "mlp_model = MLPClassifier(hidden_layer_sizes=(150, 50), max_iter=1000)  # Capas y Parámetros\n",
        "#Se ajustan los datos\n",
        "mlp_model.fit(X_NonNull_train, y_NonNull_train)\n",
        "#Se calcula una puntuación de la red neuronal\n",
        "mlp_score = mlp_model.score(X_NonNull_test, y_NonNull_test)\n",
        "print(\"MLP Score:\", mlp_score)"
      ],
      "metadata": {
        "colab": {
          "base_uri": "https://localhost:8080/"
        },
        "id": "v86hK2FX0n-j",
        "outputId": "9a0fb03b-e008-4596-d46e-e51579eb8583"
      },
      "execution_count": null,
      "outputs": [
        {
          "output_type": "stream",
          "name": "stdout",
          "text": [
            "MLP Score: 0.7762237762237763\n"
          ]
        }
      ]
    },
    {
      "cell_type": "markdown",
      "source": [
        "Prueba 3"
      ],
      "metadata": {
        "id": "d3s4DKxW0pqg"
      }
    },
    {
      "cell_type": "code",
      "source": [
        "#Se crea una variable de red neuronal para clasificación, con parámetros de 100 capas ocultas y una iteración máxima de 10000\n",
        "mlp_model = MLPClassifier(hidden_layer_sizes=(50, 50), max_iter=1000)  # Capas y Parámetros\n",
        "#Se ajustan los datos\n",
        "mlp_model.fit(X_NonNull_train, y_NonNull_train)\n",
        "#Se calcula una puntuación de la red neuronal\n",
        "mlp_score = mlp_model.score(X_NonNull_test, y_NonNull_test)\n",
        "print(\"MLP Score:\", mlp_score)"
      ],
      "metadata": {
        "id": "HirwiqQN0rIL",
        "colab": {
          "base_uri": "https://localhost:8080/"
        },
        "outputId": "4056938d-cda7-4df9-b4d9-0c36b65615f2"
      },
      "execution_count": null,
      "outputs": [
        {
          "output_type": "stream",
          "name": "stdout",
          "text": [
            "MLP Score: 0.7622377622377622\n"
          ]
        }
      ]
    },
    {
      "cell_type": "markdown",
      "metadata": {
        "id": "D9e5o978_3-O"
      },
      "source": [
        "#### Regularización en Árboles de Decisión"
      ]
    },
    {
      "cell_type": "markdown",
      "source": [
        "Prueba 1"
      ],
      "metadata": {
        "id": "KCRQqhgKPzG9"
      }
    },
    {
      "cell_type": "code",
      "execution_count": null,
      "metadata": {
        "id": "Tfx718V8_U3O",
        "colab": {
          "base_uri": "https://localhost:8080/"
        },
        "outputId": "031247bd-6db3-493e-f84a-d92e424a3a0f"
      },
      "outputs": [
        {
          "output_type": "stream",
          "name": "stdout",
          "text": [
            "Regularized Tree Score: 0.8181818181818182\n"
          ]
        }
      ],
      "source": [
        "#Se crea una variable para rugularizar los datos con DesicionTreeClasifier\n",
        "regularized_tree = DecisionTreeClassifier(max_depth=5, min_samples_split=5)  # Configura los parámetros\n",
        "#Se ajustan los datos\n",
        "regularized_tree.fit(X_NonNull_train, y_NonNull_train)\n",
        "regularized_tree_score = regularized_tree.score(X_NonNull_test, y_NonNull_test)\n",
        "print(\"Regularized Tree Score:\", regularized_tree_score)"
      ]
    },
    {
      "cell_type": "markdown",
      "source": [
        "Prueba 2"
      ],
      "metadata": {
        "id": "Ch12bWP8P0oP"
      }
    },
    {
      "cell_type": "code",
      "source": [
        "#Se crea una variable para rugularizar los datos con DesicionTreeClasifier\n",
        "regularized_tree = DecisionTreeClassifier(max_depth=10, min_samples_split=5)  # Configura los parámetros\n",
        "#Se ajustan los datos\n",
        "regularized_tree.fit(X_NonNull_train, y_NonNull_train)\n",
        "regularized_tree_score = regularized_tree.score(X_NonNull_test, y_NonNull_test)\n",
        "print(\"Regularized Tree Score:\", regularized_tree_score)"
      ],
      "metadata": {
        "colab": {
          "base_uri": "https://localhost:8080/"
        },
        "id": "PNzJ5sjpPycM",
        "outputId": "f359eee8-119c-4580-8712-20989ca375ab"
      },
      "execution_count": null,
      "outputs": [
        {
          "output_type": "stream",
          "name": "stdout",
          "text": [
            "Regularized Tree Score: 0.7622377622377622\n"
          ]
        }
      ]
    },
    {
      "cell_type": "markdown",
      "source": [
        "Prueba 3"
      ],
      "metadata": {
        "id": "wrBjzTtrP2nw"
      }
    },
    {
      "cell_type": "code",
      "source": [
        "#Se crea una variable para rugularizar los datos con DesicionTreeClasifier\n",
        "regularized_tree = DecisionTreeClassifier(max_depth=15, min_samples_split=5)  # Configura los parámetros\n",
        "#Se ajustan los datos\n",
        "regularized_tree.fit(X_NonNull_train, y_NonNull_train)\n",
        "regularized_tree_score = regularized_tree.score(X_NonNull_test, y_NonNull_test)\n",
        "print(\"Regularized Tree Score:\", regularized_tree_score)"
      ],
      "metadata": {
        "colab": {
          "base_uri": "https://localhost:8080/"
        },
        "id": "5BaINwEFPyxM",
        "outputId": "89e5941f-e2c8-470c-87af-d19bde6a8ea3"
      },
      "execution_count": null,
      "outputs": [
        {
          "output_type": "stream",
          "name": "stdout",
          "text": [
            "Regularized Tree Score: 0.7272727272727273\n"
          ]
        }
      ]
    },
    {
      "cell_type": "markdown",
      "metadata": {
        "id": "qem75RMidP6T"
      },
      "source": [
        "### Modelos utilizando la base de datos preservando los valores nulos"
      ]
    },
    {
      "cell_type": "code",
      "execution_count": null,
      "metadata": {
        "id": "KAnGR8SHdXTO"
      },
      "outputs": [],
      "source": [
        "feature_names = ['Age', 'Sex', 'Pclass', 'Embarked', 'Fare']\n",
        "X_imputed = imputed_df[feature_names] # variables predictoras\n",
        "y_imputed = imputed_df['Survived']    # variable de respuesta\n",
        "X_imputed_train, X_imputed_test, y_imputed_train, y_imputed_test = train_test_split(X_imputed, y_imputed, test_size=0.2, random_state=42, stratify=y_imputed)"
      ]
    },
    {
      "cell_type": "markdown",
      "source": [
        "#### Gradient Boosting"
      ],
      "metadata": {
        "id": "MYzw3g10LdMk"
      }
    },
    {
      "cell_type": "markdown",
      "source": [
        "Prueba metadatos #1"
      ],
      "metadata": {
        "id": "Pdgdss-83dj7"
      }
    },
    {
      "cell_type": "code",
      "source": [
        "#Se selecciona el modelo que mejores métricas nos dió y se hace un ajuste de hyper-parámetros para mejorar los resultados\n",
        "#Se implementa el modelo completamente\n",
        "#Se llama la función con un learning_rate de 0.01\n",
        "GB = GradientBoostingClassifier(learning_rate=0.01, subsample=0.6)\n",
        "#Se ajustan los datos al modelo\n",
        "GB.fit(X_imputed_train, y_imputed_train)\n",
        "\n",
        "#Se predice el modelo\n",
        "y_imputed_pred = GB.predict(X_imputed_test)\n",
        "#Matríz de confusión\n",
        "confusion_matrix = metrics.confusion_matrix(y_imputed_test, y_imputed_pred)\n",
        "#Se imprimen las variables obtenidas de la matríz\n",
        "accuracy = (confusion_matrix[0,0] + confusion_matrix[1,1]) / (confusion_matrix[0,0]+confusion_matrix[0,1]+confusion_matrix[1,0]+confusion_matrix[1,1])\n",
        "print('Accuracy:',accuracy)\n",
        "precision = confusion_matrix[0,0] /(confusion_matrix[0,0]+confusion_matrix[1,0])\n",
        "print(\"Precision:\",precision)\n",
        "recall = confusion_matrix[0,0] /(confusion_matrix[0,0]+confusion_matrix[0,1])\n",
        "print(\"Recall:\",recall)\n",
        "Fone = (2*precision*recall)/(precision+recall)\n",
        "print('Fone:',Fone)\n",
        "cm_display = metrics.ConfusionMatrixDisplay(confusion_matrix = confusion_matrix, display_labels = [False, True])\n",
        "cm_display.plot()\n",
        "plt.show()"
      ],
      "metadata": {
        "id": "C6eoBJkzwGWM",
        "colab": {
          "base_uri": "https://localhost:8080/"
        },
        "outputId": "c87d01dd-eeb3-4778-840c-29f1c2916afe"
      },
      "execution_count": null,
      "outputs": [
        {
          "output_type": "stream",
          "name": "stdout",
          "text": [
            "Accuracy: 0.7877094972067039\n",
            "Precision: 0.7686567164179104\n",
            "Recall: 0.9363636363636364\n",
            "Fone: 0.8442622950819673\n"
          ]
        },
        {
          "output_type": "display_data",
          "data": {
            "text/plain": [
              "<Figure size 640x480 with 2 Axes>"
            ],
            "image/png": "[encoded data removed]"
          },
          "metadata": {}
        }
      ]
    },
    {
      "cell_type": "markdown",
      "source": [
        "Prueba Metadatos #2"
      ],
      "metadata": {
        "id": "SIGTAEYd3iDg"
      }
    },
    {
      "cell_type": "code",
      "source": [
        "#Se selecciona el modelo que mejores métricas nos dió y se hace un ajuste de hyper-parámetros para mejorar los resultados\n",
        "#Se implementa el modelo completamente\n",
        "#Se llama la función con un learning_rate de 0.01\n",
        "GB = GradientBoostingClassifier(learning_rate=0.05, subsample=0.5)\n",
        "#Se ajustan los datos al modelo\n",
        "GB.fit(X_imputed_train, y_imputed_train)\n",
        "\n",
        "##Se predice el modelo\n",
        "y_imputed_pred = GB.predict(X_imputed_test)\n",
        "#Matríz de confusión\n",
        "confusion_matrix = metrics.confusion_matrix(y_imputed_test, y_imputed_pred)\n",
        "#Se imprimen las variables obtenidas de la matríz\n",
        "accuracy = (confusion_matrix[0,0] + confusion_matrix[1,1]) / (confusion_matrix[0,0]+confusion_matrix[0,1]+confusion_matrix[1,0]+confusion_matrix[1,1])\n",
        "print('Accuracy:',accuracy)\n",
        "precision = confusion_matrix[0,0] /(confusion_matrix[0,0]+confusion_matrix[1,0])\n",
        "print(\"Precision:\",precision)\n",
        "recall = confusion_matrix[0,0] /(confusion_matrix[0,0]+confusion_matrix[0,1])\n",
        "print(\"Recall:\",recall)\n",
        "Fone = (2*precision*recall)/(precision+recall)\n",
        "print('Fone:',Fone)\n",
        "cm_display = metrics.ConfusionMatrixDisplay(confusion_matrix = confusion_matrix, display_labels = [False, True])\n",
        "cm_display.plot()\n",
        "plt.show()"
      ],
      "metadata": {
        "colab": {
          "base_uri": "https://localhost:8080/"
        },
        "id": "RvjTWnMD3icU",
        "outputId": "d52f9a7c-8bad-4c6b-fce7-884ccca362b0"
      },
      "execution_count": null,
      "outputs": [
        {
          "output_type": "stream",
          "name": "stdout",
          "text": [
            "Accuracy: 0.8044692737430168\n",
            "Precision: 0.8048780487804879\n",
            "Recall: 0.9\n",
            "Fone: 0.8497854077253219\n"
          ]
        },
        {
          "output_type": "display_data",
          "data": {
            "text/plain": [
              "<Figure size 640x480 with 2 Axes>"
            ],
            "image/png": "[encoded data removed]"
          },
          "metadata": {}
        }
      ]
    },
    {
      "cell_type": "markdown",
      "source": [
        "Prueba Metadatos #3"
      ],
      "metadata": {
        "id": "GD2jyQZP3oXy"
      }
    },
    {
      "cell_type": "code",
      "source": [
        "#Se selecciona el modelo que mejores métricas nos dió y se hace un ajuste de hyper-parámetros para mejorar los resultados\n",
        "#Se implementa el modelo completamente\n",
        "#Se llama la función con un learning_rate de 0.01\n",
        "GB = GradientBoostingClassifier(learning_rate=0.02, subsample=0.9)\n",
        "#Se ajustan los datos al modelo\n",
        "GB.fit(X_imputed_train, y_imputed_train)\n",
        "\n",
        "#Se predice el modelo\n",
        "y_imputed_pred = GB.predict(X_imputed_test)\n",
        "#Matríz de confusión\n",
        "confusion_matrix = metrics.confusion_matrix(y_imputed_test, y_imputed_pred)\n",
        "#Se imprimen las variables obtenidas de la matríz\n",
        "accuracy = (confusion_matrix[0,0] + confusion_matrix[1,1]) / (confusion_matrix[0,0]+confusion_matrix[0,1]+confusion_matrix[1,0]+confusion_matrix[1,1])\n",
        "print('Accuracy:',accuracy)\n",
        "precision = confusion_matrix[0,0] /(confusion_matrix[0,0]+confusion_matrix[1,0])\n",
        "print(\"Precision:\",precision)\n",
        "recall = confusion_matrix[0,0] /(confusion_matrix[0,0]+confusion_matrix[0,1])\n",
        "print(\"Recall:\",recall)\n",
        "Fone = (2*precision*recall)/(precision+recall)\n",
        "print('Fone:',Fone)\n",
        "cm_display = metrics.ConfusionMatrixDisplay(confusion_matrix = confusion_matrix, display_labels = [False, True])\n",
        "cm_display.plot()\n",
        "plt.show()"
      ],
      "metadata": {
        "colab": {
          "base_uri": "https://localhost:8080/"
        },
        "id": "U7RcG3hO3uKQ",
        "outputId": "c7f14798-c02b-45cf-f914-5995308b970f"
      },
      "execution_count": null,
      "outputs": [
        {
          "output_type": "stream",
          "name": "stdout",
          "text": [
            "Accuracy: 0.7877094972067039\n",
            "Precision: 0.7727272727272727\n",
            "Recall: 0.9272727272727272\n",
            "Fone: 0.8429752066115703\n"
          ]
        },
        {
          "output_type": "display_data",
          "data": {
            "text/plain": [
              "<Figure size 640x480 with 2 Axes>"
            ],
            "image/png": "[encoded data removed]"
          },
          "metadata": {}
        }
      ]
    },
    {
      "cell_type": "markdown",
      "source": [
        "#### Xtreme Gradiend Boosting"
      ],
      "metadata": {
        "id": "a06jmNsmLmS9"
      }
    },
    {
      "cell_type": "markdown",
      "source": [
        "Prueba metadatos #1\n",
        "\n"
      ],
      "metadata": {
        "id": "66EuePZX4ArO"
      }
    },
    {
      "cell_type": "code",
      "source": [
        "#En esta sección se realizó el mismo proceso que en GradientBoosting para ajustar los hyper-parámetros, pero con el modelo Xtreme Gradient Boosting\n",
        "xGB = xgb.XGBClassifier(learning_rate = 0.08, subsample = 0.5, min_child_weight = 1.5, reg_alpha = 2.5)\n",
        "xGB.fit(X_imputed_train, y_imputed_train)\n",
        "y_imputed_pred = xGB.predict(X_imputed_test)\n",
        "confusion_matrix = metrics.confusion_matrix(y_imputed_test, y_imputed_pred)\n",
        "accuracy = (confusion_matrix[0,0] + confusion_matrix[1,1]) / (confusion_matrix[0,0]+confusion_matrix[0,1]+confusion_matrix[1,0]+confusion_matrix[1,1])\n",
        "print('Accuracy:',accuracy)\n",
        "precision = confusion_matrix[0,0] /(confusion_matrix[0,0]+confusion_matrix[1,0])\n",
        "print(\"Precision:\",precision)\n",
        "recall = confusion_matrix[0,0] /(confusion_matrix[0,0]+confusion_matrix[0,1])\n",
        "print(\"Recall:\",recall)\n",
        "Fone = (2*precision*recall)/(precision+recall)\n",
        "print('Fone:',Fone)\n",
        "cm_display = metrics.ConfusionMatrixDisplay(confusion_matrix = confusion_matrix, display_labels = [False, True])\n",
        "cm_display.plot()\n",
        "plt.show()\n"
      ],
      "metadata": {
        "colab": {
          "base_uri": "https://localhost:8080/"
        },
        "id": "YEK26jHh4ENs",
        "outputId": "8b0975e0-ab64-43fb-c098-67df898e5a27"
      },
      "execution_count": null,
      "outputs": [
        {
          "output_type": "stream",
          "name": "stdout",
          "text": [
            "Accuracy: 0.7988826815642458\n",
            "Precision: 0.8032786885245902\n",
            "Recall: 0.8909090909090909\n",
            "Fone: 0.8448275862068965\n"
          ]
        },
        {
          "output_type": "display_data",
          "data": {
            "text/plain": [
              "<Figure size 640x480 with 2 Axes>"
            ],
            "image/png": "[encoded data removed]"
          },
          "metadata": {}
        }
      ]
    },
    {
      "cell_type": "markdown",
      "source": [
        "Prueba metadatos #2\n"
      ],
      "metadata": {
        "id": "xuIZT75p406l"
      }
    },
    {
      "cell_type": "code",
      "source": [
        "#En esta sección se realizó el mismo proceso que en GradientBoosting para ajustar los hyper-parámetros, pero con el modelo Xtreme Gradient Boosting\n",
        "xGB = xgb.XGBClassifier(learning_rate = 0.05, subsample = 0.8, min_child_weight = 2, reg_alpha = 1.5)\n",
        "xGB.fit(X_imputed_train, y_imputed_train)\n",
        "y_imputed_pred = xGB.predict(X_imputed_test)\n",
        "confusion_matrix = metrics.confusion_matrix(y_imputed_test, y_imputed_pred)\n",
        "accuracy = (confusion_matrix[0,0] + confusion_matrix[1,1]) / (confusion_matrix[0,0]+confusion_matrix[0,1]+confusion_matrix[1,0]+confusion_matrix[1,1])\n",
        "print('Accuracy:',accuracy)\n",
        "precision = confusion_matrix[0,0] /(confusion_matrix[0,0]+confusion_matrix[1,0])\n",
        "print(\"Precision:\",precision)\n",
        "recall = confusion_matrix[0,0] /(confusion_matrix[0,0]+confusion_matrix[0,1])\n",
        "print(\"Recall:\",recall)\n",
        "Fone = (2*precision*recall)/(precision+recall)\n",
        "print('Fone:',Fone)\n",
        "cm_display = metrics.ConfusionMatrixDisplay(confusion_matrix = confusion_matrix, display_labels = [False, True])\n",
        "cm_display.plot()\n",
        "plt.show()"
      ],
      "metadata": {
        "colab": {
          "base_uri": "https://localhost:8080/"
        },
        "id": "KYSqg0_j40Ub",
        "outputId": "a51b34f2-21d2-4f62-81ba-e2d6741e95ae"
      },
      "execution_count": null,
      "outputs": [
        {
          "output_type": "stream",
          "name": "stdout",
          "text": [
            "Accuracy: 0.7932960893854749\n",
            "Precision: 0.8016528925619835\n",
            "Recall: 0.8818181818181818\n",
            "Fone: 0.8398268398268398\n"
          ]
        },
        {
          "output_type": "display_data",
          "data": {
            "text/plain": [
              "<Figure size 640x480 with 2 Axes>"
            ],
            "image/png": "[encoded data removed]"
          },
          "metadata": {}
        }
      ]
    },
    {
      "cell_type": "markdown",
      "source": [
        "Prueba metadatos #3"
      ],
      "metadata": {
        "id": "7k5GDHaH5KZ-"
      }
    },
    {
      "cell_type": "code",
      "source": [
        "#En esta sección se realizó el mismo proceso que en GradientBoosting para ajustar los hyper-parámetros, pero con el modelo Xtreme Gradient Boosting\n",
        "xGB = xgb.XGBClassifier(learning_rate = 0.1, subsample = 0.2, min_child_weight = 2, reg_alpha = 1.5)\n",
        "xGB.fit(X_imputed_train, y_imputed_train)\n",
        "y_imputed_pred = xGB.predict(X_imputed_test)\n",
        "confusion_matrix = metrics.confusion_matrix(y_imputed_test, y_imputed_pred)\n",
        "accuracy = (confusion_matrix[0,0] + confusion_matrix[1,1]) / (confusion_matrix[0,0]+confusion_matrix[0,1]+confusion_matrix[1,0]+confusion_matrix[1,1])\n",
        "print('Accuracy:',accuracy)\n",
        "precision = confusion_matrix[0,0] /(confusion_matrix[0,0]+confusion_matrix[1,0])\n",
        "print(\"Precision:\",precision)\n",
        "recall = confusion_matrix[0,0] /(confusion_matrix[0,0]+confusion_matrix[0,1])\n",
        "print(\"Recall:\",recall)\n",
        "Fone = (2*precision*recall)/(precision+recall)\n",
        "print('Fone:',Fone)\n",
        "cm_display = metrics.ConfusionMatrixDisplay(confusion_matrix = confusion_matrix, display_labels = [False, True])\n",
        "cm_display.plot()\n",
        "plt.show()"
      ],
      "metadata": {
        "colab": {
          "base_uri": "https://localhost:8080/"
        },
        "id": "YEmZUzck5QUW",
        "outputId": "fa36d309-53a8-40bf-982e-10b2147ed6d1"
      },
      "execution_count": null,
      "outputs": [
        {
          "output_type": "stream",
          "name": "stdout",
          "text": [
            "Accuracy: 0.8044692737430168\n",
            "Precision: 0.8048780487804879\n",
            "Recall: 0.9\n",
            "Fone: 0.8497854077253219\n"
          ]
        },
        {
          "output_type": "display_data",
          "data": {
            "text/plain": [
              "<Figure size 640x480 with 2 Axes>"
            ],
            "image/png": "[encoded data removed]"
          },
          "metadata": {}
        }
      ]
    },
    {
      "cell_type": "markdown",
      "source": [
        "#### Red Neuronal - MLP Classifier"
      ],
      "metadata": {
        "id": "8tbiTbkOLutk"
      }
    },
    {
      "cell_type": "markdown",
      "source": [
        "\n",
        "Prueba 1"
      ],
      "metadata": {
        "id": "NODEpN1Y5hlk"
      }
    },
    {
      "cell_type": "code",
      "source": [
        "#Se crea una variable de red neuronal para clasificación, con parámetros de 100 capas ocultas y una iteración máxima de 10000\n",
        "mlp_model = MLPClassifier(hidden_layer_sizes=(100, 50), max_iter=1000)  # Capas y Parámetros\n",
        "#Se ajustan los datos\n",
        "mlp_model.fit(X_imputed_train, y_imputed_train)\n",
        "#Se calcula una puntuación de la red neuronal\n",
        "mlp_score = mlp_model.score(X_imputed_test, y_imputed_test)\n",
        "print(\"MLP Score:\", mlp_score)"
      ],
      "metadata": {
        "colab": {
          "base_uri": "https://localhost:8080/"
        },
        "id": "PxLkXz2-5kvU",
        "outputId": "32a5bd91-b9e9-4990-a8dc-a95d6be2c340"
      },
      "execution_count": null,
      "outputs": [
        {
          "output_type": "stream",
          "name": "stdout",
          "text": [
            "MLP Score: 0.770949720670391\n"
          ]
        }
      ]
    },
    {
      "cell_type": "markdown",
      "source": [
        "Prueba 2"
      ],
      "metadata": {
        "id": "84Gf0YD954rJ"
      }
    },
    {
      "cell_type": "code",
      "source": [
        "#Se crea una variable de red neuronal para clasificación, con parámetros de 100 capas ocultas y una iteración máxima de 10000\n",
        "mlp_model = MLPClassifier(hidden_layer_sizes=(150, 50), max_iter=1000)  # Capas y Parámetros\n",
        "#Se ajustan los datos\n",
        "mlp_model.fit(X_imputed_train, y_imputed_train)\n",
        "#Se calcula una puntuación de la red neuronal\n",
        "mlp_score = mlp_model.score(X_imputed_test, y_imputed_test)\n",
        "print(\"MLP Score:\", mlp_score)"
      ],
      "metadata": {
        "colab": {
          "base_uri": "https://localhost:8080/"
        },
        "id": "7uok8Q4H5vWj",
        "outputId": "dd36af18-eb32-407c-912d-593d8f20993b"
      },
      "execution_count": null,
      "outputs": [
        {
          "output_type": "stream",
          "name": "stdout",
          "text": [
            "MLP Score: 0.7486033519553073\n"
          ]
        }
      ]
    },
    {
      "cell_type": "markdown",
      "source": [
        "Prueba 3"
      ],
      "metadata": {
        "id": "NCL_CuCu59ax"
      }
    },
    {
      "cell_type": "code",
      "source": [
        "#Se crea una variable de red neuronal para clasificación, con parámetros de 100 capas ocultas y una iteración máxima de 10000\n",
        "mlp_model = MLPClassifier(hidden_layer_sizes=(50, 50), max_iter=1000)  # Capas y Parámetros\n",
        "#Se ajustan los datos\n",
        "mlp_model.fit(X_imputed_train, y_imputed_train)\n",
        "#Se calcula una puntuación de la red neuronal\n",
        "mlp_score = mlp_model.score(X_imputed_test, y_imputed_test)\n",
        "print(\"MLP Score:\", mlp_score)"
      ],
      "metadata": {
        "colab": {
          "base_uri": "https://localhost:8080/"
        },
        "id": "A2E_qoQP51v-",
        "outputId": "1a109ccb-6a74-4005-8552-c6123f4f4e16"
      },
      "execution_count": null,
      "outputs": [
        {
          "output_type": "stream",
          "name": "stdout",
          "text": [
            "MLP Score: 0.7430167597765364\n"
          ]
        }
      ]
    },
    {
      "cell_type": "markdown",
      "source": [
        "#### Regularización de árbol de desición"
      ],
      "metadata": {
        "id": "0u9Ornvg6quQ"
      }
    },
    {
      "cell_type": "markdown",
      "source": [
        "Prueba 1"
      ],
      "metadata": {
        "id": "kn16OGZgQCM2"
      }
    },
    {
      "cell_type": "code",
      "source": [
        "#Se crea una variable para rugularizar los datos con DesicionTreeClasifier\n",
        "regularized_tree = DecisionTreeClassifier(max_depth=5, min_samples_split=5)  # Configura los parámetros\n",
        "#Se ajustan los datos\n",
        "regularized_tree.fit(X_imputed_train, y_imputed_train)\n",
        "regularized_tree_score = regularized_tree.score(X_imputed_test, y_imputed_test)\n",
        "print(\"Regularized Tree Score:\", regularized_tree_score)"
      ],
      "metadata": {
        "colab": {
          "base_uri": "https://localhost:8080/"
        },
        "id": "Ju-SwLcF6hEy",
        "outputId": "91737bd5-31f6-4cb8-89b5-824dfcf372e1"
      },
      "execution_count": null,
      "outputs": [
        {
          "output_type": "stream",
          "name": "stdout",
          "text": [
            "Regularized Tree Score: 0.7877094972067039\n"
          ]
        }
      ]
    },
    {
      "cell_type": "markdown",
      "source": [
        "Prueba 2"
      ],
      "metadata": {
        "id": "FRvwTWZGQDmk"
      }
    },
    {
      "cell_type": "code",
      "source": [
        "#Se crea una variable para rugularizar los datos con DesicionTreeClasifier\n",
        "regularized_tree = DecisionTreeClassifier(max_depth=10, min_samples_split=5)  # Configura los parámetros\n",
        "#Se ajustan los datos\n",
        "regularized_tree.fit(X_imputed_train, y_imputed_train)\n",
        "regularized_tree_score = regularized_tree.score(X_imputed_test, y_imputed_test)\n",
        "print(\"Regularized Tree Score:\", regularized_tree_score)"
      ],
      "metadata": {
        "colab": {
          "base_uri": "https://localhost:8080/"
        },
        "id": "o_AoWoYQQB3z",
        "outputId": "7556972c-833c-4f0f-97cc-2446cf72cbd7"
      },
      "execution_count": null,
      "outputs": [
        {
          "output_type": "stream",
          "name": "stdout",
          "text": [
            "Regularized Tree Score: 0.8212290502793296\n"
          ]
        }
      ]
    },
    {
      "cell_type": "markdown",
      "source": [
        "Prueba 3"
      ],
      "metadata": {
        "id": "At4_2OoZQEdt"
      }
    },
    {
      "cell_type": "code",
      "source": [
        "#Se crea una variable para rugularizar los datos con DesicionTreeClasifier\n",
        "regularized_tree = DecisionTreeClassifier(max_depth=15, min_samples_split=5)  # Configura los parámetros\n",
        "#Se ajustan los datos\n",
        "regularized_tree.fit(X_imputed_train, y_imputed_train)\n",
        "regularized_tree_score = regularized_tree.score(X_imputed_test, y_imputed_test)\n",
        "print(\"Regularized Tree Score:\", regularized_tree_score)"
      ],
      "metadata": {
        "id": "ez2mVLEBQJbF",
        "outputId": "3e299daf-5f0a-4361-c782-68083519fb3c",
        "colab": {
          "base_uri": "https://localhost:8080/"
        }
      },
      "execution_count": null,
      "outputs": [
        {
          "output_type": "stream",
          "name": "stdout",
          "text": [
            "Regularized Tree Score: 0.8324022346368715\n"
          ]
        }
      ]
    },
    {
      "cell_type": "markdown",
      "source": [
        "### Resultados"
      ],
      "metadata": {
        "id": "ZFmww8-ltxyD"
      }
    },
    {
      "cell_type": "markdown",
      "source": [
        "Se determinaron pues las variables dependientes e independientes de la base de datos así como los datos de entrenamiento y los de testeo.\n",
        "\n",
        "Después se crea un array de modelos el cuál tiene la función de almacenar los modelos para utilizar un ciclo para preparar, entrenar y predecir cada uno de nuestros modelos que importamos, además se hace un análisis de precisión con la librería accuracy score.\n",
        "\n",
        "A continuación presentamos los scores de los modelos:\n",
        "\n",
        "* K-Neighbors Classifier - KNN : 0.643357\n",
        "* Support Vector Classifier - SVC : 0.671329\n",
        "* Logistic Regression - LR : 0.755245\n",
        "* Decision Tree Classifier - DT : 0.713287\n",
        "* Gaussian NB - GNB 0.755245\n",
        "* Random Forest Classifie - RF 0.769231\n",
        "* Gradient Boosting Classifier - GB 0.783217\n",
        "* Multi-Layer Perceptron Classifier - MLP 0.762238\n",
        "\n",
        "Se puede apreciar que los modelos con mejor precisión son: Gradient Boosting, Multi-Layer Perceptron y Decision Tree Classifier, por lo que serán uno de los modelos que se utilizaran para hacer el análisis y predicción. Sin embargo, se harán algunos cambios en las parámetros para mejorar los resultados de la predicción.\n",
        "\n",
        "Una vez determinados los mejores modelos, se realizaron tres pruebas por modelo de aprendizaje para cada base de datos.\n",
        "\n",
        "A continuación se presentan los mejores resultados de precisión obtenidos en cada modelo:\n",
        "\n",
        "|  | Eliminando los valores nulos  | Preservando los valores nulos |\n",
        "| ------------- | ------------- | ------------- |\n",
        "| Gradient Boosting  | 0.82 | 0.78 |\n",
        "| Xtreme Gradient Boosting  | 0.84  | 0.80  |\n",
        "| Multi-Layer Perceptron  | 0.76  | 0.79  |\n",
        "| Decision Tree | 0.82  | 0.84  |\n",
        "\n",
        "En específico, en Gradient Boosting tomamos los mejores hyperparámetros e hicímos un análisis de significancia de las variables como input, y nos entregó la siguiente gráfica, este nos dá a entender que no necesitamos la variable de enbarking, ya que no parece tener relación con el resultado de decesos.\n",
        "\n",
        "Vemos que los resultados son diferentes de acuerdo con la base de datos utilizada, sin embargo no se ve un patrón preciso que determine que una base es mejor que otra, solamente que en la mayoría de los modelos la base de datos en la que se preservan los datos con valores nulos predichos la precisión de los modelos es mayor. Así mismo se puede notar que el clasificador de árbol de decisión es el que tiene mayor precisión.\n",
        "\n",
        "A lo largo de esta entrega, se ha llevado acabo un proceso exhaustivo de selección, implementación y comparación de modelos de aprendizaje automático con el fin de lograr el objetivo de predecir la supervivencia de los pasajeros en el Titanic. En el transcurso de esta fase, se estudiaron una variedad de algoritmos de clasificación y se evaluaron en diferentes configuraciones para determinar cuales ofrecen el mejor rendimiento en materia de las métricas de evaluación.\n",
        "\n",
        "Entre el conjunto de los modelos analizados, destacaron dos enfoques particulares: el algoritmo Xtreme Gradient Boosting (XGBoost) y el uso de redes neuronales a través del Multi-Layer Perceptron Classifier (MLP). Ambos métodos demostraron resultados prometedores en términos de precisión, recall y F1-Score. El algoritmo XGBoost, que implementa un sistema de decisiones basado en árboles, se resaltó por su capacidad para manejar conjuntos de datos complejos y generar predicciones precisas. En contraste, la red neuronal MLP mostró una capacidad para aprender patrones en los datos y adaptarse a relaciones no lineales, lo que contribuyó a su alto rendimiento.\n",
        "\n",
        "Es importante mencionar que, los mejores rendimientos encontrados en los modelos fueron extremadamente mejores cuando se trabajó con los datos que no contenían valores nulos. La eliminación de registros con datos faltantes permitió a los modelos centrarse en relaciones significativas en los datos disponibles y generar predicciones más precisas. Así mismo, se experimentó con diferentes valores de hiper-parámetros y técnicas de regularización. Las iteraciones constantes permitieron identificar combinaciones óptimas que maximizaron la precisión y la generalización de los modelos."
      ],
      "metadata": {
        "id": "AgttatdDt7sn"
      }
    },
    {
      "cell_type": "markdown",
      "source": [
        "# Prueba cambio bases de datos\n"
      ],
      "metadata": {
        "id": "rnIm57BRV9ku"
      }
    },
    {
      "cell_type": "code",
      "source": [
        "from xgboost import plot_importance"
      ],
      "metadata": {
        "id": "9w07OiB8Y_Ov"
      },
      "execution_count": null,
      "outputs": []
    },
    {
      "cell_type": "code",
      "source": [
        "#Separamos tipos de variables en dependientes e independientes\n",
        "feature_names = ['Age', 'Sex', 'Pclass', 'Embarked', 'Fare']\n",
        "X_NonNull = df_NonNull[feature_names] # variables predictoras\n",
        "y_NonNull = df_NonNull['Survived']    # variable de respuesta\n",
        "#Se divide el dataset en entrenamiento y test, con un ratio de 80-20\n",
        "X_NonNull_train, X_NonNull_test, y_NonNull_train, y_NonNull_test = train_test_split(X_NonNull, y_NonNull, test_size=0.2, random_state=42, stratify=y_NonNull)"
      ],
      "metadata": {
        "id": "6-mBcYgEXvsJ"
      },
      "execution_count": null,
      "outputs": []
    },
    {
      "cell_type": "code",
      "source": [
        "xGB = xgb.XGBClassifier(learning_rate = 0.1, subsample = 0.2, min_child_weight = 2, reg_alpha = 1.5)\n",
        "xGB.fit(X_NonNull_train, y_NonNull_train)\n",
        "y_NonNull_pred = xGB.predict(X_NonNull_test)\n",
        "confusion_matrix = metrics.confusion_matrix(y_NonNull_test, y_NonNull_pred)\n",
        "accuracy = (confusion_matrix[0,0] + confusion_matrix[1,1]) / (confusion_matrix[0,0]+confusion_matrix[0,1]+confusion_matrix[1,0]+confusion_matrix[1,1])\n",
        "print('Accuracy:',accuracy)\n",
        "precision = confusion_matrix[0,0] /(confusion_matrix[0,0]+confusion_matrix[1,0])\n",
        "print(\"Precision:\",precision)\n",
        "recall = confusion_matrix[0,0] /(confusion_matrix[0,0]+confusion_matrix[0,1])\n",
        "print(\"Recall:\",recall)\n",
        "Fone = (2*precision*recall)/(precision+recall)\n",
        "print('Fone:',Fone)\n",
        "cm_display = metrics.ConfusionMatrixDisplay(confusion_matrix = confusion_matrix, display_labels = [False, True])\n",
        "cm_display.plot()\n",
        "plt.show()"
      ],
      "metadata": {
        "colab": {
          "base_uri": "https://localhost:8080/"
        },
        "id": "NR9SquQAWC_7",
        "outputId": "f49a4d0d-b6ed-487c-c40e-d2fb00d3f1f1"
      },
      "execution_count": null,
      "outputs": [
        {
          "output_type": "stream",
          "name": "stdout",
          "text": [
            "Accuracy: 0.8391608391608392\n",
            "Precision: 0.8522727272727273\n",
            "Recall: 0.8823529411764706\n",
            "Fone: 0.8670520231213872\n"
          ]
        },
        {
          "output_type": "display_data",
          "data": {
            "text/plain": [
              "<Figure size 640x480 with 2 Axes>"
            ],
            "image/png": "[encoded data removed]"
          },
          "metadata": {}
        }
      ]
    },
    {
      "cell_type": "code",
      "source": [
        "feat_imp = pd.Series(xGB.feature_importances_, feature_names).sort_values(ascending=False)\n",
        "feat_imp.plot(kind='bar', title='Feature Importances')\n",
        "plt.ylabel('Feature Importance Score')"
      ],
      "metadata": {
        "colab": {
          "base_uri": "https://localhost:8080/"
        },
        "id": "wGWQD5AIWfMu",
        "outputId": "0fffd159-daaa-4c97-e141-e98105e7b5c2"
      },
      "execution_count": null,
      "outputs": [
        {
          "output_type": "execute_result",
          "data": {
            "text/plain": [
              "Text(0, 0.5, 'Feature Importance Score')"
            ]
          },
          "metadata": {},
          "execution_count": 64
        },
        {
          "output_type": "display_data",
          "data": {
            "text/plain": [
              "<Figure size 640x480 with 1 Axes>"
            ],
            "image/png": "[encoded data removed]"
          },
          "metadata": {}
        }
      ]
    },
    {
      "cell_type": "code",
      "source": [
        "plot_importance(xGB)"
      ],
      "metadata": {
        "colab": {
          "base_uri": "https://localhost:8080/"
        },
        "id": "I8PxIUezYz4e",
        "outputId": "0f6ee2dd-3422-4a0b-a726-ed95a29b177d"
      },
      "execution_count": null,
      "outputs": [
        {
          "output_type": "execute_result",
          "data": {
            "text/plain": [
              "<Axes: title={'center': 'Feature importance'}, xlabel='F score', ylabel='Features'>"
            ]
          },
          "metadata": {},
          "execution_count": 65
        },
        {
          "output_type": "display_data",
          "data": {
            "text/plain": [
              "<Figure size 640x480 with 1 Axes>"
            ],
            "image/png": "[encoded data removed]"
          },
          "metadata": {}
        }
      ]
    },
    {
      "cell_type": "markdown",
      "source": [
        "## Sin Embarked"
      ],
      "metadata": {
        "id": "IS_8jIjyXbPq"
      }
    },
    {
      "cell_type": "code",
      "source": [
        "#Separamos tipos de variables en dependientes e independientes\n",
        "feature_names = ['Age', 'Sex', 'Pclass', 'Fare']\n",
        "X_NonNull = df_NonNull[feature_names] # variables predictoras\n",
        "y_NonNull = df_NonNull['Survived']    # variable de respuesta\n",
        "#Se divide el dataset en entrenamiento y test, con un ratio de 80-20\n",
        "X_NonNull_train, X_NonNull_test, y_NonNull_train, y_NonNull_test = train_test_split(X_NonNull, y_NonNull, test_size=0.2, random_state=42, stratify=y_NonNull)"
      ],
      "metadata": {
        "id": "UCMZtuNxXQOE"
      },
      "execution_count": null,
      "outputs": []
    },
    {
      "cell_type": "code",
      "source": [
        "xGB = xgb.XGBClassifier(learning_rate = 0.1, subsample = 0.2, min_child_weight = 2, reg_alpha = 1.5)\n",
        "xGB.fit(X_NonNull_train, y_NonNull_train)\n",
        "y_NonNull_pred = xGB.predict(X_NonNull_test)\n",
        "confusion_matrix = metrics.confusion_matrix(y_NonNull_test, y_NonNull_pred)\n",
        "accuracy = (confusion_matrix[0,0] + confusion_matrix[1,1]) / (confusion_matrix[0,0]+confusion_matrix[0,1]+confusion_matrix[1,0]+confusion_matrix[1,1])\n",
        "print('Accuracy:',accuracy)\n",
        "precision = confusion_matrix[0,0] /(confusion_matrix[0,0]+confusion_matrix[1,0])\n",
        "print(\"Precision:\",precision)\n",
        "recall = confusion_matrix[0,0] /(confusion_matrix[0,0]+confusion_matrix[0,1])\n",
        "print(\"Recall:\",recall)\n",
        "Fone = (2*precision*recall)/(precision+recall)\n",
        "print('Fone:',Fone)\n",
        "cm_display = metrics.ConfusionMatrixDisplay(confusion_matrix = confusion_matrix, display_labels = [False, True])\n",
        "cm_display.plot()\n",
        "plt.show()"
      ],
      "metadata": {
        "colab": {
          "base_uri": "https://localhost:8080/"
        },
        "id": "kHNByTS2XjxT",
        "outputId": "99467aa2-d2f3-4f05-f69a-b6e0f5852e17"
      },
      "execution_count": null,
      "outputs": [
        {
          "output_type": "stream",
          "name": "stdout",
          "text": [
            "Accuracy: 0.8391608391608392\n",
            "Precision: 0.8444444444444444\n",
            "Recall: 0.8941176470588236\n",
            "Fone: 0.8685714285714287\n"
          ]
        },
        {
          "output_type": "display_data",
          "data": {
            "text/plain": [
              "<Figure size 640x480 with 2 Axes>"
            ],
            "image/png": "[encoded data removed]"
          },
          "metadata": {}
        }
      ]
    },
    {
      "cell_type": "markdown",
      "source": [
        "## Sin fare"
      ],
      "metadata": {
        "id": "JMdy--qNX2hG"
      }
    },
    {
      "cell_type": "code",
      "source": [
        "#Separamos tipos de variables en dependientes e independientes\n",
        "feature_names = ['Age', 'Sex', 'Pclass', 'Embarked']\n",
        "X_NonNull = df_NonNull[feature_names] # variables predictoras\n",
        "y_NonNull = df_NonNull['Survived']    # variable de respuesta\n",
        "#Se divide el dataset en entrenamiento y test, con un ratio de 80-20\n",
        "X_NonNull_train, X_NonNull_test, y_NonNull_train, y_NonNull_test = train_test_split(X_NonNull, y_NonNull, test_size=0.2, random_state=42, stratify=y_NonNull)"
      ],
      "metadata": {
        "id": "IuUFhkD7X7_9"
      },
      "execution_count": null,
      "outputs": []
    },
    {
      "cell_type": "code",
      "source": [
        "xGB = xgb.XGBClassifier(learning_rate = 0.1, subsample = 0.2, min_child_weight = 2, reg_alpha = 1.5)\n",
        "xGB.fit(X_NonNull_train, y_NonNull_train)\n",
        "y_NonNull_pred = xGB.predict(X_NonNull_test)\n",
        "confusion_matrix = metrics.confusion_matrix(y_NonNull_test, y_NonNull_pred)\n",
        "accuracy = (confusion_matrix[0,0] + confusion_matrix[1,1]) / (confusion_matrix[0,0]+confusion_matrix[0,1]+confusion_matrix[1,0]+confusion_matrix[1,1])\n",
        "print('Accuracy:',accuracy)\n",
        "precision = confusion_matrix[0,0] /(confusion_matrix[0,0]+confusion_matrix[1,0])\n",
        "print(\"Precision:\",precision)\n",
        "recall = confusion_matrix[0,0] /(confusion_matrix[0,0]+confusion_matrix[0,1])\n",
        "print(\"Recall:\",recall)\n",
        "Fone = (2*precision*recall)/(precision+recall)\n",
        "print('Fone:',Fone)\n",
        "cm_display = metrics.ConfusionMatrixDisplay(confusion_matrix = confusion_matrix, display_labels = [False, True])\n",
        "cm_display.plot()\n",
        "plt.show()"
      ],
      "metadata": {
        "colab": {
          "base_uri": "https://localhost:8080/"
        },
        "id": "-GgSdGQQYGG0",
        "outputId": "89d62570-47a6-4a3d-9327-8d8c61a3333a"
      },
      "execution_count": null,
      "outputs": [
        {
          "output_type": "stream",
          "name": "stdout",
          "text": [
            "Accuracy: 0.8391608391608392\n",
            "Precision: 0.8369565217391305\n",
            "Recall: 0.9058823529411765\n",
            "Fone: 0.8700564971751413\n"
          ]
        },
        {
          "output_type": "display_data",
          "data": {
            "text/plain": [
              "<Figure size 640x480 with 2 Axes>"
            ],
            "image/png": "[encoded data removed]"
          },
          "metadata": {}
        }
      ]
    },
    {
      "cell_type": "markdown",
      "source": [
        "# Firebase"
      ],
      "metadata": {
        "id": "c1xomKmnZGL-"
      }
    },
    {
      "cell_type": "code",
      "source": [
        "# Importamos las variables\n",
        "edad = \"21\"\n",
        "clase = \"1\"\n",
        "enb = \"Queenstown\"\n",
        "sexo = \"Mujer\"\n",
        "fare = 0"
      ],
      "metadata": {
        "id": "IgqHUdN6ZJvd"
      },
      "execution_count": null,
      "outputs": []
    },
    {
      "cell_type": "code",
      "source": [
        "# String a Int\n",
        "edad = int(edad)\n",
        "clase = int(clase)"
      ],
      "metadata": {
        "id": "a4JFs5OQaG0k"
      },
      "execution_count": null,
      "outputs": []
    },
    {
      "cell_type": "code",
      "source": [
        "if clase == 1:\n",
        "  fare = 84.1546875\n",
        "elif clase == 2:\n",
        "  fare = 20.66218\n",
        "else:\n",
        "  fare = 13.675550101832993"
      ],
      "metadata": {
        "id": "Th4UgnUrdttO"
      },
      "execution_count": null,
      "outputs": []
    },
    {
      "cell_type": "code",
      "source": [
        "if sexo == \"Hombre\":\n",
        "  sexo = 0\n",
        "else:\n",
        "  sexo = 1"
      ],
      "metadata": {
        "id": "iabl4hEnadr1"
      },
      "execution_count": null,
      "outputs": []
    },
    {
      "cell_type": "code",
      "source": [
        "if enb == \"Southampton\":\n",
        "  enb = 0\n",
        "elif enb == \"Cherbourg\":\n",
        "  enb = 1\n",
        "else:\n",
        "  enb = 2"
      ],
      "metadata": {
        "id": "4zYU1qcrbYHo"
      },
      "execution_count": null,
      "outputs": []
    },
    {
      "cell_type": "code",
      "source": [
        "pas = {'Age': [edad], 'Sex': [sexo], 'Pclass': [clase], 'Embarked': [enb], 'Fare': [fare]}"
      ],
      "metadata": {
        "id": "UM3g71aEcEuT"
      },
      "execution_count": null,
      "outputs": []
    },
    {
      "cell_type": "code",
      "source": [
        "df_pas = pd.DataFrame(data = pas)"
      ],
      "metadata": {
        "id": "tWf35bkfeXee"
      },
      "execution_count": null,
      "outputs": []
    },
    {
      "cell_type": "code",
      "source": [
        "pred = regularized_tree.predict(df_pas)"
      ],
      "metadata": {
        "id": "UILagJG7e659"
      },
      "execution_count": null,
      "outputs": []
    },
    {
      "cell_type": "code",
      "source": [
        "pred = pred[0]\n",
        "if pred == 1:\n",
        "  res = \"Sobrevivió\"\n",
        "else:\n",
        "  res = \"No sobrevivió\""
      ],
      "metadata": {
        "id": "vIAu99aRffvy"
      },
      "execution_count": null,
      "outputs": []
    }
  ],
  "metadata": {
    "colab": {
      "provenance": [],
      "collapsed_sections": [
        "eTZdxQxtac9K",
        "KHPnSmkqKpBY",
        "JvcYuxO0njMq",
        "I1VZUW3JkPmd",
        "_IaKPP54SzGh",
        "bgxcU4GqTkMm",
        "3OzlyHTbZC7Z",
        "OThOEXX0nf5A",
        "8x2sUcdVcBuh",
        "2iC3z7Yk9LNh",
        "RgmdlXyrLPZu",
        "SI9f3oeBvO3W",
        "D9e5o978_3-O",
        "qem75RMidP6T",
        "MYzw3g10LdMk",
        "a06jmNsmLmS9",
        "8tbiTbkOLutk",
        "0u9Ornvg6quQ",
        "ZFmww8-ltxyD",
        "rnIm57BRV9ku"
      ]
    },
    "kernelspec": {
      "display_name": "Python 3",
      "name": "python3"
    },
    "language_info": {
      "name": "python"
    }
  },
  "nbformat": 4,
  "nbformat_minor": 0
}