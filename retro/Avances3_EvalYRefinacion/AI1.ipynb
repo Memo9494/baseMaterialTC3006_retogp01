{
  "cells": [
    {
      "cell_type": "markdown",
      "source": [
        "# Reto - Inteligencia Artificial Avanzada para la ciencia de datos I\n",
        "\n",
        "El reto de este proyecto es crear un modelo de machine learning que prediga qué pasajeros sobrevivieron en el accidente del Titanic.\n",
        "\n",
        "**Equipo 1**\n",
        "\n",
        "\n",
        "\n",
        "*   Frida Cano Falcón A01752953\n",
        "*   Guillermo Romeo Cepeda Medina A01284015\n",
        "*   Jorge Javier Sosa Briseño A01749489\n",
        "*   Daniel Saldaña Rodríguez A00829752\n",
        "\n",
        "\n",
        "\n"
      ],
      "metadata": {
        "id": "C40ND35bduiE"
      }
    },
    {
      "cell_type": "markdown",
      "metadata": {
        "id": "eTZdxQxtac9K"
      },
      "source": [
        "## Librerías"
      ]
    },
    {
      "cell_type": "code",
      "execution_count": null,
      "metadata": {
        "id": "BKhxT4rSEXI8"
      },
      "outputs": [],
      "source": [
        "import pandas as pd\n",
        "import seaborn as sb\n",
        "import numpy as np\n",
        "import matplotlib.pyplot as plt\n",
        "from tabulate import tabulate\n",
        "from sklearn import preprocessing\n",
        "import seaborn as sns\n",
        "from sklearn.impute import KNNImputer"
      ]
    },
    {
      "cell_type": "markdown",
      "metadata": {
        "id": "KHPnSmkqKpBY"
      },
      "source": [
        "## Directorio"
      ]
    },
    {
      "cell_type": "code",
      "execution_count": null,
      "metadata": {
        "colab": {
          "base_uri": "https://localhost:8080/"
        },
        "id": "-yrG2XEMH38k",
        "outputId": "c8a949a0-9af7-4109-f510-cc428914d7ca"
      },
      "outputs": [
        {
          "output_type": "stream",
          "name": "stdout",
          "text": [
            "Mounted at /content/gdrive\n",
            "/content\n"
          ]
        }
      ],
      "source": [
        "from google.colab import drive\n",
        "\n",
        "drive.mount(\"/content/gdrive\")\n",
        "!pwd  # show current path"
      ]
    },
    {
      "cell_type": "code",
      "execution_count": null,
      "metadata": {
        "colab": {
          "base_uri": "https://localhost:8080/"
        },
        "id": "LrVLeTCFH7_E",
        "outputId": "4a0ff2d9-4f02-4fd1-b160-a10d6bc05a4c"
      },
      "outputs": [
        {
          "output_type": "stream",
          "name": "stdout",
          "text": [
            "/content/gdrive/.shortcut-targets-by-id/1FNDCkfZgBaoLUenHQpb6h3yPrqX4y7SU/AI\n",
            "data_titanic.csv\t test.csv    titanic_prueba.ipynb\n",
            "Diagrama_Modelos.drawio  tested.csv\n"
          ]
        }
      ],
      "source": [
        "%cd \"/content/gdrive/MyDrive/AI\"\n",
        "!ls  # show current directory"
      ]
    },
    {
      "cell_type": "markdown",
      "metadata": {
        "id": "I1VZUW3JkPmd"
      },
      "source": [
        "## Extracción de datos"
      ]
    },
    {
      "cell_type": "markdown",
      "metadata": {
        "id": "6fji5-Dna_7H"
      },
      "source": [
        "Se cargan los dataset, el de entrenamiento y el de testo.\n",
        "\n"
      ]
    },
    {
      "cell_type": "code",
      "execution_count": null,
      "metadata": {
        "id": "Pq6MdYSIJpQF"
      },
      "outputs": [],
      "source": [
        "# Datos de entrenamiento\n",
        "data_titanic = pd.read_csv(\"data_titanic.csv\")\n",
        "# Datos de testeo\n",
        "data_test = pd.read_csv(\"test.csv\")"
      ]
    },
    {
      "cell_type": "markdown",
      "metadata": {
        "id": "7bNa8dwzaiuj"
      },
      "source": [
        "## Características del dataset\n"
      ]
    },
    {
      "cell_type": "markdown",
      "source": [
        "**Metadata del dataset**\n",
        "\n",
        "Cada columna representa las características de cada pasajero abordo del Titanic.\n",
        "\n",
        "| Variable | Definición | Clave |\n",
        "|--------------|--------------|--------------|\n",
        "| survival    | sobrevivencia    | 0 = No, 1 = Sí    |\n",
        "| pclass    | Tipo de clase    | 1 = 1ra, 2 = 2da, 3 = 3ra    |\n",
        "| sex    | Sexo   |     |\n",
        "| Age    | Edad en años    |     |\n",
        "| sibsp    | Número de hermanos / esposos     |    |\n",
        "| parch    | Número de padres / hijos    |     |\n",
        "| ticket    | Folio de ticket    |     |\n",
        "| fare    | Costo del boleto    |     |\n",
        "| cabin    | Número de cabina   |     |\n",
        "| embarked    | Puerto de embarcación    | C = Cherbourg, Q = Queenstown, S = Southampton   |\n",
        "\n",
        "\n",
        "Notas:\n",
        "\n",
        "\n",
        "\n",
        "*   El tipo de clase define el estatus socioeconómico.\n",
        "\n",
        "   1ra: Clase alta\n",
        "\n",
        "   2da: Clase media\n",
        "\n",
        "   3ra: Calse baja\n",
        "*   Edad: la edad es factorial si el pasajero tiene menos de un año.\n",
        "*   Las relaciones entre familiares se definen por:\n",
        "\n",
        "   Sibling = brother, sister, stepbrother, stepsister\n",
        "   \n",
        "   Spouse = husband, wife (mistresses and fiancés were ignored)\n",
        "\n",
        "   Parent = mother, father\n",
        "\n",
        "   Child = daughter, son, stepdaughter, stepson\n",
        "   \n",
        "   Some children travelled only with a nanny, therefore parch=0 for them.\n",
        "\n",
        "\n",
        "\n",
        "\n"
      ],
      "metadata": {
        "id": "rCop1u37fLQI"
      }
    },
    {
      "cell_type": "code",
      "source": [
        "data_titanic.head() # Head"
      ],
      "metadata": {
        "id": "_NJ1dY6bfRLT",
        "colab": {
          "base_uri": "https://localhost:8080/",
          "height": 258
        },
        "outputId": "dfda56ee-8fec-4f47-f8eb-6069ce8efc76"
      },
      "execution_count": null,
      "outputs": [
        {
          "output_type": "execute_result",
          "data": {
            "text/plain": [
              "   PassengerId  Survived  Pclass  \\\n",
              "0            1         0       3   \n",
              "1            2         1       1   \n",
              "2            3         1       3   \n",
              "3            4         1       1   \n",
              "4            5         0       3   \n",
              "\n",
              "                                                Name     Sex   Age  SibSp  \\\n",
              "0                            Braund, Mr. Owen Harris    male  22.0      1   \n",
              "1  Cumings, Mrs. John Bradley (Florence Briggs Th...  female  38.0      1   \n",
              "2                             Heikkinen, Miss. Laina  female  26.0      0   \n",
              "3       Futrelle, Mrs. Jacques Heath (Lily May Peel)  female  35.0      1   \n",
              "4                           Allen, Mr. William Henry    male  35.0      0   \n",
              "\n",
              "   Parch            Ticket     Fare Cabin Embarked  \n",
              "0      0         A/5 21171   7.2500   NaN        S  \n",
              "1      0          PC 17599  71.2833   C85        C  \n",
              "2      0  STON/O2. 3101282   7.9250   NaN        S  \n",
              "3      0            113803  53.1000  C123        S  \n",
              "4      0            373450   8.0500   NaN        S  "
            ],
            "text/html": [
              "\n",
              "  <div id=\"df-a74f4133-30b2-45aa-8aaa-7cfdab65ff58\" class=\"colab-df-container\">\n",
              "    <div>\n",
              "<style scoped>\n",
              "    .dataframe tbody tr th:only-of-type {\n",
              "        vertical-align: middle;\n",
              "    }\n",
              "\n",
              "    .dataframe tbody tr th {\n",
              "        vertical-align: top;\n",
              "    }\n",
              "\n",
              "    .dataframe thead th {\n",
              "        text-align: right;\n",
              "    }\n",
              "</style>\n",
              "<table border=\"1\" class=\"dataframe\">\n",
              "  <thead>\n",
              "    <tr style=\"text-align: right;\">\n",
              "      <th></th>\n",
              "      <th>PassengerId</th>\n",
              "      <th>Survived</th>\n",
              "      <th>Pclass</th>\n",
              "      <th>Name</th>\n",
              "      <th>Sex</th>\n",
              "      <th>Age</th>\n",
              "      <th>SibSp</th>\n",
              "      <th>Parch</th>\n",
              "      <th>Ticket</th>\n",
              "      <th>Fare</th>\n",
              "      <th>Cabin</th>\n",
              "      <th>Embarked</th>\n",
              "    </tr>\n",
              "  </thead>\n",
              "  <tbody>\n",
              "    <tr>\n",
              "      <th>0</th>\n",
              "      <td>1</td>\n",
              "      <td>0</td>\n",
              "      <td>3</td>\n",
              "      <td>Braund, Mr. Owen Harris</td>\n",
              "      <td>male</td>\n",
              "      <td>22.0</td>\n",
              "      <td>1</td>\n",
              "      <td>0</td>\n",
              "      <td>A/5 21171</td>\n",
              "      <td>7.2500</td>\n",
              "      <td>NaN</td>\n",
              "      <td>S</td>\n",
              "    </tr>\n",
              "    <tr>\n",
              "      <th>1</th>\n",
              "      <td>2</td>\n",
              "      <td>1</td>\n",
              "      <td>1</td>\n",
              "      <td>Cumings, Mrs. John Bradley (Florence Briggs Th...</td>\n",
              "      <td>female</td>\n",
              "      <td>38.0</td>\n",
              "      <td>1</td>\n",
              "      <td>0</td>\n",
              "      <td>PC 17599</td>\n",
              "      <td>71.2833</td>\n",
              "      <td>C85</td>\n",
              "      <td>C</td>\n",
              "    </tr>\n",
              "    <tr>\n",
              "      <th>2</th>\n",
              "      <td>3</td>\n",
              "      <td>1</td>\n",
              "      <td>3</td>\n",
              "      <td>Heikkinen, Miss. Laina</td>\n",
              "      <td>female</td>\n",
              "      <td>26.0</td>\n",
              "      <td>0</td>\n",
              "      <td>0</td>\n",
              "      <td>STON/O2. 3101282</td>\n",
              "      <td>7.9250</td>\n",
              "      <td>NaN</td>\n",
              "      <td>S</td>\n",
              "    </tr>\n",
              "    <tr>\n",
              "      <th>3</th>\n",
              "      <td>4</td>\n",
              "      <td>1</td>\n",
              "      <td>1</td>\n",
              "      <td>Futrelle, Mrs. Jacques Heath (Lily May Peel)</td>\n",
              "      <td>female</td>\n",
              "      <td>35.0</td>\n",
              "      <td>1</td>\n",
              "      <td>0</td>\n",
              "      <td>113803</td>\n",
              "      <td>53.1000</td>\n",
              "      <td>C123</td>\n",
              "      <td>S</td>\n",
              "    </tr>\n",
              "    <tr>\n",
              "      <th>4</th>\n",
              "      <td>5</td>\n",
              "      <td>0</td>\n",
              "      <td>3</td>\n",
              "      <td>Allen, Mr. William Henry</td>\n",
              "      <td>male</td>\n",
              "      <td>35.0</td>\n",
              "      <td>0</td>\n",
              "      <td>0</td>\n",
              "      <td>373450</td>\n",
              "      <td>8.0500</td>\n",
              "      <td>NaN</td>\n",
              "      <td>S</td>\n",
              "    </tr>\n",
              "  </tbody>\n",
              "</table>\n",
              "</div>\n",
              "    <div class=\"colab-df-buttons\">\n",
              "\n",
              "  <div class=\"colab-df-container\">\n",
              "    <button class=\"colab-df-convert\" onclick=\"convertToInteractive('df-a74f4133-30b2-45aa-8aaa-7cfdab65ff58')\"\n",
              "            title=\"Convert this dataframe to an interactive table.\"\n",
              "            style=\"display:none;\">\n",
              "\n",
              "  <svg xmlns=\"http://www.w3.org/2000/svg\" height=\"24px\" viewBox=\"0 -960 960 960\">\n",
              "    <path d=\"M120-120v-720h720v720H120Zm60-500h600v-160H180v160Zm220 220h160v-160H400v160Zm0 220h160v-160H400v160ZM180-400h160v-160H180v160Zm440 0h160v-160H620v160ZM180-180h160v-160H180v160Zm440 0h160v-160H620v160Z\"/>\n",
              "  </svg>\n",
              "    </button>\n",
              "\n",
              "  <style>\n",
              "    .colab-df-container {\n",
              "      display:flex;\n",
              "      gap: 12px;\n",
              "    }\n",
              "\n",
              "    .colab-df-convert {\n",
              "      background-color: #E8F0FE;\n",
              "      border: none;\n",
              "      border-radius: 50%;\n",
              "      cursor: pointer;\n",
              "      display: none;\n",
              "      fill: #1967D2;\n",
              "      height: 32px;\n",
              "      padding: 0 0 0 0;\n",
              "      width: 32px;\n",
              "    }\n",
              "\n",
              "    .colab-df-convert:hover {\n",
              "      background-color: #E2EBFA;\n",
              "      box-shadow: 0px 1px 2px rgba(60, 64, 67, 0.3), 0px 1px 3px 1px rgba(60, 64, 67, 0.15);\n",
              "      fill: #174EA6;\n",
              "    }\n",
              "\n",
              "    .colab-df-buttons div {\n",
              "      margin-bottom: 4px;\n",
              "    }\n",
              "\n",
              "    [theme=dark] .colab-df-convert {\n",
              "      background-color: #3B4455;\n",
              "      fill: #D2E3FC;\n",
              "    }\n",
              "\n",
              "    [theme=dark] .colab-df-convert:hover {\n",
              "      background-color: #434B5C;\n",
              "      box-shadow: 0px 1px 3px 1px rgba(0, 0, 0, 0.15);\n",
              "      filter: drop-shadow(0px 1px 2px rgba(0, 0, 0, 0.3));\n",
              "      fill: #FFFFFF;\n",
              "    }\n",
              "  </style>\n",
              "\n",
              "    <script>\n",
              "      const buttonEl =\n",
              "        document.querySelector('#df-a74f4133-30b2-45aa-8aaa-7cfdab65ff58 button.colab-df-convert');\n",
              "      buttonEl.style.display =\n",
              "        google.colab.kernel.accessAllowed ? 'block' : 'none';\n",
              "\n",
              "      async function convertToInteractive(key) {\n",
              "        const element = document.querySelector('#df-a74f4133-30b2-45aa-8aaa-7cfdab65ff58');\n",
              "        const dataTable =\n",
              "          await google.colab.kernel.invokeFunction('convertToInteractive',\n",
              "                                                    [key], {});\n",
              "        if (!dataTable) return;\n",
              "\n",
              "        const docLinkHtml = 'Like what you see? Visit the ' +\n",
              "          '<a target=\"_blank\" href=https://colab.research.google.com/notebooks/data_table.ipynb>data table notebook</a>'\n",
              "          + ' to learn more about interactive tables.';\n",
              "        element.innerHTML = '';\n",
              "        dataTable['output_type'] = 'display_data';\n",
              "        await google.colab.output.renderOutput(dataTable, element);\n",
              "        const docLink = document.createElement('div');\n",
              "        docLink.innerHTML = docLinkHtml;\n",
              "        element.appendChild(docLink);\n",
              "      }\n",
              "    </script>\n",
              "  </div>\n",
              "\n",
              "\n",
              "<div id=\"df-891755d6-ecab-4353-94a9-2182e1714c8a\">\n",
              "  <button class=\"colab-df-quickchart\" onclick=\"quickchart('df-891755d6-ecab-4353-94a9-2182e1714c8a')\"\n",
              "            title=\"Suggest charts.\"\n",
              "            style=\"display:none;\">\n",
              "\n",
              "<svg xmlns=\"http://www.w3.org/2000/svg\" height=\"24px\"viewBox=\"0 0 24 24\"\n",
              "     width=\"24px\">\n",
              "    <g>\n",
              "        <path d=\"M19 3H5c-1.1 0-2 .9-2 2v14c0 1.1.9 2 2 2h14c1.1 0 2-.9 2-2V5c0-1.1-.9-2-2-2zM9 17H7v-7h2v7zm4 0h-2V7h2v10zm4 0h-2v-4h2v4z\"/>\n",
              "    </g>\n",
              "</svg>\n",
              "  </button>\n",
              "\n",
              "<style>\n",
              "  .colab-df-quickchart {\n",
              "    background-color: #E8F0FE;\n",
              "    border: none;\n",
              "    border-radius: 50%;\n",
              "    cursor: pointer;\n",
              "    display: none;\n",
              "    fill: #1967D2;\n",
              "    height: 32px;\n",
              "    padding: 0 0 0 0;\n",
              "    width: 32px;\n",
              "  }\n",
              "\n",
              "  .colab-df-quickchart:hover {\n",
              "    background-color: #E2EBFA;\n",
              "    box-shadow: 0px 1px 2px rgba(60, 64, 67, 0.3), 0px 1px 3px 1px rgba(60, 64, 67, 0.15);\n",
              "    fill: #174EA6;\n",
              "  }\n",
              "\n",
              "  [theme=dark] .colab-df-quickchart {\n",
              "    background-color: #3B4455;\n",
              "    fill: #D2E3FC;\n",
              "  }\n",
              "\n",
              "  [theme=dark] .colab-df-quickchart:hover {\n",
              "    background-color: #434B5C;\n",
              "    box-shadow: 0px 1px 3px 1px rgba(0, 0, 0, 0.15);\n",
              "    filter: drop-shadow(0px 1px 2px rgba(0, 0, 0, 0.3));\n",
              "    fill: #FFFFFF;\n",
              "  }\n",
              "</style>\n",
              "\n",
              "  <script>\n",
              "    async function quickchart(key) {\n",
              "      const charts = await google.colab.kernel.invokeFunction(\n",
              "          'suggestCharts', [key], {});\n",
              "    }\n",
              "    (() => {\n",
              "      let quickchartButtonEl =\n",
              "        document.querySelector('#df-891755d6-ecab-4353-94a9-2182e1714c8a button');\n",
              "      quickchartButtonEl.style.display =\n",
              "        google.colab.kernel.accessAllowed ? 'block' : 'none';\n",
              "    })();\n",
              "  </script>\n",
              "</div>\n",
              "    </div>\n",
              "  </div>\n"
            ]
          },
          "metadata": {},
          "execution_count": 5
        }
      ]
    },
    {
      "cell_type": "code",
      "source": [
        "data_test.head() # Head"
      ],
      "metadata": {
        "id": "abNbB7QnfT7D",
        "colab": {
          "base_uri": "https://localhost:8080/",
          "height": 206
        },
        "outputId": "8932e808-7dbe-4799-a558-88953ef3e660"
      },
      "execution_count": null,
      "outputs": [
        {
          "output_type": "execute_result",
          "data": {
            "text/plain": [
              "   PassengerId  Pclass                                          Name     Sex  \\\n",
              "0          892       3                              Kelly, Mr. James    male   \n",
              "1          893       3              Wilkes, Mrs. James (Ellen Needs)  female   \n",
              "2          894       2                     Myles, Mr. Thomas Francis    male   \n",
              "3          895       3                              Wirz, Mr. Albert    male   \n",
              "4          896       3  Hirvonen, Mrs. Alexander (Helga E Lindqvist)  female   \n",
              "\n",
              "    Age  SibSp  Parch   Ticket     Fare Cabin Embarked  \n",
              "0  34.5      0      0   330911   7.8292   NaN        Q  \n",
              "1  47.0      1      0   363272   7.0000   NaN        S  \n",
              "2  62.0      0      0   240276   9.6875   NaN        Q  \n",
              "3  27.0      0      0   315154   8.6625   NaN        S  \n",
              "4  22.0      1      1  3101298  12.2875   NaN        S  "
            ],
            "text/html": [
              "\n",
              "  <div id=\"df-00969c5a-fffe-4eac-8eaa-58c360e2a06d\" class=\"colab-df-container\">\n",
              "    <div>\n",
              "<style scoped>\n",
              "    .dataframe tbody tr th:only-of-type {\n",
              "        vertical-align: middle;\n",
              "    }\n",
              "\n",
              "    .dataframe tbody tr th {\n",
              "        vertical-align: top;\n",
              "    }\n",
              "\n",
              "    .dataframe thead th {\n",
              "        text-align: right;\n",
              "    }\n",
              "</style>\n",
              "<table border=\"1\" class=\"dataframe\">\n",
              "  <thead>\n",
              "    <tr style=\"text-align: right;\">\n",
              "      <th></th>\n",
              "      <th>PassengerId</th>\n",
              "      <th>Pclass</th>\n",
              "      <th>Name</th>\n",
              "      <th>Sex</th>\n",
              "      <th>Age</th>\n",
              "      <th>SibSp</th>\n",
              "      <th>Parch</th>\n",
              "      <th>Ticket</th>\n",
              "      <th>Fare</th>\n",
              "      <th>Cabin</th>\n",
              "      <th>Embarked</th>\n",
              "    </tr>\n",
              "  </thead>\n",
              "  <tbody>\n",
              "    <tr>\n",
              "      <th>0</th>\n",
              "      <td>892</td>\n",
              "      <td>3</td>\n",
              "      <td>Kelly, Mr. James</td>\n",
              "      <td>male</td>\n",
              "      <td>34.5</td>\n",
              "      <td>0</td>\n",
              "      <td>0</td>\n",
              "      <td>330911</td>\n",
              "      <td>7.8292</td>\n",
              "      <td>NaN</td>\n",
              "      <td>Q</td>\n",
              "    </tr>\n",
              "    <tr>\n",
              "      <th>1</th>\n",
              "      <td>893</td>\n",
              "      <td>3</td>\n",
              "      <td>Wilkes, Mrs. James (Ellen Needs)</td>\n",
              "      <td>female</td>\n",
              "      <td>47.0</td>\n",
              "      <td>1</td>\n",
              "      <td>0</td>\n",
              "      <td>363272</td>\n",
              "      <td>7.0000</td>\n",
              "      <td>NaN</td>\n",
              "      <td>S</td>\n",
              "    </tr>\n",
              "    <tr>\n",
              "      <th>2</th>\n",
              "      <td>894</td>\n",
              "      <td>2</td>\n",
              "      <td>Myles, Mr. Thomas Francis</td>\n",
              "      <td>male</td>\n",
              "      <td>62.0</td>\n",
              "      <td>0</td>\n",
              "      <td>0</td>\n",
              "      <td>240276</td>\n",
              "      <td>9.6875</td>\n",
              "      <td>NaN</td>\n",
              "      <td>Q</td>\n",
              "    </tr>\n",
              "    <tr>\n",
              "      <th>3</th>\n",
              "      <td>895</td>\n",
              "      <td>3</td>\n",
              "      <td>Wirz, Mr. Albert</td>\n",
              "      <td>male</td>\n",
              "      <td>27.0</td>\n",
              "      <td>0</td>\n",
              "      <td>0</td>\n",
              "      <td>315154</td>\n",
              "      <td>8.6625</td>\n",
              "      <td>NaN</td>\n",
              "      <td>S</td>\n",
              "    </tr>\n",
              "    <tr>\n",
              "      <th>4</th>\n",
              "      <td>896</td>\n",
              "      <td>3</td>\n",
              "      <td>Hirvonen, Mrs. Alexander (Helga E Lindqvist)</td>\n",
              "      <td>female</td>\n",
              "      <td>22.0</td>\n",
              "      <td>1</td>\n",
              "      <td>1</td>\n",
              "      <td>3101298</td>\n",
              "      <td>12.2875</td>\n",
              "      <td>NaN</td>\n",
              "      <td>S</td>\n",
              "    </tr>\n",
              "  </tbody>\n",
              "</table>\n",
              "</div>\n",
              "    <div class=\"colab-df-buttons\">\n",
              "\n",
              "  <div class=\"colab-df-container\">\n",
              "    <button class=\"colab-df-convert\" onclick=\"convertToInteractive('df-00969c5a-fffe-4eac-8eaa-58c360e2a06d')\"\n",
              "            title=\"Convert this dataframe to an interactive table.\"\n",
              "            style=\"display:none;\">\n",
              "\n",
              "  <svg xmlns=\"http://www.w3.org/2000/svg\" height=\"24px\" viewBox=\"0 -960 960 960\">\n",
              "    <path d=\"M120-120v-720h720v720H120Zm60-500h600v-160H180v160Zm220 220h160v-160H400v160Zm0 220h160v-160H400v160ZM180-400h160v-160H180v160Zm440 0h160v-160H620v160ZM180-180h160v-160H180v160Zm440 0h160v-160H620v160Z\"/>\n",
              "  </svg>\n",
              "    </button>\n",
              "\n",
              "  <style>\n",
              "    .colab-df-container {\n",
              "      display:flex;\n",
              "      gap: 12px;\n",
              "    }\n",
              "\n",
              "    .colab-df-convert {\n",
              "      background-color: #E8F0FE;\n",
              "      border: none;\n",
              "      border-radius: 50%;\n",
              "      cursor: pointer;\n",
              "      display: none;\n",
              "      fill: #1967D2;\n",
              "      height: 32px;\n",
              "      padding: 0 0 0 0;\n",
              "      width: 32px;\n",
              "    }\n",
              "\n",
              "    .colab-df-convert:hover {\n",
              "      background-color: #E2EBFA;\n",
              "      box-shadow: 0px 1px 2px rgba(60, 64, 67, 0.3), 0px 1px 3px 1px rgba(60, 64, 67, 0.15);\n",
              "      fill: #174EA6;\n",
              "    }\n",
              "\n",
              "    .colab-df-buttons div {\n",
              "      margin-bottom: 4px;\n",
              "    }\n",
              "\n",
              "    [theme=dark] .colab-df-convert {\n",
              "      background-color: #3B4455;\n",
              "      fill: #D2E3FC;\n",
              "    }\n",
              "\n",
              "    [theme=dark] .colab-df-convert:hover {\n",
              "      background-color: #434B5C;\n",
              "      box-shadow: 0px 1px 3px 1px rgba(0, 0, 0, 0.15);\n",
              "      filter: drop-shadow(0px 1px 2px rgba(0, 0, 0, 0.3));\n",
              "      fill: #FFFFFF;\n",
              "    }\n",
              "  </style>\n",
              "\n",
              "    <script>\n",
              "      const buttonEl =\n",
              "        document.querySelector('#df-00969c5a-fffe-4eac-8eaa-58c360e2a06d button.colab-df-convert');\n",
              "      buttonEl.style.display =\n",
              "        google.colab.kernel.accessAllowed ? 'block' : 'none';\n",
              "\n",
              "      async function convertToInteractive(key) {\n",
              "        const element = document.querySelector('#df-00969c5a-fffe-4eac-8eaa-58c360e2a06d');\n",
              "        const dataTable =\n",
              "          await google.colab.kernel.invokeFunction('convertToInteractive',\n",
              "                                                    [key], {});\n",
              "        if (!dataTable) return;\n",
              "\n",
              "        const docLinkHtml = 'Like what you see? Visit the ' +\n",
              "          '<a target=\"_blank\" href=https://colab.research.google.com/notebooks/data_table.ipynb>data table notebook</a>'\n",
              "          + ' to learn more about interactive tables.';\n",
              "        element.innerHTML = '';\n",
              "        dataTable['output_type'] = 'display_data';\n",
              "        await google.colab.output.renderOutput(dataTable, element);\n",
              "        const docLink = document.createElement('div');\n",
              "        docLink.innerHTML = docLinkHtml;\n",
              "        element.appendChild(docLink);\n",
              "      }\n",
              "    </script>\n",
              "  </div>\n",
              "\n",
              "\n",
              "<div id=\"df-a8f0bb9e-db35-492e-8574-4ee89479804a\">\n",
              "  <button class=\"colab-df-quickchart\" onclick=\"quickchart('df-a8f0bb9e-db35-492e-8574-4ee89479804a')\"\n",
              "            title=\"Suggest charts.\"\n",
              "            style=\"display:none;\">\n",
              "\n",
              "<svg xmlns=\"http://www.w3.org/2000/svg\" height=\"24px\"viewBox=\"0 0 24 24\"\n",
              "     width=\"24px\">\n",
              "    <g>\n",
              "        <path d=\"M19 3H5c-1.1 0-2 .9-2 2v14c0 1.1.9 2 2 2h14c1.1 0 2-.9 2-2V5c0-1.1-.9-2-2-2zM9 17H7v-7h2v7zm4 0h-2V7h2v10zm4 0h-2v-4h2v4z\"/>\n",
              "    </g>\n",
              "</svg>\n",
              "  </button>\n",
              "\n",
              "<style>\n",
              "  .colab-df-quickchart {\n",
              "    background-color: #E8F0FE;\n",
              "    border: none;\n",
              "    border-radius: 50%;\n",
              "    cursor: pointer;\n",
              "    display: none;\n",
              "    fill: #1967D2;\n",
              "    height: 32px;\n",
              "    padding: 0 0 0 0;\n",
              "    width: 32px;\n",
              "  }\n",
              "\n",
              "  .colab-df-quickchart:hover {\n",
              "    background-color: #E2EBFA;\n",
              "    box-shadow: 0px 1px 2px rgba(60, 64, 67, 0.3), 0px 1px 3px 1px rgba(60, 64, 67, 0.15);\n",
              "    fill: #174EA6;\n",
              "  }\n",
              "\n",
              "  [theme=dark] .colab-df-quickchart {\n",
              "    background-color: #3B4455;\n",
              "    fill: #D2E3FC;\n",
              "  }\n",
              "\n",
              "  [theme=dark] .colab-df-quickchart:hover {\n",
              "    background-color: #434B5C;\n",
              "    box-shadow: 0px 1px 3px 1px rgba(0, 0, 0, 0.15);\n",
              "    filter: drop-shadow(0px 1px 2px rgba(0, 0, 0, 0.3));\n",
              "    fill: #FFFFFF;\n",
              "  }\n",
              "</style>\n",
              "\n",
              "  <script>\n",
              "    async function quickchart(key) {\n",
              "      const charts = await google.colab.kernel.invokeFunction(\n",
              "          'suggestCharts', [key], {});\n",
              "    }\n",
              "    (() => {\n",
              "      let quickchartButtonEl =\n",
              "        document.querySelector('#df-a8f0bb9e-db35-492e-8574-4ee89479804a button');\n",
              "      quickchartButtonEl.style.display =\n",
              "        google.colab.kernel.accessAllowed ? 'block' : 'none';\n",
              "    })();\n",
              "  </script>\n",
              "</div>\n",
              "    </div>\n",
              "  </div>\n"
            ]
          },
          "metadata": {},
          "execution_count": 6
        }
      ]
    },
    {
      "cell_type": "markdown",
      "source": [
        "\n",
        "**Base de datos de entrenamiento**\n",
        "\n",
        "Contiene los datos de 891 pasajeros\n",
        "\n",
        "**Base de datos de testeo**\n",
        "\n",
        "Contiene los datos de 418 pasajeros"
      ],
      "metadata": {
        "id": "holq6RBbl89m"
      }
    },
    {
      "cell_type": "code",
      "source": [
        "print(data_titanic.shape) # Shape\n",
        "print(data_test.shape)"
      ],
      "metadata": {
        "id": "qbVUQ_-5flEd",
        "colab": {
          "base_uri": "https://localhost:8080/"
        },
        "outputId": "0bfb70d0-15bc-4b99-d51f-9061e2128369"
      },
      "execution_count": null,
      "outputs": [
        {
          "output_type": "stream",
          "name": "stdout",
          "text": [
            "(891, 12)\n",
            "(418, 11)\n"
          ]
        }
      ]
    },
    {
      "cell_type": "markdown",
      "metadata": {
        "id": "RA5snH1hbHgp"
      },
      "source": [
        "Análisis de las características de los datos: número de columnas, número de filas, valores nulos que puedan causar ruido."
      ]
    },
    {
      "cell_type": "code",
      "execution_count": null,
      "metadata": {
        "id": "TVp_cjcZW2Ou",
        "colab": {
          "base_uri": "https://localhost:8080/"
        },
        "outputId": "cb15f455-67cf-41d1-d0c4-1bd8186f7477"
      },
      "outputs": [
        {
          "output_type": "stream",
          "name": "stdout",
          "text": [
            "<class 'pandas.core.frame.DataFrame'>\n",
            "RangeIndex: 891 entries, 0 to 890\n",
            "Data columns (total 12 columns):\n",
            " #   Column       Non-Null Count  Dtype  \n",
            "---  ------       --------------  -----  \n",
            " 0   PassengerId  891 non-null    int64  \n",
            " 1   Survived     891 non-null    int64  \n",
            " 2   Pclass       891 non-null    int64  \n",
            " 3   Name         891 non-null    object \n",
            " 4   Sex          891 non-null    object \n",
            " 5   Age          714 non-null    float64\n",
            " 6   SibSp        891 non-null    int64  \n",
            " 7   Parch        891 non-null    int64  \n",
            " 8   Ticket       891 non-null    object \n",
            " 9   Fare         891 non-null    float64\n",
            " 10  Cabin        204 non-null    object \n",
            " 11  Embarked     889 non-null    object \n",
            "dtypes: float64(2), int64(5), object(5)\n",
            "memory usage: 83.7+ KB\n"
          ]
        }
      ],
      "source": [
        "data_titanic.info() # DataSet information. Train file"
      ]
    },
    {
      "cell_type": "code",
      "execution_count": null,
      "metadata": {
        "id": "bdynUk3aMkyW",
        "colab": {
          "base_uri": "https://localhost:8080/"
        },
        "outputId": "79dd5586-d1e6-43ca-f098-f22e8799cd5a"
      },
      "outputs": [
        {
          "output_type": "stream",
          "name": "stdout",
          "text": [
            "<class 'pandas.core.frame.DataFrame'>\n",
            "RangeIndex: 418 entries, 0 to 417\n",
            "Data columns (total 11 columns):\n",
            " #   Column       Non-Null Count  Dtype  \n",
            "---  ------       --------------  -----  \n",
            " 0   PassengerId  418 non-null    int64  \n",
            " 1   Pclass       418 non-null    int64  \n",
            " 2   Name         418 non-null    object \n",
            " 3   Sex          418 non-null    object \n",
            " 4   Age          332 non-null    float64\n",
            " 5   SibSp        418 non-null    int64  \n",
            " 6   Parch        418 non-null    int64  \n",
            " 7   Ticket       418 non-null    object \n",
            " 8   Fare         417 non-null    float64\n",
            " 9   Cabin        91 non-null     object \n",
            " 10  Embarked     418 non-null    object \n",
            "dtypes: float64(2), int64(4), object(5)\n",
            "memory usage: 36.0+ KB\n"
          ]
        }
      ],
      "source": [
        "data_test.info() # DataSet information. Test file"
      ]
    },
    {
      "cell_type": "markdown",
      "source": [
        "Verificamos cuantos valores Nulos existen en la tabla."
      ],
      "metadata": {
        "id": "wZLI3JzJNZ6D"
      }
    },
    {
      "cell_type": "code",
      "execution_count": null,
      "metadata": {
        "id": "qqyI3u9BMfAx",
        "colab": {
          "base_uri": "https://localhost:8080/"
        },
        "outputId": "440271c8-d7f2-43e3-89d7-85c134873f65"
      },
      "outputs": [
        {
          "output_type": "execute_result",
          "data": {
            "text/plain": [
              "PassengerId      0\n",
              "Survived         0\n",
              "Pclass           0\n",
              "Name             0\n",
              "Sex              0\n",
              "Age            177\n",
              "SibSp            0\n",
              "Parch            0\n",
              "Ticket           0\n",
              "Fare             0\n",
              "Cabin          687\n",
              "Embarked         2\n",
              "dtype: int64"
            ]
          },
          "metadata": {},
          "execution_count": 10
        }
      ],
      "source": [
        "data_titanic.isnull().sum() # Null Values"
      ]
    },
    {
      "cell_type": "code",
      "execution_count": null,
      "metadata": {
        "id": "CSP1Ph2waMzN",
        "colab": {
          "base_uri": "https://localhost:8080/"
        },
        "outputId": "fb6e22d9-63d3-47e6-95a8-82c5feff1d47"
      },
      "outputs": [
        {
          "output_type": "execute_result",
          "data": {
            "text/plain": [
              "PassengerId      0\n",
              "Pclass           0\n",
              "Name             0\n",
              "Sex              0\n",
              "Age             86\n",
              "SibSp            0\n",
              "Parch            0\n",
              "Ticket           0\n",
              "Fare             1\n",
              "Cabin          327\n",
              "Embarked         0\n",
              "dtype: int64"
            ]
          },
          "metadata": {},
          "execution_count": 11
        }
      ],
      "source": [
        "data_test.isnull().sum()  # Null Values"
      ]
    },
    {
      "cell_type": "markdown",
      "metadata": {
        "id": "2QsXXLaCbTKd"
      },
      "source": [
        "Eliminamos las columas que consideramos menos importantes o no relevantes, debido a que no otrorgan información que se pueda relacionar con la supervivencia como el nombre, folio del ticket, relación con otros pasajeros.\n",
        "Con esto preservamos las siguientes clases:\n",
        "\n",
        "*    Clase socio económica, edad, sexo, monto pagado y embarcación."
      ]
    },
    {
      "cell_type": "code",
      "execution_count": null,
      "metadata": {
        "id": "qDu-vnF5hkqT",
        "colab": {
          "base_uri": "https://localhost:8080/",
          "height": 206
        },
        "outputId": "3e25244d-52da-486b-b94a-46f868c3155e"
      },
      "outputs": [
        {
          "output_type": "execute_result",
          "data": {
            "text/plain": [
              "   Survived  Pclass     Sex   Age     Fare Embarked\n",
              "0         0       3    male  22.0   7.2500        S\n",
              "1         1       1  female  38.0  71.2833        C\n",
              "2         1       3  female  26.0   7.9250        S\n",
              "3         1       1  female  35.0  53.1000        S\n",
              "4         0       3    male  35.0   8.0500        S"
            ],
            "text/html": [
              "\n",
              "  <div id=\"df-7084c601-3f15-47eb-8a13-12cd4fb2c7b1\" class=\"colab-df-container\">\n",
              "    <div>\n",
              "<style scoped>\n",
              "    .dataframe tbody tr th:only-of-type {\n",
              "        vertical-align: middle;\n",
              "    }\n",
              "\n",
              "    .dataframe tbody tr th {\n",
              "        vertical-align: top;\n",
              "    }\n",
              "\n",
              "    .dataframe thead th {\n",
              "        text-align: right;\n",
              "    }\n",
              "</style>\n",
              "<table border=\"1\" class=\"dataframe\">\n",
              "  <thead>\n",
              "    <tr style=\"text-align: right;\">\n",
              "      <th></th>\n",
              "      <th>Survived</th>\n",
              "      <th>Pclass</th>\n",
              "      <th>Sex</th>\n",
              "      <th>Age</th>\n",
              "      <th>Fare</th>\n",
              "      <th>Embarked</th>\n",
              "    </tr>\n",
              "  </thead>\n",
              "  <tbody>\n",
              "    <tr>\n",
              "      <th>0</th>\n",
              "      <td>0</td>\n",
              "      <td>3</td>\n",
              "      <td>male</td>\n",
              "      <td>22.0</td>\n",
              "      <td>7.2500</td>\n",
              "      <td>S</td>\n",
              "    </tr>\n",
              "    <tr>\n",
              "      <th>1</th>\n",
              "      <td>1</td>\n",
              "      <td>1</td>\n",
              "      <td>female</td>\n",
              "      <td>38.0</td>\n",
              "      <td>71.2833</td>\n",
              "      <td>C</td>\n",
              "    </tr>\n",
              "    <tr>\n",
              "      <th>2</th>\n",
              "      <td>1</td>\n",
              "      <td>3</td>\n",
              "      <td>female</td>\n",
              "      <td>26.0</td>\n",
              "      <td>7.9250</td>\n",
              "      <td>S</td>\n",
              "    </tr>\n",
              "    <tr>\n",
              "      <th>3</th>\n",
              "      <td>1</td>\n",
              "      <td>1</td>\n",
              "      <td>female</td>\n",
              "      <td>35.0</td>\n",
              "      <td>53.1000</td>\n",
              "      <td>S</td>\n",
              "    </tr>\n",
              "    <tr>\n",
              "      <th>4</th>\n",
              "      <td>0</td>\n",
              "      <td>3</td>\n",
              "      <td>male</td>\n",
              "      <td>35.0</td>\n",
              "      <td>8.0500</td>\n",
              "      <td>S</td>\n",
              "    </tr>\n",
              "  </tbody>\n",
              "</table>\n",
              "</div>\n",
              "    <div class=\"colab-df-buttons\">\n",
              "\n",
              "  <div class=\"colab-df-container\">\n",
              "    <button class=\"colab-df-convert\" onclick=\"convertToInteractive('df-7084c601-3f15-47eb-8a13-12cd4fb2c7b1')\"\n",
              "            title=\"Convert this dataframe to an interactive table.\"\n",
              "            style=\"display:none;\">\n",
              "\n",
              "  <svg xmlns=\"http://www.w3.org/2000/svg\" height=\"24px\" viewBox=\"0 -960 960 960\">\n",
              "    <path d=\"M120-120v-720h720v720H120Zm60-500h600v-160H180v160Zm220 220h160v-160H400v160Zm0 220h160v-160H400v160ZM180-400h160v-160H180v160Zm440 0h160v-160H620v160ZM180-180h160v-160H180v160Zm440 0h160v-160H620v160Z\"/>\n",
              "  </svg>\n",
              "    </button>\n",
              "\n",
              "  <style>\n",
              "    .colab-df-container {\n",
              "      display:flex;\n",
              "      gap: 12px;\n",
              "    }\n",
              "\n",
              "    .colab-df-convert {\n",
              "      background-color: #E8F0FE;\n",
              "      border: none;\n",
              "      border-radius: 50%;\n",
              "      cursor: pointer;\n",
              "      display: none;\n",
              "      fill: #1967D2;\n",
              "      height: 32px;\n",
              "      padding: 0 0 0 0;\n",
              "      width: 32px;\n",
              "    }\n",
              "\n",
              "    .colab-df-convert:hover {\n",
              "      background-color: #E2EBFA;\n",
              "      box-shadow: 0px 1px 2px rgba(60, 64, 67, 0.3), 0px 1px 3px 1px rgba(60, 64, 67, 0.15);\n",
              "      fill: #174EA6;\n",
              "    }\n",
              "\n",
              "    .colab-df-buttons div {\n",
              "      margin-bottom: 4px;\n",
              "    }\n",
              "\n",
              "    [theme=dark] .colab-df-convert {\n",
              "      background-color: #3B4455;\n",
              "      fill: #D2E3FC;\n",
              "    }\n",
              "\n",
              "    [theme=dark] .colab-df-convert:hover {\n",
              "      background-color: #434B5C;\n",
              "      box-shadow: 0px 1px 3px 1px rgba(0, 0, 0, 0.15);\n",
              "      filter: drop-shadow(0px 1px 2px rgba(0, 0, 0, 0.3));\n",
              "      fill: #FFFFFF;\n",
              "    }\n",
              "  </style>\n",
              "\n",
              "    <script>\n",
              "      const buttonEl =\n",
              "        document.querySelector('#df-7084c601-3f15-47eb-8a13-12cd4fb2c7b1 button.colab-df-convert');\n",
              "      buttonEl.style.display =\n",
              "        google.colab.kernel.accessAllowed ? 'block' : 'none';\n",
              "\n",
              "      async function convertToInteractive(key) {\n",
              "        const element = document.querySelector('#df-7084c601-3f15-47eb-8a13-12cd4fb2c7b1');\n",
              "        const dataTable =\n",
              "          await google.colab.kernel.invokeFunction('convertToInteractive',\n",
              "                                                    [key], {});\n",
              "        if (!dataTable) return;\n",
              "\n",
              "        const docLinkHtml = 'Like what you see? Visit the ' +\n",
              "          '<a target=\"_blank\" href=https://colab.research.google.com/notebooks/data_table.ipynb>data table notebook</a>'\n",
              "          + ' to learn more about interactive tables.';\n",
              "        element.innerHTML = '';\n",
              "        dataTable['output_type'] = 'display_data';\n",
              "        await google.colab.output.renderOutput(dataTable, element);\n",
              "        const docLink = document.createElement('div');\n",
              "        docLink.innerHTML = docLinkHtml;\n",
              "        element.appendChild(docLink);\n",
              "      }\n",
              "    </script>\n",
              "  </div>\n",
              "\n",
              "\n",
              "<div id=\"df-2e86b459-a6b0-4b0e-8f8b-f4d9fdac1b0f\">\n",
              "  <button class=\"colab-df-quickchart\" onclick=\"quickchart('df-2e86b459-a6b0-4b0e-8f8b-f4d9fdac1b0f')\"\n",
              "            title=\"Suggest charts.\"\n",
              "            style=\"display:none;\">\n",
              "\n",
              "<svg xmlns=\"http://www.w3.org/2000/svg\" height=\"24px\"viewBox=\"0 0 24 24\"\n",
              "     width=\"24px\">\n",
              "    <g>\n",
              "        <path d=\"M19 3H5c-1.1 0-2 .9-2 2v14c0 1.1.9 2 2 2h14c1.1 0 2-.9 2-2V5c0-1.1-.9-2-2-2zM9 17H7v-7h2v7zm4 0h-2V7h2v10zm4 0h-2v-4h2v4z\"/>\n",
              "    </g>\n",
              "</svg>\n",
              "  </button>\n",
              "\n",
              "<style>\n",
              "  .colab-df-quickchart {\n",
              "    background-color: #E8F0FE;\n",
              "    border: none;\n",
              "    border-radius: 50%;\n",
              "    cursor: pointer;\n",
              "    display: none;\n",
              "    fill: #1967D2;\n",
              "    height: 32px;\n",
              "    padding: 0 0 0 0;\n",
              "    width: 32px;\n",
              "  }\n",
              "\n",
              "  .colab-df-quickchart:hover {\n",
              "    background-color: #E2EBFA;\n",
              "    box-shadow: 0px 1px 2px rgba(60, 64, 67, 0.3), 0px 1px 3px 1px rgba(60, 64, 67, 0.15);\n",
              "    fill: #174EA6;\n",
              "  }\n",
              "\n",
              "  [theme=dark] .colab-df-quickchart {\n",
              "    background-color: #3B4455;\n",
              "    fill: #D2E3FC;\n",
              "  }\n",
              "\n",
              "  [theme=dark] .colab-df-quickchart:hover {\n",
              "    background-color: #434B5C;\n",
              "    box-shadow: 0px 1px 3px 1px rgba(0, 0, 0, 0.15);\n",
              "    filter: drop-shadow(0px 1px 2px rgba(0, 0, 0, 0.3));\n",
              "    fill: #FFFFFF;\n",
              "  }\n",
              "</style>\n",
              "\n",
              "  <script>\n",
              "    async function quickchart(key) {\n",
              "      const charts = await google.colab.kernel.invokeFunction(\n",
              "          'suggestCharts', [key], {});\n",
              "    }\n",
              "    (() => {\n",
              "      let quickchartButtonEl =\n",
              "        document.querySelector('#df-2e86b459-a6b0-4b0e-8f8b-f4d9fdac1b0f button');\n",
              "      quickchartButtonEl.style.display =\n",
              "        google.colab.kernel.accessAllowed ? 'block' : 'none';\n",
              "    })();\n",
              "  </script>\n",
              "</div>\n",
              "    </div>\n",
              "  </div>\n"
            ]
          },
          "metadata": {},
          "execution_count": 12
        }
      ],
      "source": [
        "data_titanic = data_titanic.drop(columns=['PassengerId', 'Name', 'SibSp', 'Parch', 'Ticket', 'Cabin'])\n",
        "data_titanic.head()"
      ]
    },
    {
      "cell_type": "code",
      "execution_count": null,
      "metadata": {
        "id": "c3QWOlytMED3",
        "colab": {
          "base_uri": "https://localhost:8080/",
          "height": 206
        },
        "outputId": "e5facb86-252a-4838-a90e-fe698f483a43"
      },
      "outputs": [
        {
          "output_type": "execute_result",
          "data": {
            "text/plain": [
              "   Pclass     Sex   Age     Fare Embarked\n",
              "0       3    male  34.5   7.8292        Q\n",
              "1       3  female  47.0   7.0000        S\n",
              "2       2    male  62.0   9.6875        Q\n",
              "3       3    male  27.0   8.6625        S\n",
              "4       3  female  22.0  12.2875        S"
            ],
            "text/html": [
              "\n",
              "  <div id=\"df-889b7ac4-91bc-4d82-ad3f-e26ba96dd3b8\" class=\"colab-df-container\">\n",
              "    <div>\n",
              "<style scoped>\n",
              "    .dataframe tbody tr th:only-of-type {\n",
              "        vertical-align: middle;\n",
              "    }\n",
              "\n",
              "    .dataframe tbody tr th {\n",
              "        vertical-align: top;\n",
              "    }\n",
              "\n",
              "    .dataframe thead th {\n",
              "        text-align: right;\n",
              "    }\n",
              "</style>\n",
              "<table border=\"1\" class=\"dataframe\">\n",
              "  <thead>\n",
              "    <tr style=\"text-align: right;\">\n",
              "      <th></th>\n",
              "      <th>Pclass</th>\n",
              "      <th>Sex</th>\n",
              "      <th>Age</th>\n",
              "      <th>Fare</th>\n",
              "      <th>Embarked</th>\n",
              "    </tr>\n",
              "  </thead>\n",
              "  <tbody>\n",
              "    <tr>\n",
              "      <th>0</th>\n",
              "      <td>3</td>\n",
              "      <td>male</td>\n",
              "      <td>34.5</td>\n",
              "      <td>7.8292</td>\n",
              "      <td>Q</td>\n",
              "    </tr>\n",
              "    <tr>\n",
              "      <th>1</th>\n",
              "      <td>3</td>\n",
              "      <td>female</td>\n",
              "      <td>47.0</td>\n",
              "      <td>7.0000</td>\n",
              "      <td>S</td>\n",
              "    </tr>\n",
              "    <tr>\n",
              "      <th>2</th>\n",
              "      <td>2</td>\n",
              "      <td>male</td>\n",
              "      <td>62.0</td>\n",
              "      <td>9.6875</td>\n",
              "      <td>Q</td>\n",
              "    </tr>\n",
              "    <tr>\n",
              "      <th>3</th>\n",
              "      <td>3</td>\n",
              "      <td>male</td>\n",
              "      <td>27.0</td>\n",
              "      <td>8.6625</td>\n",
              "      <td>S</td>\n",
              "    </tr>\n",
              "    <tr>\n",
              "      <th>4</th>\n",
              "      <td>3</td>\n",
              "      <td>female</td>\n",
              "      <td>22.0</td>\n",
              "      <td>12.2875</td>\n",
              "      <td>S</td>\n",
              "    </tr>\n",
              "  </tbody>\n",
              "</table>\n",
              "</div>\n",
              "    <div class=\"colab-df-buttons\">\n",
              "\n",
              "  <div class=\"colab-df-container\">\n",
              "    <button class=\"colab-df-convert\" onclick=\"convertToInteractive('df-889b7ac4-91bc-4d82-ad3f-e26ba96dd3b8')\"\n",
              "            title=\"Convert this dataframe to an interactive table.\"\n",
              "            style=\"display:none;\">\n",
              "\n",
              "  <svg xmlns=\"http://www.w3.org/2000/svg\" height=\"24px\" viewBox=\"0 -960 960 960\">\n",
              "    <path d=\"M120-120v-720h720v720H120Zm60-500h600v-160H180v160Zm220 220h160v-160H400v160Zm0 220h160v-160H400v160ZM180-400h160v-160H180v160Zm440 0h160v-160H620v160ZM180-180h160v-160H180v160Zm440 0h160v-160H620v160Z\"/>\n",
              "  </svg>\n",
              "    </button>\n",
              "\n",
              "  <style>\n",
              "    .colab-df-container {\n",
              "      display:flex;\n",
              "      gap: 12px;\n",
              "    }\n",
              "\n",
              "    .colab-df-convert {\n",
              "      background-color: #E8F0FE;\n",
              "      border: none;\n",
              "      border-radius: 50%;\n",
              "      cursor: pointer;\n",
              "      display: none;\n",
              "      fill: #1967D2;\n",
              "      height: 32px;\n",
              "      padding: 0 0 0 0;\n",
              "      width: 32px;\n",
              "    }\n",
              "\n",
              "    .colab-df-convert:hover {\n",
              "      background-color: #E2EBFA;\n",
              "      box-shadow: 0px 1px 2px rgba(60, 64, 67, 0.3), 0px 1px 3px 1px rgba(60, 64, 67, 0.15);\n",
              "      fill: #174EA6;\n",
              "    }\n",
              "\n",
              "    .colab-df-buttons div {\n",
              "      margin-bottom: 4px;\n",
              "    }\n",
              "\n",
              "    [theme=dark] .colab-df-convert {\n",
              "      background-color: #3B4455;\n",
              "      fill: #D2E3FC;\n",
              "    }\n",
              "\n",
              "    [theme=dark] .colab-df-convert:hover {\n",
              "      background-color: #434B5C;\n",
              "      box-shadow: 0px 1px 3px 1px rgba(0, 0, 0, 0.15);\n",
              "      filter: drop-shadow(0px 1px 2px rgba(0, 0, 0, 0.3));\n",
              "      fill: #FFFFFF;\n",
              "    }\n",
              "  </style>\n",
              "\n",
              "    <script>\n",
              "      const buttonEl =\n",
              "        document.querySelector('#df-889b7ac4-91bc-4d82-ad3f-e26ba96dd3b8 button.colab-df-convert');\n",
              "      buttonEl.style.display =\n",
              "        google.colab.kernel.accessAllowed ? 'block' : 'none';\n",
              "\n",
              "      async function convertToInteractive(key) {\n",
              "        const element = document.querySelector('#df-889b7ac4-91bc-4d82-ad3f-e26ba96dd3b8');\n",
              "        const dataTable =\n",
              "          await google.colab.kernel.invokeFunction('convertToInteractive',\n",
              "                                                    [key], {});\n",
              "        if (!dataTable) return;\n",
              "\n",
              "        const docLinkHtml = 'Like what you see? Visit the ' +\n",
              "          '<a target=\"_blank\" href=https://colab.research.google.com/notebooks/data_table.ipynb>data table notebook</a>'\n",
              "          + ' to learn more about interactive tables.';\n",
              "        element.innerHTML = '';\n",
              "        dataTable['output_type'] = 'display_data';\n",
              "        await google.colab.output.renderOutput(dataTable, element);\n",
              "        const docLink = document.createElement('div');\n",
              "        docLink.innerHTML = docLinkHtml;\n",
              "        element.appendChild(docLink);\n",
              "      }\n",
              "    </script>\n",
              "  </div>\n",
              "\n",
              "\n",
              "<div id=\"df-9fee385e-df38-4c36-b3a7-d20d946b161b\">\n",
              "  <button class=\"colab-df-quickchart\" onclick=\"quickchart('df-9fee385e-df38-4c36-b3a7-d20d946b161b')\"\n",
              "            title=\"Suggest charts.\"\n",
              "            style=\"display:none;\">\n",
              "\n",
              "<svg xmlns=\"http://www.w3.org/2000/svg\" height=\"24px\"viewBox=\"0 0 24 24\"\n",
              "     width=\"24px\">\n",
              "    <g>\n",
              "        <path d=\"M19 3H5c-1.1 0-2 .9-2 2v14c0 1.1.9 2 2 2h14c1.1 0 2-.9 2-2V5c0-1.1-.9-2-2-2zM9 17H7v-7h2v7zm4 0h-2V7h2v10zm4 0h-2v-4h2v4z\"/>\n",
              "    </g>\n",
              "</svg>\n",
              "  </button>\n",
              "\n",
              "<style>\n",
              "  .colab-df-quickchart {\n",
              "    background-color: #E8F0FE;\n",
              "    border: none;\n",
              "    border-radius: 50%;\n",
              "    cursor: pointer;\n",
              "    display: none;\n",
              "    fill: #1967D2;\n",
              "    height: 32px;\n",
              "    padding: 0 0 0 0;\n",
              "    width: 32px;\n",
              "  }\n",
              "\n",
              "  .colab-df-quickchart:hover {\n",
              "    background-color: #E2EBFA;\n",
              "    box-shadow: 0px 1px 2px rgba(60, 64, 67, 0.3), 0px 1px 3px 1px rgba(60, 64, 67, 0.15);\n",
              "    fill: #174EA6;\n",
              "  }\n",
              "\n",
              "  [theme=dark] .colab-df-quickchart {\n",
              "    background-color: #3B4455;\n",
              "    fill: #D2E3FC;\n",
              "  }\n",
              "\n",
              "  [theme=dark] .colab-df-quickchart:hover {\n",
              "    background-color: #434B5C;\n",
              "    box-shadow: 0px 1px 3px 1px rgba(0, 0, 0, 0.15);\n",
              "    filter: drop-shadow(0px 1px 2px rgba(0, 0, 0, 0.3));\n",
              "    fill: #FFFFFF;\n",
              "  }\n",
              "</style>\n",
              "\n",
              "  <script>\n",
              "    async function quickchart(key) {\n",
              "      const charts = await google.colab.kernel.invokeFunction(\n",
              "          'suggestCharts', [key], {});\n",
              "    }\n",
              "    (() => {\n",
              "      let quickchartButtonEl =\n",
              "        document.querySelector('#df-9fee385e-df38-4c36-b3a7-d20d946b161b button');\n",
              "      quickchartButtonEl.style.display =\n",
              "        google.colab.kernel.accessAllowed ? 'block' : 'none';\n",
              "    })();\n",
              "  </script>\n",
              "</div>\n",
              "    </div>\n",
              "  </div>\n"
            ]
          },
          "metadata": {},
          "execution_count": 13
        }
      ],
      "source": [
        "data_test = data_test.drop(columns=['PassengerId', 'Name', 'SibSp', 'Parch', 'Ticket', 'Cabin'])\n",
        "data_test.head()"
      ]
    },
    {
      "cell_type": "markdown",
      "source": [
        "Remplazamos los valores categóricos por valores numéricos."
      ],
      "metadata": {
        "id": "87M38z76ixp5"
      }
    },
    {
      "cell_type": "code",
      "source": [
        "data_titanic['Sex'].replace(['male', 'female'],\n",
        "                        [0, 1], inplace=True)\n",
        "data_titanic['Embarked'].replace(['S', 'C', 'Q'],\n",
        "                        [0, 1, 2], inplace=True)\n",
        "data_titanic.apply (pd.to_numeric, errors='coerce')"
      ],
      "metadata": {
        "id": "tIVotcdnQZzy",
        "colab": {
          "base_uri": "https://localhost:8080/",
          "height": 423
        },
        "outputId": "a36f17a2-d651-4263-9c94-3e13a39fc5aa"
      },
      "execution_count": null,
      "outputs": [
        {
          "output_type": "execute_result",
          "data": {
            "text/plain": [
              "     Survived  Pclass  Sex   Age     Fare  Embarked\n",
              "0           0       3    0  22.0   7.2500       0.0\n",
              "1           1       1    1  38.0  71.2833       1.0\n",
              "2           1       3    1  26.0   7.9250       0.0\n",
              "3           1       1    1  35.0  53.1000       0.0\n",
              "4           0       3    0  35.0   8.0500       0.0\n",
              "..        ...     ...  ...   ...      ...       ...\n",
              "886         0       2    0  27.0  13.0000       0.0\n",
              "887         1       1    1  19.0  30.0000       0.0\n",
              "888         0       3    1   NaN  23.4500       0.0\n",
              "889         1       1    0  26.0  30.0000       1.0\n",
              "890         0       3    0  32.0   7.7500       2.0\n",
              "\n",
              "[891 rows x 6 columns]"
            ],
            "text/html": [
              "\n",
              "  <div id=\"df-7e7e95b0-25a1-4f21-92c9-84e0c0cc6f7f\" class=\"colab-df-container\">\n",
              "    <div>\n",
              "<style scoped>\n",
              "    .dataframe tbody tr th:only-of-type {\n",
              "        vertical-align: middle;\n",
              "    }\n",
              "\n",
              "    .dataframe tbody tr th {\n",
              "        vertical-align: top;\n",
              "    }\n",
              "\n",
              "    .dataframe thead th {\n",
              "        text-align: right;\n",
              "    }\n",
              "</style>\n",
              "<table border=\"1\" class=\"dataframe\">\n",
              "  <thead>\n",
              "    <tr style=\"text-align: right;\">\n",
              "      <th></th>\n",
              "      <th>Survived</th>\n",
              "      <th>Pclass</th>\n",
              "      <th>Sex</th>\n",
              "      <th>Age</th>\n",
              "      <th>Fare</th>\n",
              "      <th>Embarked</th>\n",
              "    </tr>\n",
              "  </thead>\n",
              "  <tbody>\n",
              "    <tr>\n",
              "      <th>0</th>\n",
              "      <td>0</td>\n",
              "      <td>3</td>\n",
              "      <td>0</td>\n",
              "      <td>22.0</td>\n",
              "      <td>7.2500</td>\n",
              "      <td>0.0</td>\n",
              "    </tr>\n",
              "    <tr>\n",
              "      <th>1</th>\n",
              "      <td>1</td>\n",
              "      <td>1</td>\n",
              "      <td>1</td>\n",
              "      <td>38.0</td>\n",
              "      <td>71.2833</td>\n",
              "      <td>1.0</td>\n",
              "    </tr>\n",
              "    <tr>\n",
              "      <th>2</th>\n",
              "      <td>1</td>\n",
              "      <td>3</td>\n",
              "      <td>1</td>\n",
              "      <td>26.0</td>\n",
              "      <td>7.9250</td>\n",
              "      <td>0.0</td>\n",
              "    </tr>\n",
              "    <tr>\n",
              "      <th>3</th>\n",
              "      <td>1</td>\n",
              "      <td>1</td>\n",
              "      <td>1</td>\n",
              "      <td>35.0</td>\n",
              "      <td>53.1000</td>\n",
              "      <td>0.0</td>\n",
              "    </tr>\n",
              "    <tr>\n",
              "      <th>4</th>\n",
              "      <td>0</td>\n",
              "      <td>3</td>\n",
              "      <td>0</td>\n",
              "      <td>35.0</td>\n",
              "      <td>8.0500</td>\n",
              "      <td>0.0</td>\n",
              "    </tr>\n",
              "    <tr>\n",
              "      <th>...</th>\n",
              "      <td>...</td>\n",
              "      <td>...</td>\n",
              "      <td>...</td>\n",
              "      <td>...</td>\n",
              "      <td>...</td>\n",
              "      <td>...</td>\n",
              "    </tr>\n",
              "    <tr>\n",
              "      <th>886</th>\n",
              "      <td>0</td>\n",
              "      <td>2</td>\n",
              "      <td>0</td>\n",
              "      <td>27.0</td>\n",
              "      <td>13.0000</td>\n",
              "      <td>0.0</td>\n",
              "    </tr>\n",
              "    <tr>\n",
              "      <th>887</th>\n",
              "      <td>1</td>\n",
              "      <td>1</td>\n",
              "      <td>1</td>\n",
              "      <td>19.0</td>\n",
              "      <td>30.0000</td>\n",
              "      <td>0.0</td>\n",
              "    </tr>\n",
              "    <tr>\n",
              "      <th>888</th>\n",
              "      <td>0</td>\n",
              "      <td>3</td>\n",
              "      <td>1</td>\n",
              "      <td>NaN</td>\n",
              "      <td>23.4500</td>\n",
              "      <td>0.0</td>\n",
              "    </tr>\n",
              "    <tr>\n",
              "      <th>889</th>\n",
              "      <td>1</td>\n",
              "      <td>1</td>\n",
              "      <td>0</td>\n",
              "      <td>26.0</td>\n",
              "      <td>30.0000</td>\n",
              "      <td>1.0</td>\n",
              "    </tr>\n",
              "    <tr>\n",
              "      <th>890</th>\n",
              "      <td>0</td>\n",
              "      <td>3</td>\n",
              "      <td>0</td>\n",
              "      <td>32.0</td>\n",
              "      <td>7.7500</td>\n",
              "      <td>2.0</td>\n",
              "    </tr>\n",
              "  </tbody>\n",
              "</table>\n",
              "<p>891 rows × 6 columns</p>\n",
              "</div>\n",
              "    <div class=\"colab-df-buttons\">\n",
              "\n",
              "  <div class=\"colab-df-container\">\n",
              "    <button class=\"colab-df-convert\" onclick=\"convertToInteractive('df-7e7e95b0-25a1-4f21-92c9-84e0c0cc6f7f')\"\n",
              "            title=\"Convert this dataframe to an interactive table.\"\n",
              "            style=\"display:none;\">\n",
              "\n",
              "  <svg xmlns=\"http://www.w3.org/2000/svg\" height=\"24px\" viewBox=\"0 -960 960 960\">\n",
              "    <path d=\"M120-120v-720h720v720H120Zm60-500h600v-160H180v160Zm220 220h160v-160H400v160Zm0 220h160v-160H400v160ZM180-400h160v-160H180v160Zm440 0h160v-160H620v160ZM180-180h160v-160H180v160Zm440 0h160v-160H620v160Z\"/>\n",
              "  </svg>\n",
              "    </button>\n",
              "\n",
              "  <style>\n",
              "    .colab-df-container {\n",
              "      display:flex;\n",
              "      gap: 12px;\n",
              "    }\n",
              "\n",
              "    .colab-df-convert {\n",
              "      background-color: #E8F0FE;\n",
              "      border: none;\n",
              "      border-radius: 50%;\n",
              "      cursor: pointer;\n",
              "      display: none;\n",
              "      fill: #1967D2;\n",
              "      height: 32px;\n",
              "      padding: 0 0 0 0;\n",
              "      width: 32px;\n",
              "    }\n",
              "\n",
              "    .colab-df-convert:hover {\n",
              "      background-color: #E2EBFA;\n",
              "      box-shadow: 0px 1px 2px rgba(60, 64, 67, 0.3), 0px 1px 3px 1px rgba(60, 64, 67, 0.15);\n",
              "      fill: #174EA6;\n",
              "    }\n",
              "\n",
              "    .colab-df-buttons div {\n",
              "      margin-bottom: 4px;\n",
              "    }\n",
              "\n",
              "    [theme=dark] .colab-df-convert {\n",
              "      background-color: #3B4455;\n",
              "      fill: #D2E3FC;\n",
              "    }\n",
              "\n",
              "    [theme=dark] .colab-df-convert:hover {\n",
              "      background-color: #434B5C;\n",
              "      box-shadow: 0px 1px 3px 1px rgba(0, 0, 0, 0.15);\n",
              "      filter: drop-shadow(0px 1px 2px rgba(0, 0, 0, 0.3));\n",
              "      fill: #FFFFFF;\n",
              "    }\n",
              "  </style>\n",
              "\n",
              "    <script>\n",
              "      const buttonEl =\n",
              "        document.querySelector('#df-7e7e95b0-25a1-4f21-92c9-84e0c0cc6f7f button.colab-df-convert');\n",
              "      buttonEl.style.display =\n",
              "        google.colab.kernel.accessAllowed ? 'block' : 'none';\n",
              "\n",
              "      async function convertToInteractive(key) {\n",
              "        const element = document.querySelector('#df-7e7e95b0-25a1-4f21-92c9-84e0c0cc6f7f');\n",
              "        const dataTable =\n",
              "          await google.colab.kernel.invokeFunction('convertToInteractive',\n",
              "                                                    [key], {});\n",
              "        if (!dataTable) return;\n",
              "\n",
              "        const docLinkHtml = 'Like what you see? Visit the ' +\n",
              "          '<a target=\"_blank\" href=https://colab.research.google.com/notebooks/data_table.ipynb>data table notebook</a>'\n",
              "          + ' to learn more about interactive tables.';\n",
              "        element.innerHTML = '';\n",
              "        dataTable['output_type'] = 'display_data';\n",
              "        await google.colab.output.renderOutput(dataTable, element);\n",
              "        const docLink = document.createElement('div');\n",
              "        docLink.innerHTML = docLinkHtml;\n",
              "        element.appendChild(docLink);\n",
              "      }\n",
              "    </script>\n",
              "  </div>\n",
              "\n",
              "\n",
              "<div id=\"df-6fc5f80d-0370-407e-8778-8bbb99ce8801\">\n",
              "  <button class=\"colab-df-quickchart\" onclick=\"quickchart('df-6fc5f80d-0370-407e-8778-8bbb99ce8801')\"\n",
              "            title=\"Suggest charts.\"\n",
              "            style=\"display:none;\">\n",
              "\n",
              "<svg xmlns=\"http://www.w3.org/2000/svg\" height=\"24px\"viewBox=\"0 0 24 24\"\n",
              "     width=\"24px\">\n",
              "    <g>\n",
              "        <path d=\"M19 3H5c-1.1 0-2 .9-2 2v14c0 1.1.9 2 2 2h14c1.1 0 2-.9 2-2V5c0-1.1-.9-2-2-2zM9 17H7v-7h2v7zm4 0h-2V7h2v10zm4 0h-2v-4h2v4z\"/>\n",
              "    </g>\n",
              "</svg>\n",
              "  </button>\n",
              "\n",
              "<style>\n",
              "  .colab-df-quickchart {\n",
              "    background-color: #E8F0FE;\n",
              "    border: none;\n",
              "    border-radius: 50%;\n",
              "    cursor: pointer;\n",
              "    display: none;\n",
              "    fill: #1967D2;\n",
              "    height: 32px;\n",
              "    padding: 0 0 0 0;\n",
              "    width: 32px;\n",
              "  }\n",
              "\n",
              "  .colab-df-quickchart:hover {\n",
              "    background-color: #E2EBFA;\n",
              "    box-shadow: 0px 1px 2px rgba(60, 64, 67, 0.3), 0px 1px 3px 1px rgba(60, 64, 67, 0.15);\n",
              "    fill: #174EA6;\n",
              "  }\n",
              "\n",
              "  [theme=dark] .colab-df-quickchart {\n",
              "    background-color: #3B4455;\n",
              "    fill: #D2E3FC;\n",
              "  }\n",
              "\n",
              "  [theme=dark] .colab-df-quickchart:hover {\n",
              "    background-color: #434B5C;\n",
              "    box-shadow: 0px 1px 3px 1px rgba(0, 0, 0, 0.15);\n",
              "    filter: drop-shadow(0px 1px 2px rgba(0, 0, 0, 0.3));\n",
              "    fill: #FFFFFF;\n",
              "  }\n",
              "</style>\n",
              "\n",
              "  <script>\n",
              "    async function quickchart(key) {\n",
              "      const charts = await google.colab.kernel.invokeFunction(\n",
              "          'suggestCharts', [key], {});\n",
              "    }\n",
              "    (() => {\n",
              "      let quickchartButtonEl =\n",
              "        document.querySelector('#df-6fc5f80d-0370-407e-8778-8bbb99ce8801 button');\n",
              "      quickchartButtonEl.style.display =\n",
              "        google.colab.kernel.accessAllowed ? 'block' : 'none';\n",
              "    })();\n",
              "  </script>\n",
              "</div>\n",
              "    </div>\n",
              "  </div>\n"
            ]
          },
          "metadata": {},
          "execution_count": 14
        }
      ]
    },
    {
      "cell_type": "code",
      "execution_count": null,
      "metadata": {
        "id": "kLrUJg7GYUH1",
        "colab": {
          "base_uri": "https://localhost:8080/",
          "height": 423
        },
        "outputId": "9ca94890-7b74-4be4-eec5-671c17539b96"
      },
      "outputs": [
        {
          "output_type": "execute_result",
          "data": {
            "text/plain": [
              "     Pclass  Sex   Age      Fare  Embarked\n",
              "0         3    0  34.5    7.8292         2\n",
              "1         3    1  47.0    7.0000         0\n",
              "2         2    0  62.0    9.6875         2\n",
              "3         3    0  27.0    8.6625         0\n",
              "4         3    1  22.0   12.2875         0\n",
              "..      ...  ...   ...       ...       ...\n",
              "413       3    0   NaN    8.0500         0\n",
              "414       1    1  39.0  108.9000         1\n",
              "415       3    0  38.5    7.2500         0\n",
              "416       3    0   NaN    8.0500         0\n",
              "417       3    0   NaN   22.3583         1\n",
              "\n",
              "[418 rows x 5 columns]"
            ],
            "text/html": [
              "\n",
              "  <div id=\"df-2f3cdfa3-41e5-4da4-8534-3655a29a3168\" class=\"colab-df-container\">\n",
              "    <div>\n",
              "<style scoped>\n",
              "    .dataframe tbody tr th:only-of-type {\n",
              "        vertical-align: middle;\n",
              "    }\n",
              "\n",
              "    .dataframe tbody tr th {\n",
              "        vertical-align: top;\n",
              "    }\n",
              "\n",
              "    .dataframe thead th {\n",
              "        text-align: right;\n",
              "    }\n",
              "</style>\n",
              "<table border=\"1\" class=\"dataframe\">\n",
              "  <thead>\n",
              "    <tr style=\"text-align: right;\">\n",
              "      <th></th>\n",
              "      <th>Pclass</th>\n",
              "      <th>Sex</th>\n",
              "      <th>Age</th>\n",
              "      <th>Fare</th>\n",
              "      <th>Embarked</th>\n",
              "    </tr>\n",
              "  </thead>\n",
              "  <tbody>\n",
              "    <tr>\n",
              "      <th>0</th>\n",
              "      <td>3</td>\n",
              "      <td>0</td>\n",
              "      <td>34.5</td>\n",
              "      <td>7.8292</td>\n",
              "      <td>2</td>\n",
              "    </tr>\n",
              "    <tr>\n",
              "      <th>1</th>\n",
              "      <td>3</td>\n",
              "      <td>1</td>\n",
              "      <td>47.0</td>\n",
              "      <td>7.0000</td>\n",
              "      <td>0</td>\n",
              "    </tr>\n",
              "    <tr>\n",
              "      <th>2</th>\n",
              "      <td>2</td>\n",
              "      <td>0</td>\n",
              "      <td>62.0</td>\n",
              "      <td>9.6875</td>\n",
              "      <td>2</td>\n",
              "    </tr>\n",
              "    <tr>\n",
              "      <th>3</th>\n",
              "      <td>3</td>\n",
              "      <td>0</td>\n",
              "      <td>27.0</td>\n",
              "      <td>8.6625</td>\n",
              "      <td>0</td>\n",
              "    </tr>\n",
              "    <tr>\n",
              "      <th>4</th>\n",
              "      <td>3</td>\n",
              "      <td>1</td>\n",
              "      <td>22.0</td>\n",
              "      <td>12.2875</td>\n",
              "      <td>0</td>\n",
              "    </tr>\n",
              "    <tr>\n",
              "      <th>...</th>\n",
              "      <td>...</td>\n",
              "      <td>...</td>\n",
              "      <td>...</td>\n",
              "      <td>...</td>\n",
              "      <td>...</td>\n",
              "    </tr>\n",
              "    <tr>\n",
              "      <th>413</th>\n",
              "      <td>3</td>\n",
              "      <td>0</td>\n",
              "      <td>NaN</td>\n",
              "      <td>8.0500</td>\n",
              "      <td>0</td>\n",
              "    </tr>\n",
              "    <tr>\n",
              "      <th>414</th>\n",
              "      <td>1</td>\n",
              "      <td>1</td>\n",
              "      <td>39.0</td>\n",
              "      <td>108.9000</td>\n",
              "      <td>1</td>\n",
              "    </tr>\n",
              "    <tr>\n",
              "      <th>415</th>\n",
              "      <td>3</td>\n",
              "      <td>0</td>\n",
              "      <td>38.5</td>\n",
              "      <td>7.2500</td>\n",
              "      <td>0</td>\n",
              "    </tr>\n",
              "    <tr>\n",
              "      <th>416</th>\n",
              "      <td>3</td>\n",
              "      <td>0</td>\n",
              "      <td>NaN</td>\n",
              "      <td>8.0500</td>\n",
              "      <td>0</td>\n",
              "    </tr>\n",
              "    <tr>\n",
              "      <th>417</th>\n",
              "      <td>3</td>\n",
              "      <td>0</td>\n",
              "      <td>NaN</td>\n",
              "      <td>22.3583</td>\n",
              "      <td>1</td>\n",
              "    </tr>\n",
              "  </tbody>\n",
              "</table>\n",
              "<p>418 rows × 5 columns</p>\n",
              "</div>\n",
              "    <div class=\"colab-df-buttons\">\n",
              "\n",
              "  <div class=\"colab-df-container\">\n",
              "    <button class=\"colab-df-convert\" onclick=\"convertToInteractive('df-2f3cdfa3-41e5-4da4-8534-3655a29a3168')\"\n",
              "            title=\"Convert this dataframe to an interactive table.\"\n",
              "            style=\"display:none;\">\n",
              "\n",
              "  <svg xmlns=\"http://www.w3.org/2000/svg\" height=\"24px\" viewBox=\"0 -960 960 960\">\n",
              "    <path d=\"M120-120v-720h720v720H120Zm60-500h600v-160H180v160Zm220 220h160v-160H400v160Zm0 220h160v-160H400v160ZM180-400h160v-160H180v160Zm440 0h160v-160H620v160ZM180-180h160v-160H180v160Zm440 0h160v-160H620v160Z\"/>\n",
              "  </svg>\n",
              "    </button>\n",
              "\n",
              "  <style>\n",
              "    .colab-df-container {\n",
              "      display:flex;\n",
              "      gap: 12px;\n",
              "    }\n",
              "\n",
              "    .colab-df-convert {\n",
              "      background-color: #E8F0FE;\n",
              "      border: none;\n",
              "      border-radius: 50%;\n",
              "      cursor: pointer;\n",
              "      display: none;\n",
              "      fill: #1967D2;\n",
              "      height: 32px;\n",
              "      padding: 0 0 0 0;\n",
              "      width: 32px;\n",
              "    }\n",
              "\n",
              "    .colab-df-convert:hover {\n",
              "      background-color: #E2EBFA;\n",
              "      box-shadow: 0px 1px 2px rgba(60, 64, 67, 0.3), 0px 1px 3px 1px rgba(60, 64, 67, 0.15);\n",
              "      fill: #174EA6;\n",
              "    }\n",
              "\n",
              "    .colab-df-buttons div {\n",
              "      margin-bottom: 4px;\n",
              "    }\n",
              "\n",
              "    [theme=dark] .colab-df-convert {\n",
              "      background-color: #3B4455;\n",
              "      fill: #D2E3FC;\n",
              "    }\n",
              "\n",
              "    [theme=dark] .colab-df-convert:hover {\n",
              "      background-color: #434B5C;\n",
              "      box-shadow: 0px 1px 3px 1px rgba(0, 0, 0, 0.15);\n",
              "      filter: drop-shadow(0px 1px 2px rgba(0, 0, 0, 0.3));\n",
              "      fill: #FFFFFF;\n",
              "    }\n",
              "  </style>\n",
              "\n",
              "    <script>\n",
              "      const buttonEl =\n",
              "        document.querySelector('#df-2f3cdfa3-41e5-4da4-8534-3655a29a3168 button.colab-df-convert');\n",
              "      buttonEl.style.display =\n",
              "        google.colab.kernel.accessAllowed ? 'block' : 'none';\n",
              "\n",
              "      async function convertToInteractive(key) {\n",
              "        const element = document.querySelector('#df-2f3cdfa3-41e5-4da4-8534-3655a29a3168');\n",
              "        const dataTable =\n",
              "          await google.colab.kernel.invokeFunction('convertToInteractive',\n",
              "                                                    [key], {});\n",
              "        if (!dataTable) return;\n",
              "\n",
              "        const docLinkHtml = 'Like what you see? Visit the ' +\n",
              "          '<a target=\"_blank\" href=https://colab.research.google.com/notebooks/data_table.ipynb>data table notebook</a>'\n",
              "          + ' to learn more about interactive tables.';\n",
              "        element.innerHTML = '';\n",
              "        dataTable['output_type'] = 'display_data';\n",
              "        await google.colab.output.renderOutput(dataTable, element);\n",
              "        const docLink = document.createElement('div');\n",
              "        docLink.innerHTML = docLinkHtml;\n",
              "        element.appendChild(docLink);\n",
              "      }\n",
              "    </script>\n",
              "  </div>\n",
              "\n",
              "\n",
              "<div id=\"df-423e263d-6f4d-4d60-b5c3-1d542f210e9b\">\n",
              "  <button class=\"colab-df-quickchart\" onclick=\"quickchart('df-423e263d-6f4d-4d60-b5c3-1d542f210e9b')\"\n",
              "            title=\"Suggest charts.\"\n",
              "            style=\"display:none;\">\n",
              "\n",
              "<svg xmlns=\"http://www.w3.org/2000/svg\" height=\"24px\"viewBox=\"0 0 24 24\"\n",
              "     width=\"24px\">\n",
              "    <g>\n",
              "        <path d=\"M19 3H5c-1.1 0-2 .9-2 2v14c0 1.1.9 2 2 2h14c1.1 0 2-.9 2-2V5c0-1.1-.9-2-2-2zM9 17H7v-7h2v7zm4 0h-2V7h2v10zm4 0h-2v-4h2v4z\"/>\n",
              "    </g>\n",
              "</svg>\n",
              "  </button>\n",
              "\n",
              "<style>\n",
              "  .colab-df-quickchart {\n",
              "    background-color: #E8F0FE;\n",
              "    border: none;\n",
              "    border-radius: 50%;\n",
              "    cursor: pointer;\n",
              "    display: none;\n",
              "    fill: #1967D2;\n",
              "    height: 32px;\n",
              "    padding: 0 0 0 0;\n",
              "    width: 32px;\n",
              "  }\n",
              "\n",
              "  .colab-df-quickchart:hover {\n",
              "    background-color: #E2EBFA;\n",
              "    box-shadow: 0px 1px 2px rgba(60, 64, 67, 0.3), 0px 1px 3px 1px rgba(60, 64, 67, 0.15);\n",
              "    fill: #174EA6;\n",
              "  }\n",
              "\n",
              "  [theme=dark] .colab-df-quickchart {\n",
              "    background-color: #3B4455;\n",
              "    fill: #D2E3FC;\n",
              "  }\n",
              "\n",
              "  [theme=dark] .colab-df-quickchart:hover {\n",
              "    background-color: #434B5C;\n",
              "    box-shadow: 0px 1px 3px 1px rgba(0, 0, 0, 0.15);\n",
              "    filter: drop-shadow(0px 1px 2px rgba(0, 0, 0, 0.3));\n",
              "    fill: #FFFFFF;\n",
              "  }\n",
              "</style>\n",
              "\n",
              "  <script>\n",
              "    async function quickchart(key) {\n",
              "      const charts = await google.colab.kernel.invokeFunction(\n",
              "          'suggestCharts', [key], {});\n",
              "    }\n",
              "    (() => {\n",
              "      let quickchartButtonEl =\n",
              "        document.querySelector('#df-423e263d-6f4d-4d60-b5c3-1d542f210e9b button');\n",
              "      quickchartButtonEl.style.display =\n",
              "        google.colab.kernel.accessAllowed ? 'block' : 'none';\n",
              "    })();\n",
              "  </script>\n",
              "</div>\n",
              "    </div>\n",
              "  </div>\n"
            ]
          },
          "metadata": {},
          "execution_count": 15
        }
      ],
      "source": [
        "data_test['Sex'].replace(['male', 'female'],\n",
        "                        [0, 1], inplace=True)\n",
        "data_test['Embarked'].replace(['S', 'C', 'Q'],\n",
        "                        [0, 1, 2], inplace=True)\n",
        "data_test.apply (pd.to_numeric, errors='coerce')"
      ]
    },
    {
      "cell_type": "code",
      "source": [
        "data_test = data_test.dropna()\n",
        "data_test.isna().sum()"
      ],
      "metadata": {
        "id": "7ZCmLPXXYL9-",
        "colab": {
          "base_uri": "https://localhost:8080/"
        },
        "outputId": "88234585-d5cb-4cb9-bd39-09dd447adde5"
      },
      "execution_count": null,
      "outputs": [
        {
          "output_type": "execute_result",
          "data": {
            "text/plain": [
              "Pclass      0\n",
              "Sex         0\n",
              "Age         0\n",
              "Fare        0\n",
              "Embarked    0\n",
              "dtype: int64"
            ]
          },
          "metadata": {},
          "execution_count": 16
        }
      ]
    },
    {
      "cell_type": "markdown",
      "source": [
        "Sacamos las métricas importantes."
      ],
      "metadata": {
        "id": "QOPIdzA6XIS0"
      }
    },
    {
      "cell_type": "code",
      "source": [
        "data_titanic.describe() # Statistics Analysis"
      ],
      "metadata": {
        "id": "6QOz5m-5XK9L",
        "colab": {
          "base_uri": "https://localhost:8080/",
          "height": 300
        },
        "outputId": "dff5a4eb-c7c6-434a-bd93-7b57c5b7083a"
      },
      "execution_count": null,
      "outputs": [
        {
          "output_type": "execute_result",
          "data": {
            "text/plain": [
              "         Survived      Pclass         Sex         Age        Fare    Embarked\n",
              "count  891.000000  891.000000  891.000000  714.000000  891.000000  889.000000\n",
              "mean     0.383838    2.308642    0.352413   29.699118   32.204208    0.362205\n",
              "std      0.486592    0.836071    0.477990   14.526497   49.693429    0.636157\n",
              "min      0.000000    1.000000    0.000000    0.420000    0.000000    0.000000\n",
              "25%      0.000000    2.000000    0.000000   20.125000    7.910400    0.000000\n",
              "50%      0.000000    3.000000    0.000000   28.000000   14.454200    0.000000\n",
              "75%      1.000000    3.000000    1.000000   38.000000   31.000000    1.000000\n",
              "max      1.000000    3.000000    1.000000   80.000000  512.329200    2.000000"
            ],
            "text/html": [
              "\n",
              "  <div id=\"df-1a983d77-be2c-4ac1-8759-dfbe627f3066\" class=\"colab-df-container\">\n",
              "    <div>\n",
              "<style scoped>\n",
              "    .dataframe tbody tr th:only-of-type {\n",
              "        vertical-align: middle;\n",
              "    }\n",
              "\n",
              "    .dataframe tbody tr th {\n",
              "        vertical-align: top;\n",
              "    }\n",
              "\n",
              "    .dataframe thead th {\n",
              "        text-align: right;\n",
              "    }\n",
              "</style>\n",
              "<table border=\"1\" class=\"dataframe\">\n",
              "  <thead>\n",
              "    <tr style=\"text-align: right;\">\n",
              "      <th></th>\n",
              "      <th>Survived</th>\n",
              "      <th>Pclass</th>\n",
              "      <th>Sex</th>\n",
              "      <th>Age</th>\n",
              "      <th>Fare</th>\n",
              "      <th>Embarked</th>\n",
              "    </tr>\n",
              "  </thead>\n",
              "  <tbody>\n",
              "    <tr>\n",
              "      <th>count</th>\n",
              "      <td>891.000000</td>\n",
              "      <td>891.000000</td>\n",
              "      <td>891.000000</td>\n",
              "      <td>714.000000</td>\n",
              "      <td>891.000000</td>\n",
              "      <td>889.000000</td>\n",
              "    </tr>\n",
              "    <tr>\n",
              "      <th>mean</th>\n",
              "      <td>0.383838</td>\n",
              "      <td>2.308642</td>\n",
              "      <td>0.352413</td>\n",
              "      <td>29.699118</td>\n",
              "      <td>32.204208</td>\n",
              "      <td>0.362205</td>\n",
              "    </tr>\n",
              "    <tr>\n",
              "      <th>std</th>\n",
              "      <td>0.486592</td>\n",
              "      <td>0.836071</td>\n",
              "      <td>0.477990</td>\n",
              "      <td>14.526497</td>\n",
              "      <td>49.693429</td>\n",
              "      <td>0.636157</td>\n",
              "    </tr>\n",
              "    <tr>\n",
              "      <th>min</th>\n",
              "      <td>0.000000</td>\n",
              "      <td>1.000000</td>\n",
              "      <td>0.000000</td>\n",
              "      <td>0.420000</td>\n",
              "      <td>0.000000</td>\n",
              "      <td>0.000000</td>\n",
              "    </tr>\n",
              "    <tr>\n",
              "      <th>25%</th>\n",
              "      <td>0.000000</td>\n",
              "      <td>2.000000</td>\n",
              "      <td>0.000000</td>\n",
              "      <td>20.125000</td>\n",
              "      <td>7.910400</td>\n",
              "      <td>0.000000</td>\n",
              "    </tr>\n",
              "    <tr>\n",
              "      <th>50%</th>\n",
              "      <td>0.000000</td>\n",
              "      <td>3.000000</td>\n",
              "      <td>0.000000</td>\n",
              "      <td>28.000000</td>\n",
              "      <td>14.454200</td>\n",
              "      <td>0.000000</td>\n",
              "    </tr>\n",
              "    <tr>\n",
              "      <th>75%</th>\n",
              "      <td>1.000000</td>\n",
              "      <td>3.000000</td>\n",
              "      <td>1.000000</td>\n",
              "      <td>38.000000</td>\n",
              "      <td>31.000000</td>\n",
              "      <td>1.000000</td>\n",
              "    </tr>\n",
              "    <tr>\n",
              "      <th>max</th>\n",
              "      <td>1.000000</td>\n",
              "      <td>3.000000</td>\n",
              "      <td>1.000000</td>\n",
              "      <td>80.000000</td>\n",
              "      <td>512.329200</td>\n",
              "      <td>2.000000</td>\n",
              "    </tr>\n",
              "  </tbody>\n",
              "</table>\n",
              "</div>\n",
              "    <div class=\"colab-df-buttons\">\n",
              "\n",
              "  <div class=\"colab-df-container\">\n",
              "    <button class=\"colab-df-convert\" onclick=\"convertToInteractive('df-1a983d77-be2c-4ac1-8759-dfbe627f3066')\"\n",
              "            title=\"Convert this dataframe to an interactive table.\"\n",
              "            style=\"display:none;\">\n",
              "\n",
              "  <svg xmlns=\"http://www.w3.org/2000/svg\" height=\"24px\" viewBox=\"0 -960 960 960\">\n",
              "    <path d=\"M120-120v-720h720v720H120Zm60-500h600v-160H180v160Zm220 220h160v-160H400v160Zm0 220h160v-160H400v160ZM180-400h160v-160H180v160Zm440 0h160v-160H620v160ZM180-180h160v-160H180v160Zm440 0h160v-160H620v160Z\"/>\n",
              "  </svg>\n",
              "    </button>\n",
              "\n",
              "  <style>\n",
              "    .colab-df-container {\n",
              "      display:flex;\n",
              "      gap: 12px;\n",
              "    }\n",
              "\n",
              "    .colab-df-convert {\n",
              "      background-color: #E8F0FE;\n",
              "      border: none;\n",
              "      border-radius: 50%;\n",
              "      cursor: pointer;\n",
              "      display: none;\n",
              "      fill: #1967D2;\n",
              "      height: 32px;\n",
              "      padding: 0 0 0 0;\n",
              "      width: 32px;\n",
              "    }\n",
              "\n",
              "    .colab-df-convert:hover {\n",
              "      background-color: #E2EBFA;\n",
              "      box-shadow: 0px 1px 2px rgba(60, 64, 67, 0.3), 0px 1px 3px 1px rgba(60, 64, 67, 0.15);\n",
              "      fill: #174EA6;\n",
              "    }\n",
              "\n",
              "    .colab-df-buttons div {\n",
              "      margin-bottom: 4px;\n",
              "    }\n",
              "\n",
              "    [theme=dark] .colab-df-convert {\n",
              "      background-color: #3B4455;\n",
              "      fill: #D2E3FC;\n",
              "    }\n",
              "\n",
              "    [theme=dark] .colab-df-convert:hover {\n",
              "      background-color: #434B5C;\n",
              "      box-shadow: 0px 1px 3px 1px rgba(0, 0, 0, 0.15);\n",
              "      filter: drop-shadow(0px 1px 2px rgba(0, 0, 0, 0.3));\n",
              "      fill: #FFFFFF;\n",
              "    }\n",
              "  </style>\n",
              "\n",
              "    <script>\n",
              "      const buttonEl =\n",
              "        document.querySelector('#df-1a983d77-be2c-4ac1-8759-dfbe627f3066 button.colab-df-convert');\n",
              "      buttonEl.style.display =\n",
              "        google.colab.kernel.accessAllowed ? 'block' : 'none';\n",
              "\n",
              "      async function convertToInteractive(key) {\n",
              "        const element = document.querySelector('#df-1a983d77-be2c-4ac1-8759-dfbe627f3066');\n",
              "        const dataTable =\n",
              "          await google.colab.kernel.invokeFunction('convertToInteractive',\n",
              "                                                    [key], {});\n",
              "        if (!dataTable) return;\n",
              "\n",
              "        const docLinkHtml = 'Like what you see? Visit the ' +\n",
              "          '<a target=\"_blank\" href=https://colab.research.google.com/notebooks/data_table.ipynb>data table notebook</a>'\n",
              "          + ' to learn more about interactive tables.';\n",
              "        element.innerHTML = '';\n",
              "        dataTable['output_type'] = 'display_data';\n",
              "        await google.colab.output.renderOutput(dataTable, element);\n",
              "        const docLink = document.createElement('div');\n",
              "        docLink.innerHTML = docLinkHtml;\n",
              "        element.appendChild(docLink);\n",
              "      }\n",
              "    </script>\n",
              "  </div>\n",
              "\n",
              "\n",
              "<div id=\"df-99b201a3-23d8-48d7-9f23-ab56d456d676\">\n",
              "  <button class=\"colab-df-quickchart\" onclick=\"quickchart('df-99b201a3-23d8-48d7-9f23-ab56d456d676')\"\n",
              "            title=\"Suggest charts.\"\n",
              "            style=\"display:none;\">\n",
              "\n",
              "<svg xmlns=\"http://www.w3.org/2000/svg\" height=\"24px\"viewBox=\"0 0 24 24\"\n",
              "     width=\"24px\">\n",
              "    <g>\n",
              "        <path d=\"M19 3H5c-1.1 0-2 .9-2 2v14c0 1.1.9 2 2 2h14c1.1 0 2-.9 2-2V5c0-1.1-.9-2-2-2zM9 17H7v-7h2v7zm4 0h-2V7h2v10zm4 0h-2v-4h2v4z\"/>\n",
              "    </g>\n",
              "</svg>\n",
              "  </button>\n",
              "\n",
              "<style>\n",
              "  .colab-df-quickchart {\n",
              "    background-color: #E8F0FE;\n",
              "    border: none;\n",
              "    border-radius: 50%;\n",
              "    cursor: pointer;\n",
              "    display: none;\n",
              "    fill: #1967D2;\n",
              "    height: 32px;\n",
              "    padding: 0 0 0 0;\n",
              "    width: 32px;\n",
              "  }\n",
              "\n",
              "  .colab-df-quickchart:hover {\n",
              "    background-color: #E2EBFA;\n",
              "    box-shadow: 0px 1px 2px rgba(60, 64, 67, 0.3), 0px 1px 3px 1px rgba(60, 64, 67, 0.15);\n",
              "    fill: #174EA6;\n",
              "  }\n",
              "\n",
              "  [theme=dark] .colab-df-quickchart {\n",
              "    background-color: #3B4455;\n",
              "    fill: #D2E3FC;\n",
              "  }\n",
              "\n",
              "  [theme=dark] .colab-df-quickchart:hover {\n",
              "    background-color: #434B5C;\n",
              "    box-shadow: 0px 1px 3px 1px rgba(0, 0, 0, 0.15);\n",
              "    filter: drop-shadow(0px 1px 2px rgba(0, 0, 0, 0.3));\n",
              "    fill: #FFFFFF;\n",
              "  }\n",
              "</style>\n",
              "\n",
              "  <script>\n",
              "    async function quickchart(key) {\n",
              "      const charts = await google.colab.kernel.invokeFunction(\n",
              "          'suggestCharts', [key], {});\n",
              "    }\n",
              "    (() => {\n",
              "      let quickchartButtonEl =\n",
              "        document.querySelector('#df-99b201a3-23d8-48d7-9f23-ab56d456d676 button');\n",
              "      quickchartButtonEl.style.display =\n",
              "        google.colab.kernel.accessAllowed ? 'block' : 'none';\n",
              "    })();\n",
              "  </script>\n",
              "</div>\n",
              "    </div>\n",
              "  </div>\n"
            ]
          },
          "metadata": {},
          "execution_count": 17
        }
      ]
    },
    {
      "cell_type": "code",
      "source": [
        "data_test.describe()  # Statistics Analysis"
      ],
      "metadata": {
        "id": "mOWEqs4mXcnC",
        "colab": {
          "base_uri": "https://localhost:8080/",
          "height": 300
        },
        "outputId": "f2ef4488-9ecc-4ae4-9dfe-efbe4a1258ea"
      },
      "execution_count": null,
      "outputs": [
        {
          "output_type": "execute_result",
          "data": {
            "text/plain": [
              "           Pclass         Sex         Age        Fare    Embarked\n",
              "count  331.000000  331.000000  331.000000  331.000000  331.000000\n",
              "mean     2.141994    0.383686   30.181269   40.982087    0.380665\n",
              "std      0.846251    0.487019   14.104573   61.228558    0.608117\n",
              "min      1.000000    0.000000    0.170000    0.000000    0.000000\n",
              "25%      1.000000    0.000000   21.000000    8.050000    0.000000\n",
              "50%      2.000000    0.000000   27.000000   16.000000    0.000000\n",
              "75%      3.000000    1.000000   39.000000   40.633350    1.000000\n",
              "max      3.000000    1.000000   76.000000  512.329200    2.000000"
            ],
            "text/html": [
              "\n",
              "  <div id=\"df-172cc4c1-1da1-4438-9346-3feca516bbac\" class=\"colab-df-container\">\n",
              "    <div>\n",
              "<style scoped>\n",
              "    .dataframe tbody tr th:only-of-type {\n",
              "        vertical-align: middle;\n",
              "    }\n",
              "\n",
              "    .dataframe tbody tr th {\n",
              "        vertical-align: top;\n",
              "    }\n",
              "\n",
              "    .dataframe thead th {\n",
              "        text-align: right;\n",
              "    }\n",
              "</style>\n",
              "<table border=\"1\" class=\"dataframe\">\n",
              "  <thead>\n",
              "    <tr style=\"text-align: right;\">\n",
              "      <th></th>\n",
              "      <th>Pclass</th>\n",
              "      <th>Sex</th>\n",
              "      <th>Age</th>\n",
              "      <th>Fare</th>\n",
              "      <th>Embarked</th>\n",
              "    </tr>\n",
              "  </thead>\n",
              "  <tbody>\n",
              "    <tr>\n",
              "      <th>count</th>\n",
              "      <td>331.000000</td>\n",
              "      <td>331.000000</td>\n",
              "      <td>331.000000</td>\n",
              "      <td>331.000000</td>\n",
              "      <td>331.000000</td>\n",
              "    </tr>\n",
              "    <tr>\n",
              "      <th>mean</th>\n",
              "      <td>2.141994</td>\n",
              "      <td>0.383686</td>\n",
              "      <td>30.181269</td>\n",
              "      <td>40.982087</td>\n",
              "      <td>0.380665</td>\n",
              "    </tr>\n",
              "    <tr>\n",
              "      <th>std</th>\n",
              "      <td>0.846251</td>\n",
              "      <td>0.487019</td>\n",
              "      <td>14.104573</td>\n",
              "      <td>61.228558</td>\n",
              "      <td>0.608117</td>\n",
              "    </tr>\n",
              "    <tr>\n",
              "      <th>min</th>\n",
              "      <td>1.000000</td>\n",
              "      <td>0.000000</td>\n",
              "      <td>0.170000</td>\n",
              "      <td>0.000000</td>\n",
              "      <td>0.000000</td>\n",
              "    </tr>\n",
              "    <tr>\n",
              "      <th>25%</th>\n",
              "      <td>1.000000</td>\n",
              "      <td>0.000000</td>\n",
              "      <td>21.000000</td>\n",
              "      <td>8.050000</td>\n",
              "      <td>0.000000</td>\n",
              "    </tr>\n",
              "    <tr>\n",
              "      <th>50%</th>\n",
              "      <td>2.000000</td>\n",
              "      <td>0.000000</td>\n",
              "      <td>27.000000</td>\n",
              "      <td>16.000000</td>\n",
              "      <td>0.000000</td>\n",
              "    </tr>\n",
              "    <tr>\n",
              "      <th>75%</th>\n",
              "      <td>3.000000</td>\n",
              "      <td>1.000000</td>\n",
              "      <td>39.000000</td>\n",
              "      <td>40.633350</td>\n",
              "      <td>1.000000</td>\n",
              "    </tr>\n",
              "    <tr>\n",
              "      <th>max</th>\n",
              "      <td>3.000000</td>\n",
              "      <td>1.000000</td>\n",
              "      <td>76.000000</td>\n",
              "      <td>512.329200</td>\n",
              "      <td>2.000000</td>\n",
              "    </tr>\n",
              "  </tbody>\n",
              "</table>\n",
              "</div>\n",
              "    <div class=\"colab-df-buttons\">\n",
              "\n",
              "  <div class=\"colab-df-container\">\n",
              "    <button class=\"colab-df-convert\" onclick=\"convertToInteractive('df-172cc4c1-1da1-4438-9346-3feca516bbac')\"\n",
              "            title=\"Convert this dataframe to an interactive table.\"\n",
              "            style=\"display:none;\">\n",
              "\n",
              "  <svg xmlns=\"http://www.w3.org/2000/svg\" height=\"24px\" viewBox=\"0 -960 960 960\">\n",
              "    <path d=\"M120-120v-720h720v720H120Zm60-500h600v-160H180v160Zm220 220h160v-160H400v160Zm0 220h160v-160H400v160ZM180-400h160v-160H180v160Zm440 0h160v-160H620v160ZM180-180h160v-160H180v160Zm440 0h160v-160H620v160Z\"/>\n",
              "  </svg>\n",
              "    </button>\n",
              "\n",
              "  <style>\n",
              "    .colab-df-container {\n",
              "      display:flex;\n",
              "      gap: 12px;\n",
              "    }\n",
              "\n",
              "    .colab-df-convert {\n",
              "      background-color: #E8F0FE;\n",
              "      border: none;\n",
              "      border-radius: 50%;\n",
              "      cursor: pointer;\n",
              "      display: none;\n",
              "      fill: #1967D2;\n",
              "      height: 32px;\n",
              "      padding: 0 0 0 0;\n",
              "      width: 32px;\n",
              "    }\n",
              "\n",
              "    .colab-df-convert:hover {\n",
              "      background-color: #E2EBFA;\n",
              "      box-shadow: 0px 1px 2px rgba(60, 64, 67, 0.3), 0px 1px 3px 1px rgba(60, 64, 67, 0.15);\n",
              "      fill: #174EA6;\n",
              "    }\n",
              "\n",
              "    .colab-df-buttons div {\n",
              "      margin-bottom: 4px;\n",
              "    }\n",
              "\n",
              "    [theme=dark] .colab-df-convert {\n",
              "      background-color: #3B4455;\n",
              "      fill: #D2E3FC;\n",
              "    }\n",
              "\n",
              "    [theme=dark] .colab-df-convert:hover {\n",
              "      background-color: #434B5C;\n",
              "      box-shadow: 0px 1px 3px 1px rgba(0, 0, 0, 0.15);\n",
              "      filter: drop-shadow(0px 1px 2px rgba(0, 0, 0, 0.3));\n",
              "      fill: #FFFFFF;\n",
              "    }\n",
              "  </style>\n",
              "\n",
              "    <script>\n",
              "      const buttonEl =\n",
              "        document.querySelector('#df-172cc4c1-1da1-4438-9346-3feca516bbac button.colab-df-convert');\n",
              "      buttonEl.style.display =\n",
              "        google.colab.kernel.accessAllowed ? 'block' : 'none';\n",
              "\n",
              "      async function convertToInteractive(key) {\n",
              "        const element = document.querySelector('#df-172cc4c1-1da1-4438-9346-3feca516bbac');\n",
              "        const dataTable =\n",
              "          await google.colab.kernel.invokeFunction('convertToInteractive',\n",
              "                                                    [key], {});\n",
              "        if (!dataTable) return;\n",
              "\n",
              "        const docLinkHtml = 'Like what you see? Visit the ' +\n",
              "          '<a target=\"_blank\" href=https://colab.research.google.com/notebooks/data_table.ipynb>data table notebook</a>'\n",
              "          + ' to learn more about interactive tables.';\n",
              "        element.innerHTML = '';\n",
              "        dataTable['output_type'] = 'display_data';\n",
              "        await google.colab.output.renderOutput(dataTable, element);\n",
              "        const docLink = document.createElement('div');\n",
              "        docLink.innerHTML = docLinkHtml;\n",
              "        element.appendChild(docLink);\n",
              "      }\n",
              "    </script>\n",
              "  </div>\n",
              "\n",
              "\n",
              "<div id=\"df-e13ceae1-b27a-43d9-b377-132bd64bf04c\">\n",
              "  <button class=\"colab-df-quickchart\" onclick=\"quickchart('df-e13ceae1-b27a-43d9-b377-132bd64bf04c')\"\n",
              "            title=\"Suggest charts.\"\n",
              "            style=\"display:none;\">\n",
              "\n",
              "<svg xmlns=\"http://www.w3.org/2000/svg\" height=\"24px\"viewBox=\"0 0 24 24\"\n",
              "     width=\"24px\">\n",
              "    <g>\n",
              "        <path d=\"M19 3H5c-1.1 0-2 .9-2 2v14c0 1.1.9 2 2 2h14c1.1 0 2-.9 2-2V5c0-1.1-.9-2-2-2zM9 17H7v-7h2v7zm4 0h-2V7h2v10zm4 0h-2v-4h2v4z\"/>\n",
              "    </g>\n",
              "</svg>\n",
              "  </button>\n",
              "\n",
              "<style>\n",
              "  .colab-df-quickchart {\n",
              "    background-color: #E8F0FE;\n",
              "    border: none;\n",
              "    border-radius: 50%;\n",
              "    cursor: pointer;\n",
              "    display: none;\n",
              "    fill: #1967D2;\n",
              "    height: 32px;\n",
              "    padding: 0 0 0 0;\n",
              "    width: 32px;\n",
              "  }\n",
              "\n",
              "  .colab-df-quickchart:hover {\n",
              "    background-color: #E2EBFA;\n",
              "    box-shadow: 0px 1px 2px rgba(60, 64, 67, 0.3), 0px 1px 3px 1px rgba(60, 64, 67, 0.15);\n",
              "    fill: #174EA6;\n",
              "  }\n",
              "\n",
              "  [theme=dark] .colab-df-quickchart {\n",
              "    background-color: #3B4455;\n",
              "    fill: #D2E3FC;\n",
              "  }\n",
              "\n",
              "  [theme=dark] .colab-df-quickchart:hover {\n",
              "    background-color: #434B5C;\n",
              "    box-shadow: 0px 1px 3px 1px rgba(0, 0, 0, 0.15);\n",
              "    filter: drop-shadow(0px 1px 2px rgba(0, 0, 0, 0.3));\n",
              "    fill: #FFFFFF;\n",
              "  }\n",
              "</style>\n",
              "\n",
              "  <script>\n",
              "    async function quickchart(key) {\n",
              "      const charts = await google.colab.kernel.invokeFunction(\n",
              "          'suggestCharts', [key], {});\n",
              "    }\n",
              "    (() => {\n",
              "      let quickchartButtonEl =\n",
              "        document.querySelector('#df-e13ceae1-b27a-43d9-b377-132bd64bf04c button');\n",
              "      quickchartButtonEl.style.display =\n",
              "        google.colab.kernel.accessAllowed ? 'block' : 'none';\n",
              "    })();\n",
              "  </script>\n",
              "</div>\n",
              "    </div>\n",
              "  </div>\n"
            ]
          },
          "metadata": {},
          "execution_count": 18
        }
      ]
    },
    {
      "cell_type": "markdown",
      "metadata": {
        "id": "iPtKuO7Rbd2_"
      },
      "source": [
        "## Panorama de los datos"
      ]
    },
    {
      "cell_type": "markdown",
      "source": [
        "### Cantidad de hombres y mujeres así como su embarque"
      ],
      "metadata": {
        "id": "_IaKPP54SzGh"
      }
    },
    {
      "cell_type": "code",
      "execution_count": null,
      "metadata": {
        "id": "-WBOrdI1lAYk",
        "colab": {
          "base_uri": "https://localhost:8080/",
          "height": 407
        },
        "outputId": "97a97f42-c8c5-4cf7-f7bd-ed0bc71292f6"
      },
      "outputs": [
        {
          "output_type": "display_data",
          "data": {
            "text/plain": [
              "<Figure size 1000x400 with 2 Axes>"
            ],
            "image/png": "[encoded data removed]"
          },
          "metadata": {}
        }
      ],
      "source": [
        "# Sexo de los pasajeros\n",
        "h = 0 # Hombres\n",
        "m = 0 # Mujeres\n",
        "\n",
        "# Embarque\n",
        "s = 0 # Southampton\n",
        "c = 0 # Cherbourg\n",
        "q = 0 # Queenstown\n",
        "\n",
        "categorias1 = ['Males', 'Females']\n",
        "colores1 = ['red','blue']\n",
        "categorias2 = ['S','C','Q']\n",
        "colores2 = ['orange','blue','red']\n",
        "for i,j in zip(data_titanic['Sex'],data_titanic['Embarked']):\n",
        "  if i:\n",
        "    m += 1\n",
        "  else:\n",
        "    h += 1\n",
        "  if j == 0:\n",
        "    s += 1\n",
        "  elif j == 1:\n",
        "    c += 1\n",
        "  else:\n",
        "    q = q + 1\n",
        "\n",
        "# Crear subplots\n",
        "fig, axes = plt.subplots(1, 2, figsize=(10, 4))\n",
        "\n",
        "# Plot de pastel - Sexo de los pasajeros\n",
        "sexo = [h,m]\n",
        "axes[0].pie(sexo, labels=categorias1, colors=colores1, autopct='%.1f%%')\n",
        "axes[0].set_title('Gender in Titanic')\n",
        "\n",
        "# Segundo gráfico de barras - Embarque\n",
        "emb = [s,c,q]\n",
        "axes[1].bar(categorias2, emb, color=colores2)\n",
        "axes[1].set_xlabel('Embarked')\n",
        "axes[1].set_ylabel('Number of people')\n",
        "axes[1].set_title('Embarked in Titanic')\n",
        "axes[1].grid()\n",
        "# Ajustar el espaciado entre los subplots\n",
        "plt.tight_layout()\n",
        "# Mostrar los gráficos\n",
        "plt.show()"
      ]
    },
    {
      "cell_type": "markdown",
      "source": [
        "### Quienes sobrevivieron y quienes no en función del sexo"
      ],
      "metadata": {
        "id": "bgxcU4GqTkMm"
      }
    },
    {
      "cell_type": "code",
      "execution_count": null,
      "metadata": {
        "id": "HWwtK1BUlzOh",
        "colab": {
          "base_uri": "https://localhost:8080/",
          "height": 410
        },
        "outputId": "920aa8c0-87a5-44a6-ab0d-ba2e8a2f7cfa"
      },
      "outputs": [
        {
          "output_type": "display_data",
          "data": {
            "text/plain": [
              "<Figure size 1000x400 with 1 Axes>"
            ],
            "image/png": "[encoded data removed]"
          },
          "metadata": {}
        }
      ],
      "source": [
        "category = ['Men Survived', 'Men Deceased', 'Women Survived', 'Women Deceased']\n",
        "hv = 0\n",
        "hm = 0\n",
        "mv = 0\n",
        "mm = 0\n",
        "colors = ['red','blue','orange','green']\n",
        "for i,j in zip(data_titanic['Sex'],data_titanic['Survived']):\n",
        "  if i == 0 and j == 1:\n",
        "    hv = hv + 1\n",
        "  elif  i == 0 and j == 0:\n",
        "    hm =hm + 1\n",
        "  elif  i == 1 and j == 1:\n",
        "    mv =mv + 1\n",
        "  elif  i == 1 and j == 0:\n",
        "    mm = mm+1\n",
        "data = [hv,hm,mv,mm]\n",
        "# Crear la figura con subplots\n",
        "fig, axes = plt.subplots(1, 1, figsize=(10, 4))\n",
        "# Primer gráfico de barras\n",
        "axes.bar(category, data, color=colors)\n",
        "axes.set_xlabel('Sex')\n",
        "axes.set_ylabel('Number of survivors')\n",
        "axes.set_title('Gender of survivors')\n",
        "axes.grid()"
      ]
    },
    {
      "cell_type": "markdown",
      "source": [
        "### Análisis de las edades de los pasajeros.\n",
        "\n",
        "**Sin los datos de los pasajeros que tienen edades Nulas**"
      ],
      "metadata": {
        "id": "3OzlyHTbZC7Z"
      }
    },
    {
      "cell_type": "code",
      "execution_count": null,
      "metadata": {
        "id": "nNaJ1JZ51C9j",
        "colab": {
          "base_uri": "https://localhost:8080/",
          "height": 1000
        },
        "outputId": "7d51b5ff-38e1-4de8-ec9c-cb4e0ac336b2"
      },
      "outputs": [
        {
          "output_type": "stream",
          "name": "stdout",
          "text": [
            "803    0.42\n",
            "755    0.67\n",
            "644    0.75\n",
            "469    0.75\n",
            "78     0.83\n",
            "       ... \n",
            "859     NaN\n",
            "863     NaN\n",
            "868     NaN\n",
            "878     NaN\n",
            "888     NaN\n",
            "Name: Age, Length: 891, dtype: float64\n",
            "[ 0.42  20.125 28.    38.    80.   ]\n"
          ]
        },
        {
          "output_type": "display_data",
          "data": {
            "text/plain": [
              "<Figure size 750x500 with 1 Axes>"
            ],
            "image/png": "[encoded data removed]"
          },
          "metadata": {}
        },
        {
          "output_type": "stream",
          "name": "stdout",
          "text": [
            "\n",
            "\n",
            "\n",
            "\n",
            "\n",
            "[ 0.42 19.   25.   31.8  41.   80.  ]\n"
          ]
        },
        {
          "output_type": "display_data",
          "data": {
            "text/plain": [
              "<Figure size 750x500 with 1 Axes>"
            ],
            "image/png": "[encoded data removed]"
          },
          "metadata": {}
        },
        {
          "output_type": "stream",
          "name": "stdout",
          "text": [
            "\n",
            "\n",
            "\n",
            "\n",
            "\n"
          ]
        }
      ],
      "source": [
        "# Se crea una tabla de las edades ordenadas\n",
        "data = data_titanic['Age'].sort_values()\n",
        "print(data)\n",
        "\n",
        "# Se quitan los datos nulos - Se borran 177 datos\n",
        "data_cleaned = data.dropna()\n",
        "\n",
        "x = np.quantile(data_cleaned, [0, 1/3, 2/3, 1])\n",
        "\n",
        "cuantiles = [(4, \"Cuartiles\"),(5, \"Quintiles\")]\n",
        "\n",
        "cortes = []\n",
        "for cuantil in cuantiles:\n",
        "    corte = []\n",
        "    valor = 0\n",
        "    for i in range(cuantil[0]-1):\n",
        "        valor += 1/cuantil[0]\n",
        "        corte.append(valor)\n",
        "    cortes.append(corte)\n",
        "for i in range(len(cuantiles)):\n",
        "    plt.figure(figsize=(7.5, 5))\n",
        "    plt.title(cuantiles[i][1], size=10)\n",
        "    plt.ylabel(\"Frecuencia\", size=16)\n",
        "    plt.xlabel(\"Edades\", size=16)\n",
        "    sns.histplot(data_titanic['Age'], bins=20, kde=False, color = \"red\")\n",
        "    plt.grid()\n",
        "    print(np.quantile(data_cleaned, [0] + cortes[i] + [1]))\n",
        "    for corte in cortes[i]:\n",
        "        plt.axvline(x = np.quantile(data_cleaned, corte), label=\"%.2f\" % corte, linewidth=3)\n",
        "    plt.legend()\n",
        "    plt.show()\n",
        "    print(\"\\n\"*4)"
      ]
    },
    {
      "cell_type": "markdown",
      "source": [
        "\n",
        "**Con los datos de los pasajeros que tienen edades Nulas**\n",
        "\n",
        "\n",
        "Se utiliza el modelo de Vecinos para rellenar las edades Nulas"
      ],
      "metadata": {
        "id": "fL8Lq9Q2Zzym"
      }
    },
    {
      "cell_type": "code",
      "source": [
        "# Crear un imputador KNN con el número deseado de vecinos (K)\n",
        "imputer = KNNImputer(n_neighbors=2)\n",
        "\n",
        "# Realizar la imputación en el DataFrame\n",
        "imputed_data = imputer.fit_transform(data_titanic)\n",
        "\n",
        "# Convertir los datos imputados de nuevo en un DataFrame\n",
        "imputed_df = pd.DataFrame(imputed_data, columns=data_titanic.columns)"
      ],
      "metadata": {
        "id": "hjX4pqfwZzXC"
      },
      "execution_count": null,
      "outputs": []
    },
    {
      "cell_type": "code",
      "source": [
        "print(\"DataFrame original:\")\n",
        "print(data_titanic)\n",
        "print(\"\\nDataFrame después de la imputación KNN:\")\n",
        "print(imputed_df)"
      ],
      "metadata": {
        "id": "v1my6BmWag1C",
        "colab": {
          "base_uri": "https://localhost:8080/"
        },
        "outputId": "5d86b670-af33-4b90-dfef-b6bda728a52f"
      },
      "execution_count": null,
      "outputs": [
        {
          "output_type": "stream",
          "name": "stdout",
          "text": [
            "DataFrame original:\n",
            "     Survived  Pclass  Sex   Age     Fare  Embarked\n",
            "0           0       3    0  22.0   7.2500       0.0\n",
            "1           1       1    1  38.0  71.2833       1.0\n",
            "2           1       3    1  26.0   7.9250       0.0\n",
            "3           1       1    1  35.0  53.1000       0.0\n",
            "4           0       3    0  35.0   8.0500       0.0\n",
            "..        ...     ...  ...   ...      ...       ...\n",
            "886         0       2    0  27.0  13.0000       0.0\n",
            "887         1       1    1  19.0  30.0000       0.0\n",
            "888         0       3    1   NaN  23.4500       0.0\n",
            "889         1       1    0  26.0  30.0000       1.0\n",
            "890         0       3    0  32.0   7.7500       2.0\n",
            "\n",
            "[891 rows x 6 columns]\n",
            "\n",
            "DataFrame después de la imputación KNN:\n",
            "     Survived  Pclass  Sex   Age     Fare  Embarked\n",
            "0         0.0     3.0  0.0  22.0   7.2500       0.0\n",
            "1         1.0     1.0  1.0  38.0  71.2833       1.0\n",
            "2         1.0     3.0  1.0  26.0   7.9250       0.0\n",
            "3         1.0     1.0  1.0  35.0  53.1000       0.0\n",
            "4         0.0     3.0  0.0  35.0   8.0500       0.0\n",
            "..        ...     ...  ...   ...      ...       ...\n",
            "886       0.0     2.0  0.0  27.0  13.0000       0.0\n",
            "887       1.0     1.0  1.0  19.0  30.0000       0.0\n",
            "888       0.0     3.0  1.0  20.0  23.4500       0.0\n",
            "889       1.0     1.0  0.0  26.0  30.0000       1.0\n",
            "890       0.0     3.0  0.0  32.0   7.7500       2.0\n",
            "\n",
            "[891 rows x 6 columns]\n"
          ]
        }
      ]
    },
    {
      "cell_type": "code",
      "source": [
        "# Se crea una tabla de las edades ordenadas\n",
        "data_imputed = imputed_df['Age'].sort_values()\n",
        "\n",
        "x_data = np.quantile(data_imputed, [0, 1/3, 2/3, 1])\n",
        "\n",
        "cuantiles = [(4, \"Cuartiles\"),(5, \"Quintiles\")]\n",
        "\n",
        "cortes = []\n",
        "for cuantil2 in cuantiles:\n",
        "    corte = []\n",
        "    valor = 0\n",
        "    for i in range(cuantil2[0]-1):\n",
        "        valor += 1/cuantil2[0]\n",
        "        corte.append(valor)\n",
        "    cortes.append(corte)\n",
        "for i2 in range(len(cuantiles)):\n",
        "    plt.figure(figsize=(7.5, 5))\n",
        "    plt.title(cuantiles[i2][1], size=10)\n",
        "    plt.ylabel(\"Frecuencia\", size=16)\n",
        "    plt.xlabel(\"Edades\", size=16)\n",
        "    sns.histplot(data_titanic['Age'], bins=20, kde=False, color = \"red\")\n",
        "    plt.grid()\n",
        "    print(np.quantile(data_imputed, [0] + cortes[i2] + [1]))\n",
        "    for corte2 in cortes[i2]:\n",
        "        plt.axvline(x = np.quantile(data_imputed, corte2), label=\"%.2f\" % corte2, linewidth=3)\n",
        "    plt.legend()\n",
        "    plt.show()\n",
        "    print(\"\\n\"*4)"
      ],
      "metadata": {
        "id": "i5bsjq71augC",
        "colab": {
          "base_uri": "https://localhost:8080/",
          "height": 1000
        },
        "outputId": "e231520b-d2fe-47fa-9528-a91d223edc89"
      },
      "execution_count": null,
      "outputs": [
        {
          "output_type": "stream",
          "name": "stdout",
          "text": [
            "[ 0.42 21.   29.   38.   80.  ]\n"
          ]
        },
        {
          "output_type": "display_data",
          "data": {
            "text/plain": [
              "<Figure size 750x500 with 1 Axes>"
            ],
            "image/png": "[encoded data removed]"
          },
          "metadata": {}
        },
        {
          "output_type": "stream",
          "name": "stdout",
          "text": [
            "\n",
            "\n",
            "\n",
            "\n",
            "\n",
            "[ 0.42 19.   25.75 32.   41.   80.  ]\n"
          ]
        },
        {
          "output_type": "display_data",
          "data": {
            "text/plain": [
              "<Figure size 750x500 with 1 Axes>"
            ],
            "image/png": "[encoded data removed]"
          },
          "metadata": {}
        },
        {
          "output_type": "stream",
          "name": "stdout",
          "text": [
            "\n",
            "\n",
            "\n",
            "\n",
            "\n"
          ]
        }
      ]
    },
    {
      "cell_type": "markdown",
      "source": [],
      "metadata": {
        "id": "UwsOFCZzdWTb"
      }
    },
    {
      "cell_type": "code",
      "execution_count": null,
      "metadata": {
        "id": "QLeICb7hPW3i",
        "colab": {
          "base_uri": "https://localhost:8080/",
          "height": 815
        },
        "outputId": "4d854d45-2ffe-40d1-d905-4657e68aa61d"
      },
      "outputs": [
        {
          "output_type": "stream",
          "name": "stderr",
          "text": [
            "<ipython-input-25-83693a18fc29>:12: FutureWarning: \n",
            "\n",
            "`shade` is now deprecated in favor of `fill`; setting `fill=True`.\n",
            "This will become an error in seaborn v0.14.0; please update your code.\n",
            "\n",
            "  sns.kdeplot(data_titanic['Age'], shade=True)\n",
            "<ipython-input-25-83693a18fc29>:23: FutureWarning: \n",
            "\n",
            "`shade` is now deprecated in favor of `fill`; setting `fill=True`.\n",
            "This will become an error in seaborn v0.14.0; please update your code.\n",
            "\n",
            "  sns.kdeplot(imputed_df['Age'], shade=True)\n"
          ]
        },
        {
          "output_type": "display_data",
          "data": {
            "text/plain": [
              "<Figure size 1000x600 with 4 Axes>"
            ],
            "image/png": "[encoded data removed]"
          },
          "metadata": {}
        }
      ],
      "source": [
        "# Crear una figura con dos subplots\n",
        "plt.figure(figsize=(10, 6))\n",
        "\n",
        "# ----- Data frame sin datos nulos -----\n",
        "# Histograma de la distribución de edades\n",
        "plt.subplot(2, 2, 1)  # 1 fila, 2 columnas, primer subplot\n",
        "sns.histplot(data_titanic['Age'], bins=20, kde=False)\n",
        "plt.title('Distribución de Edades con datos nulos eliminados')\n",
        "\n",
        "# Gráfico de densidad de la distribución de edades\n",
        "plt.subplot(2, 2, 2)  # 1 fila, 2 columnas, segundo subplot\n",
        "sns.kdeplot(data_titanic['Age'], shade=True)\n",
        "plt.title('Densidad de Edades con datos nulos eliminados')\n",
        "\n",
        "# ----- Data frame con datos nulos remplazados -----\n",
        "# Histograma de la distribución de edades\n",
        "plt.subplot(2, 2, 3)  # 1 fila, 2 columnas, primer subplot\n",
        "sns.histplot(imputed_df['Age'], bins=20, kde=False)\n",
        "plt.title('Distribución de Edades con datos nulos remplazados')\n",
        "\n",
        "# Gráfico de densidad de la distribución de edades\n",
        "plt.subplot(2, 2, 4)  # 1 fila, 2 columnas, segundo subplot\n",
        "sns.kdeplot(imputed_df['Age'], shade=True)\n",
        "plt.title('Densidad de Edades con datos nulos remplazados')\n",
        "\n",
        "plt.tight_layout()\n",
        "plt.show()"
      ]
    },
    {
      "cell_type": "markdown",
      "metadata": {
        "id": "gGt60V_Fbu2p"
      },
      "source": [
        "### Análisis de correlación para identificar qué variables están más ligadas a sobrevivir\n",
        "\n",
        "\n",
        "\n",
        "*   Database eliminando los pasajeros con edades nulas.\n",
        "\n"
      ]
    },
    {
      "cell_type": "code",
      "execution_count": null,
      "metadata": {
        "id": "eVO_XX3_0E80",
        "colab": {
          "base_uri": "https://localhost:8080/",
          "height": 452
        },
        "outputId": "ae27b1ad-4b5e-472d-f072-19261efa2dd3"
      },
      "outputs": [
        {
          "output_type": "execute_result",
          "data": {
            "text/plain": [
              "<Axes: >"
            ]
          },
          "metadata": {},
          "execution_count": 26
        },
        {
          "output_type": "display_data",
          "data": {
            "text/plain": [
              "<Figure size 640x480 with 2 Axes>"
            ],
            "image/png": "[encoded data removed]"
          },
          "metadata": {}
        }
      ],
      "source": [
        "df = data_titanic\n",
        "df_NonNull = df.dropna()\n",
        "df_NonNull.isnull().sum()\n",
        "corr_nonull = df_NonNull.corr()\n",
        "sb.heatmap(corr_nonull, cmap = 'Blues', annot = True)"
      ]
    },
    {
      "cell_type": "markdown",
      "source": [
        "\n",
        "\n",
        "*   Database con edades supuestas, por lo tanto se conservan los 891 datos\n",
        "\n"
      ],
      "metadata": {
        "id": "GjNL0ajZlJEG"
      }
    },
    {
      "cell_type": "code",
      "source": [
        "corr_imputed = imputed_df.corr()\n",
        "sb.heatmap(corr_imputed, cmap = 'Blues', annot = True)"
      ],
      "metadata": {
        "id": "VyXwN_MOmMuK",
        "colab": {
          "base_uri": "https://localhost:8080/",
          "height": 452
        },
        "outputId": "914cba47-479f-4206-989a-718bb5414cc8"
      },
      "execution_count": null,
      "outputs": [
        {
          "output_type": "execute_result",
          "data": {
            "text/plain": [
              "<Axes: >"
            ]
          },
          "metadata": {},
          "execution_count": 27
        },
        {
          "output_type": "display_data",
          "data": {
            "text/plain": [
              "<Figure size 640x480 with 2 Axes>"
            ],
            "image/png": "[encoded data removed]"
          },
          "metadata": {}
        }
      ]
    },
    {
      "cell_type": "markdown",
      "metadata": {
        "id": "2D78qya7-eai"
      },
      "source": [
        "## Preparando modelos AI"
      ]
    },
    {
      "cell_type": "markdown",
      "source": [
        "### Librerías de modelos"
      ],
      "metadata": {
        "id": "OThOEXX0nf5A"
      }
    },
    {
      "cell_type": "code",
      "execution_count": null,
      "metadata": {
        "id": "f4kabbWD-d2Z"
      },
      "outputs": [],
      "source": [
        "#Librería Separar dataset\n",
        "from sklearn.model_selection import train_test_split\n",
        "\n",
        "#Librerías para Modelos de clasificación\n",
        "from sklearn.neighbors import KNeighborsClassifier\n",
        "from sklearn.svm import SVC\n",
        "from sklearn.linear_model import LogisticRegression\n",
        "from sklearn.tree import DecisionTreeClassifier\n",
        "from sklearn.naive_bayes import GaussianNB\n",
        "from sklearn.ensemble import RandomForestClassifier\n",
        "from sklearn.ensemble import GradientBoostingClassifier\n",
        "from sklearn.tree import DecisionTreeClassifier\n",
        "from sklearn.neural_network import MLPClassifier\n",
        "\n",
        "\n",
        "#Se usa en la función que no hemos usado todavía en el proyecto\n",
        "from sklearn.model_selection import cross_val_score\n",
        "#Librerías para realizar un análisis de la implementación del modelo\n",
        "from sklearn.metrics import accuracy_score\n",
        "from sklearn import metrics"
      ]
    },
    {
      "cell_type": "code",
      "execution_count": null,
      "metadata": {
        "id": "wowh6wnF1t98"
      },
      "outputs": [],
      "source": [
        "#Función para implementar meta-algoritmo\n",
        "def modelfit(alg, dtrain, predictors, performCV=True, printFeatureImportance=True, cv_folds=5):\n",
        "    #Fit the algorithm on the data\n",
        "    alg.fit(dtrain[predictors], dtrain['Disbursed'])\n",
        "\n",
        "    #Predict training set:\n",
        "    dtrain_predictions = alg.predict(dtrain[predictors])\n",
        "    dtrain_predprob = alg.predict_proba(dtrain[predictors])[:,1]\n",
        "\n",
        "    #Perform cross-validation:\n",
        "    if performCV:\n",
        "        cv_score = cross_validation.cross_val_score(alg, dtrain[predictors], dtrain['Disbursed'], cv=cv_folds, scoring='roc_auc')\n",
        "\n",
        "    #Print model report:\n",
        "    print(\"\\nModel Report\")\n",
        "    print(\"Accuracy : %.4g\" % metrics.accuracy_score(dtrain['Disbursed'].values, dtrain_predictions))\n",
        "    print(\"AUC Score (Train): %f\" % metrics.roc_auc_score(dtrain['Disbursed'], dtrain_predprob))\n",
        "\n",
        "    if performCV:\n",
        "        print(\"CV Score : Mean - %.7g | Std - %.7g | Min - %.7g | Max - %.7g\" % (np.mean(cv_score),np.std(cv_score),np.min(cv_score),np.max(cv_score)))\n",
        "\n",
        "    #Print Feature Importance:\n",
        "    if printFeatureImportance:\n",
        "        feat_imp = pd.Series(alg.feature_importances_, predictors).sort_values(ascending=False)\n",
        "        feat_imp.plot(kind='bar', title='Feature Importances')\n",
        "        plt.ylabel('Feature Importance Score')"
      ]
    },
    {
      "cell_type": "markdown",
      "metadata": {
        "id": "8x2sUcdVcBuh"
      },
      "source": [
        "## Modelos utilizando base de datos sin valores nulos"
      ]
    },
    {
      "cell_type": "code",
      "execution_count": null,
      "metadata": {
        "id": "GFyKWks_ayTt"
      },
      "outputs": [],
      "source": [
        "#Separamos tipos de variables en dependientes e independientes\n",
        "feature_names = ['Age', 'Sex', 'Pclass', 'Embarked', 'Fare']\n",
        "X_NonNull = df_NonNull[feature_names] # variables predictoras\n",
        "y_NonNull = df_NonNull['Survived']    # variable de respuesta\n",
        "#Se divide el dataset en entrenamiento y test, con un ratio de 80-20\n",
        "X_NonNull_train, X_NonNull_test, y_NonNull_train, y_NonNull_test = train_test_split(X_NonNull, y_NonNull, test_size=0.2, random_state=42, stratify=y_NonNull)"
      ]
    },
    {
      "cell_type": "code",
      "execution_count": null,
      "metadata": {
        "id": "Ylhv234w-tb_"
      },
      "outputs": [],
      "source": [
        "#Se implementa una array de tuplas de las funciones a utilizar con sus respectivos modelos\n",
        "models = []\n",
        "models.append(('KNN', KNeighborsClassifier()))\n",
        "models.append(('SVC', SVC()))\n",
        "models.append(('LR', LogisticRegression()))\n",
        "models.append(('DT', DecisionTreeClassifier()))\n",
        "models.append(('GNB', GaussianNB()))\n",
        "models.append(('RF', RandomForestClassifier()))\n",
        "models.append(('GB', GradientBoostingClassifier()))\n",
        "models.append(('MLP', MLPClassifier()))"
      ]
    },
    {
      "cell_type": "code",
      "execution_count": null,
      "metadata": {
        "id": "pQgJvNunNxNb",
        "colab": {
          "base_uri": "https://localhost:8080/"
        },
        "outputId": "d01605b3-ff72-405d-ae82-7dee59f2021c"
      },
      "outputs": [
        {
          "output_type": "stream",
          "name": "stdout",
          "text": [
            "  Name     Score\n",
            "0  KNN  0.643357\n",
            "1  SVC  0.671329\n",
            "2   LR  0.755245\n",
            "3   DT  0.734266\n",
            "4  GNB  0.755245\n",
            "5   RF  0.762238\n",
            "6   GB  0.783217\n",
            "7  MLP  0.755245\n"
          ]
        },
        {
          "output_type": "stream",
          "name": "stderr",
          "text": [
            "/usr/local/lib/python3.10/dist-packages/sklearn/neural_network/_multilayer_perceptron.py:686: ConvergenceWarning: Stochastic Optimizer: Maximum iterations (200) reached and the optimization hasn't converged yet.\n",
            "  warnings.warn(\n"
          ]
        }
      ],
      "source": [
        "#Aquí se utiliza un ciclo para preparar, , entrenar y predecir cada uno de nuestros modelos que importamos, además se hace un análisis de precisión con la librería accuray_score\n",
        "names = []\n",
        "scores = []\n",
        "for name, model in models:\n",
        "    model.fit(X_NonNull_train, y_NonNull_train)\n",
        "    y_NonNull_pred = model.predict(X_NonNull_test)\n",
        "    scores.append(accuracy_score(y_NonNull_test, y_NonNull_pred))\n",
        "    names.append(name)\n",
        "tr_split = pd.DataFrame({'Name': names, 'Score': scores})\n",
        "print(tr_split)"
      ]
    },
    {
      "cell_type": "markdown",
      "metadata": {
        "id": "2iC3z7Yk9LNh"
      },
      "source": [
        "### Gradient Boosting"
      ]
    },
    {
      "cell_type": "markdown",
      "source": [
        "Prueba de parámetros 1"
      ],
      "metadata": {
        "id": "dWpKNw0Su4Eb"
      }
    },
    {
      "cell_type": "code",
      "execution_count": null,
      "metadata": {
        "id": "eVXzSgiHJZua",
        "colab": {
          "base_uri": "https://localhost:8080/"
        },
        "outputId": "d805e772-5d49-46b7-e17c-683716b97cec"
      },
      "outputs": [
        {
          "output_type": "stream",
          "name": "stdout",
          "text": [
            "Accuracy: 0.8181818181818182\n",
            "Precision: 0.780952380952381\n",
            "Recall: 0.9647058823529412\n",
            "Fone: 0.8631578947368421\n"
          ]
        },
        {
          "output_type": "display_data",
          "data": {
            "text/plain": [
              "<Figure size 640x480 with 2 Axes>"
            ],
            "image/png": "[encoded data removed]"
          },
          "metadata": {}
        }
      ],
      "source": [
        "#Se selecciona el modelo que mejores métricas nos dió y se hace un ajuste de hyper-parámetros para mejorar los resultados\n",
        "#Se implementa el modelo completamente\n",
        "#Se llama la función con un learning_rate de 0.01\n",
        "GB = GradientBoostingClassifier(learning_rate=0.01, subsample=0.6)\n",
        "#Se ajustan los datos al modelo\n",
        "GB.fit(X_NonNull_train, y_NonNull_train)\n",
        "\n",
        "#Se predice el modelo\n",
        "y_NonNull_pred = GB.predict(X_NonNull_test)\n",
        "#Matríz de confusión\n",
        "confusion_matrix = metrics.confusion_matrix(y_NonNull_test, y_NonNull_pred)\n",
        "#Se imprimen las variables obtenidas de la matríz\n",
        "accuracy = (confusion_matrix[0,0] + confusion_matrix[1,1]) / (confusion_matrix[0,0]+confusion_matrix[0,1]+confusion_matrix[1,0]+confusion_matrix[1,1])\n",
        "print('Accuracy:',accuracy)\n",
        "precision = confusion_matrix[0,0] /(confusion_matrix[0,0]+confusion_matrix[1,0])\n",
        "print(\"Precision:\",precision)\n",
        "recall = confusion_matrix[0,0] /(confusion_matrix[0,0]+confusion_matrix[0,1])\n",
        "print(\"Recall:\",recall)\n",
        "Fone = (2*precision*recall)/(precision+recall)\n",
        "print('Fone:',Fone)\n",
        "cm_display = metrics.ConfusionMatrixDisplay(confusion_matrix = confusion_matrix, display_labels = [False, True])\n",
        "cm_display.plot()\n",
        "plt.show()\n"
      ]
    },
    {
      "cell_type": "markdown",
      "source": [
        "Prueba de parámetros 2"
      ],
      "metadata": {
        "id": "OZ6wPx30u7KK"
      }
    },
    {
      "cell_type": "code",
      "source": [
        "#cambio de hyper parámtetros #2\n",
        "GB = GradientBoostingClassifier(learning_rate=0.05, subsample=0.5)\n",
        "#Se ajustan los datos al modelo\n",
        "GB.fit(X_NonNull_train, y_NonNull_train)\n",
        "\n",
        "#Se predice el modelo\n",
        "y_NonNull_pred = GB.predict(X_NonNull_test)\n",
        "#Matríz de confusión\n",
        "confusion_matrix = metrics.confusion_matrix(y_NonNull_test, y_NonNull_pred)\n",
        "#Se imprimen las variables obtenidas de la matríz\n",
        "accuracy = (confusion_matrix[0,0] + confusion_matrix[1,1]) / (confusion_matrix[0,0]+confusion_matrix[0,1]+confusion_matrix[1,0]+confusion_matrix[1,1])\n",
        "print('Accuracy:',accuracy)\n",
        "precision = confusion_matrix[0,0] /(confusion_matrix[0,0]+confusion_matrix[1,0])\n",
        "print(\"Precision:\",precision)\n",
        "recall = confusion_matrix[0,0] /(confusion_matrix[0,0]+confusion_matrix[0,1])\n",
        "print(\"Recall:\",recall)\n",
        "Fone = (2*precision*recall)/(precision+recall)\n",
        "print('Fone:',Fone)\n",
        "cm_display = metrics.ConfusionMatrixDisplay(confusion_matrix = confusion_matrix, display_labels = [False, True])\n",
        "cm_display.plot()\n",
        "plt.show()\n"
      ],
      "metadata": {
        "id": "DByIAlHasTlQ",
        "colab": {
          "base_uri": "https://localhost:8080/"
        },
        "outputId": "1e72dc6a-e488-4b0e-f32c-c6293e5b3ba1"
      },
      "execution_count": null,
      "outputs": [
        {
          "output_type": "stream",
          "name": "stdout",
          "text": [
            "Accuracy: 0.7832167832167832\n",
            "Precision: 0.8068181818181818\n",
            "Recall: 0.8352941176470589\n",
            "Fone: 0.8208092485549133\n"
          ]
        },
        {
          "output_type": "display_data",
          "data": {
            "text/plain": [
              "<Figure size 640x480 with 2 Axes>"
            ],
            "image/png": "[encoded data removed]"
          },
          "metadata": {}
        }
      ]
    },
    {
      "cell_type": "markdown",
      "source": [
        "Prueba de paråmetros #3"
      ],
      "metadata": {
        "id": "OpBDg1dQu9yc"
      }
    },
    {
      "cell_type": "code",
      "source": [
        "#cambio de hyper parámtetros #3\n",
        "GB = GradientBoostingClassifier(learning_rate=0.02, subsample=0.9)\n",
        "#Se ajustan los datos al modelo\n",
        "GB.fit(X_NonNull_train, y_NonNull_train)\n",
        "\n",
        "#Se predice el modelo\n",
        "y_NonNull_pred = GB.predict(X_NonNull_test)\n",
        "#Matríz de confusión\n",
        "confusion_matrix = metrics.confusion_matrix(y_NonNull_test, y_NonNull_pred)\n",
        "#Se imprimen las variables obtenidas de la matríz\n",
        "accuracy = (confusion_matrix[0,0] + confusion_matrix[1,1]) / (confusion_matrix[0,0]+confusion_matrix[0,1]+confusion_matrix[1,0]+confusion_matrix[1,1])\n",
        "print('Accuracy:',accuracy)\n",
        "precision = confusion_matrix[0,0] /(confusion_matrix[0,0]+confusion_matrix[1,0])\n",
        "print(\"Precision:\",precision)\n",
        "recall = confusion_matrix[0,0] /(confusion_matrix[0,0]+confusion_matrix[0,1])\n",
        "print(\"Recall:\",recall)\n",
        "Fone = (2*precision*recall)/(precision+recall)\n",
        "print('Fone:',Fone)\n",
        "cm_display = metrics.ConfusionMatrixDisplay(confusion_matrix = confusion_matrix, display_labels = [False, True])\n",
        "cm_display.plot()\n",
        "plt.show()"
      ],
      "metadata": {
        "colab": {
          "base_uri": "https://localhost:8080/"
        },
        "id": "P_cEVxAsuBpn",
        "outputId": "02ff809c-5c34-4a35-de6b-850c6e3b44b7"
      },
      "execution_count": null,
      "outputs": [
        {
          "output_type": "stream",
          "name": "stdout",
          "text": [
            "Accuracy: 0.8041958041958042\n",
            "Precision: 0.7938144329896907\n",
            "Recall: 0.9058823529411765\n",
            "Fone: 0.8461538461538461\n"
          ]
        },
        {
          "output_type": "display_data",
          "data": {
            "text/plain": [
              "<Figure size 640x480 with 2 Axes>"
            ],
            "image/png": "[encoded data removed]"
          },
          "metadata": {}
        }
      ]
    },
    {
      "cell_type": "code",
      "execution_count": null,
      "metadata": {
        "id": "Um4c489n4X5I",
        "colab": {
          "base_uri": "https://localhost:8080/"
        },
        "outputId": "d85c3c58-1818-4324-b801-8352074e01f6"
      },
      "outputs": [
        {
          "output_type": "execute_result",
          "data": {
            "text/plain": [
              "Text(0, 0.5, 'Feature Importance Score')"
            ]
          },
          "metadata": {},
          "execution_count": 36
        },
        {
          "output_type": "display_data",
          "data": {
            "text/plain": [
              "<Figure size 640x480 with 1 Axes>"
            ],
            "image/png": "[encoded data removed]"
          },
          "metadata": {}
        }
      ],
      "source": [
        "#Se implemnta una gráfica de importancia de cada una de las variables para su predicción, podriámos descartar la variable \"Embarked\" según la gráfica\n",
        "feat_imp = pd.Series(GB.feature_importances_, feature_names).sort_values(ascending=False)\n",
        "feat_imp.plot(kind='bar', title='Feature Importances')\n",
        "plt.ylabel('Feature Importance Score')"
      ]
    },
    {
      "cell_type": "code",
      "execution_count": null,
      "metadata": {
        "id": "vdGCT9Y-4a4H"
      },
      "outputs": [],
      "source": [
        "#En las siguientes líneas se hizo el intento de mejorar los falsos positivos del modelo, pero no tuvimos éxito en mejorar el modelo\n",
        "# print(y_pred)\n",
        "# accuracy_score(y_test, y_pred)\n",
        "# #GB.predict_proba(X_test)\n",
        "# y_pred2 = (GB.predict_proba(X_test)[:,1] >= 0.45).astype(bool)\n",
        "# y_pred2 = y_pred2 * 1\n",
        "# print(y_pred2)\n",
        "# accuracy_score(y_test, y_pred2)"
      ]
    },
    {
      "cell_type": "markdown",
      "source": [
        "### Xtreme Gradient Boosting"
      ],
      "metadata": {
        "id": "RgmdlXyrLPZu"
      }
    },
    {
      "cell_type": "code",
      "execution_count": null,
      "metadata": {
        "id": "bv5pqPVP9Hew"
      },
      "outputs": [],
      "source": [
        "import xgboost as xgb"
      ]
    },
    {
      "cell_type": "markdown",
      "source": [
        "Prueba de parámetros #1"
      ],
      "metadata": {
        "id": "NRFIsdbSvD0p"
      }
    },
    {
      "cell_type": "code",
      "execution_count": null,
      "metadata": {
        "id": "lGhD6bV29Ulf",
        "colab": {
          "base_uri": "https://localhost:8080/"
        },
        "outputId": "77088318-95dd-4851-dbc1-f823cd229289"
      },
      "outputs": [
        {
          "output_type": "stream",
          "name": "stdout",
          "text": [
            "Accuracy: 0.7972027972027972\n",
            "Precision: 0.8333333333333334\n",
            "Recall: 0.8235294117647058\n",
            "Fone: 0.8284023668639053\n"
          ]
        },
        {
          "output_type": "display_data",
          "data": {
            "text/plain": [
              "<Figure size 640x480 with 2 Axes>"
            ],
            "image/png": "[encoded data removed]"
          },
          "metadata": {}
        }
      ],
      "source": [
        "#En esta sección se realizó el mismo proceso que en GradientBoosting para ajustar los hyper-parámetros, pero con el modelo Xtreme Gradient Boosting\n",
        "xGB = xgb.XGBClassifier(learning_rate = 0.08, subsample = 0.5, min_child_weight = 1.5, reg_alpha = 2.5)\n",
        "xGB.fit(X_NonNull_train, y_NonNull_train)\n",
        "y_NonNull_pred = xGB.predict(X_NonNull_test)\n",
        "confusion_matrix = metrics.confusion_matrix(y_NonNull_test, y_NonNull_pred)\n",
        "accuracy = (confusion_matrix[0,0] + confusion_matrix[1,1]) / (confusion_matrix[0,0]+confusion_matrix[0,1]+confusion_matrix[1,0]+confusion_matrix[1,1])\n",
        "print('Accuracy:',accuracy)\n",
        "precision = confusion_matrix[0,0] /(confusion_matrix[0,0]+confusion_matrix[1,0])\n",
        "print(\"Precision:\",precision)\n",
        "recall = confusion_matrix[0,0] /(confusion_matrix[0,0]+confusion_matrix[0,1])\n",
        "print(\"Recall:\",recall)\n",
        "Fone = (2*precision*recall)/(precision+recall)\n",
        "print('Fone:',Fone)\n",
        "cm_display = metrics.ConfusionMatrixDisplay(confusion_matrix = confusion_matrix, display_labels = [False, True])\n",
        "cm_display.plot()\n",
        "plt.show()\n",
        "\n",
        "#Se puede apreciar que el modelo subió exactitud, así como presición de los datos"
      ]
    },
    {
      "cell_type": "markdown",
      "metadata": {
        "id": "qIN_yRXR_uXe"
      },
      "source": [
        "prueba de parámetros 2"
      ]
    },
    {
      "cell_type": "code",
      "source": [
        "#En esta sección se realizó el mismo proceso que en GradientBoosting para ajustar los hyper-parámetros, pero con el modelo Xtreme Gradient Boosting\n",
        "#Cambios en parámetros #2\n",
        "xGB = xgb.XGBClassifier(learning_rate = 0.05, subsample = 0.8, min_child_weight = 2, reg_alpha = 1.5)\n",
        "xGB.fit(X_NonNull_train, y_NonNull_train)\n",
        "y_NonNull_pred = xGB.predict(X_NonNull_test)\n",
        "confusion_matrix = metrics.confusion_matrix(y_NonNull_test, y_NonNull_pred)\n",
        "accuracy = (confusion_matrix[0,0] + confusion_matrix[1,1]) / (confusion_matrix[0,0]+confusion_matrix[0,1]+confusion_matrix[1,0]+confusion_matrix[1,1])\n",
        "print('Accuracy:',accuracy)\n",
        "precision = confusion_matrix[0,0] /(confusion_matrix[0,0]+confusion_matrix[1,0])\n",
        "print(\"Precision:\",precision)\n",
        "recall = confusion_matrix[0,0] /(confusion_matrix[0,0]+confusion_matrix[0,1])\n",
        "print(\"Recall:\",recall)\n",
        "Fone = (2*precision*recall)/(precision+recall)\n",
        "print('Fone:',Fone)\n",
        "cm_display = metrics.ConfusionMatrixDisplay(confusion_matrix = confusion_matrix, display_labels = [False, True])\n",
        "cm_display.plot()\n",
        "plt.show()"
      ],
      "metadata": {
        "colab": {
          "base_uri": "https://localhost:8080/"
        },
        "id": "FQWUeRwWuZmr",
        "outputId": "d1fad611-6692-4a41-e1a1-6ea977753b8a"
      },
      "execution_count": null,
      "outputs": [
        {
          "output_type": "stream",
          "name": "stdout",
          "text": [
            "Accuracy: 0.7762237762237763\n",
            "Precision: 0.8045977011494253\n",
            "Recall: 0.8235294117647058\n",
            "Fone: 0.813953488372093\n"
          ]
        },
        {
          "output_type": "display_data",
          "data": {
            "text/plain": [
              "<Figure size 640x480 with 2 Axes>"
            ],
            "image/png": "[encoded data removed]"
          },
          "metadata": {}
        }
      ]
    },
    {
      "cell_type": "markdown",
      "source": [
        "Prueba de parámetros 3"
      ],
      "metadata": {
        "id": "zU4uE_BgvMBh"
      }
    },
    {
      "cell_type": "code",
      "source": [
        "#En esta sección se realizó el mismo proceso que en GradientBoosting para ajustar los hyper-parámetros, pero con el modelo Xtreme Gradient Boosting\n",
        "\n",
        "xGB = xgb.XGBClassifier(learning_rate = 0.1, subsample = 0.2, min_child_weight = 2, reg_alpha = 1.5)\n",
        "xGB.fit(X_NonNull_train, y_NonNull_train)\n",
        "y_NonNull_pred = xGB.predict(X_NonNull_test)\n",
        "confusion_matrix = metrics.confusion_matrix(y_NonNull_test, y_NonNull_pred)\n",
        "accuracy = (confusion_matrix[0,0] + confusion_matrix[1,1]) / (confusion_matrix[0,0]+confusion_matrix[0,1]+confusion_matrix[1,0]+confusion_matrix[1,1])\n",
        "print('Accuracy:',accuracy)\n",
        "precision = confusion_matrix[0,0] /(confusion_matrix[0,0]+confusion_matrix[1,0])\n",
        "print(\"Precision:\",precision)\n",
        "recall = confusion_matrix[0,0] /(confusion_matrix[0,0]+confusion_matrix[0,1])\n",
        "print(\"Recall:\",recall)\n",
        "Fone = (2*precision*recall)/(precision+recall)\n",
        "print('Fone:',Fone)\n",
        "cm_display = metrics.ConfusionMatrixDisplay(confusion_matrix = confusion_matrix, display_labels = [False, True])\n",
        "cm_display.plot()\n",
        "plt.show()"
      ],
      "metadata": {
        "colab": {
          "base_uri": "https://localhost:8080/"
        },
        "id": "5UQ0aTGXujYx",
        "outputId": "c5fe76d3-bbfc-43f1-a398-2e6f6ba6c05e"
      },
      "execution_count": null,
      "outputs": [
        {
          "output_type": "stream",
          "name": "stdout",
          "text": [
            "Accuracy: 0.8391608391608392\n",
            "Precision: 0.8522727272727273\n",
            "Recall: 0.8823529411764706\n",
            "Fone: 0.8670520231213872\n"
          ]
        },
        {
          "output_type": "display_data",
          "data": {
            "text/plain": [
              "<Figure size 640x480 with 2 Axes>"
            ],
            "image/png": "[encoded data removed]"
          },
          "metadata": {}
        }
      ]
    },
    {
      "cell_type": "markdown",
      "source": [
        "### Red Neuronal - MLP Classifier"
      ],
      "metadata": {
        "id": "SI9f3oeBvO3W"
      }
    },
    {
      "cell_type": "markdown",
      "source": [
        "Prueba 1"
      ],
      "metadata": {
        "id": "5BC0EP_T0gTv"
      }
    },
    {
      "cell_type": "code",
      "execution_count": null,
      "metadata": {
        "id": "hoFdTT5F5Ekp",
        "colab": {
          "base_uri": "https://localhost:8080/"
        },
        "outputId": "a5b1df4d-fc80-4c0c-b195-59b05e9ba135"
      },
      "outputs": [
        {
          "output_type": "stream",
          "name": "stdout",
          "text": [
            "MLP Score: 0.7482517482517482\n"
          ]
        }
      ],
      "source": [
        "#Se crea una variable de red neuronal para clasificación, con parámetros de 100 capas ocultas y una iteración máxima de 10000\n",
        "mlp_model = MLPClassifier(hidden_layer_sizes=(100, 50), max_iter=1000)  # Capas y Parámetros\n",
        "#Se ajustan los datos\n",
        "mlp_model.fit(X_NonNull_train, y_NonNull_train)\n",
        "#Se calcula una puntuación de la red neuronal\n",
        "mlp_score = mlp_model.score(X_NonNull_test, y_NonNull_test)\n",
        "print(\"MLP Score:\", mlp_score)"
      ]
    },
    {
      "cell_type": "markdown",
      "source": [
        "Prueba 2"
      ],
      "metadata": {
        "id": "hd9Dmpmp0m4T"
      }
    },
    {
      "cell_type": "code",
      "source": [
        "#Se crea una variable de red neuronal para clasificación, con parámetros de 100 capas ocultas y una iteración máxima de 10000\n",
        "mlp_model = MLPClassifier(hidden_layer_sizes=(150, 50), max_iter=1000)  # Capas y Parámetros\n",
        "#Se ajustan los datos\n",
        "mlp_model.fit(X_NonNull_train, y_NonNull_train)\n",
        "#Se calcula una puntuación de la red neuronal\n",
        "mlp_score = mlp_model.score(X_NonNull_test, y_NonNull_test)\n",
        "print(\"MLP Score:\", mlp_score)"
      ],
      "metadata": {
        "colab": {
          "base_uri": "https://localhost:8080/"
        },
        "id": "v86hK2FX0n-j",
        "outputId": "fbbd1021-e16f-4f95-8d6b-af84a627abea"
      },
      "execution_count": null,
      "outputs": [
        {
          "output_type": "stream",
          "name": "stdout",
          "text": [
            "MLP Score: 0.7622377622377622\n"
          ]
        }
      ]
    },
    {
      "cell_type": "markdown",
      "source": [
        "Prueba 3"
      ],
      "metadata": {
        "id": "d3s4DKxW0pqg"
      }
    },
    {
      "cell_type": "code",
      "source": [
        "#Se crea una variable de red neuronal para clasificación, con parámetros de 100 capas ocultas y una iteración máxima de 10000\n",
        "mlp_model = MLPClassifier(hidden_layer_sizes=(50, 50), max_iter=1000)  # Capas y Parámetros\n",
        "#Se ajustan los datos\n",
        "mlp_model.fit(X_NonNull_train, y_NonNull_train)\n",
        "#Se calcula una puntuación de la red neuronal\n",
        "mlp_score = mlp_model.score(X_NonNull_test, y_NonNull_test)\n",
        "print(\"MLP Score:\", mlp_score)"
      ],
      "metadata": {
        "id": "HirwiqQN0rIL",
        "colab": {
          "base_uri": "https://localhost:8080/"
        },
        "outputId": "0c755840-547f-4bd6-d43c-341383ad87c8"
      },
      "execution_count": null,
      "outputs": [
        {
          "output_type": "stream",
          "name": "stdout",
          "text": [
            "MLP Score: 0.7482517482517482\n"
          ]
        }
      ]
    },
    {
      "cell_type": "markdown",
      "metadata": {
        "id": "D9e5o978_3-O"
      },
      "source": [
        "### Regularización en Árboles de Decisión"
      ]
    },
    {
      "cell_type": "markdown",
      "source": [
        "Prueba 1"
      ],
      "metadata": {
        "id": "KCRQqhgKPzG9"
      }
    },
    {
      "cell_type": "code",
      "execution_count": null,
      "metadata": {
        "id": "Tfx718V8_U3O",
        "colab": {
          "base_uri": "https://localhost:8080/"
        },
        "outputId": "e5637044-2fef-4d71-8ad5-ce980777f6e6"
      },
      "outputs": [
        {
          "output_type": "stream",
          "name": "stdout",
          "text": [
            "Regularized Tree Score: 0.8181818181818182\n"
          ]
        }
      ],
      "source": [
        "#Se crea una variable para rugularizar los datos con DesicionTreeClasifier\n",
        "regularized_tree = DecisionTreeClassifier(max_depth=5, min_samples_split=5)  # Configura los parámetros\n",
        "#Se ajustan los datos\n",
        "regularized_tree.fit(X_NonNull_train, y_NonNull_train)\n",
        "regularized_tree_score = regularized_tree.score(X_NonNull_test, y_NonNull_test)\n",
        "print(\"Regularized Tree Score:\", regularized_tree_score)"
      ]
    },
    {
      "cell_type": "markdown",
      "source": [
        "Prueba 2"
      ],
      "metadata": {
        "id": "Ch12bWP8P0oP"
      }
    },
    {
      "cell_type": "code",
      "source": [
        "#Se crea una variable para rugularizar los datos con DesicionTreeClasifier\n",
        "regularized_tree = DecisionTreeClassifier(max_depth=10, min_samples_split=5)  # Configura los parámetros\n",
        "#Se ajustan los datos\n",
        "regularized_tree.fit(X_NonNull_train, y_NonNull_train)\n",
        "regularized_tree_score = regularized_tree.score(X_NonNull_test, y_NonNull_test)\n",
        "print(\"Regularized Tree Score:\", regularized_tree_score)"
      ],
      "metadata": {
        "colab": {
          "base_uri": "https://localhost:8080/"
        },
        "id": "PNzJ5sjpPycM",
        "outputId": "72a3f4d6-9033-45b6-825b-81f5f99dd210"
      },
      "execution_count": null,
      "outputs": [
        {
          "output_type": "stream",
          "name": "stdout",
          "text": [
            "Regularized Tree Score: 0.7622377622377622\n"
          ]
        }
      ]
    },
    {
      "cell_type": "markdown",
      "source": [
        "Prueba 3"
      ],
      "metadata": {
        "id": "wrBjzTtrP2nw"
      }
    },
    {
      "cell_type": "code",
      "source": [
        "#Se crea una variable para rugularizar los datos con DesicionTreeClasifier\n",
        "regularized_tree = DecisionTreeClassifier(max_depth=15, min_samples_split=5)  # Configura los parámetros\n",
        "#Se ajustan los datos\n",
        "regularized_tree.fit(X_NonNull_train, y_NonNull_train)\n",
        "regularized_tree_score = regularized_tree.score(X_NonNull_test, y_NonNull_test)\n",
        "print(\"Regularized Tree Score:\", regularized_tree_score)"
      ],
      "metadata": {
        "colab": {
          "base_uri": "https://localhost:8080/"
        },
        "id": "5BaINwEFPyxM",
        "outputId": "1d678013-a96c-4d0e-a429-0a6655ba5b4e"
      },
      "execution_count": null,
      "outputs": [
        {
          "output_type": "stream",
          "name": "stdout",
          "text": [
            "Regularized Tree Score: 0.7342657342657343\n"
          ]
        }
      ]
    },
    {
      "cell_type": "markdown",
      "metadata": {
        "id": "qem75RMidP6T"
      },
      "source": [
        "## Modelos utilizando la base de datos preservando los valores nulos"
      ]
    },
    {
      "cell_type": "code",
      "execution_count": null,
      "metadata": {
        "id": "KAnGR8SHdXTO"
      },
      "outputs": [],
      "source": [
        "feature_names = ['Age', 'Sex', 'Pclass', 'Embarked', 'Fare']\n",
        "X_imputed = imputed_df[feature_names] # variables predictoras\n",
        "y_imputed = imputed_df['Survived']    # variable de respuesta\n",
        "X_imputed_train, X_imputed_test, y_imputed_train, y_imputed_test = train_test_split(X_imputed, y_imputed, test_size=0.2, random_state=42, stratify=y_imputed)"
      ]
    },
    {
      "cell_type": "markdown",
      "source": [
        "### Gradient Boosting"
      ],
      "metadata": {
        "id": "MYzw3g10LdMk"
      }
    },
    {
      "cell_type": "markdown",
      "source": [
        "Prueba metadatos #1"
      ],
      "metadata": {
        "id": "Pdgdss-83dj7"
      }
    },
    {
      "cell_type": "code",
      "source": [
        "#Se selecciona el modelo que mejores métricas nos dió y se hace un ajuste de hyper-parámetros para mejorar los resultados\n",
        "#Se implementa el modelo completamente\n",
        "#Se llama la función con un learning_rate de 0.01\n",
        "GB = GradientBoostingClassifier(learning_rate=0.01, subsample=0.6)\n",
        "#Se ajustan los datos al modelo\n",
        "GB.fit(X_imputed_train, y_imputed_train)\n",
        "\n",
        "#Se predice el modelo\n",
        "y_imputed_pred = GB.predict(X_imputed_test)\n",
        "#Matríz de confusión\n",
        "confusion_matrix = metrics.confusion_matrix(y_imputed_test, y_imputed_pred)\n",
        "#Se imprimen las variables obtenidas de la matríz\n",
        "accuracy = (confusion_matrix[0,0] + confusion_matrix[1,1]) / (confusion_matrix[0,0]+confusion_matrix[0,1]+confusion_matrix[1,0]+confusion_matrix[1,1])\n",
        "print('Accuracy:',accuracy)\n",
        "precision = confusion_matrix[0,0] /(confusion_matrix[0,0]+confusion_matrix[1,0])\n",
        "print(\"Precision:\",precision)\n",
        "recall = confusion_matrix[0,0] /(confusion_matrix[0,0]+confusion_matrix[0,1])\n",
        "print(\"Recall:\",recall)\n",
        "Fone = (2*precision*recall)/(precision+recall)\n",
        "print('Fone:',Fone)\n",
        "cm_display = metrics.ConfusionMatrixDisplay(confusion_matrix = confusion_matrix, display_labels = [False, True])\n",
        "cm_display.plot()\n",
        "plt.show()"
      ],
      "metadata": {
        "id": "C6eoBJkzwGWM",
        "colab": {
          "base_uri": "https://localhost:8080/"
        },
        "outputId": "ef891682-5afa-4bbc-e92b-32f555c64f92"
      },
      "execution_count": null,
      "outputs": [
        {
          "output_type": "stream",
          "name": "stdout",
          "text": [
            "Accuracy: 0.7821229050279329\n",
            "Precision: 0.7669172932330827\n",
            "Recall: 0.9272727272727272\n",
            "Fone: 0.8395061728395061\n"
          ]
        },
        {
          "output_type": "display_data",
          "data": {
            "text/plain": [
              "<Figure size 640x480 with 2 Axes>"
            ],
            "image/png": "[encoded data removed]"
          },
          "metadata": {}
        }
      ]
    },
    {
      "cell_type": "markdown",
      "source": [
        "Prueba Metadatos #2"
      ],
      "metadata": {
        "id": "SIGTAEYd3iDg"
      }
    },
    {
      "cell_type": "code",
      "source": [
        "#Se selecciona el modelo que mejores métricas nos dió y se hace un ajuste de hyper-parámetros para mejorar los resultados\n",
        "#Se implementa el modelo completamente\n",
        "#Se llama la función con un learning_rate de 0.01\n",
        "GB = GradientBoostingClassifier(learning_rate=0.05, subsample=0.5)\n",
        "#Se ajustan los datos al modelo\n",
        "GB.fit(X_imputed_train, y_imputed_train)\n",
        "\n",
        "##Se predice el modelo\n",
        "y_imputed_pred = GB.predict(X_imputed_test)\n",
        "#Matríz de confusión\n",
        "confusion_matrix = metrics.confusion_matrix(y_imputed_test, y_imputed_pred)\n",
        "#Se imprimen las variables obtenidas de la matríz\n",
        "accuracy = (confusion_matrix[0,0] + confusion_matrix[1,1]) / (confusion_matrix[0,0]+confusion_matrix[0,1]+confusion_matrix[1,0]+confusion_matrix[1,1])\n",
        "print('Accuracy:',accuracy)\n",
        "precision = confusion_matrix[0,0] /(confusion_matrix[0,0]+confusion_matrix[1,0])\n",
        "print(\"Precision:\",precision)\n",
        "recall = confusion_matrix[0,0] /(confusion_matrix[0,0]+confusion_matrix[0,1])\n",
        "print(\"Recall:\",recall)\n",
        "Fone = (2*precision*recall)/(precision+recall)\n",
        "print('Fone:',Fone)\n",
        "cm_display = metrics.ConfusionMatrixDisplay(confusion_matrix = confusion_matrix, display_labels = [False, True])\n",
        "cm_display.plot()\n",
        "plt.show()"
      ],
      "metadata": {
        "colab": {
          "base_uri": "https://localhost:8080/"
        },
        "id": "RvjTWnMD3icU",
        "outputId": "59b009d9-269f-4067-f8ef-a1a68755c235"
      },
      "execution_count": null,
      "outputs": [
        {
          "output_type": "stream",
          "name": "stdout",
          "text": [
            "Accuracy: 0.8100558659217877\n",
            "Precision: 0.8114754098360656\n",
            "Recall: 0.9\n",
            "Fone: 0.853448275862069\n"
          ]
        },
        {
          "output_type": "display_data",
          "data": {
            "text/plain": [
              "<Figure size 640x480 with 2 Axes>"
            ],
            "image/png": "[encoded data removed]"
          },
          "metadata": {}
        }
      ]
    },
    {
      "cell_type": "markdown",
      "source": [
        "Prueba Metadatos #3"
      ],
      "metadata": {
        "id": "GD2jyQZP3oXy"
      }
    },
    {
      "cell_type": "code",
      "source": [
        "#Se selecciona el modelo que mejores métricas nos dió y se hace un ajuste de hyper-parámetros para mejorar los resultados\n",
        "#Se implementa el modelo completamente\n",
        "#Se llama la función con un learning_rate de 0.01\n",
        "GB = GradientBoostingClassifier(learning_rate=0.02, subsample=0.9)\n",
        "#Se ajustan los datos al modelo\n",
        "GB.fit(X_imputed_train, y_imputed_train)\n",
        "\n",
        "#Se predice el modelo\n",
        "y_imputed_pred = GB.predict(X_imputed_test)\n",
        "#Matríz de confusión\n",
        "confusion_matrix = metrics.confusion_matrix(y_imputed_test, y_imputed_pred)\n",
        "#Se imprimen las variables obtenidas de la matríz\n",
        "accuracy = (confusion_matrix[0,0] + confusion_matrix[1,1]) / (confusion_matrix[0,0]+confusion_matrix[0,1]+confusion_matrix[1,0]+confusion_matrix[1,1])\n",
        "print('Accuracy:',accuracy)\n",
        "precision = confusion_matrix[0,0] /(confusion_matrix[0,0]+confusion_matrix[1,0])\n",
        "print(\"Precision:\",precision)\n",
        "recall = confusion_matrix[0,0] /(confusion_matrix[0,0]+confusion_matrix[0,1])\n",
        "print(\"Recall:\",recall)\n",
        "Fone = (2*precision*recall)/(precision+recall)\n",
        "print('Fone:',Fone)\n",
        "cm_display = metrics.ConfusionMatrixDisplay(confusion_matrix = confusion_matrix, display_labels = [False, True])\n",
        "cm_display.plot()\n",
        "plt.show()"
      ],
      "metadata": {
        "colab": {
          "base_uri": "https://localhost:8080/"
        },
        "id": "U7RcG3hO3uKQ",
        "outputId": "7d1d931e-bdce-4b54-fb90-e18253456783"
      },
      "execution_count": null,
      "outputs": [
        {
          "output_type": "stream",
          "name": "stdout",
          "text": [
            "Accuracy: 0.7932960893854749\n",
            "Precision: 0.7744360902255639\n",
            "Recall: 0.9363636363636364\n",
            "Fone: 0.8477366255144033\n"
          ]
        },
        {
          "output_type": "display_data",
          "data": {
            "text/plain": [
              "<Figure size 640x480 with 2 Axes>"
            ],
            "image/png": "[encoded data removed]"
          },
          "metadata": {}
        }
      ]
    },
    {
      "cell_type": "markdown",
      "source": [
        "### Xtreme Gradiend Boosting"
      ],
      "metadata": {
        "id": "a06jmNsmLmS9"
      }
    },
    {
      "cell_type": "markdown",
      "source": [
        "Prueba metadatos #1\n",
        "\n"
      ],
      "metadata": {
        "id": "66EuePZX4ArO"
      }
    },
    {
      "cell_type": "code",
      "source": [
        "#En esta sección se realizó el mismo proceso que en GradientBoosting para ajustar los hyper-parámetros, pero con el modelo Xtreme Gradient Boosting\n",
        "xGB = xgb.XGBClassifier(learning_rate = 0.08, subsample = 0.5, min_child_weight = 1.5, reg_alpha = 2.5)\n",
        "xGB.fit(X_imputed_train, y_imputed_train)\n",
        "y_imputed_pred = xGB.predict(X_imputed_test)\n",
        "confusion_matrix = metrics.confusion_matrix(y_imputed_test, y_imputed_pred)\n",
        "accuracy = (confusion_matrix[0,0] + confusion_matrix[1,1]) / (confusion_matrix[0,0]+confusion_matrix[0,1]+confusion_matrix[1,0]+confusion_matrix[1,1])\n",
        "print('Accuracy:',accuracy)\n",
        "precision = confusion_matrix[0,0] /(confusion_matrix[0,0]+confusion_matrix[1,0])\n",
        "print(\"Precision:\",precision)\n",
        "recall = confusion_matrix[0,0] /(confusion_matrix[0,0]+confusion_matrix[0,1])\n",
        "print(\"Recall:\",recall)\n",
        "Fone = (2*precision*recall)/(precision+recall)\n",
        "print('Fone:',Fone)\n",
        "cm_display = metrics.ConfusionMatrixDisplay(confusion_matrix = confusion_matrix, display_labels = [False, True])\n",
        "cm_display.plot()\n",
        "plt.show()\n"
      ],
      "metadata": {
        "colab": {
          "base_uri": "https://localhost:8080/"
        },
        "id": "YEK26jHh4ENs",
        "outputId": "dd67a616-cc90-4fe1-d3a0-0b904c42beb7"
      },
      "execution_count": null,
      "outputs": [
        {
          "output_type": "stream",
          "name": "stdout",
          "text": [
            "Accuracy: 0.7988826815642458\n",
            "Precision: 0.8032786885245902\n",
            "Recall: 0.8909090909090909\n",
            "Fone: 0.8448275862068965\n"
          ]
        },
        {
          "output_type": "display_data",
          "data": {
            "text/plain": [
              "<Figure size 640x480 with 2 Axes>"
            ],
            "image/png": "[encoded data removed]"
          },
          "metadata": {}
        }
      ]
    },
    {
      "cell_type": "markdown",
      "source": [
        "Prueba metadatos #2\n"
      ],
      "metadata": {
        "id": "xuIZT75p406l"
      }
    },
    {
      "cell_type": "code",
      "source": [
        "#En esta sección se realizó el mismo proceso que en GradientBoosting para ajustar los hyper-parámetros, pero con el modelo Xtreme Gradient Boosting\n",
        "xGB = xgb.XGBClassifier(learning_rate = 0.05, subsample = 0.8, min_child_weight = 2, reg_alpha = 1.5)\n",
        "xGB.fit(X_imputed_train, y_imputed_train)\n",
        "y_imputed_pred = xGB.predict(X_imputed_test)\n",
        "confusion_matrix = metrics.confusion_matrix(y_imputed_test, y_imputed_pred)\n",
        "accuracy = (confusion_matrix[0,0] + confusion_matrix[1,1]) / (confusion_matrix[0,0]+confusion_matrix[0,1]+confusion_matrix[1,0]+confusion_matrix[1,1])\n",
        "print('Accuracy:',accuracy)\n",
        "precision = confusion_matrix[0,0] /(confusion_matrix[0,0]+confusion_matrix[1,0])\n",
        "print(\"Precision:\",precision)\n",
        "recall = confusion_matrix[0,0] /(confusion_matrix[0,0]+confusion_matrix[0,1])\n",
        "print(\"Recall:\",recall)\n",
        "Fone = (2*precision*recall)/(precision+recall)\n",
        "print('Fone:',Fone)\n",
        "cm_display = metrics.ConfusionMatrixDisplay(confusion_matrix = confusion_matrix, display_labels = [False, True])\n",
        "cm_display.plot()\n",
        "plt.show()"
      ],
      "metadata": {
        "colab": {
          "base_uri": "https://localhost:8080/"
        },
        "id": "KYSqg0_j40Ub",
        "outputId": "a9e79f2a-51fc-4690-8b51-35ca5a90c15f"
      },
      "execution_count": null,
      "outputs": [
        {
          "output_type": "stream",
          "name": "stdout",
          "text": [
            "Accuracy: 0.7932960893854749\n",
            "Precision: 0.8016528925619835\n",
            "Recall: 0.8818181818181818\n",
            "Fone: 0.8398268398268398\n"
          ]
        },
        {
          "output_type": "display_data",
          "data": {
            "text/plain": [
              "<Figure size 640x480 with 2 Axes>"
            ],
            "image/png": "[encoded data removed]"
          },
          "metadata": {}
        }
      ]
    },
    {
      "cell_type": "markdown",
      "source": [
        "Prueba metadatos #3"
      ],
      "metadata": {
        "id": "7k5GDHaH5KZ-"
      }
    },
    {
      "cell_type": "code",
      "source": [
        "#En esta sección se realizó el mismo proceso que en GradientBoosting para ajustar los hyper-parámetros, pero con el modelo Xtreme Gradient Boosting\n",
        "xGB = xgb.XGBClassifier(learning_rate = 0.1, subsample = 0.2, min_child_weight = 2, reg_alpha = 1.5)\n",
        "xGB.fit(X_imputed_train, y_imputed_train)\n",
        "y_imputed_pred = xGB.predict(X_imputed_test)\n",
        "confusion_matrix = metrics.confusion_matrix(y_imputed_test, y_imputed_pred)\n",
        "accuracy = (confusion_matrix[0,0] + confusion_matrix[1,1]) / (confusion_matrix[0,0]+confusion_matrix[0,1]+confusion_matrix[1,0]+confusion_matrix[1,1])\n",
        "print('Accuracy:',accuracy)\n",
        "precision = confusion_matrix[0,0] /(confusion_matrix[0,0]+confusion_matrix[1,0])\n",
        "print(\"Precision:\",precision)\n",
        "recall = confusion_matrix[0,0] /(confusion_matrix[0,0]+confusion_matrix[0,1])\n",
        "print(\"Recall:\",recall)\n",
        "Fone = (2*precision*recall)/(precision+recall)\n",
        "print('Fone:',Fone)\n",
        "cm_display = metrics.ConfusionMatrixDisplay(confusion_matrix = confusion_matrix, display_labels = [False, True])\n",
        "cm_display.plot()\n",
        "plt.show()"
      ],
      "metadata": {
        "colab": {
          "base_uri": "https://localhost:8080/"
        },
        "id": "YEmZUzck5QUW",
        "outputId": "62a82a90-eec2-46ea-a02d-db5ab23b4829"
      },
      "execution_count": null,
      "outputs": [
        {
          "output_type": "stream",
          "name": "stdout",
          "text": [
            "Accuracy: 0.8044692737430168\n",
            "Precision: 0.8048780487804879\n",
            "Recall: 0.9\n",
            "Fone: 0.8497854077253219\n"
          ]
        },
        {
          "output_type": "display_data",
          "data": {
            "text/plain": [
              "<Figure size 640x480 with 2 Axes>"
            ],
            "image/png": "[encoded data removed]"
          },
          "metadata": {}
        }
      ]
    },
    {
      "cell_type": "markdown",
      "source": [
        "### Red Neuronal - MLP Classifier"
      ],
      "metadata": {
        "id": "8tbiTbkOLutk"
      }
    },
    {
      "cell_type": "markdown",
      "source": [
        "\n",
        "Prueba 1"
      ],
      "metadata": {
        "id": "NODEpN1Y5hlk"
      }
    },
    {
      "cell_type": "code",
      "source": [
        "#Se crea una variable de red neuronal para clasificación, con parámetros de 100 capas ocultas y una iteración máxima de 10000\n",
        "mlp_model = MLPClassifier(hidden_layer_sizes=(100, 50), max_iter=1000)  # Capas y Parámetros\n",
        "#Se ajustan los datos\n",
        "mlp_model.fit(X_imputed_train, y_imputed_train)\n",
        "#Se calcula una puntuación de la red neuronal\n",
        "mlp_score = mlp_model.score(X_imputed_test, y_imputed_test)\n",
        "print(\"MLP Score:\", mlp_score)"
      ],
      "metadata": {
        "colab": {
          "base_uri": "https://localhost:8080/"
        },
        "id": "PxLkXz2-5kvU",
        "outputId": "1287f2b2-dadb-4ff2-a917-cb80d7a59413"
      },
      "execution_count": null,
      "outputs": [
        {
          "output_type": "stream",
          "name": "stdout",
          "text": [
            "MLP Score: 0.7430167597765364\n"
          ]
        }
      ]
    },
    {
      "cell_type": "markdown",
      "source": [
        "Prueba 2"
      ],
      "metadata": {
        "id": "84Gf0YD954rJ"
      }
    },
    {
      "cell_type": "code",
      "source": [
        "#Se crea una variable de red neuronal para clasificación, con parámetros de 100 capas ocultas y una iteración máxima de 10000\n",
        "mlp_model = MLPClassifier(hidden_layer_sizes=(150, 50), max_iter=1000)  # Capas y Parámetros\n",
        "#Se ajustan los datos\n",
        "mlp_model.fit(X_imputed_train, y_imputed_train)\n",
        "#Se calcula una puntuación de la red neuronal\n",
        "mlp_score = mlp_model.score(X_imputed_test, y_imputed_test)\n",
        "print(\"MLP Score:\", mlp_score)"
      ],
      "metadata": {
        "colab": {
          "base_uri": "https://localhost:8080/"
        },
        "id": "7uok8Q4H5vWj",
        "outputId": "05597ad5-e853-4bef-d34b-3018dd5f0979"
      },
      "execution_count": null,
      "outputs": [
        {
          "output_type": "stream",
          "name": "stdout",
          "text": [
            "MLP Score: 0.7597765363128491\n"
          ]
        }
      ]
    },
    {
      "cell_type": "markdown",
      "source": [
        "Prueba 3"
      ],
      "metadata": {
        "id": "NCL_CuCu59ax"
      }
    },
    {
      "cell_type": "code",
      "source": [
        "#Se crea una variable de red neuronal para clasificación, con parámetros de 100 capas ocultas y una iteración máxima de 10000\n",
        "mlp_model = MLPClassifier(hidden_layer_sizes=(50, 50), max_iter=1000)  # Capas y Parámetros\n",
        "#Se ajustan los datos\n",
        "mlp_model.fit(X_imputed_train, y_imputed_train)\n",
        "#Se calcula una puntuación de la red neuronal\n",
        "mlp_score = mlp_model.score(X_imputed_test, y_imputed_test)\n",
        "print(\"MLP Score:\", mlp_score)"
      ],
      "metadata": {
        "colab": {
          "base_uri": "https://localhost:8080/"
        },
        "id": "A2E_qoQP51v-",
        "outputId": "172dd056-b7ca-44fa-a8c9-36f3ba49039e"
      },
      "execution_count": null,
      "outputs": [
        {
          "output_type": "stream",
          "name": "stdout",
          "text": [
            "MLP Score: 0.7597765363128491\n"
          ]
        }
      ]
    },
    {
      "cell_type": "markdown",
      "source": [
        "### Regularización de árbol de desición"
      ],
      "metadata": {
        "id": "0u9Ornvg6quQ"
      }
    },
    {
      "cell_type": "markdown",
      "source": [
        "Prueba 1"
      ],
      "metadata": {
        "id": "kn16OGZgQCM2"
      }
    },
    {
      "cell_type": "code",
      "source": [
        "#Se crea una variable para rugularizar los datos con DesicionTreeClasifier\n",
        "regularized_tree = DecisionTreeClassifier(max_depth=5, min_samples_split=5)  # Configura los parámetros\n",
        "#Se ajustan los datos\n",
        "regularized_tree.fit(X_imputed_train, y_imputed_train)\n",
        "regularized_tree_score = regularized_tree.score(X_imputed_test, y_imputed_test)\n",
        "print(\"Regularized Tree Score:\", regularized_tree_score)"
      ],
      "metadata": {
        "colab": {
          "base_uri": "https://localhost:8080/"
        },
        "id": "Ju-SwLcF6hEy",
        "outputId": "0f928db5-c4bd-4b50-9a68-a0e148bb495b"
      },
      "execution_count": null,
      "outputs": [
        {
          "output_type": "stream",
          "name": "stdout",
          "text": [
            "Regularized Tree Score: 0.7877094972067039\n"
          ]
        }
      ]
    },
    {
      "cell_type": "markdown",
      "source": [
        "Prueba 2"
      ],
      "metadata": {
        "id": "FRvwTWZGQDmk"
      }
    },
    {
      "cell_type": "code",
      "source": [
        "#Se crea una variable para rugularizar los datos con DesicionTreeClasifier\n",
        "regularized_tree = DecisionTreeClassifier(max_depth=10, min_samples_split=5)  # Configura los parámetros\n",
        "#Se ajustan los datos\n",
        "regularized_tree.fit(X_imputed_train, y_imputed_train)\n",
        "regularized_tree_score = regularized_tree.score(X_imputed_test, y_imputed_test)\n",
        "print(\"Regularized Tree Score:\", regularized_tree_score)"
      ],
      "metadata": {
        "colab": {
          "base_uri": "https://localhost:8080/"
        },
        "id": "o_AoWoYQQB3z",
        "outputId": "a9ab7b41-a2e5-4a31-e52c-d917582463b9"
      },
      "execution_count": null,
      "outputs": [
        {
          "output_type": "stream",
          "name": "stdout",
          "text": [
            "Regularized Tree Score: 0.8156424581005587\n"
          ]
        }
      ]
    },
    {
      "cell_type": "markdown",
      "source": [
        "Prueba 3"
      ],
      "metadata": {
        "id": "At4_2OoZQEdt"
      }
    },
    {
      "cell_type": "code",
      "source": [
        "#Se crea una variable para rugularizar los datos con DesicionTreeClasifier\n",
        "regularized_tree = DecisionTreeClassifier(max_depth=15, min_samples_split=5)  # Configura los parámetros\n",
        "#Se ajustan los datos\n",
        "regularized_tree.fit(X_imputed_train, y_imputed_train)\n",
        "regularized_tree_score = regularized_tree.score(X_imputed_test, y_imputed_test)\n",
        "print(\"Regularized Tree Score:\", regularized_tree_score)"
      ],
      "metadata": {
        "id": "ez2mVLEBQJbF",
        "outputId": "e40bf077-81e8-4ff3-cb8f-1d65806696be",
        "colab": {
          "base_uri": "https://localhost:8080/"
        }
      },
      "execution_count": null,
      "outputs": [
        {
          "output_type": "stream",
          "name": "stdout",
          "text": [
            "Regularized Tree Score: 0.8491620111731844\n"
          ]
        }
      ]
    },
    {
      "cell_type": "markdown",
      "source": [
        "# Prueba cambio bases de datos\n"
      ],
      "metadata": {
        "id": "rnIm57BRV9ku"
      }
    },
    {
      "cell_type": "code",
      "source": [
        "from xgboost import plot_importance"
      ],
      "metadata": {
        "id": "9w07OiB8Y_Ov"
      },
      "execution_count": null,
      "outputs": []
    },
    {
      "cell_type": "code",
      "source": [
        "#Separamos tipos de variables en dependientes e independientes\n",
        "feature_names = ['Age', 'Sex', 'Pclass', 'Embarked', 'Fare']\n",
        "X_NonNull = df_NonNull[feature_names] # variables predictoras\n",
        "y_NonNull = df_NonNull['Survived']    # variable de respuesta\n",
        "#Se divide el dataset en entrenamiento y test, con un ratio de 80-20\n",
        "X_NonNull_train, X_NonNull_test, y_NonNull_train, y_NonNull_test = train_test_split(X_NonNull, y_NonNull, test_size=0.2, random_state=42, stratify=y_NonNull)"
      ],
      "metadata": {
        "id": "6-mBcYgEXvsJ"
      },
      "execution_count": null,
      "outputs": []
    },
    {
      "cell_type": "code",
      "source": [
        "xGB = xgb.XGBClassifier(learning_rate = 0.1, subsample = 0.2, min_child_weight = 2, reg_alpha = 1.5)\n",
        "xGB.fit(X_NonNull_train, y_NonNull_train)\n",
        "y_NonNull_pred = xGB.predict(X_NonNull_test)\n",
        "confusion_matrix = metrics.confusion_matrix(y_NonNull_test, y_NonNull_pred)\n",
        "accuracy = (confusion_matrix[0,0] + confusion_matrix[1,1]) / (confusion_matrix[0,0]+confusion_matrix[0,1]+confusion_matrix[1,0]+confusion_matrix[1,1])\n",
        "print('Accuracy:',accuracy)\n",
        "precision = confusion_matrix[0,0] /(confusion_matrix[0,0]+confusion_matrix[1,0])\n",
        "print(\"Precision:\",precision)\n",
        "recall = confusion_matrix[0,0] /(confusion_matrix[0,0]+confusion_matrix[0,1])\n",
        "print(\"Recall:\",recall)\n",
        "Fone = (2*precision*recall)/(precision+recall)\n",
        "print('Fone:',Fone)\n",
        "cm_display = metrics.ConfusionMatrixDisplay(confusion_matrix = confusion_matrix, display_labels = [False, True])\n",
        "cm_display.plot()\n",
        "plt.show()"
      ],
      "metadata": {
        "colab": {
          "base_uri": "https://localhost:8080/",
          "height": 518
        },
        "id": "NR9SquQAWC_7",
        "outputId": "ec74cb4b-c6f2-424d-b663-5aeaba2a8e47"
      },
      "execution_count": null,
      "outputs": [
        {
          "output_type": "stream",
          "name": "stdout",
          "text": [
            "Accuracy: 0.8391608391608392\n",
            "Precision: 0.8522727272727273\n",
            "Recall: 0.8823529411764706\n",
            "Fone: 0.8670520231213872\n"
          ]
        },
        {
          "output_type": "display_data",
          "data": {
            "text/plain": [
              "<Figure size 640x480 with 2 Axes>"
            ],
            "image/png": "[encoded data removed]"
          },
          "metadata": {}
        }
      ]
    },
    {
      "cell_type": "code",
      "source": [
        "feat_imp = pd.Series(xGB.feature_importances_, feature_names).sort_values(ascending=False)\n",
        "feat_imp.plot(kind='bar', title='Feature Importances')\n",
        "plt.ylabel('Feature Importance Score')"
      ],
      "metadata": {
        "colab": {
          "base_uri": "https://localhost:8080/",
          "height": 526
        },
        "id": "wGWQD5AIWfMu",
        "outputId": "ccbebab3-252b-4ba5-e0fb-4d21756d9591"
      },
      "execution_count": null,
      "outputs": [
        {
          "output_type": "execute_result",
          "data": {
            "text/plain": [
              "Text(0, 0.5, 'Feature Importance Score')"
            ]
          },
          "metadata": {},
          "execution_count": 73
        },
        {
          "output_type": "display_data",
          "data": {
            "text/plain": [
              "<Figure size 640x480 with 1 Axes>"
            ],
            "image/png": "[encoded data removed]"
          },
          "metadata": {}
        }
      ]
    },
    {
      "cell_type": "code",
      "source": [
        "plot_importance(xGB)"
      ],
      "metadata": {
        "colab": {
          "base_uri": "https://localhost:8080/",
          "height": 489
        },
        "id": "I8PxIUezYz4e",
        "outputId": "c4c15292-2d81-48cc-b264-471a8b08abb4"
      },
      "execution_count": null,
      "outputs": [
        {
          "output_type": "execute_result",
          "data": {
            "text/plain": [
              "<Axes: title={'center': 'Feature importance'}, xlabel='F score', ylabel='Features'>"
            ]
          },
          "metadata": {},
          "execution_count": 77
        },
        {
          "output_type": "display_data",
          "data": {
            "text/plain": [
              "<Figure size 640x480 with 1 Axes>"
            ],
            "image/png": "[encoded data removed]"
          },
          "metadata": {}
        }
      ]
    },
    {
      "cell_type": "markdown",
      "source": [
        "## Sin Embarked"
      ],
      "metadata": {
        "id": "IS_8jIjyXbPq"
      }
    },
    {
      "cell_type": "code",
      "source": [
        "#Separamos tipos de variables en dependientes e independientes\n",
        "feature_names = ['Age', 'Sex', 'Pclass', 'Fare']\n",
        "X_NonNull = df_NonNull[feature_names] # variables predictoras\n",
        "y_NonNull = df_NonNull['Survived']    # variable de respuesta\n",
        "#Se divide el dataset en entrenamiento y test, con un ratio de 80-20\n",
        "X_NonNull_train, X_NonNull_test, y_NonNull_train, y_NonNull_test = train_test_split(X_NonNull, y_NonNull, test_size=0.2, random_state=42, stratify=y_NonNull)"
      ],
      "metadata": {
        "id": "UCMZtuNxXQOE"
      },
      "execution_count": null,
      "outputs": []
    },
    {
      "cell_type": "code",
      "source": [
        "xGB = xgb.XGBClassifier(learning_rate = 0.1, subsample = 0.2, min_child_weight = 2, reg_alpha = 1.5)\n",
        "xGB.fit(X_NonNull_train, y_NonNull_train)\n",
        "y_NonNull_pred = xGB.predict(X_NonNull_test)\n",
        "confusion_matrix = metrics.confusion_matrix(y_NonNull_test, y_NonNull_pred)\n",
        "accuracy = (confusion_matrix[0,0] + confusion_matrix[1,1]) / (confusion_matrix[0,0]+confusion_matrix[0,1]+confusion_matrix[1,0]+confusion_matrix[1,1])\n",
        "print('Accuracy:',accuracy)\n",
        "precision = confusion_matrix[0,0] /(confusion_matrix[0,0]+confusion_matrix[1,0])\n",
        "print(\"Precision:\",precision)\n",
        "recall = confusion_matrix[0,0] /(confusion_matrix[0,0]+confusion_matrix[0,1])\n",
        "print(\"Recall:\",recall)\n",
        "Fone = (2*precision*recall)/(precision+recall)\n",
        "print('Fone:',Fone)\n",
        "cm_display = metrics.ConfusionMatrixDisplay(confusion_matrix = confusion_matrix, display_labels = [False, True])\n",
        "cm_display.plot()\n",
        "plt.show()"
      ],
      "metadata": {
        "colab": {
          "base_uri": "https://localhost:8080/",
          "height": 518
        },
        "id": "kHNByTS2XjxT",
        "outputId": "7c1393e5-5365-4934-dbd8-2853a12bb7a4"
      },
      "execution_count": null,
      "outputs": [
        {
          "output_type": "stream",
          "name": "stdout",
          "text": [
            "Accuracy: 0.8391608391608392\n",
            "Precision: 0.8444444444444444\n",
            "Recall: 0.8941176470588236\n",
            "Fone: 0.8685714285714287\n"
          ]
        },
        {
          "output_type": "display_data",
          "data": {
            "text/plain": [
              "<Figure size 640x480 with 2 Axes>"
            ],
            "image/png": "[encoded data removed]"
          },
          "metadata": {}
        }
      ]
    },
    {
      "cell_type": "markdown",
      "source": [
        "## Sin fare"
      ],
      "metadata": {
        "id": "JMdy--qNX2hG"
      }
    },
    {
      "cell_type": "code",
      "source": [
        "#Separamos tipos de variables en dependientes e independientes\n",
        "feature_names = ['Age', 'Sex', 'Pclass', 'Embarked']\n",
        "X_NonNull = df_NonNull[feature_names] # variables predictoras\n",
        "y_NonNull = df_NonNull['Survived']    # variable de respuesta\n",
        "#Se divide el dataset en entrenamiento y test, con un ratio de 80-20\n",
        "X_NonNull_train, X_NonNull_test, y_NonNull_train, y_NonNull_test = train_test_split(X_NonNull, y_NonNull, test_size=0.2, random_state=42, stratify=y_NonNull)"
      ],
      "metadata": {
        "id": "IuUFhkD7X7_9"
      },
      "execution_count": null,
      "outputs": []
    },
    {
      "cell_type": "code",
      "source": [
        "xGB = xgb.XGBClassifier(learning_rate = 0.1, subsample = 0.2, min_child_weight = 2, reg_alpha = 1.5)\n",
        "xGB.fit(X_NonNull_train, y_NonNull_train)\n",
        "y_NonNull_pred = xGB.predict(X_NonNull_test)\n",
        "confusion_matrix = metrics.confusion_matrix(y_NonNull_test, y_NonNull_pred)\n",
        "accuracy = (confusion_matrix[0,0] + confusion_matrix[1,1]) / (confusion_matrix[0,0]+confusion_matrix[0,1]+confusion_matrix[1,0]+confusion_matrix[1,1])\n",
        "print('Accuracy:',accuracy)\n",
        "precision = confusion_matrix[0,0] /(confusion_matrix[0,0]+confusion_matrix[1,0])\n",
        "print(\"Precision:\",precision)\n",
        "recall = confusion_matrix[0,0] /(confusion_matrix[0,0]+confusion_matrix[0,1])\n",
        "print(\"Recall:\",recall)\n",
        "Fone = (2*precision*recall)/(precision+recall)\n",
        "print('Fone:',Fone)\n",
        "cm_display = metrics.ConfusionMatrixDisplay(confusion_matrix = confusion_matrix, display_labels = [False, True])\n",
        "cm_display.plot()\n",
        "plt.show()"
      ],
      "metadata": {
        "colab": {
          "base_uri": "https://localhost:8080/",
          "height": 518
        },
        "id": "-GgSdGQQYGG0",
        "outputId": "f68f37b0-15de-4bd5-9de5-e6f1e77d8aa2"
      },
      "execution_count": null,
      "outputs": [
        {
          "output_type": "stream",
          "name": "stdout",
          "text": [
            "Accuracy: 0.8391608391608392\n",
            "Precision: 0.8369565217391305\n",
            "Recall: 0.9058823529411765\n",
            "Fone: 0.8700564971751413\n"
          ]
        },
        {
          "output_type": "display_data",
          "data": {
            "text/plain": [
              "<Figure size 640x480 with 2 Axes>"
            ],
            "image/png": "[encoded data removed]"
          },
          "metadata": {}
        }
      ]
    }
  ],
  "metadata": {
    "colab": {
      "provenance": []
    },
    "kernelspec": {
      "display_name": "Python 3",
      "name": "python3"
    },
    "language_info": {
      "name": "python"
    }
  },
  "nbformat": 4,
  "nbformat_minor": 0
}